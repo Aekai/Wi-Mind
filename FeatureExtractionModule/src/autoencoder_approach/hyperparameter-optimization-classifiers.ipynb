{
 "cells": [
  {
   "cell_type": "markdown",
   "metadata": {},
   "source": [
    "# Classifiers - busy vs relaxed - no TFv1\n",
    "Exploring different classifiers with different autoencoders. No contractive autoencoder because it needs TFv1 compatibility."
   ]
  },
  {
   "cell_type": "markdown",
   "metadata": {},
   "source": [
    "#### Table of contents:  "
   ]
  },
  {
   "cell_type": "markdown",
   "metadata": {},
   "source": [
    "classifiers:  \n",
    "[Dense classifier](#Dense-classifier)  \n",
    "[LSTM-based classifier](#LSTM-based-classifier)  \n",
    "[kNN](#kNN)  \n",
    "[SVC](#SVC)  \n",
    "[Random Forest](#Random-Forest)  \n",
    "[XGBoost](#XGBoost)  "
   ]
  },
  {
   "cell_type": "code",
   "execution_count": 1,
   "metadata": {},
   "outputs": [],
   "source": [
    "import datareader # made by the previous author for reading the collected data\n",
    "import dataextractor # same as above\n",
    "import scipy\n",
    "import pandas\n",
    "import numpy as np\n",
    "\n",
    "import tensorflow as tf\n",
    "tf.get_logger().setLevel('ERROR') # Disable printing some annoying warnings\n",
    "\n",
    "from tensorflow.keras.preprocessing import sequence\n",
    "from tensorflow.keras.models import Sequential, Model\n",
    "from tensorflow.keras.layers import Dense, Dropout, Activation, Input\n",
    "from tensorflow.keras.layers import LSTM\n",
    "from tensorflow.keras.layers import Conv1D, MaxPooling1D\n",
    "from tensorflow.keras.optimizers import Adam, Nadam\n",
    "from tensorflow.keras.wrappers.scikit_learn import KerasClassifier\n",
    "import tensorflow.keras.backend as K\n",
    "\n",
    "import json\n",
    "from datetime import datetime\n",
    "\n",
    "from sklearn.preprocessing import StandardScaler, MinMaxScaler, scale\n",
    "from sklearn.model_selection import RandomizedSearchCV\n",
    "\n",
    "import warnings\n",
    "\n",
    "import talos\n",
    "from talos.utils import lr_normalizer\n",
    "\n",
    "from tensorflow import keras\n",
    "from tensorflow.keras import layers, regularizers\n",
    "import matplotlib.pyplot as plt\n",
    "\n",
    "tf.keras.backend.set_floatx('float32') # set keras to use float32 to avoid a warning message\n",
    "metrics = ['accuracy']"
   ]
  },
  {
   "cell_type": "code",
   "execution_count": 2,
   "metadata": {},
   "outputs": [],
   "source": [
    "# Start the notebook in the terminal with \"PYTHONHASHSEED=0 jupyter notebook\" \n",
    "# or in anaconda \"set PYTHONHASHSEED=0\" then start jupyter notebook\n",
    "import os\n",
    "\n",
    "if os.environ.get(\"PYTHONHASHSEED\") != \"0\":\n",
    "    raise Exception(\"You must set PYTHONHASHSEED=0 before starting the Jupyter server to get reproducible results.\")"
   ]
  },
  {
   "cell_type": "code",
   "execution_count": 3,
   "metadata": {},
   "outputs": [],
   "source": [
    "import random\n",
    "\n",
    "random.seed(1)\n",
    "np.random.seed(4)\n",
    "tf.random.set_seed(2)"
   ]
  },
  {
   "cell_type": "markdown",
   "metadata": {},
   "source": [
    "This is modfied original author's code for reading data:"
   ]
  },
  {
   "cell_type": "code",
   "execution_count": 4,
   "metadata": {},
   "outputs": [],
   "source": [
    "def get_busy_vs_relax_timeframes_br_hb(path, ident, seconds):\n",
    "    \"\"\"Returns raw data from either 'on task' or 'relax' time frames and their class (0 or 1).\"\"\"\n",
    "    \n",
    "    dataread = datareader.DataReader(path, ident)  # initialize path to data\n",
    "    data = dataread.read_grc_data()  # read from files\n",
    "    samp_rate = int(round(len(data[1]) / max(data[0])))\n",
    "    cog_res = dataread.read_cognitive_load_study(str(ident) + '-primary-extract.txt')\n",
    "\n",
    "    tasks_data = np.empty((0, seconds*samp_rate))\n",
    "    tasks_y = np.empty((0, 1))\n",
    "    breathing = np.empty((0,12))\n",
    "    heartbeat = np.empty((0,10))\n",
    "\n",
    "    busy_n = dataread.get_data_task_timestamps(return_indexes=True)\n",
    "    relax_n = dataread.get_relax_timestamps(return_indexes=True)\n",
    "\n",
    "    for i in cog_res['task_number']:\n",
    "        task_num_table = i - 225  # 0 - 17\n",
    "        tmp_tasks_data = np.empty((0, seconds*samp_rate))\n",
    "        tmp_tasks_y = np.empty((0, 1))\n",
    "        tmp_breathing = np.empty((0,12))\n",
    "        tmp_heartbeat = np.empty((0,10))\n",
    "\n",
    "        ### task versus relax (1 sample each)\n",
    "        dataextract = dataextractor.DataExtractor(data[0][busy_n[task_num_table][0]:busy_n[task_num_table][1]],\n",
    "                                                  data[1][busy_n[task_num_table][0]:busy_n[task_num_table][1]],\n",
    "                                                  samp_rate)\n",
    "\n",
    "        dataextract_relax = dataextractor.DataExtractor(data[0][relax_n[task_num_table][0]:relax_n[task_num_table][1]],\n",
    "                                                        data[1][relax_n[task_num_table][0]:relax_n[task_num_table][1]],\n",
    "                                                        samp_rate)\n",
    "\n",
    "        try:\n",
    "\n",
    "            # get extracted features for breathing\n",
    "            tmpBR_busy = dataextract.extract_from_breathing_time(dataextract.t[-samp_rate*seconds:],\n",
    "                                                                 dataextract.y[-samp_rate*seconds:])\n",
    "            tmpBR_relax = dataextract_relax.extract_from_breathing_time(dataextract_relax.t[-samp_rate*seconds:],\n",
    "                                                                 dataextract_relax.y[-samp_rate*seconds:])\n",
    "            #get extracted features for heartbeat\n",
    "            tmpHB_busy = dataextract.extract_from_heartbeat_time(dataextract.t[-samp_rate*seconds:],\n",
    "                                                                 dataextract.y[-samp_rate*seconds:])\n",
    "            tmpHB_relax = dataextract.extract_from_heartbeat_time(dataextract_relax.t[-samp_rate*seconds:],\n",
    "                                                                 dataextract_relax.y[-samp_rate*seconds:])\n",
    "\n",
    "            tmp_tasks_data = np.vstack((tmp_tasks_data, dataextract.y[-samp_rate * seconds:]))\n",
    "            tmp_tasks_y = np.vstack((tasks_y, 1))\n",
    "            tmp_tasks_data = np.vstack((tmp_tasks_data, dataextract_relax.y[-samp_rate * seconds:]))\n",
    "            tmp_tasks_y = np.vstack((tmp_tasks_y, 0))\n",
    "\n",
    "            # put busy frames then relaxed frames under the previous frames\n",
    "            tmp_breathing = np.vstack((tmp_breathing, tmpBR_busy.to_numpy(dtype='float64', na_value=0)[0][:-1]))\n",
    "            tmp_breathing = np.vstack((tmp_breathing, tmpBR_relax.to_numpy(dtype='float64', na_value=0)[0][:-1]))\n",
    "\n",
    "            tmp_heartbeat = np.vstack((tmp_heartbeat, tmpHB_busy.to_numpy(dtype='float64', na_value=0)[0][:-1]))\n",
    "            tmp_heartbeat = np.vstack((tmp_heartbeat, tmpHB_relax.to_numpy(dtype='float64', na_value=0)[0][:-1]))\n",
    "\n",
    "        except ValueError:\n",
    "#             print(ident)  # ignore short windows\n",
    "            continue\n",
    "\n",
    "        # put busy frames then relaxed frames under the previous frames\n",
    "        tasks_data = np.vstack((tasks_data, dataextract.y[-samp_rate * seconds:]))\n",
    "        tasks_y = np.vstack((tasks_y, 1))\n",
    "        tasks_data = np.vstack((tasks_data, dataextract_relax.y[-samp_rate * seconds:]))\n",
    "        tasks_y = np.vstack((tasks_y, 0))\n",
    "\n",
    "        breathing = np.vstack((breathing, tmpBR_busy.to_numpy(dtype='float64', na_value=0)[0][:-1]))\n",
    "        breathing = np.vstack((breathing, tmpBR_relax.to_numpy(dtype='float64', na_value=0)[0][:-1]))\n",
    "\n",
    "        heartbeat = np.vstack((heartbeat, tmpHB_busy.to_numpy(dtype='float64', na_value=0)[0][:-1]))\n",
    "        heartbeat = np.vstack((heartbeat, tmpHB_relax.to_numpy(dtype='float64', na_value=0)[0][:-1]))\n",
    "\n",
    "    return tasks_data, tasks_y, breathing, heartbeat"
   ]
  },
  {
   "cell_type": "code",
   "execution_count": 5,
   "metadata": {},
   "outputs": [],
   "source": [
    "def get_data_from_idents_br_hb(path, idents, seconds):\n",
    "    \"\"\"Go through all user data and take out windows of only <seconds> long time frames,\n",
    "    along with the given class (from 'divide_each_task' function).\n",
    "    \"\"\"\n",
    "    samp_rate = 43  # hard-coded sample rate\n",
    "    data, ys = np.empty((0, samp_rate*seconds)), np.empty((0, 1))\n",
    "    brs = np.empty((0,12))\n",
    "    hbs = np.empty((0,10))\n",
    "    combined = np.empty((0,22))\n",
    "    \n",
    "    # was gettign some weird warnings; stack overflow said to ignore them\n",
    "    with warnings.catch_warnings():\n",
    "        warnings.simplefilter(\"ignore\", category=RuntimeWarning)\n",
    "        for i in idents:\n",
    "            x, y, br, hb = get_busy_vs_relax_timeframes_br_hb(path, i, seconds) # either 'get_busy_vs_relax_timeframes',\n",
    "            # get_engagement_increase_vs_decrease_timeframes, get_task_complexities_timeframes or get_TLX_timeframes\n",
    "\n",
    "            data = np.vstack((data, x))\n",
    "            ys = np.vstack((ys, y))\n",
    "            brs = np.vstack((brs, br))\n",
    "            hbs = np.vstack((hbs, hb))\n",
    "        combined = np.hstack((brs,hbs))\n",
    "    \n",
    "    return data, ys, brs, hbs, combined"
   ]
  },
  {
   "cell_type": "code",
   "execution_count": 6,
   "metadata": {},
   "outputs": [],
   "source": [
    "# Accs is a dictionary which holds 1d arrays of accuracies in each key\n",
    "# except the key 'test id' which holds strings of the id which yielded the coresponding accuracies\n",
    "def print_accs_stats(accs):\n",
    "    \n",
    "    printDict = {}\n",
    "    # loop over each key\n",
    "    for key in accs:\n",
    "    \n",
    "        if (key == 'test id'):\n",
    "            # skip calculating ids\n",
    "            continue\n",
    "        printDict[key] = {}\n",
    "        tmpDict = printDict[key]\n",
    "        # calculate and print some statistics\n",
    "        tmpDict['min'] = np.min(accs[key])\n",
    "        tmpDict['max'] = np.max(accs[key])\n",
    "        tmpDict['mean'] = np.mean(accs[key])\n",
    "        tmpDict['median'] = np.median(accs[key])\n",
    "    \n",
    "    print(pandas.DataFrame.from_dict(printDict).to_string())"
   ]
  },
  {
   "cell_type": "code",
   "execution_count": 7,
   "metadata": {},
   "outputs": [],
   "source": [
    "def clear_session_and_set_seeds():\n",
    "    # clear session and set seeds again\n",
    "    K.clear_session()\n",
    "    random.seed(1)\n",
    "    np.random.seed(4)\n",
    "    tf.random.set_seed(2)"
   ]
  },
  {
   "cell_type": "markdown",
   "metadata": {},
   "source": [
    "## Prepare data"
   ]
  },
  {
   "cell_type": "markdown",
   "metadata": {},
   "source": [
    "Initialize variables:"
   ]
  },
  {
   "cell_type": "code",
   "execution_count": 8,
   "metadata": {},
   "outputs": [],
   "source": [
    "# used for reading the data into an array\n",
    "seconds = 30  # time window length\n",
    "samp_rate = 43  # hard-coded sample rate\n",
    "phase_shape = np.empty((0, samp_rate*seconds))\n",
    "y_shape = np.empty((0, 1))\n",
    "breathing_shape = np.empty((0,12))\n",
    "heartbeat_shape = np.empty((0,10))\n",
    "combined_shape = np.empty((0,22))\n",
    "idents = ['2gu87', 'iz2ps', '1mpau', '7dwjy', '7swyk', '94mnx', 'bd47a', 'c24ur', 'ctsax', 'dkhty', 'e4gay',\n",
    "              'ef5rq', 'f1gjp', 'hpbxa', 'pmyfl', 'r89k1', 'tn4vl', 'td5pr', 'gyqu9', 'fzchw', 'l53hg', '3n2f9',\n",
    "              '62i9y']\n",
    "path = '../../../StudyData/'\n",
    "\n",
    "\n",
    "# change to len(idents) at the end to use all the data\n",
    "n = len(idents)"
   ]
  },
  {
   "cell_type": "code",
   "execution_count": 9,
   "metadata": {},
   "outputs": [],
   "source": [
    "# load all phase data to use for training autoencoders\n",
    "phase_all_train = get_data_from_idents_br_hb(path, idents[:-2], seconds)[0]\n",
    "# Scale each row with MinMax to range [0,1]\n",
    "phase_all_train = MinMaxScaler().fit_transform(phase_all_train.T).T\n",
    "\n",
    "# load all validation phase data to use for training autoencoders\n",
    "phase_all_valid = get_data_from_idents_br_hb(path, idents[-2:], seconds)[0]\n",
    "# Scale each row with MinMax to range [0,1]\n",
    "phase_all_valid = MinMaxScaler().fit_transform(phase_all_valid.T).T"
   ]
  },
  {
   "cell_type": "code",
   "execution_count": 10,
   "metadata": {},
   "outputs": [],
   "source": [
    "# Holds all the data so it doesnt have to be read from file each time\n",
    "data_dict = {}"
   ]
  },
  {
   "cell_type": "markdown",
   "metadata": {},
   "source": [
    "Fill the data dictionary:"
   ]
  },
  {
   "cell_type": "code",
   "execution_count": 11,
   "metadata": {},
   "outputs": [],
   "source": [
    "for ident in idents:\n",
    "    \n",
    "    # initialize ident in \n",
    "    data_dict[ident] = {}\n",
    "    tmpDataDict = data_dict[ident]\n",
    "    \n",
    "    # read data\n",
    "    phase, y, breathing, heartbeat, combined = get_data_from_idents_br_hb(path, [ident], seconds)\n",
    "    \n",
    "    # load data into dictionary\n",
    "    tmpDataDict['phase'] = phase\n",
    "    tmpDataDict['y'] = y\n",
    "    tmpDataDict['breathing'] = breathing"
   ]
  },
  {
   "cell_type": "markdown",
   "metadata": {},
   "source": [
    "## Autoencoders  \n",
    "Train autoencoders to save their encoded representations in the data dictionary:"
   ]
  },
  {
   "cell_type": "code",
   "execution_count": 12,
   "metadata": {},
   "outputs": [],
   "source": [
    "# AE Training params\n",
    "batch_size = 128\n",
    "epochs = 1000\n",
    "encoding_dim = 30\n",
    "ae_encoded_shape = np.empty((0,encoding_dim))"
   ]
  },
  {
   "cell_type": "markdown",
   "metadata": {},
   "source": [
    "#### Undercomplete Autoencoder  \n",
    "from https://blog.keras.io/building-autoencoders-in-keras.html"
   ]
  },
  {
   "cell_type": "code",
   "execution_count": 13,
   "metadata": {},
   "outputs": [],
   "source": [
    "def undercomplete_ae(x, encoding_dim=64, encoded_as_model=False):\n",
    "    # Simplest possible autoencoder from https://blog.keras.io/building-autoencoders-in-keras.html\n",
    "\n",
    "    # this is our input placeholder\n",
    "    input_data = Input(shape=x[0].shape, name=\"input\")\n",
    "    dropout = Dropout(0.125, name=\"dropout\", seed=42)(input_data)\n",
    "    # \"encoded\" is the encoded representation of the input\n",
    "    encoded = Dense(encoding_dim, activation='sigmoid', name=\"encoded\")(dropout)\n",
    "    \n",
    "    # \"decoded\" is the lossy reconstruction of the input\n",
    "    decoded = Dense(x[0].shape[0], activation='sigmoid', name=\"decoded\")(encoded)\n",
    "\n",
    "    autoencoder = Model(input_data, decoded)\n",
    "    \n",
    "    # compile the model\n",
    "    autoencoder.compile(optimizer='adam', loss='binary_crossentropy', metrics=metrics)\n",
    "    \n",
    "    # if return encoder in the encoded variable\n",
    "    if encoded_as_model:\n",
    "        encoded = Model(input_data, encoded)\n",
    "    \n",
    "    return autoencoder, encoded"
   ]
  },
  {
   "cell_type": "markdown",
   "metadata": {},
   "source": [
    "Train autoencoder on data:"
   ]
  },
  {
   "cell_type": "code",
   "execution_count": 14,
   "metadata": {},
   "outputs": [
    {
     "data": {
      "text/plain": [
       "<tensorflow.python.keras.callbacks.History at 0x1ca2b39b908>"
      ]
     },
     "execution_count": 14,
     "metadata": {},
     "output_type": "execute_result"
    }
   ],
   "source": [
    "clear_session_and_set_seeds()\n",
    "uc_ae, uc_enc = undercomplete_ae(phase_all_train, encoding_dim=encoding_dim, encoded_as_model=True)\n",
    "uc_ae.fit(phase_all_train, phase_all_train,\n",
    "          validation_data=(phase_all_valid, phase_all_valid),\n",
    "          batch_size=batch_size,\n",
    "          shuffle=True,\n",
    "          epochs=epochs,\n",
    "          verbose=0)"
   ]
  },
  {
   "cell_type": "markdown",
   "metadata": {},
   "source": [
    "Store the encoded representations in the data dictionary:"
   ]
  },
  {
   "cell_type": "code",
   "execution_count": 15,
   "metadata": {},
   "outputs": [],
   "source": [
    "for ident in data_dict:\n",
    "    \n",
    "    tmpDataDict = data_dict[ident]\n",
    "    \n",
    "    # read data\n",
    "    phase = tmpDataDict['phase']\n",
    "    \n",
    "    uc_data = uc_enc.predict(phase)\n",
    "    \n",
    "    # load data into dictionary\n",
    "    tmpDataDict['undercomplete_encoded'] = uc_data"
   ]
  },
  {
   "cell_type": "markdown",
   "metadata": {},
   "source": [
    "Helper function to get data from the dictionary:"
   ]
  },
  {
   "cell_type": "code",
   "execution_count": 16,
   "metadata": {},
   "outputs": [],
   "source": [
    "def get_ident_data_from_dict(idents, data_dict):\n",
    "    \n",
    "    # Initialize data variables\n",
    "    y = y_shape.copy()\n",
    "    phase = phase_shape.copy()\n",
    "    breathing = breathing_shape.copy()\n",
    "    heartbeat = heartbeat_shape.copy()\n",
    "    combined = combined_shape.copy()\n",
    "    undercomplete_encoded = ae_encoded_shape.copy()\n",
    "    sparse_encoded = ae_encoded_shape.copy()\n",
    "    deep_encoded = ae_encoded_shape.copy()\n",
    "    \n",
    "    # Stack data form each ident into the variables\n",
    "    for tmp_id in idents:\n",
    "        y = np.vstack((y, data_dict[tmp_id]['y']))\n",
    "        phase = np.vstack((phase, data_dict[tmp_id]['phase']))\n",
    "        breathing = np.vstack((breathing, data_dict[tmp_id]['breathing']))\n",
    "        undercomplete_encoded = np.vstack((undercomplete_encoded, data_dict[tmp_id]['undercomplete_encoded']))\n",
    "    \n",
    "    return y, phase, breathing, undercomplete_encoded"
   ]
  },
  {
   "cell_type": "markdown",
   "metadata": {},
   "source": [
    "# Classifiers"
   ]
  },
  {
   "cell_type": "markdown",
   "metadata": {},
   "source": [
    "Load train and test data into variables:"
   ]
  },
  {
   "cell_type": "code",
   "execution_count": 17,
   "metadata": {},
   "outputs": [],
   "source": [
    "train_idents = idents\n",
    "\n",
    "train_y, train_phase, train_breathing, train_undercomplete_encoded = get_ident_data_from_dict(train_idents, data_dict)\n",
    "\n",
    "# train_phase = scale(train_phase) # standardize by row\n",
    "train_phase = MinMaxScaler().fit_transform(train_phase) # normalize by row\n",
    "\n",
    "sscaler_breathing = StandardScaler() # Standardize by column\n",
    "train_breathing = sscaler_breathing.fit_transform(train_breathing)\n",
    "\n",
    "sscaler_undercomplete = StandardScaler() # Standardize by column\n",
    "train_undercomplete_encoded = sscaler_undercomplete.fit_transform(train_undercomplete_encoded)"
   ]
  },
  {
   "cell_type": "code",
   "execution_count": 18,
   "metadata": {},
   "outputs": [
    {
     "data": {
      "text/plain": [
       "(742, 1290)"
      ]
     },
     "execution_count": 18,
     "metadata": {},
     "output_type": "execute_result"
    }
   ],
   "source": [
    "train_phase.shape"
   ]
  },
  {
   "cell_type": "code",
   "execution_count": 19,
   "metadata": {},
   "outputs": [
    {
     "data": {
      "text/plain": [
       "(742, 12)"
      ]
     },
     "execution_count": 19,
     "metadata": {},
     "output_type": "execute_result"
    }
   ],
   "source": [
    "train_breathing.shape"
   ]
  },
  {
   "cell_type": "code",
   "execution_count": 20,
   "metadata": {},
   "outputs": [
    {
     "data": {
      "text/plain": [
       "(742, 30)"
      ]
     },
     "execution_count": 20,
     "metadata": {},
     "output_type": "execute_result"
    }
   ],
   "source": [
    "train_undercomplete_encoded.shape"
   ]
  },
  {
   "cell_type": "markdown",
   "metadata": {},
   "source": [
    "## Dense classifier"
   ]
  },
  {
   "cell_type": "markdown",
   "metadata": {},
   "source": [
    "### Phase data:"
   ]
  },
  {
   "cell_type": "code",
   "execution_count": 21,
   "metadata": {},
   "outputs": [],
   "source": [
    "def create_dense_phase_classifier(dropout=0.25, hidden_size=32, activation=\"relu\", last_activation=\"sigmoid\",\n",
    "                            loss=\"binary_crossentropy\", optimizer=\"Nadam\", learning_rate=0.001):\n",
    "    \n",
    "    model = Sequential()\n",
    "    model.add(Dropout(dropout))\n",
    "    model.add(Dense(hidden_size, activation=activation))\n",
    "    model.add(Dense(1, activation=last_activation))\n",
    "\n",
    "    model.compile(loss=loss,\n",
    "                  optimizer=optimizer,\n",
    "                  metrics=metrics)\n",
    "\n",
    "    return model"
   ]
  },
  {
   "cell_type": "code",
   "execution_count": 22,
   "metadata": {},
   "outputs": [],
   "source": [
    "params_dense_phase = {\n",
    "    'dropout': [0.3,0.4,0.5],\n",
    "    'hidden_size': [26,28,32],\n",
    "#     'activation': ['sigmoid', 'relu'],\n",
    "#     'loss': ['binary_crossentropy', 'poisson'],\n",
    "#     'optimizer': ['Adam', 'Nadam'],\n",
    "    'batch_size': [128],\n",
    "    'epochs': [200,300,400]\n",
    "}"
   ]
  },
  {
   "cell_type": "code",
   "execution_count": 23,
   "metadata": {},
   "outputs": [
    {
     "name": "stdout",
     "output_type": "stream",
     "text": [
      "Fitting 3 folds for each of 27 candidates, totalling 81 fits\n"
     ]
    },
    {
     "name": "stderr",
     "output_type": "stream",
     "text": [
      "[Parallel(n_jobs=1)]: Using backend SequentialBackend with 1 concurrent workers.\n",
      "[Parallel(n_jobs=1)]: Done  81 out of  81 | elapsed:  4.5min finished\n"
     ]
    },
    {
     "data": {
      "text/plain": [
       "RandomizedSearchCV(cv=3,\n",
       "                   estimator=<tensorflow.python.keras.wrappers.scikit_learn.KerasClassifier object at 0x000001CA370D2688>,\n",
       "                   n_iter=40,\n",
       "                   param_distributions={'batch_size': [128],\n",
       "                                        'dropout': [0.3, 0.4, 0.5],\n",
       "                                        'epochs': [200, 300, 400],\n",
       "                                        'hidden_size': [26, 28, 32]},\n",
       "                   random_state=42, scoring='accuracy', verbose=1)"
      ]
     },
     "execution_count": 23,
     "metadata": {},
     "output_type": "execute_result"
    }
   ],
   "source": [
    "clear_session_and_set_seeds()\n",
    "model = KerasClassifier(create_dense_phase_classifier, verbose=0)\n",
    "random_search_model = RandomizedSearchCV(estimator=model, param_distributions=params_dense_phase, n_iter=40,\n",
    "                                         cv=3, verbose=1, random_state=42, scoring=\"accuracy\")\n",
    "\n",
    "random_search_model.fit(train_phase, train_y)"
   ]
  },
  {
   "cell_type": "code",
   "execution_count": 24,
   "metadata": {},
   "outputs": [
    {
     "data": {
      "text/html": [
       "<div>\n",
       "<style scoped>\n",
       "    .dataframe tbody tr th:only-of-type {\n",
       "        vertical-align: middle;\n",
       "    }\n",
       "\n",
       "    .dataframe tbody tr th {\n",
       "        vertical-align: top;\n",
       "    }\n",
       "\n",
       "    .dataframe thead th {\n",
       "        text-align: right;\n",
       "    }\n",
       "</style>\n",
       "<table border=\"1\" class=\"dataframe\">\n",
       "  <thead>\n",
       "    <tr style=\"text-align: right;\">\n",
       "      <th></th>\n",
       "      <th>param_hidden_size</th>\n",
       "      <th>param_epochs</th>\n",
       "      <th>param_dropout</th>\n",
       "      <th>param_batch_size</th>\n",
       "      <th>mean_test_score</th>\n",
       "      <th>rank_test_score</th>\n",
       "    </tr>\n",
       "  </thead>\n",
       "  <tbody>\n",
       "    <tr>\n",
       "      <th>12</th>\n",
       "      <td>26</td>\n",
       "      <td>300</td>\n",
       "      <td>0.4</td>\n",
       "      <td>128</td>\n",
       "      <td>0.667086</td>\n",
       "      <td>1</td>\n",
       "    </tr>\n",
       "    <tr>\n",
       "      <th>5</th>\n",
       "      <td>32</td>\n",
       "      <td>300</td>\n",
       "      <td>0.3</td>\n",
       "      <td>128</td>\n",
       "      <td>0.661709</td>\n",
       "      <td>2</td>\n",
       "    </tr>\n",
       "    <tr>\n",
       "      <th>16</th>\n",
       "      <td>28</td>\n",
       "      <td>400</td>\n",
       "      <td>0.4</td>\n",
       "      <td>128</td>\n",
       "      <td>0.656295</td>\n",
       "      <td>3</td>\n",
       "    </tr>\n",
       "    <tr>\n",
       "      <th>7</th>\n",
       "      <td>28</td>\n",
       "      <td>400</td>\n",
       "      <td>0.3</td>\n",
       "      <td>128</td>\n",
       "      <td>0.654956</td>\n",
       "      <td>4</td>\n",
       "    </tr>\n",
       "    <tr>\n",
       "      <th>17</th>\n",
       "      <td>32</td>\n",
       "      <td>400</td>\n",
       "      <td>0.4</td>\n",
       "      <td>128</td>\n",
       "      <td>0.654934</td>\n",
       "      <td>5</td>\n",
       "    </tr>\n",
       "  </tbody>\n",
       "</table>\n",
       "</div>"
      ],
      "text/plain": [
       "   param_hidden_size param_epochs param_dropout param_batch_size  \\\n",
       "12                26          300           0.4              128   \n",
       "5                 32          300           0.3              128   \n",
       "16                28          400           0.4              128   \n",
       "7                 28          400           0.3              128   \n",
       "17                32          400           0.4              128   \n",
       "\n",
       "    mean_test_score  rank_test_score  \n",
       "12         0.667086                1  \n",
       "5          0.661709                2  \n",
       "16         0.656295                3  \n",
       "7          0.654956                4  \n",
       "17         0.654934                5  "
      ]
     },
     "execution_count": 24,
     "metadata": {},
     "output_type": "execute_result"
    }
   ],
   "source": [
    "df = pandas.DataFrame(random_search_model.cv_results_)\n",
    "dfd = df.drop(df.filter(regex=\"(time)|(split)|(std_test_score)|(params)\"), axis=1)\n",
    "dfd = dfd.sort_values('rank_test_score')\n",
    "dfd.head(5)"
   ]
  },
  {
   "cell_type": "code",
   "execution_count": 25,
   "metadata": {},
   "outputs": [
    {
     "data": {
      "text/html": [
       "<div>\n",
       "<style scoped>\n",
       "    .dataframe tbody tr th:only-of-type {\n",
       "        vertical-align: middle;\n",
       "    }\n",
       "\n",
       "    .dataframe tbody tr th {\n",
       "        vertical-align: top;\n",
       "    }\n",
       "\n",
       "    .dataframe thead th {\n",
       "        text-align: right;\n",
       "    }\n",
       "</style>\n",
       "<table border=\"1\" class=\"dataframe\">\n",
       "  <thead>\n",
       "    <tr style=\"text-align: right;\">\n",
       "      <th></th>\n",
       "      <th>param_hidden_size</th>\n",
       "      <th>param_epochs</th>\n",
       "      <th>param_dropout</th>\n",
       "      <th>param_batch_size</th>\n",
       "      <th>mean_test_score</th>\n",
       "      <th>rank_test_score</th>\n",
       "    </tr>\n",
       "  </thead>\n",
       "  <tbody>\n",
       "    <tr>\n",
       "      <th>11</th>\n",
       "      <td>32</td>\n",
       "      <td>200</td>\n",
       "      <td>0.4</td>\n",
       "      <td>128</td>\n",
       "      <td>0.614541</td>\n",
       "      <td>23</td>\n",
       "    </tr>\n",
       "    <tr>\n",
       "      <th>9</th>\n",
       "      <td>26</td>\n",
       "      <td>200</td>\n",
       "      <td>0.4</td>\n",
       "      <td>128</td>\n",
       "      <td>0.614519</td>\n",
       "      <td>24</td>\n",
       "    </tr>\n",
       "    <tr>\n",
       "      <th>10</th>\n",
       "      <td>28</td>\n",
       "      <td>200</td>\n",
       "      <td>0.4</td>\n",
       "      <td>128</td>\n",
       "      <td>0.609154</td>\n",
       "      <td>25</td>\n",
       "    </tr>\n",
       "    <tr>\n",
       "      <th>19</th>\n",
       "      <td>28</td>\n",
       "      <td>200</td>\n",
       "      <td>0.5</td>\n",
       "      <td>128</td>\n",
       "      <td>0.605127</td>\n",
       "      <td>26</td>\n",
       "    </tr>\n",
       "    <tr>\n",
       "      <th>0</th>\n",
       "      <td>26</td>\n",
       "      <td>200</td>\n",
       "      <td>0.3</td>\n",
       "      <td>128</td>\n",
       "      <td>0.603734</td>\n",
       "      <td>27</td>\n",
       "    </tr>\n",
       "  </tbody>\n",
       "</table>\n",
       "</div>"
      ],
      "text/plain": [
       "   param_hidden_size param_epochs param_dropout param_batch_size  \\\n",
       "11                32          200           0.4              128   \n",
       "9                 26          200           0.4              128   \n",
       "10                28          200           0.4              128   \n",
       "19                28          200           0.5              128   \n",
       "0                 26          200           0.3              128   \n",
       "\n",
       "    mean_test_score  rank_test_score  \n",
       "11         0.614541               23  \n",
       "9          0.614519               24  \n",
       "10         0.609154               25  \n",
       "19         0.605127               26  \n",
       "0          0.603734               27  "
      ]
     },
     "execution_count": 25,
     "metadata": {},
     "output_type": "execute_result"
    }
   ],
   "source": [
    "dfd.tail(5)"
   ]
  },
  {
   "cell_type": "code",
   "execution_count": 26,
   "metadata": {},
   "outputs": [
    {
     "name": "stdout",
     "output_type": "stream",
     "text": [
      "0.6670856732401723 \n",
      " {'hidden_size': 26, 'epochs': 300, 'dropout': 0.4, 'batch_size': 128}\n"
     ]
    }
   ],
   "source": [
    "print(random_search_model.best_score_, \"\\n\", random_search_model.best_params_)"
   ]
  },
  {
   "cell_type": "markdown",
   "metadata": {},
   "source": [
    "### Breathing data:"
   ]
  },
  {
   "cell_type": "code",
   "execution_count": 27,
   "metadata": {},
   "outputs": [],
   "source": [
    "def create_dense_breathing_classifier(dropout=0.25, hidden_size=32, activation=\"relu\", last_activation=\"sigmoid\",\n",
    "                            loss=\"poisson\", optimizer=Nadam, learning_rate=0.001):\n",
    "    \n",
    "    model = Sequential()\n",
    "    model.add(Dropout(dropout))\n",
    "    model.add(Dense(hidden_size, activation=activation))\n",
    "    model.add(Dense(1, activation=last_activation))\n",
    "\n",
    "    model.compile(loss=loss,\n",
    "                  optimizer=optimizer(learning_rate=learning_rate),\n",
    "                  metrics=metrics)\n",
    "\n",
    "    return model"
   ]
  },
  {
   "cell_type": "code",
   "execution_count": 28,
   "metadata": {},
   "outputs": [],
   "source": [
    "params_dense_breathing = {\n",
    "    'dropout': [0.05,0.1],\n",
    "    'hidden_size': [24,26,28],\n",
    "#     'activation': ['sigmoid', 'relu'],\n",
    "#     'loss': ['poisson', 'binary_crossentropy'],\n",
    "#     'optimizer': [Adam, Nadam],\n",
    "    'learning_rate': [0.05],\n",
    "    'batch_size': [128],\n",
    "    'epochs': [100,200,300]\n",
    "}"
   ]
  },
  {
   "cell_type": "code",
   "execution_count": 29,
   "metadata": {
    "scrolled": true
   },
   "outputs": [
    {
     "name": "stdout",
     "output_type": "stream",
     "text": [
      "Fitting 3 folds for each of 18 candidates, totalling 54 fits\n"
     ]
    },
    {
     "name": "stderr",
     "output_type": "stream",
     "text": [
      "[Parallel(n_jobs=1)]: Using backend SequentialBackend with 1 concurrent workers.\n",
      "[Parallel(n_jobs=1)]: Done  54 out of  54 | elapsed:  1.2min finished\n"
     ]
    },
    {
     "data": {
      "text/plain": [
       "RandomizedSearchCV(cv=3,\n",
       "                   estimator=<tensorflow.python.keras.wrappers.scikit_learn.KerasClassifier object at 0x000001CA36F54FC8>,\n",
       "                   n_iter=40,\n",
       "                   param_distributions={'batch_size': [128],\n",
       "                                        'dropout': [0.05, 0.1],\n",
       "                                        'epochs': [100, 200, 300],\n",
       "                                        'hidden_size': [24, 26, 28],\n",
       "                                        'learning_rate': [0.05]},\n",
       "                   random_state=42, scoring='accuracy', verbose=1)"
      ]
     },
     "execution_count": 29,
     "metadata": {},
     "output_type": "execute_result"
    }
   ],
   "source": [
    "clear_session_and_set_seeds()\n",
    "model = KerasClassifier(create_dense_breathing_classifier, verbose=0)\n",
    "random_search_model = RandomizedSearchCV(estimator=model, param_distributions=params_dense_breathing, n_iter=40,\n",
    "                                         cv=3, verbose=1, random_state=42, scoring=\"accuracy\")\n",
    "\n",
    "random_search_model.fit(train_breathing, train_y)"
   ]
  },
  {
   "cell_type": "code",
   "execution_count": 30,
   "metadata": {},
   "outputs": [
    {
     "data": {
      "text/html": [
       "<div>\n",
       "<style scoped>\n",
       "    .dataframe tbody tr th:only-of-type {\n",
       "        vertical-align: middle;\n",
       "    }\n",
       "\n",
       "    .dataframe tbody tr th {\n",
       "        vertical-align: top;\n",
       "    }\n",
       "\n",
       "    .dataframe thead th {\n",
       "        text-align: right;\n",
       "    }\n",
       "</style>\n",
       "<table border=\"1\" class=\"dataframe\">\n",
       "  <thead>\n",
       "    <tr style=\"text-align: right;\">\n",
       "      <th></th>\n",
       "      <th>param_learning_rate</th>\n",
       "      <th>param_hidden_size</th>\n",
       "      <th>param_epochs</th>\n",
       "      <th>param_dropout</th>\n",
       "      <th>param_batch_size</th>\n",
       "      <th>mean_test_score</th>\n",
       "      <th>rank_test_score</th>\n",
       "    </tr>\n",
       "  </thead>\n",
       "  <tbody>\n",
       "    <tr>\n",
       "      <th>0</th>\n",
       "      <td>0.05</td>\n",
       "      <td>24</td>\n",
       "      <td>100</td>\n",
       "      <td>0.05</td>\n",
       "      <td>128</td>\n",
       "      <td>0.700764</td>\n",
       "      <td>1</td>\n",
       "    </tr>\n",
       "    <tr>\n",
       "      <th>16</th>\n",
       "      <td>0.05</td>\n",
       "      <td>26</td>\n",
       "      <td>300</td>\n",
       "      <td>0.1</td>\n",
       "      <td>128</td>\n",
       "      <td>0.687296</td>\n",
       "      <td>2</td>\n",
       "    </tr>\n",
       "    <tr>\n",
       "      <th>17</th>\n",
       "      <td>0.05</td>\n",
       "      <td>28</td>\n",
       "      <td>300</td>\n",
       "      <td>0.1</td>\n",
       "      <td>128</td>\n",
       "      <td>0.683296</td>\n",
       "      <td>3</td>\n",
       "    </tr>\n",
       "    <tr>\n",
       "      <th>10</th>\n",
       "      <td>0.05</td>\n",
       "      <td>26</td>\n",
       "      <td>100</td>\n",
       "      <td>0.1</td>\n",
       "      <td>128</td>\n",
       "      <td>0.683220</td>\n",
       "      <td>4</td>\n",
       "    </tr>\n",
       "    <tr>\n",
       "      <th>2</th>\n",
       "      <td>0.05</td>\n",
       "      <td>28</td>\n",
       "      <td>100</td>\n",
       "      <td>0.05</td>\n",
       "      <td>128</td>\n",
       "      <td>0.677849</td>\n",
       "      <td>5</td>\n",
       "    </tr>\n",
       "  </tbody>\n",
       "</table>\n",
       "</div>"
      ],
      "text/plain": [
       "   param_learning_rate param_hidden_size param_epochs param_dropout  \\\n",
       "0                 0.05                24          100          0.05   \n",
       "16                0.05                26          300           0.1   \n",
       "17                0.05                28          300           0.1   \n",
       "10                0.05                26          100           0.1   \n",
       "2                 0.05                28          100          0.05   \n",
       "\n",
       "   param_batch_size  mean_test_score  rank_test_score  \n",
       "0               128         0.700764                1  \n",
       "16              128         0.687296                2  \n",
       "17              128         0.683296                3  \n",
       "10              128         0.683220                4  \n",
       "2               128         0.677849                5  "
      ]
     },
     "execution_count": 30,
     "metadata": {},
     "output_type": "execute_result"
    }
   ],
   "source": [
    "df = pandas.DataFrame(random_search_model.cv_results_)\n",
    "dfd = df.drop(df.filter(regex=\"(time)|(split)|(std_test_score)|(params)\"), axis=1)\n",
    "dfd = dfd.sort_values('rank_test_score')\n",
    "dfd.head(5)"
   ]
  },
  {
   "cell_type": "code",
   "execution_count": 31,
   "metadata": {},
   "outputs": [
    {
     "data": {
      "text/html": [
       "<div>\n",
       "<style scoped>\n",
       "    .dataframe tbody tr th:only-of-type {\n",
       "        vertical-align: middle;\n",
       "    }\n",
       "\n",
       "    .dataframe tbody tr th {\n",
       "        vertical-align: top;\n",
       "    }\n",
       "\n",
       "    .dataframe thead th {\n",
       "        text-align: right;\n",
       "    }\n",
       "</style>\n",
       "<table border=\"1\" class=\"dataframe\">\n",
       "  <thead>\n",
       "    <tr style=\"text-align: right;\">\n",
       "      <th></th>\n",
       "      <th>param_learning_rate</th>\n",
       "      <th>param_hidden_size</th>\n",
       "      <th>param_epochs</th>\n",
       "      <th>param_dropout</th>\n",
       "      <th>param_batch_size</th>\n",
       "      <th>mean_test_score</th>\n",
       "      <th>rank_test_score</th>\n",
       "    </tr>\n",
       "  </thead>\n",
       "  <tbody>\n",
       "    <tr>\n",
       "      <th>14</th>\n",
       "      <td>0.05</td>\n",
       "      <td>28</td>\n",
       "      <td>200</td>\n",
       "      <td>0.1</td>\n",
       "      <td>128</td>\n",
       "      <td>0.646794</td>\n",
       "      <td>14</td>\n",
       "    </tr>\n",
       "    <tr>\n",
       "      <th>6</th>\n",
       "      <td>0.05</td>\n",
       "      <td>24</td>\n",
       "      <td>300</td>\n",
       "      <td>0.05</td>\n",
       "      <td>128</td>\n",
       "      <td>0.645526</td>\n",
       "      <td>15</td>\n",
       "    </tr>\n",
       "    <tr>\n",
       "      <th>1</th>\n",
       "      <td>0.05</td>\n",
       "      <td>26</td>\n",
       "      <td>100</td>\n",
       "      <td>0.05</td>\n",
       "      <td>128</td>\n",
       "      <td>0.644100</td>\n",
       "      <td>16</td>\n",
       "    </tr>\n",
       "    <tr>\n",
       "      <th>8</th>\n",
       "      <td>0.05</td>\n",
       "      <td>28</td>\n",
       "      <td>300</td>\n",
       "      <td>0.05</td>\n",
       "      <td>128</td>\n",
       "      <td>0.641488</td>\n",
       "      <td>17</td>\n",
       "    </tr>\n",
       "    <tr>\n",
       "      <th>7</th>\n",
       "      <td>0.05</td>\n",
       "      <td>26</td>\n",
       "      <td>300</td>\n",
       "      <td>0.05</td>\n",
       "      <td>128</td>\n",
       "      <td>0.640155</td>\n",
       "      <td>18</td>\n",
       "    </tr>\n",
       "  </tbody>\n",
       "</table>\n",
       "</div>"
      ],
      "text/plain": [
       "   param_learning_rate param_hidden_size param_epochs param_dropout  \\\n",
       "14                0.05                28          200           0.1   \n",
       "6                 0.05                24          300          0.05   \n",
       "1                 0.05                26          100          0.05   \n",
       "8                 0.05                28          300          0.05   \n",
       "7                 0.05                26          300          0.05   \n",
       "\n",
       "   param_batch_size  mean_test_score  rank_test_score  \n",
       "14              128         0.646794               14  \n",
       "6               128         0.645526               15  \n",
       "1               128         0.644100               16  \n",
       "8               128         0.641488               17  \n",
       "7               128         0.640155               18  "
      ]
     },
     "execution_count": 31,
     "metadata": {},
     "output_type": "execute_result"
    }
   ],
   "source": [
    "dfd.tail(5)"
   ]
  },
  {
   "cell_type": "code",
   "execution_count": 32,
   "metadata": {},
   "outputs": [
    {
     "name": "stdout",
     "output_type": "stream",
     "text": [
      "0.7007640067911715 \n",
      " {'learning_rate': 0.05, 'hidden_size': 24, 'epochs': 100, 'dropout': 0.05, 'batch_size': 128}\n"
     ]
    }
   ],
   "source": [
    "print(random_search_model.best_score_, \"\\n\", random_search_model.best_params_)"
   ]
  },
  {
   "cell_type": "markdown",
   "metadata": {},
   "source": [
    "### Undercomplete encoded data:"
   ]
  },
  {
   "cell_type": "code",
   "execution_count": 33,
   "metadata": {},
   "outputs": [],
   "source": [
    "def create_dense_ae_enc_classifier(dropout=0.25, hidden_size=32, activation=\"relu\", last_activation=\"sigmoid\",\n",
    "                            loss=\"binary_crossentropy\", optimizer=Adam, learning_rate=0.001):\n",
    "    \n",
    "    model = Sequential()\n",
    "    model.add(Dropout(dropout))\n",
    "    model.add(Dense(hidden_size, activation=activation))\n",
    "    model.add(Dense(1, activation=last_activation))\n",
    "\n",
    "    model.compile(loss=loss,\n",
    "                  optimizer=optimizer(learning_rate=learning_rate),\n",
    "                  metrics=metrics)\n",
    "\n",
    "    return model"
   ]
  },
  {
   "cell_type": "code",
   "execution_count": 34,
   "metadata": {},
   "outputs": [],
   "source": [
    "params_dense_ae_enc = {\n",
    "    'dropout': [0.05,0.1],\n",
    "    'hidden_size': [30,32,34],\n",
    "#     'activation': ['relu'],\n",
    "#     'loss': ['binary_crossentropy'],\n",
    "#     'optimizer': [Adam],\n",
    "    'learning_rate': [0.005,0.01],\n",
    "    'batch_size': [106,156],\n",
    "    'epochs': [100,200,300]\n",
    "}"
   ]
  },
  {
   "cell_type": "code",
   "execution_count": 35,
   "metadata": {},
   "outputs": [
    {
     "name": "stdout",
     "output_type": "stream",
     "text": [
      "Fitting 3 folds for each of 40 candidates, totalling 120 fits\n"
     ]
    },
    {
     "name": "stderr",
     "output_type": "stream",
     "text": [
      "[Parallel(n_jobs=1)]: Using backend SequentialBackend with 1 concurrent workers.\n",
      "[Parallel(n_jobs=1)]: Done 120 out of 120 | elapsed:  2.6min finished\n"
     ]
    },
    {
     "data": {
      "text/plain": [
       "RandomizedSearchCV(cv=3,\n",
       "                   estimator=<tensorflow.python.keras.wrappers.scikit_learn.KerasClassifier object at 0x000001CA39F37D88>,\n",
       "                   n_iter=40,\n",
       "                   param_distributions={'batch_size': [106, 156],\n",
       "                                        'dropout': [0.05, 0.1],\n",
       "                                        'epochs': [100, 200, 300],\n",
       "                                        'hidden_size': [30, 32, 34],\n",
       "                                        'learning_rate': [0.005, 0.01]},\n",
       "                   random_state=42, scoring='accuracy', verbose=1)"
      ]
     },
     "execution_count": 35,
     "metadata": {},
     "output_type": "execute_result"
    }
   ],
   "source": [
    "clear_session_and_set_seeds()\n",
    "model = KerasClassifier(create_dense_ae_enc_classifier, verbose=0)\n",
    "random_search_model = RandomizedSearchCV(estimator=model, param_distributions=params_dense_ae_enc, n_iter=40,\n",
    "                                         cv=3, verbose=1, random_state=42, scoring=\"accuracy\")\n",
    "\n",
    "random_search_model.fit(train_undercomplete_encoded, train_y)"
   ]
  },
  {
   "cell_type": "code",
   "execution_count": 36,
   "metadata": {},
   "outputs": [
    {
     "data": {
      "text/html": [
       "<div>\n",
       "<style scoped>\n",
       "    .dataframe tbody tr th:only-of-type {\n",
       "        vertical-align: middle;\n",
       "    }\n",
       "\n",
       "    .dataframe tbody tr th {\n",
       "        vertical-align: top;\n",
       "    }\n",
       "\n",
       "    .dataframe thead th {\n",
       "        text-align: right;\n",
       "    }\n",
       "</style>\n",
       "<table border=\"1\" class=\"dataframe\">\n",
       "  <thead>\n",
       "    <tr style=\"text-align: right;\">\n",
       "      <th></th>\n",
       "      <th>param_learning_rate</th>\n",
       "      <th>param_hidden_size</th>\n",
       "      <th>param_epochs</th>\n",
       "      <th>param_dropout</th>\n",
       "      <th>param_batch_size</th>\n",
       "      <th>mean_test_score</th>\n",
       "      <th>rank_test_score</th>\n",
       "    </tr>\n",
       "  </thead>\n",
       "  <tbody>\n",
       "    <tr>\n",
       "      <th>6</th>\n",
       "      <td>0.005</td>\n",
       "      <td>34</td>\n",
       "      <td>200</td>\n",
       "      <td>0.05</td>\n",
       "      <td>106</td>\n",
       "      <td>0.641505</td>\n",
       "      <td>1</td>\n",
       "    </tr>\n",
       "    <tr>\n",
       "      <th>31</th>\n",
       "      <td>0.01</td>\n",
       "      <td>30</td>\n",
       "      <td>100</td>\n",
       "      <td>0.1</td>\n",
       "      <td>106</td>\n",
       "      <td>0.640150</td>\n",
       "      <td>2</td>\n",
       "    </tr>\n",
       "    <tr>\n",
       "      <th>23</th>\n",
       "      <td>0.005</td>\n",
       "      <td>32</td>\n",
       "      <td>200</td>\n",
       "      <td>0.05</td>\n",
       "      <td>156</td>\n",
       "      <td>0.638805</td>\n",
       "      <td>3</td>\n",
       "    </tr>\n",
       "    <tr>\n",
       "      <th>18</th>\n",
       "      <td>0.01</td>\n",
       "      <td>32</td>\n",
       "      <td>300</td>\n",
       "      <td>0.1</td>\n",
       "      <td>106</td>\n",
       "      <td>0.638789</td>\n",
       "      <td>4</td>\n",
       "    </tr>\n",
       "    <tr>\n",
       "      <th>36</th>\n",
       "      <td>0.005</td>\n",
       "      <td>34</td>\n",
       "      <td>200</td>\n",
       "      <td>0.1</td>\n",
       "      <td>156</td>\n",
       "      <td>0.630687</td>\n",
       "      <td>5</td>\n",
       "    </tr>\n",
       "  </tbody>\n",
       "</table>\n",
       "</div>"
      ],
      "text/plain": [
       "   param_learning_rate param_hidden_size param_epochs param_dropout  \\\n",
       "6                0.005                34          200          0.05   \n",
       "31                0.01                30          100           0.1   \n",
       "23               0.005                32          200          0.05   \n",
       "18                0.01                32          300           0.1   \n",
       "36               0.005                34          200           0.1   \n",
       "\n",
       "   param_batch_size  mean_test_score  rank_test_score  \n",
       "6               106         0.641505                1  \n",
       "31              106         0.640150                2  \n",
       "23              156         0.638805                3  \n",
       "18              106         0.638789                4  \n",
       "36              156         0.630687                5  "
      ]
     },
     "execution_count": 36,
     "metadata": {},
     "output_type": "execute_result"
    }
   ],
   "source": [
    "df = pandas.DataFrame(random_search_model.cv_results_)\n",
    "dfd = df.drop(df.filter(regex=\"(time)|(split)|(std_test_score)|(params)\"), axis=1)\n",
    "dfd = dfd.sort_values('rank_test_score')\n",
    "dfd.head(5)"
   ]
  },
  {
   "cell_type": "code",
   "execution_count": 37,
   "metadata": {},
   "outputs": [
    {
     "data": {
      "text/html": [
       "<div>\n",
       "<style scoped>\n",
       "    .dataframe tbody tr th:only-of-type {\n",
       "        vertical-align: middle;\n",
       "    }\n",
       "\n",
       "    .dataframe tbody tr th {\n",
       "        vertical-align: top;\n",
       "    }\n",
       "\n",
       "    .dataframe thead th {\n",
       "        text-align: right;\n",
       "    }\n",
       "</style>\n",
       "<table border=\"1\" class=\"dataframe\">\n",
       "  <thead>\n",
       "    <tr style=\"text-align: right;\">\n",
       "      <th></th>\n",
       "      <th>param_learning_rate</th>\n",
       "      <th>param_hidden_size</th>\n",
       "      <th>param_epochs</th>\n",
       "      <th>param_dropout</th>\n",
       "      <th>param_batch_size</th>\n",
       "      <th>mean_test_score</th>\n",
       "      <th>rank_test_score</th>\n",
       "    </tr>\n",
       "  </thead>\n",
       "  <tbody>\n",
       "    <tr>\n",
       "      <th>19</th>\n",
       "      <td>0.01</td>\n",
       "      <td>32</td>\n",
       "      <td>100</td>\n",
       "      <td>0.05</td>\n",
       "      <td>156</td>\n",
       "      <td>0.595648</td>\n",
       "      <td>36</td>\n",
       "    </tr>\n",
       "    <tr>\n",
       "      <th>9</th>\n",
       "      <td>0.005</td>\n",
       "      <td>30</td>\n",
       "      <td>100</td>\n",
       "      <td>0.1</td>\n",
       "      <td>156</td>\n",
       "      <td>0.595637</td>\n",
       "      <td>37</td>\n",
       "    </tr>\n",
       "    <tr>\n",
       "      <th>35</th>\n",
       "      <td>0.01</td>\n",
       "      <td>30</td>\n",
       "      <td>300</td>\n",
       "      <td>0.05</td>\n",
       "      <td>106</td>\n",
       "      <td>0.595631</td>\n",
       "      <td>38</td>\n",
       "    </tr>\n",
       "    <tr>\n",
       "      <th>14</th>\n",
       "      <td>0.01</td>\n",
       "      <td>34</td>\n",
       "      <td>100</td>\n",
       "      <td>0.05</td>\n",
       "      <td>106</td>\n",
       "      <td>0.592970</td>\n",
       "      <td>39</td>\n",
       "    </tr>\n",
       "    <tr>\n",
       "      <th>26</th>\n",
       "      <td>0.01</td>\n",
       "      <td>30</td>\n",
       "      <td>100</td>\n",
       "      <td>0.1</td>\n",
       "      <td>156</td>\n",
       "      <td>0.583573</td>\n",
       "      <td>40</td>\n",
       "    </tr>\n",
       "  </tbody>\n",
       "</table>\n",
       "</div>"
      ],
      "text/plain": [
       "   param_learning_rate param_hidden_size param_epochs param_dropout  \\\n",
       "19                0.01                32          100          0.05   \n",
       "9                0.005                30          100           0.1   \n",
       "35                0.01                30          300          0.05   \n",
       "14                0.01                34          100          0.05   \n",
       "26                0.01                30          100           0.1   \n",
       "\n",
       "   param_batch_size  mean_test_score  rank_test_score  \n",
       "19              156         0.595648               36  \n",
       "9               156         0.595637               37  \n",
       "35              106         0.595631               38  \n",
       "14              106         0.592970               39  \n",
       "26              156         0.583573               40  "
      ]
     },
     "execution_count": 37,
     "metadata": {},
     "output_type": "execute_result"
    }
   ],
   "source": [
    "dfd.tail(5)"
   ]
  },
  {
   "cell_type": "code",
   "execution_count": 38,
   "metadata": {
    "scrolled": true
   },
   "outputs": [
    {
     "name": "stdout",
     "output_type": "stream",
     "text": [
      "0.6415045056810761 \n",
      " {'learning_rate': 0.005, 'hidden_size': 34, 'epochs': 200, 'dropout': 0.05, 'batch_size': 106}\n"
     ]
    }
   ],
   "source": [
    "print(random_search_model.best_score_, \"\\n\", random_search_model.best_params_)"
   ]
  },
  {
   "cell_type": "markdown",
   "metadata": {},
   "source": [
    "# LSTM-based classifier  \n",
    "based on the original author's code"
   ]
  },
  {
   "cell_type": "code",
   "execution_count": 39,
   "metadata": {},
   "outputs": [],
   "source": [
    "# Reshape data to fit some layers\n",
    "xt_phase = train_phase.reshape(-1, train_phase[0].shape[0], 1)\n",
    "xt_breathing = train_breathing.reshape(-1, train_breathing[0].shape[0], 1)\n",
    "xt_undercomplete_encoded = train_undercomplete_encoded.reshape(-1, train_undercomplete_encoded[0].shape[0], 1)"
   ]
  },
  {
   "cell_type": "markdown",
   "metadata": {},
   "source": [
    "### Phase data:"
   ]
  },
  {
   "cell_type": "code",
   "execution_count": 40,
   "metadata": {},
   "outputs": [],
   "source": [
    "def create_lstm_phase_classifier(kernel_size=4, filters=64, strides=4, pool_size=4, dropout=0.09,\n",
    "               lstm_output_size=256, activation='relu', last_activation='sigmoid',\n",
    "               loss='binary_crossentropy', optimizer=Nadam, learning_rate=0.001):\n",
    "    \n",
    "    # Define the model\n",
    "    model = Sequential()\n",
    "    model.add(Dropout(dropout))\n",
    "    model.add(Conv1D(filters,\n",
    "                     kernel_size,\n",
    "                     padding='valid',\n",
    "                     activation=activation,\n",
    "                     strides=strides))\n",
    "\n",
    "    model.add(MaxPooling1D(pool_size=pool_size))\n",
    "    \n",
    "    model.add(Conv1D(filters,\n",
    "                     kernel_size,\n",
    "                     padding='valid',\n",
    "                     activation=activation,\n",
    "                     strides=strides))\n",
    "\n",
    "    model.add(MaxPooling1D(pool_size=pool_size))\n",
    "\n",
    "    model.add(Dropout(dropout))\n",
    "    model.add(LSTM(lstm_output_size))\n",
    "    model.add(Dense(1))\n",
    "    model.add(Activation(last_activation))\n",
    "\n",
    "    # Compile the model\n",
    "    model.compile(loss=loss,\n",
    "                  optimizer=optimizer(learning_rate=learning_rate),\n",
    "                  metrics=metrics)\n",
    "    \n",
    "    return model"
   ]
  },
  {
   "cell_type": "code",
   "execution_count": 41,
   "metadata": {},
   "outputs": [],
   "source": [
    "params_lstm_phase = {\n",
    "    'kernel_size': [4],\n",
    "    'filters': [32],\n",
    "    'strides': [2,4],\n",
    "    'pool_size': [4],\n",
    "    'dropout': [0.01,0.1],\n",
    "    'lstm_output_size': [22],\n",
    "#     'activation': ['relu'],\n",
    "#     'last_activation': ['sigmoid'],\n",
    "    'loss': ['binary_crossentropy', 'poisson'],\n",
    "#     'optimizer': [Nadam],\n",
    "    'learning_rate': [0.005,0.01],\n",
    "    'batch_size': [186],\n",
    "    'epochs': [100, 200]\n",
    "}"
   ]
  },
  {
   "cell_type": "code",
   "execution_count": 42,
   "metadata": {},
   "outputs": [
    {
     "name": "stdout",
     "output_type": "stream",
     "text": [
      "Fitting 3 folds for each of 32 candidates, totalling 96 fits\n"
     ]
    },
    {
     "name": "stderr",
     "output_type": "stream",
     "text": [
      "[Parallel(n_jobs=1)]: Using backend SequentialBackend with 1 concurrent workers.\n",
      "[Parallel(n_jobs=1)]: Done  96 out of  96 | elapsed: 23.6min finished\n"
     ]
    },
    {
     "data": {
      "text/plain": [
       "RandomizedSearchCV(cv=3,\n",
       "                   estimator=<tensorflow.python.keras.wrappers.scikit_learn.KerasClassifier object at 0x000001CA3B965CC8>,\n",
       "                   n_iter=40,\n",
       "                   param_distributions={'batch_size': [186],\n",
       "                                        'dropout': [0.01, 0.1],\n",
       "                                        'epochs': [100, 200], 'filters': [32],\n",
       "                                        'kernel_size': [4],\n",
       "                                        'learning_rate': [0.005, 0.01],\n",
       "                                        'loss': ['binary_crossentropy',\n",
       "                                                 'poisson'],\n",
       "                                        'lstm_output_size': [22],\n",
       "                                        'pool_size': [4], 'strides': [2, 4]},\n",
       "                   random_state=42, scoring='accuracy', verbose=1)"
      ]
     },
     "execution_count": 42,
     "metadata": {},
     "output_type": "execute_result"
    }
   ],
   "source": [
    "clear_session_and_set_seeds()\n",
    "model = KerasClassifier(create_lstm_phase_classifier, verbose=0)\n",
    "random_search_model = RandomizedSearchCV(estimator=model, param_distributions=params_lstm_phase, n_iter=40,\n",
    "                                         cv=3, verbose=1, random_state=42, scoring=\"accuracy\")\n",
    "\n",
    "random_search_model.fit(xt_phase, train_y)"
   ]
  },
  {
   "cell_type": "code",
   "execution_count": 43,
   "metadata": {},
   "outputs": [
    {
     "data": {
      "text/html": [
       "<div>\n",
       "<style scoped>\n",
       "    .dataframe tbody tr th:only-of-type {\n",
       "        vertical-align: middle;\n",
       "    }\n",
       "\n",
       "    .dataframe tbody tr th {\n",
       "        vertical-align: top;\n",
       "    }\n",
       "\n",
       "    .dataframe thead th {\n",
       "        text-align: right;\n",
       "    }\n",
       "</style>\n",
       "<table border=\"1\" class=\"dataframe\">\n",
       "  <thead>\n",
       "    <tr style=\"text-align: right;\">\n",
       "      <th></th>\n",
       "      <th>param_strides</th>\n",
       "      <th>param_pool_size</th>\n",
       "      <th>param_lstm_output_size</th>\n",
       "      <th>param_loss</th>\n",
       "      <th>param_learning_rate</th>\n",
       "      <th>param_kernel_size</th>\n",
       "      <th>param_filters</th>\n",
       "      <th>param_epochs</th>\n",
       "      <th>param_dropout</th>\n",
       "      <th>param_batch_size</th>\n",
       "      <th>mean_test_score</th>\n",
       "      <th>rank_test_score</th>\n",
       "    </tr>\n",
       "  </thead>\n",
       "  <tbody>\n",
       "    <tr>\n",
       "      <th>24</th>\n",
       "      <td>2</td>\n",
       "      <td>4</td>\n",
       "      <td>22</td>\n",
       "      <td>binary_crossentropy</td>\n",
       "      <td>0.005</td>\n",
       "      <td>4</td>\n",
       "      <td>32</td>\n",
       "      <td>200</td>\n",
       "      <td>0.1</td>\n",
       "      <td>186</td>\n",
       "      <td>0.733125</td>\n",
       "      <td>1</td>\n",
       "    </tr>\n",
       "    <tr>\n",
       "      <th>16</th>\n",
       "      <td>2</td>\n",
       "      <td>4</td>\n",
       "      <td>22</td>\n",
       "      <td>binary_crossentropy</td>\n",
       "      <td>0.005</td>\n",
       "      <td>4</td>\n",
       "      <td>32</td>\n",
       "      <td>100</td>\n",
       "      <td>0.1</td>\n",
       "      <td>186</td>\n",
       "      <td>0.719581</td>\n",
       "      <td>2</td>\n",
       "    </tr>\n",
       "    <tr>\n",
       "      <th>8</th>\n",
       "      <td>2</td>\n",
       "      <td>4</td>\n",
       "      <td>22</td>\n",
       "      <td>binary_crossentropy</td>\n",
       "      <td>0.005</td>\n",
       "      <td>4</td>\n",
       "      <td>32</td>\n",
       "      <td>200</td>\n",
       "      <td>0.01</td>\n",
       "      <td>186</td>\n",
       "      <td>0.716947</td>\n",
       "      <td>3</td>\n",
       "    </tr>\n",
       "    <tr>\n",
       "      <th>28</th>\n",
       "      <td>2</td>\n",
       "      <td>4</td>\n",
       "      <td>22</td>\n",
       "      <td>binary_crossentropy</td>\n",
       "      <td>0.01</td>\n",
       "      <td>4</td>\n",
       "      <td>32</td>\n",
       "      <td>200</td>\n",
       "      <td>0.1</td>\n",
       "      <td>186</td>\n",
       "      <td>0.715576</td>\n",
       "      <td>4</td>\n",
       "    </tr>\n",
       "    <tr>\n",
       "      <th>0</th>\n",
       "      <td>2</td>\n",
       "      <td>4</td>\n",
       "      <td>22</td>\n",
       "      <td>binary_crossentropy</td>\n",
       "      <td>0.005</td>\n",
       "      <td>4</td>\n",
       "      <td>32</td>\n",
       "      <td>100</td>\n",
       "      <td>0.01</td>\n",
       "      <td>186</td>\n",
       "      <td>0.714221</td>\n",
       "      <td>5</td>\n",
       "    </tr>\n",
       "  </tbody>\n",
       "</table>\n",
       "</div>"
      ],
      "text/plain": [
       "   param_strides param_pool_size param_lstm_output_size           param_loss  \\\n",
       "24             2               4                     22  binary_crossentropy   \n",
       "16             2               4                     22  binary_crossentropy   \n",
       "8              2               4                     22  binary_crossentropy   \n",
       "28             2               4                     22  binary_crossentropy   \n",
       "0              2               4                     22  binary_crossentropy   \n",
       "\n",
       "   param_learning_rate param_kernel_size param_filters param_epochs  \\\n",
       "24               0.005                 4            32          200   \n",
       "16               0.005                 4            32          100   \n",
       "8                0.005                 4            32          200   \n",
       "28                0.01                 4            32          200   \n",
       "0                0.005                 4            32          100   \n",
       "\n",
       "   param_dropout param_batch_size  mean_test_score  rank_test_score  \n",
       "24           0.1              186         0.733125                1  \n",
       "16           0.1              186         0.719581                2  \n",
       "8           0.01              186         0.716947                3  \n",
       "28           0.1              186         0.715576                4  \n",
       "0           0.01              186         0.714221                5  "
      ]
     },
     "execution_count": 43,
     "metadata": {},
     "output_type": "execute_result"
    }
   ],
   "source": [
    "df = pandas.DataFrame(random_search_model.cv_results_)\n",
    "dfd = df.drop(df.filter(regex=\"(time)|(split)|(std_test_score)|(params)\"), axis=1)\n",
    "dfd = dfd.sort_values('rank_test_score')\n",
    "dfd.head(5)"
   ]
  },
  {
   "cell_type": "code",
   "execution_count": 44,
   "metadata": {},
   "outputs": [
    {
     "data": {
      "text/html": [
       "<div>\n",
       "<style scoped>\n",
       "    .dataframe tbody tr th:only-of-type {\n",
       "        vertical-align: middle;\n",
       "    }\n",
       "\n",
       "    .dataframe tbody tr th {\n",
       "        vertical-align: top;\n",
       "    }\n",
       "\n",
       "    .dataframe thead th {\n",
       "        text-align: right;\n",
       "    }\n",
       "</style>\n",
       "<table border=\"1\" class=\"dataframe\">\n",
       "  <thead>\n",
       "    <tr style=\"text-align: right;\">\n",
       "      <th></th>\n",
       "      <th>param_strides</th>\n",
       "      <th>param_pool_size</th>\n",
       "      <th>param_lstm_output_size</th>\n",
       "      <th>param_loss</th>\n",
       "      <th>param_learning_rate</th>\n",
       "      <th>param_kernel_size</th>\n",
       "      <th>param_filters</th>\n",
       "      <th>param_epochs</th>\n",
       "      <th>param_dropout</th>\n",
       "      <th>param_batch_size</th>\n",
       "      <th>mean_test_score</th>\n",
       "      <th>rank_test_score</th>\n",
       "    </tr>\n",
       "  </thead>\n",
       "  <tbody>\n",
       "    <tr>\n",
       "      <th>7</th>\n",
       "      <td>4</td>\n",
       "      <td>4</td>\n",
       "      <td>22</td>\n",
       "      <td>poisson</td>\n",
       "      <td>0.01</td>\n",
       "      <td>4</td>\n",
       "      <td>32</td>\n",
       "      <td>100</td>\n",
       "      <td>0.01</td>\n",
       "      <td>186</td>\n",
       "      <td>0.654994</td>\n",
       "      <td>28</td>\n",
       "    </tr>\n",
       "    <tr>\n",
       "      <th>2</th>\n",
       "      <td>2</td>\n",
       "      <td>4</td>\n",
       "      <td>22</td>\n",
       "      <td>poisson</td>\n",
       "      <td>0.005</td>\n",
       "      <td>4</td>\n",
       "      <td>32</td>\n",
       "      <td>100</td>\n",
       "      <td>0.01</td>\n",
       "      <td>186</td>\n",
       "      <td>0.653667</td>\n",
       "      <td>29</td>\n",
       "    </tr>\n",
       "    <tr>\n",
       "      <th>22</th>\n",
       "      <td>2</td>\n",
       "      <td>4</td>\n",
       "      <td>22</td>\n",
       "      <td>poisson</td>\n",
       "      <td>0.01</td>\n",
       "      <td>4</td>\n",
       "      <td>32</td>\n",
       "      <td>100</td>\n",
       "      <td>0.1</td>\n",
       "      <td>186</td>\n",
       "      <td>0.642865</td>\n",
       "      <td>30</td>\n",
       "    </tr>\n",
       "    <tr>\n",
       "      <th>14</th>\n",
       "      <td>2</td>\n",
       "      <td>4</td>\n",
       "      <td>22</td>\n",
       "      <td>poisson</td>\n",
       "      <td>0.01</td>\n",
       "      <td>4</td>\n",
       "      <td>32</td>\n",
       "      <td>200</td>\n",
       "      <td>0.01</td>\n",
       "      <td>186</td>\n",
       "      <td>0.630632</td>\n",
       "      <td>31</td>\n",
       "    </tr>\n",
       "    <tr>\n",
       "      <th>6</th>\n",
       "      <td>2</td>\n",
       "      <td>4</td>\n",
       "      <td>22</td>\n",
       "      <td>poisson</td>\n",
       "      <td>0.01</td>\n",
       "      <td>4</td>\n",
       "      <td>32</td>\n",
       "      <td>100</td>\n",
       "      <td>0.01</td>\n",
       "      <td>186</td>\n",
       "      <td>0.614519</td>\n",
       "      <td>32</td>\n",
       "    </tr>\n",
       "  </tbody>\n",
       "</table>\n",
       "</div>"
      ],
      "text/plain": [
       "   param_strides param_pool_size param_lstm_output_size param_loss  \\\n",
       "7              4               4                     22    poisson   \n",
       "2              2               4                     22    poisson   \n",
       "22             2               4                     22    poisson   \n",
       "14             2               4                     22    poisson   \n",
       "6              2               4                     22    poisson   \n",
       "\n",
       "   param_learning_rate param_kernel_size param_filters param_epochs  \\\n",
       "7                 0.01                 4            32          100   \n",
       "2                0.005                 4            32          100   \n",
       "22                0.01                 4            32          100   \n",
       "14                0.01                 4            32          200   \n",
       "6                 0.01                 4            32          100   \n",
       "\n",
       "   param_dropout param_batch_size  mean_test_score  rank_test_score  \n",
       "7           0.01              186         0.654994               28  \n",
       "2           0.01              186         0.653667               29  \n",
       "22           0.1              186         0.642865               30  \n",
       "14          0.01              186         0.630632               31  \n",
       "6           0.01              186         0.614519               32  "
      ]
     },
     "execution_count": 44,
     "metadata": {},
     "output_type": "execute_result"
    }
   ],
   "source": [
    "dfd.tail(5)"
   ]
  },
  {
   "cell_type": "code",
   "execution_count": 45,
   "metadata": {},
   "outputs": [
    {
     "name": "stdout",
     "output_type": "stream",
     "text": [
      "0.733125462539724 \n",
      " {'strides': 2, 'pool_size': 4, 'lstm_output_size': 22, 'loss': 'binary_crossentropy', 'learning_rate': 0.005, 'kernel_size': 4, 'filters': 32, 'epochs': 200, 'dropout': 0.1, 'batch_size': 186}\n"
     ]
    }
   ],
   "source": [
    "print(random_search_model.best_score_, \"\\n\", random_search_model.best_params_)"
   ]
  },
  {
   "cell_type": "markdown",
   "metadata": {},
   "source": [
    "### Breathing data:"
   ]
  },
  {
   "cell_type": "code",
   "execution_count": 46,
   "metadata": {},
   "outputs": [],
   "source": [
    "def create_lstm_breathing_classifier(kernel_size=4, filters=64, strides=4, pool_size=4, dropout=0.09,\n",
    "               lstm_output_size=256, activation='relu', last_activation='sigmoid',\n",
    "               loss='poisson', optimizer=Nadam, learning_rate=0.001):\n",
    "    \n",
    "    # Define the model\n",
    "    model = Sequential()\n",
    "    model.add(Dropout(dropout))\n",
    "    model.add(Conv1D(filters,\n",
    "                     kernel_size,\n",
    "                     padding='valid',\n",
    "                     activation=activation,\n",
    "                     strides=strides))\n",
    "\n",
    "    model.add(MaxPooling1D(pool_size=pool_size))\n",
    "\n",
    "    model.add(Dropout(dropout))\n",
    "    model.add(LSTM(lstm_output_size))\n",
    "    model.add(Dense(1))\n",
    "    model.add(Activation(last_activation))\n",
    "\n",
    "    # Compile the model\n",
    "    model.compile(loss=loss,\n",
    "                  optimizer=optimizer(learning_rate=learning_rate),\n",
    "                  metrics=metrics)\n",
    "    \n",
    "    return model"
   ]
  },
  {
   "cell_type": "code",
   "execution_count": 47,
   "metadata": {},
   "outputs": [],
   "source": [
    "params_lstm_breathing = {\n",
    "    'kernel_size': [2,4],\n",
    "    'filters': [6,8,12],\n",
    "    'strides': [1,2],\n",
    "    'pool_size': [1,2],\n",
    "    'dropout': [0.01],\n",
    "    'lstm_output_size': [32,64],\n",
    "#     'activation': ['sigmoid','relu'],\n",
    "#     'last_activation': ['sigmoid','relu'],\n",
    "#     'loss': ['binary_crossentropy','poisson'],\n",
    "#     'optimizer': [Adam,Nadam],\n",
    "    'learning_rate': [0.001,0.01],\n",
    "    'batch_size': [64,256],\n",
    "    'epochs': [100]\n",
    "}"
   ]
  },
  {
   "cell_type": "code",
   "execution_count": 48,
   "metadata": {
    "scrolled": true
   },
   "outputs": [
    {
     "name": "stdout",
     "output_type": "stream",
     "text": [
      "Fitting 3 folds for each of 40 candidates, totalling 120 fits\n"
     ]
    },
    {
     "name": "stderr",
     "output_type": "stream",
     "text": [
      "[Parallel(n_jobs=1)]: Using backend SequentialBackend with 1 concurrent workers.\n",
      "[Parallel(n_jobs=1)]: Done 120 out of 120 | elapsed:  9.8min finished\n"
     ]
    },
    {
     "data": {
      "text/plain": [
       "RandomizedSearchCV(cv=3,\n",
       "                   estimator=<tensorflow.python.keras.wrappers.scikit_learn.KerasClassifier object at 0x000001CA78D8F908>,\n",
       "                   n_iter=40,\n",
       "                   param_distributions={'batch_size': [64, 256],\n",
       "                                        'dropout': [0.01], 'epochs': [100],\n",
       "                                        'filters': [6, 8, 12],\n",
       "                                        'kernel_size': [2, 4],\n",
       "                                        'learning_rate': [0.001, 0.01],\n",
       "                                        'lstm_output_size': [32, 64],\n",
       "                                        'pool_size': [1, 2],\n",
       "                                        'strides': [1, 2]},\n",
       "                   random_state=42, scoring='accuracy', verbose=1)"
      ]
     },
     "execution_count": 48,
     "metadata": {},
     "output_type": "execute_result"
    }
   ],
   "source": [
    "clear_session_and_set_seeds()\n",
    "model = KerasClassifier(create_lstm_breathing_classifier, verbose=0)\n",
    "random_search_model = RandomizedSearchCV(estimator=model, param_distributions=params_lstm_breathing, n_iter=40,\n",
    "                                         cv=3, verbose=1, random_state=42, scoring=\"accuracy\")\n",
    "\n",
    "random_search_model.fit(xt_breathing, train_y)"
   ]
  },
  {
   "cell_type": "code",
   "execution_count": 49,
   "metadata": {},
   "outputs": [
    {
     "data": {
      "text/html": [
       "<div>\n",
       "<style scoped>\n",
       "    .dataframe tbody tr th:only-of-type {\n",
       "        vertical-align: middle;\n",
       "    }\n",
       "\n",
       "    .dataframe tbody tr th {\n",
       "        vertical-align: top;\n",
       "    }\n",
       "\n",
       "    .dataframe thead th {\n",
       "        text-align: right;\n",
       "    }\n",
       "</style>\n",
       "<table border=\"1\" class=\"dataframe\">\n",
       "  <thead>\n",
       "    <tr style=\"text-align: right;\">\n",
       "      <th></th>\n",
       "      <th>param_strides</th>\n",
       "      <th>param_pool_size</th>\n",
       "      <th>param_lstm_output_size</th>\n",
       "      <th>param_learning_rate</th>\n",
       "      <th>param_kernel_size</th>\n",
       "      <th>param_filters</th>\n",
       "      <th>param_dropout</th>\n",
       "      <th>mean_test_score</th>\n",
       "      <th>rank_test_score</th>\n",
       "    </tr>\n",
       "  </thead>\n",
       "  <tbody>\n",
       "    <tr>\n",
       "      <th>35</th>\n",
       "      <td>2</td>\n",
       "      <td>1</td>\n",
       "      <td>64</td>\n",
       "      <td>0.001</td>\n",
       "      <td>2</td>\n",
       "      <td>6</td>\n",
       "      <td>0.01</td>\n",
       "      <td>0.680521</td>\n",
       "      <td>1</td>\n",
       "    </tr>\n",
       "    <tr>\n",
       "      <th>21</th>\n",
       "      <td>1</td>\n",
       "      <td>2</td>\n",
       "      <td>32</td>\n",
       "      <td>0.01</td>\n",
       "      <td>4</td>\n",
       "      <td>8</td>\n",
       "      <td>0.01</td>\n",
       "      <td>0.679204</td>\n",
       "      <td>2</td>\n",
       "    </tr>\n",
       "    <tr>\n",
       "      <th>19</th>\n",
       "      <td>1</td>\n",
       "      <td>1</td>\n",
       "      <td>64</td>\n",
       "      <td>0.001</td>\n",
       "      <td>2</td>\n",
       "      <td>12</td>\n",
       "      <td>0.01</td>\n",
       "      <td>0.673817</td>\n",
       "      <td>3</td>\n",
       "    </tr>\n",
       "    <tr>\n",
       "      <th>39</th>\n",
       "      <td>1</td>\n",
       "      <td>2</td>\n",
       "      <td>32</td>\n",
       "      <td>0.001</td>\n",
       "      <td>4</td>\n",
       "      <td>12</td>\n",
       "      <td>0.01</td>\n",
       "      <td>0.671091</td>\n",
       "      <td>4</td>\n",
       "    </tr>\n",
       "    <tr>\n",
       "      <th>5</th>\n",
       "      <td>2</td>\n",
       "      <td>1</td>\n",
       "      <td>32</td>\n",
       "      <td>0.001</td>\n",
       "      <td>4</td>\n",
       "      <td>12</td>\n",
       "      <td>0.01</td>\n",
       "      <td>0.668419</td>\n",
       "      <td>5</td>\n",
       "    </tr>\n",
       "  </tbody>\n",
       "</table>\n",
       "</div>"
      ],
      "text/plain": [
       "   param_strides param_pool_size param_lstm_output_size param_learning_rate  \\\n",
       "35             2               1                     64               0.001   \n",
       "21             1               2                     32                0.01   \n",
       "19             1               1                     64               0.001   \n",
       "39             1               2                     32               0.001   \n",
       "5              2               1                     32               0.001   \n",
       "\n",
       "   param_kernel_size param_filters param_dropout  mean_test_score  \\\n",
       "35                 2             6          0.01         0.680521   \n",
       "21                 4             8          0.01         0.679204   \n",
       "19                 2            12          0.01         0.673817   \n",
       "39                 4            12          0.01         0.671091   \n",
       "5                  4            12          0.01         0.668419   \n",
       "\n",
       "    rank_test_score  \n",
       "35                1  \n",
       "21                2  \n",
       "19                3  \n",
       "39                4  \n",
       "5                 5  "
      ]
     },
     "execution_count": 49,
     "metadata": {},
     "output_type": "execute_result"
    }
   ],
   "source": [
    "df = pandas.DataFrame(random_search_model.cv_results_)\n",
    "dfd = df.drop(df.filter(regex=\"(time)|(split)|(std_test_score)|(epochs)|(batch_size)|(params)\"), axis=1)\n",
    "dfd = dfd.sort_values('rank_test_score')\n",
    "dfd.head(5)"
   ]
  },
  {
   "cell_type": "code",
   "execution_count": 50,
   "metadata": {},
   "outputs": [
    {
     "data": {
      "text/html": [
       "<div>\n",
       "<style scoped>\n",
       "    .dataframe tbody tr th:only-of-type {\n",
       "        vertical-align: middle;\n",
       "    }\n",
       "\n",
       "    .dataframe tbody tr th {\n",
       "        vertical-align: top;\n",
       "    }\n",
       "\n",
       "    .dataframe thead th {\n",
       "        text-align: right;\n",
       "    }\n",
       "</style>\n",
       "<table border=\"1\" class=\"dataframe\">\n",
       "  <thead>\n",
       "    <tr style=\"text-align: right;\">\n",
       "      <th></th>\n",
       "      <th>param_strides</th>\n",
       "      <th>param_pool_size</th>\n",
       "      <th>param_lstm_output_size</th>\n",
       "      <th>param_learning_rate</th>\n",
       "      <th>param_kernel_size</th>\n",
       "      <th>param_filters</th>\n",
       "      <th>param_dropout</th>\n",
       "      <th>mean_test_score</th>\n",
       "      <th>rank_test_score</th>\n",
       "    </tr>\n",
       "  </thead>\n",
       "  <tbody>\n",
       "    <tr>\n",
       "      <th>32</th>\n",
       "      <td>2</td>\n",
       "      <td>2</td>\n",
       "      <td>32</td>\n",
       "      <td>0.001</td>\n",
       "      <td>4</td>\n",
       "      <td>6</td>\n",
       "      <td>0.01</td>\n",
       "      <td>0.618524</td>\n",
       "      <td>36</td>\n",
       "    </tr>\n",
       "    <tr>\n",
       "      <th>25</th>\n",
       "      <td>2</td>\n",
       "      <td>2</td>\n",
       "      <td>32</td>\n",
       "      <td>0.001</td>\n",
       "      <td>4</td>\n",
       "      <td>6</td>\n",
       "      <td>0.01</td>\n",
       "      <td>0.618519</td>\n",
       "      <td>37</td>\n",
       "    </tr>\n",
       "    <tr>\n",
       "      <th>20</th>\n",
       "      <td>2</td>\n",
       "      <td>2</td>\n",
       "      <td>32</td>\n",
       "      <td>0.01</td>\n",
       "      <td>2</td>\n",
       "      <td>12</td>\n",
       "      <td>0.01</td>\n",
       "      <td>0.598396</td>\n",
       "      <td>38</td>\n",
       "    </tr>\n",
       "    <tr>\n",
       "      <th>3</th>\n",
       "      <td>2</td>\n",
       "      <td>2</td>\n",
       "      <td>64</td>\n",
       "      <td>0.01</td>\n",
       "      <td>2</td>\n",
       "      <td>8</td>\n",
       "      <td>0.01</td>\n",
       "      <td>0.583524</td>\n",
       "      <td>39</td>\n",
       "    </tr>\n",
       "    <tr>\n",
       "      <th>6</th>\n",
       "      <td>2</td>\n",
       "      <td>2</td>\n",
       "      <td>64</td>\n",
       "      <td>0.01</td>\n",
       "      <td>2</td>\n",
       "      <td>6</td>\n",
       "      <td>0.01</td>\n",
       "      <td>0.579502</td>\n",
       "      <td>40</td>\n",
       "    </tr>\n",
       "  </tbody>\n",
       "</table>\n",
       "</div>"
      ],
      "text/plain": [
       "   param_strides param_pool_size param_lstm_output_size param_learning_rate  \\\n",
       "32             2               2                     32               0.001   \n",
       "25             2               2                     32               0.001   \n",
       "20             2               2                     32                0.01   \n",
       "3              2               2                     64                0.01   \n",
       "6              2               2                     64                0.01   \n",
       "\n",
       "   param_kernel_size param_filters param_dropout  mean_test_score  \\\n",
       "32                 4             6          0.01         0.618524   \n",
       "25                 4             6          0.01         0.618519   \n",
       "20                 2            12          0.01         0.598396   \n",
       "3                  2             8          0.01         0.583524   \n",
       "6                  2             6          0.01         0.579502   \n",
       "\n",
       "    rank_test_score  \n",
       "32               36  \n",
       "25               37  \n",
       "20               38  \n",
       "3                39  \n",
       "6                40  "
      ]
     },
     "execution_count": 50,
     "metadata": {},
     "output_type": "execute_result"
    }
   ],
   "source": [
    "dfd.tail(5)"
   ]
  },
  {
   "cell_type": "code",
   "execution_count": 51,
   "metadata": {},
   "outputs": [
    {
     "name": "stdout",
     "output_type": "stream",
     "text": [
      "0.6805210918114145 \n",
      " {'strides': 2, 'pool_size': 1, 'lstm_output_size': 64, 'learning_rate': 0.001, 'kernel_size': 2, 'filters': 6, 'epochs': 100, 'dropout': 0.01, 'batch_size': 64}\n"
     ]
    }
   ],
   "source": [
    "print(random_search_model.best_score_, \"\\n\", random_search_model.best_params_)"
   ]
  },
  {
   "cell_type": "markdown",
   "metadata": {},
   "source": [
    "### Undercomplete encoded data:"
   ]
  },
  {
   "cell_type": "code",
   "execution_count": 52,
   "metadata": {},
   "outputs": [],
   "source": [
    "def create_lstm_ae_enc_classifier(kernel_size=4, filters=64, strides=4, pool_size=4, dropout=0.09,\n",
    "               lstm_output_size=256, activation='relu', last_activation='sigmoid',\n",
    "               loss='poisson', optimizer=Nadam, learning_rate=0.001):\n",
    "    \n",
    "    # Define the model\n",
    "    model = Sequential()\n",
    "    model.add(Dropout(dropout))\n",
    "    model.add(Conv1D(filters,\n",
    "                     kernel_size,\n",
    "                     padding='valid',\n",
    "                     activation=activation,\n",
    "                     strides=strides))\n",
    "\n",
    "    model.add(MaxPooling1D(pool_size=pool_size))\n",
    "\n",
    "    model.add(Dropout(dropout))\n",
    "    model.add(LSTM(lstm_output_size))\n",
    "    model.add(Dense(1))\n",
    "    model.add(Activation(last_activation))\n",
    "\n",
    "    # Compile the model\n",
    "    model.compile(loss=loss,\n",
    "                  optimizer=optimizer(learning_rate=learning_rate),\n",
    "                  metrics=metrics)\n",
    "    \n",
    "    return model"
   ]
  },
  {
   "cell_type": "code",
   "execution_count": 53,
   "metadata": {},
   "outputs": [],
   "source": [
    "params_lstm_ae_enc = {\n",
    "    'kernel_size': [2],\n",
    "    'filters': [6,8,12],\n",
    "    'strides': [2],\n",
    "    'pool_size': [2],\n",
    "    'dropout': [0.01],\n",
    "    'lstm_output_size': [32],\n",
    "#     'activation': ['sigmoid','relu'],\n",
    "#     'last_activation': ['sigmoid','relu'],\n",
    "#     'loss': ['binary_crossentropy','poisson'],\n",
    "#     'optimizer': [Adam,Nadam],\n",
    "    'learning_rate': [0.001,0.01],\n",
    "    'batch_size': [64],\n",
    "    'epochs': [100]\n",
    "}"
   ]
  },
  {
   "cell_type": "code",
   "execution_count": 54,
   "metadata": {},
   "outputs": [
    {
     "name": "stdout",
     "output_type": "stream",
     "text": [
      "Fitting 3 folds for each of 6 candidates, totalling 18 fits\n"
     ]
    },
    {
     "name": "stderr",
     "output_type": "stream",
     "text": [
      "[Parallel(n_jobs=1)]: Using backend SequentialBackend with 1 concurrent workers.\n",
      "[Parallel(n_jobs=1)]: Done  18 out of  18 | elapsed:  1.7min finished\n"
     ]
    },
    {
     "data": {
      "text/plain": [
       "RandomizedSearchCV(cv=3,\n",
       "                   estimator=<tensorflow.python.keras.wrappers.scikit_learn.KerasClassifier object at 0x000001CA553C1108>,\n",
       "                   n_iter=40,\n",
       "                   param_distributions={'batch_size': [64], 'dropout': [0.01],\n",
       "                                        'epochs': [100], 'filters': [6, 8, 12],\n",
       "                                        'kernel_size': [2],\n",
       "                                        'learning_rate': [0.001, 0.01],\n",
       "                                        'lstm_output_size': [32],\n",
       "                                        'pool_size': [2], 'strides': [2]},\n",
       "                   random_state=42, scoring='accuracy', verbose=1)"
      ]
     },
     "execution_count": 54,
     "metadata": {},
     "output_type": "execute_result"
    }
   ],
   "source": [
    "clear_session_and_set_seeds()\n",
    "model = KerasClassifier(create_lstm_ae_enc_classifier, verbose=0)\n",
    "random_search_model = RandomizedSearchCV(estimator=model, param_distributions=params_lstm_ae_enc, n_iter=40,\n",
    "                                         cv=3, verbose=1, random_state=42, scoring=\"accuracy\")\n",
    "\n",
    "random_search_model.fit(xt_undercomplete_encoded, train_y)"
   ]
  },
  {
   "cell_type": "code",
   "execution_count": 55,
   "metadata": {},
   "outputs": [
    {
     "data": {
      "text/html": [
       "<div>\n",
       "<style scoped>\n",
       "    .dataframe tbody tr th:only-of-type {\n",
       "        vertical-align: middle;\n",
       "    }\n",
       "\n",
       "    .dataframe tbody tr th {\n",
       "        vertical-align: top;\n",
       "    }\n",
       "\n",
       "    .dataframe thead th {\n",
       "        text-align: right;\n",
       "    }\n",
       "</style>\n",
       "<table border=\"1\" class=\"dataframe\">\n",
       "  <thead>\n",
       "    <tr style=\"text-align: right;\">\n",
       "      <th></th>\n",
       "      <th>param_strides</th>\n",
       "      <th>param_pool_size</th>\n",
       "      <th>param_lstm_output_size</th>\n",
       "      <th>param_learning_rate</th>\n",
       "      <th>param_kernel_size</th>\n",
       "      <th>param_filters</th>\n",
       "      <th>param_dropout</th>\n",
       "      <th>mean_test_score</th>\n",
       "      <th>rank_test_score</th>\n",
       "    </tr>\n",
       "  </thead>\n",
       "  <tbody>\n",
       "    <tr>\n",
       "      <th>0</th>\n",
       "      <td>2</td>\n",
       "      <td>2</td>\n",
       "      <td>32</td>\n",
       "      <td>0.001</td>\n",
       "      <td>2</td>\n",
       "      <td>6</td>\n",
       "      <td>0.01</td>\n",
       "      <td>0.592927</td>\n",
       "      <td>1</td>\n",
       "    </tr>\n",
       "    <tr>\n",
       "      <th>4</th>\n",
       "      <td>2</td>\n",
       "      <td>2</td>\n",
       "      <td>32</td>\n",
       "      <td>0.001</td>\n",
       "      <td>2</td>\n",
       "      <td>12</td>\n",
       "      <td>0.01</td>\n",
       "      <td>0.574061</td>\n",
       "      <td>2</td>\n",
       "    </tr>\n",
       "    <tr>\n",
       "      <th>2</th>\n",
       "      <td>2</td>\n",
       "      <td>2</td>\n",
       "      <td>32</td>\n",
       "      <td>0.001</td>\n",
       "      <td>2</td>\n",
       "      <td>8</td>\n",
       "      <td>0.01</td>\n",
       "      <td>0.570012</td>\n",
       "      <td>3</td>\n",
       "    </tr>\n",
       "    <tr>\n",
       "      <th>1</th>\n",
       "      <td>2</td>\n",
       "      <td>2</td>\n",
       "      <td>32</td>\n",
       "      <td>0.01</td>\n",
       "      <td>2</td>\n",
       "      <td>6</td>\n",
       "      <td>0.01</td>\n",
       "      <td>0.555233</td>\n",
       "      <td>4</td>\n",
       "    </tr>\n",
       "    <tr>\n",
       "      <th>3</th>\n",
       "      <td>2</td>\n",
       "      <td>2</td>\n",
       "      <td>32</td>\n",
       "      <td>0.01</td>\n",
       "      <td>2</td>\n",
       "      <td>8</td>\n",
       "      <td>0.01</td>\n",
       "      <td>0.533667</td>\n",
       "      <td>5</td>\n",
       "    </tr>\n",
       "  </tbody>\n",
       "</table>\n",
       "</div>"
      ],
      "text/plain": [
       "  param_strides param_pool_size param_lstm_output_size param_learning_rate  \\\n",
       "0             2               2                     32               0.001   \n",
       "4             2               2                     32               0.001   \n",
       "2             2               2                     32               0.001   \n",
       "1             2               2                     32                0.01   \n",
       "3             2               2                     32                0.01   \n",
       "\n",
       "  param_kernel_size param_filters param_dropout  mean_test_score  \\\n",
       "0                 2             6          0.01         0.592927   \n",
       "4                 2            12          0.01         0.574061   \n",
       "2                 2             8          0.01         0.570012   \n",
       "1                 2             6          0.01         0.555233   \n",
       "3                 2             8          0.01         0.533667   \n",
       "\n",
       "   rank_test_score  \n",
       "0                1  \n",
       "4                2  \n",
       "2                3  \n",
       "1                4  \n",
       "3                5  "
      ]
     },
     "execution_count": 55,
     "metadata": {},
     "output_type": "execute_result"
    }
   ],
   "source": [
    "df = pandas.DataFrame(random_search_model.cv_results_)\n",
    "dfd = df.drop(df.filter(regex=\"(time)|(split)|(std_test_score)|(epochs)|(batch_size)|(params)\"), axis=1)\n",
    "dfd = dfd.sort_values('rank_test_score')\n",
    "dfd.head(5)"
   ]
  },
  {
   "cell_type": "code",
   "execution_count": 56,
   "metadata": {},
   "outputs": [
    {
     "data": {
      "text/html": [
       "<div>\n",
       "<style scoped>\n",
       "    .dataframe tbody tr th:only-of-type {\n",
       "        vertical-align: middle;\n",
       "    }\n",
       "\n",
       "    .dataframe tbody tr th {\n",
       "        vertical-align: top;\n",
       "    }\n",
       "\n",
       "    .dataframe thead th {\n",
       "        text-align: right;\n",
       "    }\n",
       "</style>\n",
       "<table border=\"1\" class=\"dataframe\">\n",
       "  <thead>\n",
       "    <tr style=\"text-align: right;\">\n",
       "      <th></th>\n",
       "      <th>param_strides</th>\n",
       "      <th>param_pool_size</th>\n",
       "      <th>param_lstm_output_size</th>\n",
       "      <th>param_learning_rate</th>\n",
       "      <th>param_kernel_size</th>\n",
       "      <th>param_filters</th>\n",
       "      <th>param_dropout</th>\n",
       "      <th>mean_test_score</th>\n",
       "      <th>rank_test_score</th>\n",
       "    </tr>\n",
       "  </thead>\n",
       "  <tbody>\n",
       "    <tr>\n",
       "      <th>4</th>\n",
       "      <td>2</td>\n",
       "      <td>2</td>\n",
       "      <td>32</td>\n",
       "      <td>0.001</td>\n",
       "      <td>2</td>\n",
       "      <td>12</td>\n",
       "      <td>0.01</td>\n",
       "      <td>0.574061</td>\n",
       "      <td>2</td>\n",
       "    </tr>\n",
       "    <tr>\n",
       "      <th>2</th>\n",
       "      <td>2</td>\n",
       "      <td>2</td>\n",
       "      <td>32</td>\n",
       "      <td>0.001</td>\n",
       "      <td>2</td>\n",
       "      <td>8</td>\n",
       "      <td>0.01</td>\n",
       "      <td>0.570012</td>\n",
       "      <td>3</td>\n",
       "    </tr>\n",
       "    <tr>\n",
       "      <th>1</th>\n",
       "      <td>2</td>\n",
       "      <td>2</td>\n",
       "      <td>32</td>\n",
       "      <td>0.01</td>\n",
       "      <td>2</td>\n",
       "      <td>6</td>\n",
       "      <td>0.01</td>\n",
       "      <td>0.555233</td>\n",
       "      <td>4</td>\n",
       "    </tr>\n",
       "    <tr>\n",
       "      <th>3</th>\n",
       "      <td>2</td>\n",
       "      <td>2</td>\n",
       "      <td>32</td>\n",
       "      <td>0.01</td>\n",
       "      <td>2</td>\n",
       "      <td>8</td>\n",
       "      <td>0.01</td>\n",
       "      <td>0.533667</td>\n",
       "      <td>5</td>\n",
       "    </tr>\n",
       "    <tr>\n",
       "      <th>5</th>\n",
       "      <td>2</td>\n",
       "      <td>2</td>\n",
       "      <td>32</td>\n",
       "      <td>0.01</td>\n",
       "      <td>2</td>\n",
       "      <td>12</td>\n",
       "      <td>0.01</td>\n",
       "      <td>0.522811</td>\n",
       "      <td>6</td>\n",
       "    </tr>\n",
       "  </tbody>\n",
       "</table>\n",
       "</div>"
      ],
      "text/plain": [
       "  param_strides param_pool_size param_lstm_output_size param_learning_rate  \\\n",
       "4             2               2                     32               0.001   \n",
       "2             2               2                     32               0.001   \n",
       "1             2               2                     32                0.01   \n",
       "3             2               2                     32                0.01   \n",
       "5             2               2                     32                0.01   \n",
       "\n",
       "  param_kernel_size param_filters param_dropout  mean_test_score  \\\n",
       "4                 2            12          0.01         0.574061   \n",
       "2                 2             8          0.01         0.570012   \n",
       "1                 2             6          0.01         0.555233   \n",
       "3                 2             8          0.01         0.533667   \n",
       "5                 2            12          0.01         0.522811   \n",
       "\n",
       "   rank_test_score  \n",
       "4                2  \n",
       "2                3  \n",
       "1                4  \n",
       "3                5  \n",
       "5                6  "
      ]
     },
     "execution_count": 56,
     "metadata": {},
     "output_type": "execute_result"
    }
   ],
   "source": [
    "dfd.tail(5)"
   ]
  },
  {
   "cell_type": "code",
   "execution_count": 57,
   "metadata": {
    "scrolled": true
   },
   "outputs": [
    {
     "name": "stdout",
     "output_type": "stream",
     "text": [
      "0.5929269513734708 \n",
      " {'strides': 2, 'pool_size': 2, 'lstm_output_size': 32, 'learning_rate': 0.001, 'kernel_size': 2, 'filters': 6, 'epochs': 100, 'dropout': 0.01, 'batch_size': 64}\n"
     ]
    }
   ],
   "source": [
    "print(random_search_model.best_score_, \"\\n\", random_search_model.best_params_)"
   ]
  },
  {
   "cell_type": "markdown",
   "metadata": {},
   "source": [
    "## kNN"
   ]
  },
  {
   "cell_type": "code",
   "execution_count": 58,
   "metadata": {},
   "outputs": [],
   "source": [
    "from sklearn.neighbors import KNeighborsClassifier\n",
    "\n",
    "def KNN_classifier():\n",
    "    model = KNeighborsClassifier(p=3, n_neighbors=7, metric='cosine')\n",
    "    return model"
   ]
  },
  {
   "cell_type": "markdown",
   "metadata": {},
   "source": [
    "### Phase data:"
   ]
  },
  {
   "cell_type": "code",
   "execution_count": 59,
   "metadata": {},
   "outputs": [],
   "source": [
    "params_knn_phase = {\n",
    "    'n_neighbors': [3, 5, 7, 9, 11, 13, 15],\n",
    "    'metric': ['cosine', 'manhattan', 'l1', 'l2',],\n",
    "}"
   ]
  },
  {
   "cell_type": "code",
   "execution_count": 60,
   "metadata": {},
   "outputs": [
    {
     "name": "stdout",
     "output_type": "stream",
     "text": [
      "Fitting 3 folds for each of 28 candidates, totalling 84 fits\n"
     ]
    },
    {
     "name": "stderr",
     "output_type": "stream",
     "text": [
      "[Parallel(n_jobs=1)]: Using backend SequentialBackend with 1 concurrent workers.\n",
      "[Parallel(n_jobs=1)]: Done  84 out of  84 | elapsed:   18.2s finished\n"
     ]
    },
    {
     "data": {
      "text/plain": [
       "RandomizedSearchCV(cv=3,\n",
       "                   estimator=KNeighborsClassifier(metric='cosine',\n",
       "                                                  n_neighbors=7, p=3),\n",
       "                   n_iter=40,\n",
       "                   param_distributions={'metric': ['cosine', 'manhattan', 'l1',\n",
       "                                                   'l2'],\n",
       "                                        'n_neighbors': [3, 5, 7, 9, 11, 13,\n",
       "                                                        15]},\n",
       "                   random_state=42, scoring='accuracy', verbose=1)"
      ]
     },
     "execution_count": 60,
     "metadata": {},
     "output_type": "execute_result"
    }
   ],
   "source": [
    "clear_session_and_set_seeds()\n",
    "model = KNN_classifier()\n",
    "random_search_model = RandomizedSearchCV(estimator=model, param_distributions=params_knn_phase, n_iter=40,\n",
    "                                         cv=3, verbose=1, random_state=42, scoring=\"accuracy\")\n",
    "\n",
    "random_search_model.fit(train_phase, train_y)"
   ]
  },
  {
   "cell_type": "code",
   "execution_count": 61,
   "metadata": {},
   "outputs": [
    {
     "data": {
      "text/html": [
       "<div>\n",
       "<style scoped>\n",
       "    .dataframe tbody tr th:only-of-type {\n",
       "        vertical-align: middle;\n",
       "    }\n",
       "\n",
       "    .dataframe tbody tr th {\n",
       "        vertical-align: top;\n",
       "    }\n",
       "\n",
       "    .dataframe thead th {\n",
       "        text-align: right;\n",
       "    }\n",
       "</style>\n",
       "<table border=\"1\" class=\"dataframe\">\n",
       "  <thead>\n",
       "    <tr style=\"text-align: right;\">\n",
       "      <th></th>\n",
       "      <th>param_n_neighbors</th>\n",
       "      <th>param_metric</th>\n",
       "      <th>mean_test_score</th>\n",
       "      <th>rank_test_score</th>\n",
       "    </tr>\n",
       "  </thead>\n",
       "  <tbody>\n",
       "    <tr>\n",
       "      <th>1</th>\n",
       "      <td>5</td>\n",
       "      <td>cosine</td>\n",
       "      <td>0.634779</td>\n",
       "      <td>1</td>\n",
       "    </tr>\n",
       "    <tr>\n",
       "      <th>4</th>\n",
       "      <td>11</td>\n",
       "      <td>cosine</td>\n",
       "      <td>0.626687</td>\n",
       "      <td>2</td>\n",
       "    </tr>\n",
       "    <tr>\n",
       "      <th>5</th>\n",
       "      <td>13</td>\n",
       "      <td>cosine</td>\n",
       "      <td>0.622649</td>\n",
       "      <td>3</td>\n",
       "    </tr>\n",
       "    <tr>\n",
       "      <th>6</th>\n",
       "      <td>15</td>\n",
       "      <td>cosine</td>\n",
       "      <td>0.622644</td>\n",
       "      <td>4</td>\n",
       "    </tr>\n",
       "    <tr>\n",
       "      <th>3</th>\n",
       "      <td>9</td>\n",
       "      <td>cosine</td>\n",
       "      <td>0.617262</td>\n",
       "      <td>5</td>\n",
       "    </tr>\n",
       "  </tbody>\n",
       "</table>\n",
       "</div>"
      ],
      "text/plain": [
       "  param_n_neighbors param_metric  mean_test_score  rank_test_score\n",
       "1                 5       cosine         0.634779                1\n",
       "4                11       cosine         0.626687                2\n",
       "5                13       cosine         0.622649                3\n",
       "6                15       cosine         0.622644                4\n",
       "3                 9       cosine         0.617262                5"
      ]
     },
     "execution_count": 61,
     "metadata": {},
     "output_type": "execute_result"
    }
   ],
   "source": [
    "df = pandas.DataFrame(random_search_model.cv_results_)\n",
    "dfd = df.drop(df.filter(regex=\"(time)|(split)|(std_test_score)|(params)\"), axis=1)\n",
    "dfd = dfd.sort_values('rank_test_score')\n",
    "dfd.head(5)"
   ]
  },
  {
   "cell_type": "code",
   "execution_count": 62,
   "metadata": {},
   "outputs": [
    {
     "data": {
      "text/html": [
       "<div>\n",
       "<style scoped>\n",
       "    .dataframe tbody tr th:only-of-type {\n",
       "        vertical-align: middle;\n",
       "    }\n",
       "\n",
       "    .dataframe tbody tr th {\n",
       "        vertical-align: top;\n",
       "    }\n",
       "\n",
       "    .dataframe thead th {\n",
       "        text-align: right;\n",
       "    }\n",
       "</style>\n",
       "<table border=\"1\" class=\"dataframe\">\n",
       "  <thead>\n",
       "    <tr style=\"text-align: right;\">\n",
       "      <th></th>\n",
       "      <th>param_n_neighbors</th>\n",
       "      <th>param_metric</th>\n",
       "      <th>mean_test_score</th>\n",
       "      <th>rank_test_score</th>\n",
       "    </tr>\n",
       "  </thead>\n",
       "  <tbody>\n",
       "    <tr>\n",
       "      <th>10</th>\n",
       "      <td>9</td>\n",
       "      <td>manhattan</td>\n",
       "      <td>0.543125</td>\n",
       "      <td>23</td>\n",
       "    </tr>\n",
       "    <tr>\n",
       "      <th>18</th>\n",
       "      <td>11</td>\n",
       "      <td>l1</td>\n",
       "      <td>0.540437</td>\n",
       "      <td>25</td>\n",
       "    </tr>\n",
       "    <tr>\n",
       "      <th>11</th>\n",
       "      <td>11</td>\n",
       "      <td>manhattan</td>\n",
       "      <td>0.540437</td>\n",
       "      <td>25</td>\n",
       "    </tr>\n",
       "    <tr>\n",
       "      <th>9</th>\n",
       "      <td>7</td>\n",
       "      <td>manhattan</td>\n",
       "      <td>0.533706</td>\n",
       "      <td>27</td>\n",
       "    </tr>\n",
       "    <tr>\n",
       "      <th>16</th>\n",
       "      <td>7</td>\n",
       "      <td>l1</td>\n",
       "      <td>0.533706</td>\n",
       "      <td>27</td>\n",
       "    </tr>\n",
       "  </tbody>\n",
       "</table>\n",
       "</div>"
      ],
      "text/plain": [
       "   param_n_neighbors param_metric  mean_test_score  rank_test_score\n",
       "10                 9    manhattan         0.543125               23\n",
       "18                11           l1         0.540437               25\n",
       "11                11    manhattan         0.540437               25\n",
       "9                  7    manhattan         0.533706               27\n",
       "16                 7           l1         0.533706               27"
      ]
     },
     "execution_count": 62,
     "metadata": {},
     "output_type": "execute_result"
    }
   ],
   "source": [
    "dfd.tail(5)"
   ]
  },
  {
   "cell_type": "code",
   "execution_count": 63,
   "metadata": {},
   "outputs": [
    {
     "name": "stdout",
     "output_type": "stream",
     "text": [
      "0.6347786339297374 \n",
      " {'n_neighbors': 5, 'metric': 'cosine'}\n"
     ]
    }
   ],
   "source": [
    "print(random_search_model.best_score_, \"\\n\", random_search_model.best_params_)"
   ]
  },
  {
   "cell_type": "markdown",
   "metadata": {},
   "source": [
    "### Breathing data:"
   ]
  },
  {
   "cell_type": "code",
   "execution_count": 64,
   "metadata": {},
   "outputs": [],
   "source": [
    "params_knn_breathing = {\n",
    "    'n_neighbors': [3, 5, 7, 9, 11, 13, 15],\n",
    "    'metric': ['cosine', 'manhattan', 'l1', 'l2',],\n",
    "}"
   ]
  },
  {
   "cell_type": "code",
   "execution_count": 65,
   "metadata": {},
   "outputs": [
    {
     "name": "stderr",
     "output_type": "stream",
     "text": [
      "[Parallel(n_jobs=1)]: Using backend SequentialBackend with 1 concurrent workers.\n"
     ]
    },
    {
     "name": "stdout",
     "output_type": "stream",
     "text": [
      "Fitting 3 folds for each of 28 candidates, totalling 84 fits\n"
     ]
    },
    {
     "name": "stderr",
     "output_type": "stream",
     "text": [
      "[Parallel(n_jobs=1)]: Done  84 out of  84 | elapsed:    0.7s finished\n"
     ]
    },
    {
     "data": {
      "text/plain": [
       "RandomizedSearchCV(cv=3,\n",
       "                   estimator=KNeighborsClassifier(metric='cosine',\n",
       "                                                  n_neighbors=7, p=3),\n",
       "                   n_iter=40,\n",
       "                   param_distributions={'metric': ['cosine', 'manhattan', 'l1',\n",
       "                                                   'l2'],\n",
       "                                        'n_neighbors': [3, 5, 7, 9, 11, 13,\n",
       "                                                        15]},\n",
       "                   random_state=42, scoring='accuracy', verbose=1)"
      ]
     },
     "execution_count": 65,
     "metadata": {},
     "output_type": "execute_result"
    }
   ],
   "source": [
    "clear_session_and_set_seeds()\n",
    "model = KNN_classifier()\n",
    "random_search_model = RandomizedSearchCV(estimator=model, param_distributions=params_knn_breathing, n_iter=40,\n",
    "                                         cv=3, verbose=1, random_state=42, scoring=\"accuracy\")\n",
    "\n",
    "random_search_model.fit(train_breathing, train_y)"
   ]
  },
  {
   "cell_type": "code",
   "execution_count": 66,
   "metadata": {},
   "outputs": [
    {
     "data": {
      "text/html": [
       "<div>\n",
       "<style scoped>\n",
       "    .dataframe tbody tr th:only-of-type {\n",
       "        vertical-align: middle;\n",
       "    }\n",
       "\n",
       "    .dataframe tbody tr th {\n",
       "        vertical-align: top;\n",
       "    }\n",
       "\n",
       "    .dataframe thead th {\n",
       "        text-align: right;\n",
       "    }\n",
       "</style>\n",
       "<table border=\"1\" class=\"dataframe\">\n",
       "  <thead>\n",
       "    <tr style=\"text-align: right;\">\n",
       "      <th></th>\n",
       "      <th>param_n_neighbors</th>\n",
       "      <th>param_metric</th>\n",
       "      <th>mean_test_score</th>\n",
       "      <th>rank_test_score</th>\n",
       "    </tr>\n",
       "  </thead>\n",
       "  <tbody>\n",
       "    <tr>\n",
       "      <th>13</th>\n",
       "      <td>15</td>\n",
       "      <td>manhattan</td>\n",
       "      <td>0.695404</td>\n",
       "      <td>1</td>\n",
       "    </tr>\n",
       "    <tr>\n",
       "      <th>20</th>\n",
       "      <td>15</td>\n",
       "      <td>l1</td>\n",
       "      <td>0.695404</td>\n",
       "      <td>1</td>\n",
       "    </tr>\n",
       "    <tr>\n",
       "      <th>18</th>\n",
       "      <td>11</td>\n",
       "      <td>l1</td>\n",
       "      <td>0.695399</td>\n",
       "      <td>3</td>\n",
       "    </tr>\n",
       "    <tr>\n",
       "      <th>11</th>\n",
       "      <td>11</td>\n",
       "      <td>manhattan</td>\n",
       "      <td>0.695399</td>\n",
       "      <td>3</td>\n",
       "    </tr>\n",
       "    <tr>\n",
       "      <th>19</th>\n",
       "      <td>13</td>\n",
       "      <td>l1</td>\n",
       "      <td>0.688662</td>\n",
       "      <td>5</td>\n",
       "    </tr>\n",
       "  </tbody>\n",
       "</table>\n",
       "</div>"
      ],
      "text/plain": [
       "   param_n_neighbors param_metric  mean_test_score  rank_test_score\n",
       "13                15    manhattan         0.695404                1\n",
       "20                15           l1         0.695404                1\n",
       "18                11           l1         0.695399                3\n",
       "11                11    manhattan         0.695399                3\n",
       "19                13           l1         0.688662                5"
      ]
     },
     "execution_count": 66,
     "metadata": {},
     "output_type": "execute_result"
    }
   ],
   "source": [
    "df = pandas.DataFrame(random_search_model.cv_results_)\n",
    "dfd = df.drop(df.filter(regex=\"(time)|(split)|(std_test_score)|(params)\"), axis=1)\n",
    "dfd = dfd.sort_values('rank_test_score')\n",
    "dfd.head(5)"
   ]
  },
  {
   "cell_type": "code",
   "execution_count": 67,
   "metadata": {},
   "outputs": [
    {
     "data": {
      "text/html": [
       "<div>\n",
       "<style scoped>\n",
       "    .dataframe tbody tr th:only-of-type {\n",
       "        vertical-align: middle;\n",
       "    }\n",
       "\n",
       "    .dataframe tbody tr th {\n",
       "        vertical-align: top;\n",
       "    }\n",
       "\n",
       "    .dataframe thead th {\n",
       "        text-align: right;\n",
       "    }\n",
       "</style>\n",
       "<table border=\"1\" class=\"dataframe\">\n",
       "  <thead>\n",
       "    <tr style=\"text-align: right;\">\n",
       "      <th></th>\n",
       "      <th>param_n_neighbors</th>\n",
       "      <th>param_metric</th>\n",
       "      <th>mean_test_score</th>\n",
       "      <th>rank_test_score</th>\n",
       "    </tr>\n",
       "  </thead>\n",
       "  <tbody>\n",
       "    <tr>\n",
       "      <th>1</th>\n",
       "      <td>5</td>\n",
       "      <td>cosine</td>\n",
       "      <td>0.653661</td>\n",
       "      <td>24</td>\n",
       "    </tr>\n",
       "    <tr>\n",
       "      <th>14</th>\n",
       "      <td>3</td>\n",
       "      <td>l1</td>\n",
       "      <td>0.652279</td>\n",
       "      <td>25</td>\n",
       "    </tr>\n",
       "    <tr>\n",
       "      <th>7</th>\n",
       "      <td>3</td>\n",
       "      <td>manhattan</td>\n",
       "      <td>0.652279</td>\n",
       "      <td>25</td>\n",
       "    </tr>\n",
       "    <tr>\n",
       "      <th>2</th>\n",
       "      <td>7</td>\n",
       "      <td>cosine</td>\n",
       "      <td>0.649585</td>\n",
       "      <td>27</td>\n",
       "    </tr>\n",
       "    <tr>\n",
       "      <th>21</th>\n",
       "      <td>3</td>\n",
       "      <td>l2</td>\n",
       "      <td>0.640150</td>\n",
       "      <td>28</td>\n",
       "    </tr>\n",
       "  </tbody>\n",
       "</table>\n",
       "</div>"
      ],
      "text/plain": [
       "   param_n_neighbors param_metric  mean_test_score  rank_test_score\n",
       "1                  5       cosine         0.653661               24\n",
       "14                 3           l1         0.652279               25\n",
       "7                  3    manhattan         0.652279               25\n",
       "2                  7       cosine         0.649585               27\n",
       "21                 3           l2         0.640150               28"
      ]
     },
     "execution_count": 67,
     "metadata": {},
     "output_type": "execute_result"
    }
   ],
   "source": [
    "dfd.tail(5)"
   ]
  },
  {
   "cell_type": "code",
   "execution_count": 68,
   "metadata": {},
   "outputs": [
    {
     "name": "stdout",
     "output_type": "stream",
     "text": [
      "0.6954039876365853 \n",
      " {'n_neighbors': 15, 'metric': 'manhattan'}\n"
     ]
    }
   ],
   "source": [
    "print(random_search_model.best_score_, \"\\n\", random_search_model.best_params_)"
   ]
  },
  {
   "cell_type": "markdown",
   "metadata": {},
   "source": [
    "### Undercomplete encoded data:"
   ]
  },
  {
   "cell_type": "code",
   "execution_count": 69,
   "metadata": {},
   "outputs": [],
   "source": [
    "from sklearn.neighbors import KNeighborsClassifier\n",
    "\n",
    "def KNN_classifier():\n",
    "    model = KNeighborsClassifier(p=3, n_neighbors=7, metric='cosine')\n",
    "    return model"
   ]
  },
  {
   "cell_type": "code",
   "execution_count": 70,
   "metadata": {},
   "outputs": [],
   "source": [
    "params_knn_ae_enc = {\n",
    "    'n_neighbors': [3, 5, 7, 9, 11, 13, 15],\n",
    "    'metric': ['cosine', 'manhattan', 'l1', 'l2',],\n",
    "}"
   ]
  },
  {
   "cell_type": "code",
   "execution_count": 71,
   "metadata": {},
   "outputs": [
    {
     "name": "stderr",
     "output_type": "stream",
     "text": [
      "[Parallel(n_jobs=1)]: Using backend SequentialBackend with 1 concurrent workers.\n"
     ]
    },
    {
     "name": "stdout",
     "output_type": "stream",
     "text": [
      "Fitting 3 folds for each of 28 candidates, totalling 84 fits\n"
     ]
    },
    {
     "name": "stderr",
     "output_type": "stream",
     "text": [
      "[Parallel(n_jobs=1)]: Done  84 out of  84 | elapsed:    1.0s finished\n"
     ]
    },
    {
     "data": {
      "text/plain": [
       "RandomizedSearchCV(cv=3,\n",
       "                   estimator=KNeighborsClassifier(metric='cosine',\n",
       "                                                  n_neighbors=7, p=3),\n",
       "                   n_iter=40,\n",
       "                   param_distributions={'metric': ['cosine', 'manhattan', 'l1',\n",
       "                                                   'l2'],\n",
       "                                        'n_neighbors': [3, 5, 7, 9, 11, 13,\n",
       "                                                        15]},\n",
       "                   random_state=42, scoring='accuracy', verbose=1)"
      ]
     },
     "execution_count": 71,
     "metadata": {},
     "output_type": "execute_result"
    }
   ],
   "source": [
    "clear_session_and_set_seeds()\n",
    "model = KNN_classifier()\n",
    "random_search_model = RandomizedSearchCV(estimator=model, param_distributions=params_knn_ae_enc, n_iter=40,\n",
    "                                         cv=3, verbose=1, random_state=42, scoring=\"accuracy\")\n",
    "\n",
    "random_search_model.fit(train_undercomplete_encoded, train_y)"
   ]
  },
  {
   "cell_type": "code",
   "execution_count": 72,
   "metadata": {},
   "outputs": [
    {
     "data": {
      "text/html": [
       "<div>\n",
       "<style scoped>\n",
       "    .dataframe tbody tr th:only-of-type {\n",
       "        vertical-align: middle;\n",
       "    }\n",
       "\n",
       "    .dataframe tbody tr th {\n",
       "        vertical-align: top;\n",
       "    }\n",
       "\n",
       "    .dataframe thead th {\n",
       "        text-align: right;\n",
       "    }\n",
       "</style>\n",
       "<table border=\"1\" class=\"dataframe\">\n",
       "  <thead>\n",
       "    <tr style=\"text-align: right;\">\n",
       "      <th></th>\n",
       "      <th>param_n_neighbors</th>\n",
       "      <th>param_metric</th>\n",
       "      <th>mean_test_score</th>\n",
       "      <th>rank_test_score</th>\n",
       "    </tr>\n",
       "  </thead>\n",
       "  <tbody>\n",
       "    <tr>\n",
       "      <th>6</th>\n",
       "      <td>15</td>\n",
       "      <td>cosine</td>\n",
       "      <td>0.574159</td>\n",
       "      <td>1</td>\n",
       "    </tr>\n",
       "    <tr>\n",
       "      <th>18</th>\n",
       "      <td>11</td>\n",
       "      <td>l1</td>\n",
       "      <td>0.574137</td>\n",
       "      <td>2</td>\n",
       "    </tr>\n",
       "    <tr>\n",
       "      <th>11</th>\n",
       "      <td>11</td>\n",
       "      <td>manhattan</td>\n",
       "      <td>0.574137</td>\n",
       "      <td>2</td>\n",
       "    </tr>\n",
       "    <tr>\n",
       "      <th>4</th>\n",
       "      <td>11</td>\n",
       "      <td>cosine</td>\n",
       "      <td>0.572771</td>\n",
       "      <td>4</td>\n",
       "    </tr>\n",
       "    <tr>\n",
       "      <th>12</th>\n",
       "      <td>13</td>\n",
       "      <td>manhattan</td>\n",
       "      <td>0.571438</td>\n",
       "      <td>5</td>\n",
       "    </tr>\n",
       "  </tbody>\n",
       "</table>\n",
       "</div>"
      ],
      "text/plain": [
       "   param_n_neighbors param_metric  mean_test_score  rank_test_score\n",
       "6                 15       cosine         0.574159                1\n",
       "18                11           l1         0.574137                2\n",
       "11                11    manhattan         0.574137                2\n",
       "4                 11       cosine         0.572771                4\n",
       "12                13    manhattan         0.571438                5"
      ]
     },
     "execution_count": 72,
     "metadata": {},
     "output_type": "execute_result"
    }
   ],
   "source": [
    "df = pandas.DataFrame(random_search_model.cv_results_)\n",
    "dfd = df.drop(df.filter(regex=\"(time)|(split)|(std_test_score)|(params)\"), axis=1)\n",
    "dfd = dfd.sort_values('rank_test_score')\n",
    "dfd.head(5)"
   ]
  },
  {
   "cell_type": "code",
   "execution_count": 73,
   "metadata": {},
   "outputs": [
    {
     "data": {
      "text/html": [
       "<div>\n",
       "<style scoped>\n",
       "    .dataframe tbody tr th:only-of-type {\n",
       "        vertical-align: middle;\n",
       "    }\n",
       "\n",
       "    .dataframe tbody tr th {\n",
       "        vertical-align: top;\n",
       "    }\n",
       "\n",
       "    .dataframe thead th {\n",
       "        text-align: right;\n",
       "    }\n",
       "</style>\n",
       "<table border=\"1\" class=\"dataframe\">\n",
       "  <thead>\n",
       "    <tr style=\"text-align: right;\">\n",
       "      <th></th>\n",
       "      <th>param_n_neighbors</th>\n",
       "      <th>param_metric</th>\n",
       "      <th>mean_test_score</th>\n",
       "      <th>rank_test_score</th>\n",
       "    </tr>\n",
       "  </thead>\n",
       "  <tbody>\n",
       "    <tr>\n",
       "      <th>16</th>\n",
       "      <td>7</td>\n",
       "      <td>l1</td>\n",
       "      <td>0.551228</td>\n",
       "      <td>23</td>\n",
       "    </tr>\n",
       "    <tr>\n",
       "      <th>24</th>\n",
       "      <td>9</td>\n",
       "      <td>l2</td>\n",
       "      <td>0.549873</td>\n",
       "      <td>25</td>\n",
       "    </tr>\n",
       "    <tr>\n",
       "      <th>25</th>\n",
       "      <td>11</td>\n",
       "      <td>l2</td>\n",
       "      <td>0.545830</td>\n",
       "      <td>26</td>\n",
       "    </tr>\n",
       "    <tr>\n",
       "      <th>27</th>\n",
       "      <td>15</td>\n",
       "      <td>l2</td>\n",
       "      <td>0.544485</td>\n",
       "      <td>27</td>\n",
       "    </tr>\n",
       "    <tr>\n",
       "      <th>26</th>\n",
       "      <td>13</td>\n",
       "      <td>l2</td>\n",
       "      <td>0.540431</td>\n",
       "      <td>28</td>\n",
       "    </tr>\n",
       "  </tbody>\n",
       "</table>\n",
       "</div>"
      ],
      "text/plain": [
       "   param_n_neighbors param_metric  mean_test_score  rank_test_score\n",
       "16                 7           l1         0.551228               23\n",
       "24                 9           l2         0.549873               25\n",
       "25                11           l2         0.545830               26\n",
       "27                15           l2         0.544485               27\n",
       "26                13           l2         0.540431               28"
      ]
     },
     "execution_count": 73,
     "metadata": {},
     "output_type": "execute_result"
    }
   ],
   "source": [
    "dfd.tail(5)"
   ]
  },
  {
   "cell_type": "code",
   "execution_count": 74,
   "metadata": {
    "scrolled": true
   },
   "outputs": [
    {
     "name": "stdout",
     "output_type": "stream",
     "text": [
      "0.5741587218667015 \n",
      " {'n_neighbors': 15, 'metric': 'cosine'}\n"
     ]
    }
   ],
   "source": [
    "print(random_search_model.best_score_, \"\\n\", random_search_model.best_params_)"
   ]
  },
  {
   "cell_type": "markdown",
   "metadata": {},
   "source": [
    "##  SVC"
   ]
  },
  {
   "cell_type": "code",
   "execution_count": 75,
   "metadata": {},
   "outputs": [],
   "source": [
    "from sklearn.svm import SVC\n",
    "\n",
    "def SVC_classifier():\n",
    "    model = SVC(kernel='rbf', C=1.5)\n",
    "    return model"
   ]
  },
  {
   "cell_type": "markdown",
   "metadata": {},
   "source": [
    "### Phase data:"
   ]
  },
  {
   "cell_type": "code",
   "execution_count": 76,
   "metadata": {},
   "outputs": [],
   "source": [
    "params_svc_phase = {\n",
    "    'C': [2, 3, 6, 8, 10, 13, 15, 20],\n",
    "    'kernel': ['rbf'],\n",
    "    'gamma': ['scale']\n",
    "}"
   ]
  },
  {
   "cell_type": "code",
   "execution_count": 77,
   "metadata": {},
   "outputs": [
    {
     "name": "stderr",
     "output_type": "stream",
     "text": [
      "[Parallel(n_jobs=1)]: Using backend SequentialBackend with 1 concurrent workers.\n"
     ]
    },
    {
     "name": "stdout",
     "output_type": "stream",
     "text": [
      "Fitting 3 folds for each of 8 candidates, totalling 24 fits\n"
     ]
    },
    {
     "name": "stderr",
     "output_type": "stream",
     "text": [
      "[Parallel(n_jobs=1)]: Done  24 out of  24 | elapsed:   10.9s finished\n"
     ]
    },
    {
     "data": {
      "text/plain": [
       "RandomizedSearchCV(cv=3, estimator=SVC(C=1.5), n_iter=40,\n",
       "                   param_distributions={'C': [2, 3, 6, 8, 10, 13, 15, 20],\n",
       "                                        'gamma': ['scale'], 'kernel': ['rbf']},\n",
       "                   random_state=42, scoring='accuracy', verbose=1)"
      ]
     },
     "execution_count": 77,
     "metadata": {},
     "output_type": "execute_result"
    }
   ],
   "source": [
    "clear_session_and_set_seeds()\n",
    "model = SVC_classifier()\n",
    "random_search_model = RandomizedSearchCV(estimator=model, param_distributions=params_svc_phase, n_iter=40,\n",
    "                                         cv=3, verbose=1, random_state=42, scoring=\"accuracy\")\n",
    "\n",
    "random_search_model.fit(train_phase, train_y)"
   ]
  },
  {
   "cell_type": "code",
   "execution_count": 78,
   "metadata": {},
   "outputs": [
    {
     "data": {
      "text/html": [
       "<div>\n",
       "<style scoped>\n",
       "    .dataframe tbody tr th:only-of-type {\n",
       "        vertical-align: middle;\n",
       "    }\n",
       "\n",
       "    .dataframe tbody tr th {\n",
       "        vertical-align: top;\n",
       "    }\n",
       "\n",
       "    .dataframe thead th {\n",
       "        text-align: right;\n",
       "    }\n",
       "</style>\n",
       "<table border=\"1\" class=\"dataframe\">\n",
       "  <thead>\n",
       "    <tr style=\"text-align: right;\">\n",
       "      <th></th>\n",
       "      <th>param_kernel</th>\n",
       "      <th>param_gamma</th>\n",
       "      <th>param_C</th>\n",
       "      <th>mean_test_score</th>\n",
       "      <th>rank_test_score</th>\n",
       "    </tr>\n",
       "  </thead>\n",
       "  <tbody>\n",
       "    <tr>\n",
       "      <th>4</th>\n",
       "      <td>rbf</td>\n",
       "      <td>scale</td>\n",
       "      <td>10</td>\n",
       "      <td>0.615907</td>\n",
       "      <td>1</td>\n",
       "    </tr>\n",
       "    <tr>\n",
       "      <th>3</th>\n",
       "      <td>rbf</td>\n",
       "      <td>scale</td>\n",
       "      <td>8</td>\n",
       "      <td>0.613224</td>\n",
       "      <td>2</td>\n",
       "    </tr>\n",
       "    <tr>\n",
       "      <th>7</th>\n",
       "      <td>rbf</td>\n",
       "      <td>scale</td>\n",
       "      <td>20</td>\n",
       "      <td>0.609176</td>\n",
       "      <td>3</td>\n",
       "    </tr>\n",
       "    <tr>\n",
       "      <th>2</th>\n",
       "      <td>rbf</td>\n",
       "      <td>scale</td>\n",
       "      <td>6</td>\n",
       "      <td>0.607837</td>\n",
       "      <td>4</td>\n",
       "    </tr>\n",
       "    <tr>\n",
       "      <th>5</th>\n",
       "      <td>rbf</td>\n",
       "      <td>scale</td>\n",
       "      <td>13</td>\n",
       "      <td>0.607826</td>\n",
       "      <td>5</td>\n",
       "    </tr>\n",
       "  </tbody>\n",
       "</table>\n",
       "</div>"
      ],
      "text/plain": [
       "  param_kernel param_gamma param_C  mean_test_score  rank_test_score\n",
       "4          rbf       scale      10         0.615907                1\n",
       "3          rbf       scale       8         0.613224                2\n",
       "7          rbf       scale      20         0.609176                3\n",
       "2          rbf       scale       6         0.607837                4\n",
       "5          rbf       scale      13         0.607826                5"
      ]
     },
     "execution_count": 78,
     "metadata": {},
     "output_type": "execute_result"
    }
   ],
   "source": [
    "df = pandas.DataFrame(random_search_model.cv_results_)\n",
    "dfd = df.drop(df.filter(regex=\"(time)|(split)|(std_test_score)|(params)\"), axis=1)\n",
    "dfd = dfd.sort_values('rank_test_score')\n",
    "dfd.head(5)"
   ]
  },
  {
   "cell_type": "code",
   "execution_count": 79,
   "metadata": {},
   "outputs": [
    {
     "data": {
      "text/html": [
       "<div>\n",
       "<style scoped>\n",
       "    .dataframe tbody tr th:only-of-type {\n",
       "        vertical-align: middle;\n",
       "    }\n",
       "\n",
       "    .dataframe tbody tr th {\n",
       "        vertical-align: top;\n",
       "    }\n",
       "\n",
       "    .dataframe thead th {\n",
       "        text-align: right;\n",
       "    }\n",
       "</style>\n",
       "<table border=\"1\" class=\"dataframe\">\n",
       "  <thead>\n",
       "    <tr style=\"text-align: right;\">\n",
       "      <th></th>\n",
       "      <th>param_kernel</th>\n",
       "      <th>param_gamma</th>\n",
       "      <th>param_C</th>\n",
       "      <th>mean_test_score</th>\n",
       "      <th>rank_test_score</th>\n",
       "    </tr>\n",
       "  </thead>\n",
       "  <tbody>\n",
       "    <tr>\n",
       "      <th>2</th>\n",
       "      <td>rbf</td>\n",
       "      <td>scale</td>\n",
       "      <td>6</td>\n",
       "      <td>0.607837</td>\n",
       "      <td>4</td>\n",
       "    </tr>\n",
       "    <tr>\n",
       "      <th>5</th>\n",
       "      <td>rbf</td>\n",
       "      <td>scale</td>\n",
       "      <td>13</td>\n",
       "      <td>0.607826</td>\n",
       "      <td>5</td>\n",
       "    </tr>\n",
       "    <tr>\n",
       "      <th>0</th>\n",
       "      <td>rbf</td>\n",
       "      <td>scale</td>\n",
       "      <td>2</td>\n",
       "      <td>0.607821</td>\n",
       "      <td>6</td>\n",
       "    </tr>\n",
       "    <tr>\n",
       "      <th>6</th>\n",
       "      <td>rbf</td>\n",
       "      <td>scale</td>\n",
       "      <td>15</td>\n",
       "      <td>0.603794</td>\n",
       "      <td>7</td>\n",
       "    </tr>\n",
       "    <tr>\n",
       "      <th>1</th>\n",
       "      <td>rbf</td>\n",
       "      <td>scale</td>\n",
       "      <td>3</td>\n",
       "      <td>0.599756</td>\n",
       "      <td>8</td>\n",
       "    </tr>\n",
       "  </tbody>\n",
       "</table>\n",
       "</div>"
      ],
      "text/plain": [
       "  param_kernel param_gamma param_C  mean_test_score  rank_test_score\n",
       "2          rbf       scale       6         0.607837                4\n",
       "5          rbf       scale      13         0.607826                5\n",
       "0          rbf       scale       2         0.607821                6\n",
       "6          rbf       scale      15         0.603794                7\n",
       "1          rbf       scale       3         0.599756                8"
      ]
     },
     "execution_count": 79,
     "metadata": {},
     "output_type": "execute_result"
    }
   ],
   "source": [
    "dfd.tail(5)"
   ]
  },
  {
   "cell_type": "code",
   "execution_count": 80,
   "metadata": {},
   "outputs": [
    {
     "name": "stdout",
     "output_type": "stream",
     "text": [
      "0.6159070131905445 \n",
      " {'kernel': 'rbf', 'gamma': 'scale', 'C': 10}\n"
     ]
    }
   ],
   "source": [
    "print(random_search_model.best_score_, \"\\n\", random_search_model.best_params_)"
   ]
  },
  {
   "cell_type": "markdown",
   "metadata": {},
   "source": [
    "### Breathing data:"
   ]
  },
  {
   "cell_type": "code",
   "execution_count": 81,
   "metadata": {},
   "outputs": [],
   "source": [
    "params_svc_breathing = {\n",
    "    'C': [2, 3, 4, 5],\n",
    "    'kernel': ['poly', 'rbf'],\n",
    "    'gamma': ['scale', 'auto']\n",
    "}"
   ]
  },
  {
   "cell_type": "code",
   "execution_count": 82,
   "metadata": {},
   "outputs": [
    {
     "name": "stdout",
     "output_type": "stream",
     "text": [
      "Fitting 3 folds for each of 16 candidates, totalling 48 fits\n"
     ]
    },
    {
     "name": "stderr",
     "output_type": "stream",
     "text": [
      "[Parallel(n_jobs=1)]: Using backend SequentialBackend with 1 concurrent workers.\n",
      "[Parallel(n_jobs=1)]: Done  48 out of  48 | elapsed:    0.3s finished\n"
     ]
    },
    {
     "data": {
      "text/plain": [
       "RandomizedSearchCV(cv=3, estimator=SVC(C=1.5), n_iter=40,\n",
       "                   param_distributions={'C': [2, 3, 4, 5],\n",
       "                                        'gamma': ['scale', 'auto'],\n",
       "                                        'kernel': ['poly', 'rbf']},\n",
       "                   random_state=42, scoring='accuracy', verbose=1)"
      ]
     },
     "execution_count": 82,
     "metadata": {},
     "output_type": "execute_result"
    }
   ],
   "source": [
    "clear_session_and_set_seeds()\n",
    "model = SVC_classifier()\n",
    "random_search_model = RandomizedSearchCV(estimator=model, param_distributions=params_svc_breathing, n_iter=40,\n",
    "                                         cv=3, verbose=1, random_state=42, scoring=\"accuracy\")\n",
    "\n",
    "random_search_model.fit(train_breathing, train_y)"
   ]
  },
  {
   "cell_type": "code",
   "execution_count": 83,
   "metadata": {},
   "outputs": [
    {
     "data": {
      "text/html": [
       "<div>\n",
       "<style scoped>\n",
       "    .dataframe tbody tr th:only-of-type {\n",
       "        vertical-align: middle;\n",
       "    }\n",
       "\n",
       "    .dataframe tbody tr th {\n",
       "        vertical-align: top;\n",
       "    }\n",
       "\n",
       "    .dataframe thead th {\n",
       "        text-align: right;\n",
       "    }\n",
       "</style>\n",
       "<table border=\"1\" class=\"dataframe\">\n",
       "  <thead>\n",
       "    <tr style=\"text-align: right;\">\n",
       "      <th></th>\n",
       "      <th>param_kernel</th>\n",
       "      <th>param_gamma</th>\n",
       "      <th>param_C</th>\n",
       "      <th>mean_test_score</th>\n",
       "      <th>rank_test_score</th>\n",
       "    </tr>\n",
       "  </thead>\n",
       "  <tbody>\n",
       "    <tr>\n",
       "      <th>3</th>\n",
       "      <td>rbf</td>\n",
       "      <td>auto</td>\n",
       "      <td>2</td>\n",
       "      <td>0.692651</td>\n",
       "      <td>1</td>\n",
       "    </tr>\n",
       "    <tr>\n",
       "      <th>1</th>\n",
       "      <td>rbf</td>\n",
       "      <td>scale</td>\n",
       "      <td>2</td>\n",
       "      <td>0.689957</td>\n",
       "      <td>2</td>\n",
       "    </tr>\n",
       "    <tr>\n",
       "      <th>9</th>\n",
       "      <td>rbf</td>\n",
       "      <td>scale</td>\n",
       "      <td>4</td>\n",
       "      <td>0.687252</td>\n",
       "      <td>3</td>\n",
       "    </tr>\n",
       "    <tr>\n",
       "      <th>11</th>\n",
       "      <td>rbf</td>\n",
       "      <td>auto</td>\n",
       "      <td>4</td>\n",
       "      <td>0.687247</td>\n",
       "      <td>4</td>\n",
       "    </tr>\n",
       "    <tr>\n",
       "      <th>13</th>\n",
       "      <td>rbf</td>\n",
       "      <td>scale</td>\n",
       "      <td>5</td>\n",
       "      <td>0.685908</td>\n",
       "      <td>5</td>\n",
       "    </tr>\n",
       "  </tbody>\n",
       "</table>\n",
       "</div>"
      ],
      "text/plain": [
       "   param_kernel param_gamma param_C  mean_test_score  rank_test_score\n",
       "3           rbf        auto       2         0.692651                1\n",
       "1           rbf       scale       2         0.689957                2\n",
       "9           rbf       scale       4         0.687252                3\n",
       "11          rbf        auto       4         0.687247                4\n",
       "13          rbf       scale       5         0.685908                5"
      ]
     },
     "execution_count": 83,
     "metadata": {},
     "output_type": "execute_result"
    }
   ],
   "source": [
    "df = pandas.DataFrame(random_search_model.cv_results_)\n",
    "dfd = df.drop(df.filter(regex=\"(time)|(split)|(std_test_score)|(params)\"), axis=1)\n",
    "dfd = dfd.sort_values('rank_test_score')\n",
    "dfd.head(5)"
   ]
  },
  {
   "cell_type": "code",
   "execution_count": 84,
   "metadata": {},
   "outputs": [
    {
     "data": {
      "text/html": [
       "<div>\n",
       "<style scoped>\n",
       "    .dataframe tbody tr th:only-of-type {\n",
       "        vertical-align: middle;\n",
       "    }\n",
       "\n",
       "    .dataframe tbody tr th {\n",
       "        vertical-align: top;\n",
       "    }\n",
       "\n",
       "    .dataframe thead th {\n",
       "        text-align: right;\n",
       "    }\n",
       "</style>\n",
       "<table border=\"1\" class=\"dataframe\">\n",
       "  <thead>\n",
       "    <tr style=\"text-align: right;\">\n",
       "      <th></th>\n",
       "      <th>param_kernel</th>\n",
       "      <th>param_gamma</th>\n",
       "      <th>param_C</th>\n",
       "      <th>mean_test_score</th>\n",
       "      <th>rank_test_score</th>\n",
       "    </tr>\n",
       "  </thead>\n",
       "  <tbody>\n",
       "    <tr>\n",
       "      <th>0</th>\n",
       "      <td>poly</td>\n",
       "      <td>scale</td>\n",
       "      <td>2</td>\n",
       "      <td>0.672429</td>\n",
       "      <td>12</td>\n",
       "    </tr>\n",
       "    <tr>\n",
       "      <th>10</th>\n",
       "      <td>poly</td>\n",
       "      <td>auto</td>\n",
       "      <td>4</td>\n",
       "      <td>0.671118</td>\n",
       "      <td>13</td>\n",
       "    </tr>\n",
       "    <tr>\n",
       "      <th>14</th>\n",
       "      <td>poly</td>\n",
       "      <td>auto</td>\n",
       "      <td>5</td>\n",
       "      <td>0.671102</td>\n",
       "      <td>14</td>\n",
       "    </tr>\n",
       "    <tr>\n",
       "      <th>2</th>\n",
       "      <td>poly</td>\n",
       "      <td>auto</td>\n",
       "      <td>2</td>\n",
       "      <td>0.671085</td>\n",
       "      <td>15</td>\n",
       "    </tr>\n",
       "    <tr>\n",
       "      <th>8</th>\n",
       "      <td>poly</td>\n",
       "      <td>scale</td>\n",
       "      <td>4</td>\n",
       "      <td>0.669752</td>\n",
       "      <td>16</td>\n",
       "    </tr>\n",
       "  </tbody>\n",
       "</table>\n",
       "</div>"
      ],
      "text/plain": [
       "   param_kernel param_gamma param_C  mean_test_score  rank_test_score\n",
       "0          poly       scale       2         0.672429               12\n",
       "10         poly        auto       4         0.671118               13\n",
       "14         poly        auto       5         0.671102               14\n",
       "2          poly        auto       2         0.671085               15\n",
       "8          poly       scale       4         0.669752               16"
      ]
     },
     "execution_count": 84,
     "metadata": {},
     "output_type": "execute_result"
    }
   ],
   "source": [
    "dfd.tail(5)"
   ]
  },
  {
   "cell_type": "code",
   "execution_count": 85,
   "metadata": {},
   "outputs": [
    {
     "name": "stdout",
     "output_type": "stream",
     "text": [
      "0.6926505158678333 \n",
      " {'kernel': 'rbf', 'gamma': 'auto', 'C': 2}\n"
     ]
    }
   ],
   "source": [
    "print(random_search_model.best_score_, \"\\n\", random_search_model.best_params_)"
   ]
  },
  {
   "cell_type": "markdown",
   "metadata": {},
   "source": [
    "### Undercomplete encoded data:"
   ]
  },
  {
   "cell_type": "code",
   "execution_count": 86,
   "metadata": {},
   "outputs": [],
   "source": [
    "params_svc_ae_enc = {\n",
    "    'C': [0.1,1,3,3.5,4,4.5,5],\n",
    "    'kernel': ['rbf'],\n",
    "    'gamma': ['scale', 'auto']\n",
    "}"
   ]
  },
  {
   "cell_type": "code",
   "execution_count": 87,
   "metadata": {},
   "outputs": [
    {
     "name": "stderr",
     "output_type": "stream",
     "text": [
      "[Parallel(n_jobs=1)]: Using backend SequentialBackend with 1 concurrent workers.\n"
     ]
    },
    {
     "name": "stdout",
     "output_type": "stream",
     "text": [
      "Fitting 3 folds for each of 14 candidates, totalling 42 fits\n"
     ]
    },
    {
     "name": "stderr",
     "output_type": "stream",
     "text": [
      "[Parallel(n_jobs=1)]: Done  42 out of  42 | elapsed:    0.6s finished\n"
     ]
    },
    {
     "data": {
      "text/plain": [
       "RandomizedSearchCV(cv=3, estimator=SVC(C=1.5), n_iter=40,\n",
       "                   param_distributions={'C': [0.1, 1, 3, 3.5, 4, 4.5, 5],\n",
       "                                        'gamma': ['scale', 'auto'],\n",
       "                                        'kernel': ['rbf']},\n",
       "                   random_state=42, scoring='accuracy', verbose=1)"
      ]
     },
     "execution_count": 87,
     "metadata": {},
     "output_type": "execute_result"
    }
   ],
   "source": [
    "clear_session_and_set_seeds()\n",
    "model = SVC_classifier()\n",
    "random_search_model = RandomizedSearchCV(estimator=model, param_distributions=params_svc_ae_enc, n_iter=40,\n",
    "                                         cv=3, verbose=1, random_state=42, scoring=\"accuracy\")\n",
    "\n",
    "random_search_model.fit(train_undercomplete_encoded, train_y)"
   ]
  },
  {
   "cell_type": "code",
   "execution_count": 88,
   "metadata": {},
   "outputs": [
    {
     "data": {
      "text/html": [
       "<div>\n",
       "<style scoped>\n",
       "    .dataframe tbody tr th:only-of-type {\n",
       "        vertical-align: middle;\n",
       "    }\n",
       "\n",
       "    .dataframe tbody tr th {\n",
       "        vertical-align: top;\n",
       "    }\n",
       "\n",
       "    .dataframe thead th {\n",
       "        text-align: right;\n",
       "    }\n",
       "</style>\n",
       "<table border=\"1\" class=\"dataframe\">\n",
       "  <thead>\n",
       "    <tr style=\"text-align: right;\">\n",
       "      <th></th>\n",
       "      <th>param_kernel</th>\n",
       "      <th>param_gamma</th>\n",
       "      <th>param_C</th>\n",
       "      <th>mean_test_score</th>\n",
       "      <th>rank_test_score</th>\n",
       "    </tr>\n",
       "  </thead>\n",
       "  <tbody>\n",
       "    <tr>\n",
       "      <th>5</th>\n",
       "      <td>rbf</td>\n",
       "      <td>auto</td>\n",
       "      <td>3</td>\n",
       "      <td>0.611826</td>\n",
       "      <td>1</td>\n",
       "    </tr>\n",
       "    <tr>\n",
       "      <th>3</th>\n",
       "      <td>rbf</td>\n",
       "      <td>auto</td>\n",
       "      <td>1</td>\n",
       "      <td>0.611804</td>\n",
       "      <td>2</td>\n",
       "    </tr>\n",
       "    <tr>\n",
       "      <th>2</th>\n",
       "      <td>rbf</td>\n",
       "      <td>scale</td>\n",
       "      <td>1</td>\n",
       "      <td>0.611799</td>\n",
       "      <td>3</td>\n",
       "    </tr>\n",
       "    <tr>\n",
       "      <th>4</th>\n",
       "      <td>rbf</td>\n",
       "      <td>scale</td>\n",
       "      <td>3</td>\n",
       "      <td>0.610476</td>\n",
       "      <td>4</td>\n",
       "    </tr>\n",
       "    <tr>\n",
       "      <th>12</th>\n",
       "      <td>rbf</td>\n",
       "      <td>scale</td>\n",
       "      <td>5</td>\n",
       "      <td>0.607777</td>\n",
       "      <td>5</td>\n",
       "    </tr>\n",
       "  </tbody>\n",
       "</table>\n",
       "</div>"
      ],
      "text/plain": [
       "   param_kernel param_gamma param_C  mean_test_score  rank_test_score\n",
       "5           rbf        auto       3         0.611826                1\n",
       "3           rbf        auto       1         0.611804                2\n",
       "2           rbf       scale       1         0.611799                3\n",
       "4           rbf       scale       3         0.610476                4\n",
       "12          rbf       scale       5         0.607777                5"
      ]
     },
     "execution_count": 88,
     "metadata": {},
     "output_type": "execute_result"
    }
   ],
   "source": [
    "df = pandas.DataFrame(random_search_model.cv_results_)\n",
    "dfd = df.drop(df.filter(regex=\"(time)|(split)|(std_test_score)|(params)\"), axis=1)\n",
    "dfd = dfd.sort_values('rank_test_score')\n",
    "dfd.head(5)"
   ]
  },
  {
   "cell_type": "code",
   "execution_count": 89,
   "metadata": {},
   "outputs": [
    {
     "data": {
      "text/html": [
       "<div>\n",
       "<style scoped>\n",
       "    .dataframe tbody tr th:only-of-type {\n",
       "        vertical-align: middle;\n",
       "    }\n",
       "\n",
       "    .dataframe tbody tr th {\n",
       "        vertical-align: top;\n",
       "    }\n",
       "\n",
       "    .dataframe thead th {\n",
       "        text-align: right;\n",
       "    }\n",
       "</style>\n",
       "<table border=\"1\" class=\"dataframe\">\n",
       "  <thead>\n",
       "    <tr style=\"text-align: right;\">\n",
       "      <th></th>\n",
       "      <th>param_kernel</th>\n",
       "      <th>param_gamma</th>\n",
       "      <th>param_C</th>\n",
       "      <th>mean_test_score</th>\n",
       "      <th>rank_test_score</th>\n",
       "    </tr>\n",
       "  </thead>\n",
       "  <tbody>\n",
       "    <tr>\n",
       "      <th>10</th>\n",
       "      <td>rbf</td>\n",
       "      <td>scale</td>\n",
       "      <td>4.5</td>\n",
       "      <td>0.602385</td>\n",
       "      <td>10</td>\n",
       "    </tr>\n",
       "    <tr>\n",
       "      <th>9</th>\n",
       "      <td>rbf</td>\n",
       "      <td>auto</td>\n",
       "      <td>4</td>\n",
       "      <td>0.601051</td>\n",
       "      <td>11</td>\n",
       "    </tr>\n",
       "    <tr>\n",
       "      <th>13</th>\n",
       "      <td>rbf</td>\n",
       "      <td>auto</td>\n",
       "      <td>5</td>\n",
       "      <td>0.601030</td>\n",
       "      <td>12</td>\n",
       "    </tr>\n",
       "    <tr>\n",
       "      <th>0</th>\n",
       "      <td>rbf</td>\n",
       "      <td>scale</td>\n",
       "      <td>0.1</td>\n",
       "      <td>0.557992</td>\n",
       "      <td>13</td>\n",
       "    </tr>\n",
       "    <tr>\n",
       "      <th>1</th>\n",
       "      <td>rbf</td>\n",
       "      <td>auto</td>\n",
       "      <td>0.1</td>\n",
       "      <td>0.552604</td>\n",
       "      <td>14</td>\n",
       "    </tr>\n",
       "  </tbody>\n",
       "</table>\n",
       "</div>"
      ],
      "text/plain": [
       "   param_kernel param_gamma param_C  mean_test_score  rank_test_score\n",
       "10          rbf       scale     4.5         0.602385               10\n",
       "9           rbf        auto       4         0.601051               11\n",
       "13          rbf        auto       5         0.601030               12\n",
       "0           rbf       scale     0.1         0.557992               13\n",
       "1           rbf        auto     0.1         0.552604               14"
      ]
     },
     "execution_count": 89,
     "metadata": {},
     "output_type": "execute_result"
    }
   ],
   "source": [
    "dfd.tail(5)"
   ]
  },
  {
   "cell_type": "code",
   "execution_count": 90,
   "metadata": {},
   "outputs": [
    {
     "name": "stdout",
     "output_type": "stream",
     "text": [
      "0.6118257803317225 \n",
      " {'kernel': 'rbf', 'gamma': 'auto', 'C': 3}\n"
     ]
    }
   ],
   "source": [
    "print(random_search_model.best_score_, \"\\n\", random_search_model.best_params_)"
   ]
  },
  {
   "cell_type": "markdown",
   "metadata": {},
   "source": [
    "## Random Forest"
   ]
  },
  {
   "cell_type": "code",
   "execution_count": 91,
   "metadata": {},
   "outputs": [],
   "source": [
    "from sklearn.ensemble import RandomForestClassifier\n",
    "def random_forest_classifier():\n",
    "    model = RandomForestClassifier(random_state=42, max_features='log2', criterion='entropy', bootstrap=True)\n",
    "    return model"
   ]
  },
  {
   "cell_type": "markdown",
   "metadata": {},
   "source": [
    "### Phase data:"
   ]
  },
  {
   "cell_type": "code",
   "execution_count": 92,
   "metadata": {},
   "outputs": [],
   "source": [
    "params_rf_phase = {\n",
    "    'n_estimators': [170,180,190],\n",
    "#     'criterion': ['entropy'],\n",
    "    'max_depth': [50,100,None],\n",
    "    'min_samples_split': [3,4],\n",
    "    'min_samples_leaf': [1,2],\n",
    "#     'max_features': ['log2'],\n",
    "#     'bootstrap': [True],\n",
    "    'oob_score': [False],\n",
    "    'ccp_alpha': [0.001, 0.005]\n",
    "}"
   ]
  },
  {
   "cell_type": "code",
   "execution_count": 93,
   "metadata": {},
   "outputs": [
    {
     "name": "stderr",
     "output_type": "stream",
     "text": [
      "[Parallel(n_jobs=1)]: Using backend SequentialBackend with 1 concurrent workers.\n"
     ]
    },
    {
     "name": "stdout",
     "output_type": "stream",
     "text": [
      "Fitting 3 folds for each of 40 candidates, totalling 120 fits\n"
     ]
    },
    {
     "name": "stderr",
     "output_type": "stream",
     "text": [
      "[Parallel(n_jobs=1)]: Done 120 out of 120 | elapsed:  1.7min finished\n"
     ]
    },
    {
     "data": {
      "text/plain": [
       "RandomizedSearchCV(cv=3,\n",
       "                   estimator=RandomForestClassifier(criterion='entropy',\n",
       "                                                    max_features='log2',\n",
       "                                                    random_state=42),\n",
       "                   n_iter=40,\n",
       "                   param_distributions={'ccp_alpha': [0.001, 0.005],\n",
       "                                        'max_depth': [50, 100, None],\n",
       "                                        'min_samples_leaf': [1, 2],\n",
       "                                        'min_samples_split': [3, 4],\n",
       "                                        'n_estimators': [170, 180, 190],\n",
       "                                        'oob_score': [False]},\n",
       "                   random_state=42, scoring='accuracy', verbose=1)"
      ]
     },
     "execution_count": 93,
     "metadata": {},
     "output_type": "execute_result"
    }
   ],
   "source": [
    "clear_session_and_set_seeds()\n",
    "model = random_forest_classifier()\n",
    "random_search_model = RandomizedSearchCV(estimator=model, param_distributions=params_rf_phase, n_iter=40,\n",
    "                                         cv=3, verbose=1, random_state=42, scoring=\"accuracy\")\n",
    "\n",
    "random_search_model.fit(train_phase, train_y)"
   ]
  },
  {
   "cell_type": "code",
   "execution_count": 94,
   "metadata": {},
   "outputs": [
    {
     "data": {
      "text/html": [
       "<div>\n",
       "<style scoped>\n",
       "    .dataframe tbody tr th:only-of-type {\n",
       "        vertical-align: middle;\n",
       "    }\n",
       "\n",
       "    .dataframe tbody tr th {\n",
       "        vertical-align: top;\n",
       "    }\n",
       "\n",
       "    .dataframe thead th {\n",
       "        text-align: right;\n",
       "    }\n",
       "</style>\n",
       "<table border=\"1\" class=\"dataframe\">\n",
       "  <thead>\n",
       "    <tr style=\"text-align: right;\">\n",
       "      <th></th>\n",
       "      <th>param_oob_score</th>\n",
       "      <th>param_n_estimators</th>\n",
       "      <th>param_min_samples_split</th>\n",
       "      <th>param_min_samples_leaf</th>\n",
       "      <th>param_max_depth</th>\n",
       "      <th>param_ccp_alpha</th>\n",
       "      <th>mean_test_score</th>\n",
       "      <th>rank_test_score</th>\n",
       "    </tr>\n",
       "  </thead>\n",
       "  <tbody>\n",
       "    <tr>\n",
       "      <th>0</th>\n",
       "      <td>False</td>\n",
       "      <td>180</td>\n",
       "      <td>4</td>\n",
       "      <td>1</td>\n",
       "      <td>50</td>\n",
       "      <td>0.001</td>\n",
       "      <td>0.652322</td>\n",
       "      <td>1</td>\n",
       "    </tr>\n",
       "    <tr>\n",
       "      <th>21</th>\n",
       "      <td>False</td>\n",
       "      <td>180</td>\n",
       "      <td>4</td>\n",
       "      <td>1</td>\n",
       "      <td>100</td>\n",
       "      <td>0.001</td>\n",
       "      <td>0.652322</td>\n",
       "      <td>1</td>\n",
       "    </tr>\n",
       "    <tr>\n",
       "      <th>4</th>\n",
       "      <td>False</td>\n",
       "      <td>180</td>\n",
       "      <td>4</td>\n",
       "      <td>1</td>\n",
       "      <td>None</td>\n",
       "      <td>0.001</td>\n",
       "      <td>0.652322</td>\n",
       "      <td>1</td>\n",
       "    </tr>\n",
       "    <tr>\n",
       "      <th>36</th>\n",
       "      <td>False</td>\n",
       "      <td>180</td>\n",
       "      <td>4</td>\n",
       "      <td>1</td>\n",
       "      <td>None</td>\n",
       "      <td>0.005</td>\n",
       "      <td>0.646935</td>\n",
       "      <td>4</td>\n",
       "    </tr>\n",
       "    <tr>\n",
       "      <th>34</th>\n",
       "      <td>False</td>\n",
       "      <td>180</td>\n",
       "      <td>4</td>\n",
       "      <td>1</td>\n",
       "      <td>50</td>\n",
       "      <td>0.005</td>\n",
       "      <td>0.646935</td>\n",
       "      <td>4</td>\n",
       "    </tr>\n",
       "  </tbody>\n",
       "</table>\n",
       "</div>"
      ],
      "text/plain": [
       "   param_oob_score param_n_estimators param_min_samples_split  \\\n",
       "0            False                180                       4   \n",
       "21           False                180                       4   \n",
       "4            False                180                       4   \n",
       "36           False                180                       4   \n",
       "34           False                180                       4   \n",
       "\n",
       "   param_min_samples_leaf param_max_depth param_ccp_alpha  mean_test_score  \\\n",
       "0                       1              50           0.001         0.652322   \n",
       "21                      1             100           0.001         0.652322   \n",
       "4                       1            None           0.001         0.652322   \n",
       "36                      1            None           0.005         0.646935   \n",
       "34                      1              50           0.005         0.646935   \n",
       "\n",
       "    rank_test_score  \n",
       "0                 1  \n",
       "21                1  \n",
       "4                 1  \n",
       "36                4  \n",
       "34                4  "
      ]
     },
     "execution_count": 94,
     "metadata": {},
     "output_type": "execute_result"
    }
   ],
   "source": [
    "df = pandas.DataFrame(random_search_model.cv_results_)\n",
    "dfd = df.drop(df.filter(regex=\"(time)|(split._)|(std_test_score)|(params)\"), axis=1)\n",
    "dfd = dfd.sort_values('rank_test_score')\n",
    "dfd.head(5)"
   ]
  },
  {
   "cell_type": "code",
   "execution_count": 95,
   "metadata": {},
   "outputs": [
    {
     "data": {
      "text/html": [
       "<div>\n",
       "<style scoped>\n",
       "    .dataframe tbody tr th:only-of-type {\n",
       "        vertical-align: middle;\n",
       "    }\n",
       "\n",
       "    .dataframe tbody tr th {\n",
       "        vertical-align: top;\n",
       "    }\n",
       "\n",
       "    .dataframe thead th {\n",
       "        text-align: right;\n",
       "    }\n",
       "</style>\n",
       "<table border=\"1\" class=\"dataframe\">\n",
       "  <thead>\n",
       "    <tr style=\"text-align: right;\">\n",
       "      <th></th>\n",
       "      <th>param_oob_score</th>\n",
       "      <th>param_n_estimators</th>\n",
       "      <th>param_min_samples_split</th>\n",
       "      <th>param_min_samples_leaf</th>\n",
       "      <th>param_max_depth</th>\n",
       "      <th>param_ccp_alpha</th>\n",
       "      <th>mean_test_score</th>\n",
       "      <th>rank_test_score</th>\n",
       "    </tr>\n",
       "  </thead>\n",
       "  <tbody>\n",
       "    <tr>\n",
       "      <th>20</th>\n",
       "      <td>False</td>\n",
       "      <td>190</td>\n",
       "      <td>4</td>\n",
       "      <td>2</td>\n",
       "      <td>100</td>\n",
       "      <td>0.005</td>\n",
       "      <td>0.638849</td>\n",
       "      <td>36</td>\n",
       "    </tr>\n",
       "    <tr>\n",
       "      <th>30</th>\n",
       "      <td>False</td>\n",
       "      <td>190</td>\n",
       "      <td>4</td>\n",
       "      <td>2</td>\n",
       "      <td>None</td>\n",
       "      <td>0.005</td>\n",
       "      <td>0.638849</td>\n",
       "      <td>36</td>\n",
       "    </tr>\n",
       "    <tr>\n",
       "      <th>16</th>\n",
       "      <td>False</td>\n",
       "      <td>190</td>\n",
       "      <td>3</td>\n",
       "      <td>2</td>\n",
       "      <td>100</td>\n",
       "      <td>0.005</td>\n",
       "      <td>0.638849</td>\n",
       "      <td>36</td>\n",
       "    </tr>\n",
       "    <tr>\n",
       "      <th>10</th>\n",
       "      <td>False</td>\n",
       "      <td>190</td>\n",
       "      <td>4</td>\n",
       "      <td>2</td>\n",
       "      <td>50</td>\n",
       "      <td>0.005</td>\n",
       "      <td>0.638849</td>\n",
       "      <td>36</td>\n",
       "    </tr>\n",
       "    <tr>\n",
       "      <th>23</th>\n",
       "      <td>False</td>\n",
       "      <td>190</td>\n",
       "      <td>3</td>\n",
       "      <td>2</td>\n",
       "      <td>50</td>\n",
       "      <td>0.005</td>\n",
       "      <td>0.638849</td>\n",
       "      <td>36</td>\n",
       "    </tr>\n",
       "  </tbody>\n",
       "</table>\n",
       "</div>"
      ],
      "text/plain": [
       "   param_oob_score param_n_estimators param_min_samples_split  \\\n",
       "20           False                190                       4   \n",
       "30           False                190                       4   \n",
       "16           False                190                       3   \n",
       "10           False                190                       4   \n",
       "23           False                190                       3   \n",
       "\n",
       "   param_min_samples_leaf param_max_depth param_ccp_alpha  mean_test_score  \\\n",
       "20                      2             100           0.005         0.638849   \n",
       "30                      2            None           0.005         0.638849   \n",
       "16                      2             100           0.005         0.638849   \n",
       "10                      2              50           0.005         0.638849   \n",
       "23                      2              50           0.005         0.638849   \n",
       "\n",
       "    rank_test_score  \n",
       "20               36  \n",
       "30               36  \n",
       "16               36  \n",
       "10               36  \n",
       "23               36  "
      ]
     },
     "execution_count": 95,
     "metadata": {},
     "output_type": "execute_result"
    }
   ],
   "source": [
    "dfd.tail(5)"
   ]
  },
  {
   "cell_type": "code",
   "execution_count": 96,
   "metadata": {},
   "outputs": [
    {
     "name": "stdout",
     "output_type": "stream",
     "text": [
      "0.6523224935788603 \n",
      " {'oob_score': False, 'n_estimators': 180, 'min_samples_split': 4, 'min_samples_leaf': 1, 'max_depth': 50, 'ccp_alpha': 0.001}\n"
     ]
    }
   ],
   "source": [
    "print(random_search_model.best_score_, \"\\n\", random_search_model.best_params_)"
   ]
  },
  {
   "cell_type": "markdown",
   "metadata": {},
   "source": [
    "### Breathing data:"
   ]
  },
  {
   "cell_type": "code",
   "execution_count": 97,
   "metadata": {},
   "outputs": [],
   "source": [
    "params_rf_breathing = {\n",
    "    'n_estimators': [170,180,190],\n",
    "#     'criterion': ['entropy'],\n",
    "    'max_depth': [20,30,None],\n",
    "    'min_samples_split': [2,3,4],\n",
    "    'min_samples_leaf': [3],\n",
    "#     'max_features': ['log2'],\n",
    "#     'bootstrap': [True],\n",
    "    'oob_score': [True, False],\n",
    "    'ccp_alpha': [0.005, 0.015]\n",
    "}"
   ]
  },
  {
   "cell_type": "code",
   "execution_count": 98,
   "metadata": {},
   "outputs": [
    {
     "name": "stdout",
     "output_type": "stream",
     "text": [
      "Fitting 3 folds for each of 40 candidates, totalling 120 fits\n"
     ]
    },
    {
     "name": "stderr",
     "output_type": "stream",
     "text": [
      "[Parallel(n_jobs=1)]: Using backend SequentialBackend with 1 concurrent workers.\n",
      "[Parallel(n_jobs=1)]: Done 120 out of 120 | elapsed:   43.9s finished\n"
     ]
    },
    {
     "data": {
      "text/plain": [
       "RandomizedSearchCV(cv=3,\n",
       "                   estimator=RandomForestClassifier(criterion='entropy',\n",
       "                                                    max_features='log2',\n",
       "                                                    random_state=42),\n",
       "                   n_iter=40,\n",
       "                   param_distributions={'ccp_alpha': [0.005, 0.015],\n",
       "                                        'max_depth': [20, 30, None],\n",
       "                                        'min_samples_leaf': [3],\n",
       "                                        'min_samples_split': [2, 3, 4],\n",
       "                                        'n_estimators': [170, 180, 190],\n",
       "                                        'oob_score': [True, False]},\n",
       "                   random_state=42, scoring='accuracy', verbose=1)"
      ]
     },
     "execution_count": 98,
     "metadata": {},
     "output_type": "execute_result"
    }
   ],
   "source": [
    "clear_session_and_set_seeds()\n",
    "model = random_forest_classifier()\n",
    "random_search_model = RandomizedSearchCV(estimator=model, param_distributions=params_rf_breathing, n_iter=40,\n",
    "                                         cv=3, verbose=1, random_state=42, scoring=\"accuracy\")\n",
    "\n",
    "random_search_model.fit(train_breathing, train_y)"
   ]
  },
  {
   "cell_type": "code",
   "execution_count": 99,
   "metadata": {},
   "outputs": [
    {
     "data": {
      "text/html": [
       "<div>\n",
       "<style scoped>\n",
       "    .dataframe tbody tr th:only-of-type {\n",
       "        vertical-align: middle;\n",
       "    }\n",
       "\n",
       "    .dataframe tbody tr th {\n",
       "        vertical-align: top;\n",
       "    }\n",
       "\n",
       "    .dataframe thead th {\n",
       "        text-align: right;\n",
       "    }\n",
       "</style>\n",
       "<table border=\"1\" class=\"dataframe\">\n",
       "  <thead>\n",
       "    <tr style=\"text-align: right;\">\n",
       "      <th></th>\n",
       "      <th>param_oob_score</th>\n",
       "      <th>param_n_estimators</th>\n",
       "      <th>param_min_samples_split</th>\n",
       "      <th>param_min_samples_leaf</th>\n",
       "      <th>param_max_depth</th>\n",
       "      <th>param_ccp_alpha</th>\n",
       "      <th>mean_test_score</th>\n",
       "      <th>rank_test_score</th>\n",
       "    </tr>\n",
       "  </thead>\n",
       "  <tbody>\n",
       "    <tr>\n",
       "      <th>33</th>\n",
       "      <td>False</td>\n",
       "      <td>180</td>\n",
       "      <td>4</td>\n",
       "      <td>3</td>\n",
       "      <td>30</td>\n",
       "      <td>0.005</td>\n",
       "      <td>0.722329</td>\n",
       "      <td>1</td>\n",
       "    </tr>\n",
       "    <tr>\n",
       "      <th>32</th>\n",
       "      <td>False</td>\n",
       "      <td>180</td>\n",
       "      <td>3</td>\n",
       "      <td>3</td>\n",
       "      <td>20</td>\n",
       "      <td>0.005</td>\n",
       "      <td>0.722329</td>\n",
       "      <td>1</td>\n",
       "    </tr>\n",
       "    <tr>\n",
       "      <th>29</th>\n",
       "      <td>True</td>\n",
       "      <td>180</td>\n",
       "      <td>3</td>\n",
       "      <td>3</td>\n",
       "      <td>None</td>\n",
       "      <td>0.005</td>\n",
       "      <td>0.722329</td>\n",
       "      <td>1</td>\n",
       "    </tr>\n",
       "    <tr>\n",
       "      <th>7</th>\n",
       "      <td>False</td>\n",
       "      <td>180</td>\n",
       "      <td>3</td>\n",
       "      <td>3</td>\n",
       "      <td>None</td>\n",
       "      <td>0.005</td>\n",
       "      <td>0.722329</td>\n",
       "      <td>1</td>\n",
       "    </tr>\n",
       "    <tr>\n",
       "      <th>28</th>\n",
       "      <td>False</td>\n",
       "      <td>180</td>\n",
       "      <td>4</td>\n",
       "      <td>3</td>\n",
       "      <td>20</td>\n",
       "      <td>0.005</td>\n",
       "      <td>0.722329</td>\n",
       "      <td>1</td>\n",
       "    </tr>\n",
       "  </tbody>\n",
       "</table>\n",
       "</div>"
      ],
      "text/plain": [
       "   param_oob_score param_n_estimators param_min_samples_split  \\\n",
       "33           False                180                       4   \n",
       "32           False                180                       3   \n",
       "29            True                180                       3   \n",
       "7            False                180                       3   \n",
       "28           False                180                       4   \n",
       "\n",
       "   param_min_samples_leaf param_max_depth param_ccp_alpha  mean_test_score  \\\n",
       "33                      3              30           0.005         0.722329   \n",
       "32                      3              20           0.005         0.722329   \n",
       "29                      3            None           0.005         0.722329   \n",
       "7                       3            None           0.005         0.722329   \n",
       "28                      3              20           0.005         0.722329   \n",
       "\n",
       "    rank_test_score  \n",
       "33                1  \n",
       "32                1  \n",
       "29                1  \n",
       "7                 1  \n",
       "28                1  "
      ]
     },
     "execution_count": 99,
     "metadata": {},
     "output_type": "execute_result"
    }
   ],
   "source": [
    "df = pandas.DataFrame(random_search_model.cv_results_)\n",
    "dfd = df.drop(df.filter(regex=\"(time)|(split._)|(std_test_score)|(params)\"), axis=1)\n",
    "dfd = dfd.sort_values('rank_test_score')\n",
    "dfd.head(5)"
   ]
  },
  {
   "cell_type": "code",
   "execution_count": 100,
   "metadata": {},
   "outputs": [
    {
     "data": {
      "text/html": [
       "<div>\n",
       "<style scoped>\n",
       "    .dataframe tbody tr th:only-of-type {\n",
       "        vertical-align: middle;\n",
       "    }\n",
       "\n",
       "    .dataframe tbody tr th {\n",
       "        vertical-align: top;\n",
       "    }\n",
       "\n",
       "    .dataframe thead th {\n",
       "        text-align: right;\n",
       "    }\n",
       "</style>\n",
       "<table border=\"1\" class=\"dataframe\">\n",
       "  <thead>\n",
       "    <tr style=\"text-align: right;\">\n",
       "      <th></th>\n",
       "      <th>param_oob_score</th>\n",
       "      <th>param_n_estimators</th>\n",
       "      <th>param_min_samples_split</th>\n",
       "      <th>param_min_samples_leaf</th>\n",
       "      <th>param_max_depth</th>\n",
       "      <th>param_ccp_alpha</th>\n",
       "      <th>mean_test_score</th>\n",
       "      <th>rank_test_score</th>\n",
       "    </tr>\n",
       "  </thead>\n",
       "  <tbody>\n",
       "    <tr>\n",
       "      <th>16</th>\n",
       "      <td>True</td>\n",
       "      <td>180</td>\n",
       "      <td>2</td>\n",
       "      <td>3</td>\n",
       "      <td>20</td>\n",
       "      <td>0.015</td>\n",
       "      <td>0.704791</td>\n",
       "      <td>36</td>\n",
       "    </tr>\n",
       "    <tr>\n",
       "      <th>4</th>\n",
       "      <td>True</td>\n",
       "      <td>180</td>\n",
       "      <td>3</td>\n",
       "      <td>3</td>\n",
       "      <td>20</td>\n",
       "      <td>0.015</td>\n",
       "      <td>0.704791</td>\n",
       "      <td>36</td>\n",
       "    </tr>\n",
       "    <tr>\n",
       "      <th>10</th>\n",
       "      <td>False</td>\n",
       "      <td>180</td>\n",
       "      <td>3</td>\n",
       "      <td>3</td>\n",
       "      <td>30</td>\n",
       "      <td>0.015</td>\n",
       "      <td>0.704791</td>\n",
       "      <td>36</td>\n",
       "    </tr>\n",
       "    <tr>\n",
       "      <th>13</th>\n",
       "      <td>True</td>\n",
       "      <td>180</td>\n",
       "      <td>3</td>\n",
       "      <td>3</td>\n",
       "      <td>30</td>\n",
       "      <td>0.015</td>\n",
       "      <td>0.704791</td>\n",
       "      <td>36</td>\n",
       "    </tr>\n",
       "    <tr>\n",
       "      <th>15</th>\n",
       "      <td>False</td>\n",
       "      <td>180</td>\n",
       "      <td>4</td>\n",
       "      <td>3</td>\n",
       "      <td>20</td>\n",
       "      <td>0.015</td>\n",
       "      <td>0.704791</td>\n",
       "      <td>36</td>\n",
       "    </tr>\n",
       "  </tbody>\n",
       "</table>\n",
       "</div>"
      ],
      "text/plain": [
       "   param_oob_score param_n_estimators param_min_samples_split  \\\n",
       "16            True                180                       2   \n",
       "4             True                180                       3   \n",
       "10           False                180                       3   \n",
       "13            True                180                       3   \n",
       "15           False                180                       4   \n",
       "\n",
       "   param_min_samples_leaf param_max_depth param_ccp_alpha  mean_test_score  \\\n",
       "16                      3              20           0.015         0.704791   \n",
       "4                       3              20           0.015         0.704791   \n",
       "10                      3              30           0.015         0.704791   \n",
       "13                      3              30           0.015         0.704791   \n",
       "15                      3              20           0.015         0.704791   \n",
       "\n",
       "    rank_test_score  \n",
       "16               36  \n",
       "4                36  \n",
       "10               36  \n",
       "13               36  \n",
       "15               36  "
      ]
     },
     "execution_count": 100,
     "metadata": {},
     "output_type": "execute_result"
    }
   ],
   "source": [
    "dfd.tail(5)"
   ]
  },
  {
   "cell_type": "code",
   "execution_count": 101,
   "metadata": {},
   "outputs": [
    {
     "name": "stdout",
     "output_type": "stream",
     "text": [
      "0.7223292412171869 \n",
      " {'oob_score': False, 'n_estimators': 180, 'min_samples_split': 3, 'min_samples_leaf': 3, 'max_depth': None, 'ccp_alpha': 0.005}\n"
     ]
    }
   ],
   "source": [
    "print(random_search_model.best_score_, \"\\n\", random_search_model.best_params_)"
   ]
  },
  {
   "cell_type": "markdown",
   "metadata": {},
   "source": [
    "### Undercomplete encoded data:"
   ]
  },
  {
   "cell_type": "code",
   "execution_count": 102,
   "metadata": {},
   "outputs": [],
   "source": [
    "params_rf_ae_enc = {\n",
    "    'n_estimators': [50,100,130],\n",
    "#     'criterion': ['entropy'],\n",
    "    'max_depth': [100,200,None],\n",
    "    'min_samples_split': [2,3,4,5],\n",
    "    'min_samples_leaf': [3,4,5],\n",
    "#     'max_features': ['log2'],\n",
    "#     'bootstrap': [True],\n",
    "    'oob_score': [True, False],\n",
    "    'ccp_alpha': [0.005, 0.015]\n",
    "}"
   ]
  },
  {
   "cell_type": "code",
   "execution_count": 103,
   "metadata": {},
   "outputs": [
    {
     "name": "stdout",
     "output_type": "stream",
     "text": [
      "Fitting 3 folds for each of 40 candidates, totalling 120 fits\n"
     ]
    },
    {
     "name": "stderr",
     "output_type": "stream",
     "text": [
      "[Parallel(n_jobs=1)]: Using backend SequentialBackend with 1 concurrent workers.\n",
      "[Parallel(n_jobs=1)]: Done 120 out of 120 | elapsed:   29.0s finished\n"
     ]
    },
    {
     "data": {
      "text/plain": [
       "RandomizedSearchCV(cv=3,\n",
       "                   estimator=RandomForestClassifier(criterion='entropy',\n",
       "                                                    max_features='log2',\n",
       "                                                    random_state=42),\n",
       "                   n_iter=40,\n",
       "                   param_distributions={'ccp_alpha': [0.005, 0.015],\n",
       "                                        'max_depth': [100, 200, None],\n",
       "                                        'min_samples_leaf': [3, 4, 5],\n",
       "                                        'min_samples_split': [2, 3, 4, 5],\n",
       "                                        'n_estimators': [50, 100, 130],\n",
       "                                        'oob_score': [True, False]},\n",
       "                   random_state=42, scoring='accuracy', verbose=1)"
      ]
     },
     "execution_count": 103,
     "metadata": {},
     "output_type": "execute_result"
    }
   ],
   "source": [
    "clear_session_and_set_seeds()\n",
    "model = random_forest_classifier()\n",
    "random_search_model = RandomizedSearchCV(estimator=model, param_distributions=params_rf_ae_enc, n_iter=40,\n",
    "                                         cv=3, verbose=1, random_state=42, scoring=\"accuracy\")\n",
    "\n",
    "random_search_model.fit(train_undercomplete_encoded, train_y)"
   ]
  },
  {
   "cell_type": "code",
   "execution_count": 104,
   "metadata": {},
   "outputs": [
    {
     "data": {
      "text/html": [
       "<div>\n",
       "<style scoped>\n",
       "    .dataframe tbody tr th:only-of-type {\n",
       "        vertical-align: middle;\n",
       "    }\n",
       "\n",
       "    .dataframe tbody tr th {\n",
       "        vertical-align: top;\n",
       "    }\n",
       "\n",
       "    .dataframe thead th {\n",
       "        text-align: right;\n",
       "    }\n",
       "</style>\n",
       "<table border=\"1\" class=\"dataframe\">\n",
       "  <thead>\n",
       "    <tr style=\"text-align: right;\">\n",
       "      <th></th>\n",
       "      <th>param_oob_score</th>\n",
       "      <th>param_n_estimators</th>\n",
       "      <th>param_min_samples_split</th>\n",
       "      <th>param_min_samples_leaf</th>\n",
       "      <th>param_max_depth</th>\n",
       "      <th>param_ccp_alpha</th>\n",
       "      <th>mean_test_score</th>\n",
       "      <th>rank_test_score</th>\n",
       "    </tr>\n",
       "  </thead>\n",
       "  <tbody>\n",
       "    <tr>\n",
       "      <th>11</th>\n",
       "      <td>True</td>\n",
       "      <td>130</td>\n",
       "      <td>5</td>\n",
       "      <td>5</td>\n",
       "      <td>100</td>\n",
       "      <td>0.005</td>\n",
       "      <td>0.615929</td>\n",
       "      <td>1</td>\n",
       "    </tr>\n",
       "    <tr>\n",
       "      <th>37</th>\n",
       "      <td>True</td>\n",
       "      <td>100</td>\n",
       "      <td>5</td>\n",
       "      <td>5</td>\n",
       "      <td>200</td>\n",
       "      <td>0.005</td>\n",
       "      <td>0.614568</td>\n",
       "      <td>2</td>\n",
       "    </tr>\n",
       "    <tr>\n",
       "      <th>8</th>\n",
       "      <td>False</td>\n",
       "      <td>100</td>\n",
       "      <td>2</td>\n",
       "      <td>5</td>\n",
       "      <td>None</td>\n",
       "      <td>0.005</td>\n",
       "      <td>0.614568</td>\n",
       "      <td>2</td>\n",
       "    </tr>\n",
       "    <tr>\n",
       "      <th>4</th>\n",
       "      <td>True</td>\n",
       "      <td>100</td>\n",
       "      <td>3</td>\n",
       "      <td>4</td>\n",
       "      <td>None</td>\n",
       "      <td>0.015</td>\n",
       "      <td>0.611875</td>\n",
       "      <td>4</td>\n",
       "    </tr>\n",
       "    <tr>\n",
       "      <th>31</th>\n",
       "      <td>False</td>\n",
       "      <td>100</td>\n",
       "      <td>4</td>\n",
       "      <td>4</td>\n",
       "      <td>None</td>\n",
       "      <td>0.015</td>\n",
       "      <td>0.611875</td>\n",
       "      <td>4</td>\n",
       "    </tr>\n",
       "  </tbody>\n",
       "</table>\n",
       "</div>"
      ],
      "text/plain": [
       "   param_oob_score param_n_estimators param_min_samples_split  \\\n",
       "11            True                130                       5   \n",
       "37            True                100                       5   \n",
       "8            False                100                       2   \n",
       "4             True                100                       3   \n",
       "31           False                100                       4   \n",
       "\n",
       "   param_min_samples_leaf param_max_depth param_ccp_alpha  mean_test_score  \\\n",
       "11                      5             100           0.005         0.615929   \n",
       "37                      5             200           0.005         0.614568   \n",
       "8                       5            None           0.005         0.614568   \n",
       "4                       4            None           0.015         0.611875   \n",
       "31                      4            None           0.015         0.611875   \n",
       "\n",
       "    rank_test_score  \n",
       "11                1  \n",
       "37                2  \n",
       "8                 2  \n",
       "4                 4  \n",
       "31                4  "
      ]
     },
     "execution_count": 104,
     "metadata": {},
     "output_type": "execute_result"
    }
   ],
   "source": [
    "df = pandas.DataFrame(random_search_model.cv_results_)\n",
    "dfd = df.drop(df.filter(regex=\"(time)|(split._)|(std_test_score)|(params)\"), axis=1)\n",
    "dfd = dfd.sort_values('rank_test_score')\n",
    "dfd.head(5)"
   ]
  },
  {
   "cell_type": "code",
   "execution_count": 105,
   "metadata": {},
   "outputs": [
    {
     "data": {
      "text/html": [
       "<div>\n",
       "<style scoped>\n",
       "    .dataframe tbody tr th:only-of-type {\n",
       "        vertical-align: middle;\n",
       "    }\n",
       "\n",
       "    .dataframe tbody tr th {\n",
       "        vertical-align: top;\n",
       "    }\n",
       "\n",
       "    .dataframe thead th {\n",
       "        text-align: right;\n",
       "    }\n",
       "</style>\n",
       "<table border=\"1\" class=\"dataframe\">\n",
       "  <thead>\n",
       "    <tr style=\"text-align: right;\">\n",
       "      <th></th>\n",
       "      <th>param_oob_score</th>\n",
       "      <th>param_n_estimators</th>\n",
       "      <th>param_min_samples_split</th>\n",
       "      <th>param_min_samples_leaf</th>\n",
       "      <th>param_max_depth</th>\n",
       "      <th>param_ccp_alpha</th>\n",
       "      <th>mean_test_score</th>\n",
       "      <th>rank_test_score</th>\n",
       "    </tr>\n",
       "  </thead>\n",
       "  <tbody>\n",
       "    <tr>\n",
       "      <th>30</th>\n",
       "      <td>True</td>\n",
       "      <td>50</td>\n",
       "      <td>3</td>\n",
       "      <td>5</td>\n",
       "      <td>200</td>\n",
       "      <td>0.005</td>\n",
       "      <td>0.587605</td>\n",
       "      <td>35</td>\n",
       "    </tr>\n",
       "    <tr>\n",
       "      <th>12</th>\n",
       "      <td>False</td>\n",
       "      <td>50</td>\n",
       "      <td>3</td>\n",
       "      <td>5</td>\n",
       "      <td>None</td>\n",
       "      <td>0.005</td>\n",
       "      <td>0.587605</td>\n",
       "      <td>35</td>\n",
       "    </tr>\n",
       "    <tr>\n",
       "      <th>22</th>\n",
       "      <td>True</td>\n",
       "      <td>50</td>\n",
       "      <td>5</td>\n",
       "      <td>5</td>\n",
       "      <td>None</td>\n",
       "      <td>0.015</td>\n",
       "      <td>0.586277</td>\n",
       "      <td>38</td>\n",
       "    </tr>\n",
       "    <tr>\n",
       "      <th>6</th>\n",
       "      <td>True</td>\n",
       "      <td>50</td>\n",
       "      <td>3</td>\n",
       "      <td>5</td>\n",
       "      <td>None</td>\n",
       "      <td>0.015</td>\n",
       "      <td>0.586277</td>\n",
       "      <td>38</td>\n",
       "    </tr>\n",
       "    <tr>\n",
       "      <th>34</th>\n",
       "      <td>False</td>\n",
       "      <td>50</td>\n",
       "      <td>5</td>\n",
       "      <td>5</td>\n",
       "      <td>None</td>\n",
       "      <td>0.015</td>\n",
       "      <td>0.586277</td>\n",
       "      <td>38</td>\n",
       "    </tr>\n",
       "  </tbody>\n",
       "</table>\n",
       "</div>"
      ],
      "text/plain": [
       "   param_oob_score param_n_estimators param_min_samples_split  \\\n",
       "30            True                 50                       3   \n",
       "12           False                 50                       3   \n",
       "22            True                 50                       5   \n",
       "6             True                 50                       3   \n",
       "34           False                 50                       5   \n",
       "\n",
       "   param_min_samples_leaf param_max_depth param_ccp_alpha  mean_test_score  \\\n",
       "30                      5             200           0.005         0.587605   \n",
       "12                      5            None           0.005         0.587605   \n",
       "22                      5            None           0.015         0.586277   \n",
       "6                       5            None           0.015         0.586277   \n",
       "34                      5            None           0.015         0.586277   \n",
       "\n",
       "    rank_test_score  \n",
       "30               35  \n",
       "12               35  \n",
       "22               38  \n",
       "6                38  \n",
       "34               38  "
      ]
     },
     "execution_count": 105,
     "metadata": {},
     "output_type": "execute_result"
    }
   ],
   "source": [
    "dfd.tail(5)"
   ]
  },
  {
   "cell_type": "code",
   "execution_count": 106,
   "metadata": {},
   "outputs": [
    {
     "name": "stdout",
     "output_type": "stream",
     "text": [
      "0.6159287797657916 \n",
      " {'oob_score': True, 'n_estimators': 130, 'min_samples_split': 5, 'min_samples_leaf': 5, 'max_depth': 100, 'ccp_alpha': 0.005}\n"
     ]
    }
   ],
   "source": [
    "print(random_search_model.best_score_, \"\\n\", random_search_model.best_params_)"
   ]
  },
  {
   "cell_type": "markdown",
   "metadata": {},
   "source": [
    "## XGBoost"
   ]
  },
  {
   "cell_type": "code",
   "execution_count": 107,
   "metadata": {},
   "outputs": [],
   "source": [
    "from xgboost import XGBClassifier\n",
    "\n",
    "def XGBoost_classifier():\n",
    "    model = XGBClassifier(random_state=42)\n",
    "    return model"
   ]
  },
  {
   "cell_type": "markdown",
   "metadata": {},
   "source": [
    "### Phase data:"
   ]
  },
  {
   "cell_type": "code",
   "execution_count": 123,
   "metadata": {},
   "outputs": [],
   "source": [
    "params_xgb_phase = {\n",
    "    'n_estimators': [50,100,130],\n",
    "    'max_depth': [50,100,200],\n",
    "    'booster': ['gbtree', 'dart']\n",
    "}"
   ]
  },
  {
   "cell_type": "code",
   "execution_count": 124,
   "metadata": {},
   "outputs": [
    {
     "name": "stdout",
     "output_type": "stream",
     "text": [
      "Fitting 3 folds for each of 18 candidates, totalling 54 fits\n"
     ]
    },
    {
     "name": "stderr",
     "output_type": "stream",
     "text": [
      "[Parallel(n_jobs=1)]: Using backend SequentialBackend with 1 concurrent workers.\n",
      "[Parallel(n_jobs=1)]: Done  54 out of  54 | elapsed:  1.3min finished\n"
     ]
    },
    {
     "data": {
      "text/plain": [
       "RandomizedSearchCV(cv=3,\n",
       "                   estimator=XGBClassifier(base_score=None, booster=None,\n",
       "                                           colsample_bylevel=None,\n",
       "                                           colsample_bynode=None,\n",
       "                                           colsample_bytree=None, gamma=None,\n",
       "                                           gpu_id=None, importance_type='gain',\n",
       "                                           interaction_constraints=None,\n",
       "                                           learning_rate=None,\n",
       "                                           max_delta_step=None, max_depth=None,\n",
       "                                           min_child_weight=None, missing=nan,\n",
       "                                           monotone_constraints=None,\n",
       "                                           n_estimators=100, n_jobs=None,\n",
       "                                           num_parallel_tree=None,\n",
       "                                           random_state=42, reg_alpha=None,\n",
       "                                           reg_lambda=None,\n",
       "                                           scale_pos_weight=None,\n",
       "                                           subsample=None, tree_method=None,\n",
       "                                           validate_parameters=None,\n",
       "                                           verbosity=None),\n",
       "                   n_iter=40,\n",
       "                   param_distributions={'booster': ['gbtree', 'dart'],\n",
       "                                        'max_depth': [50, 100, 200],\n",
       "                                        'n_estimators': [50, 100, 130]},\n",
       "                   random_state=42, scoring='accuracy', verbose=1)"
      ]
     },
     "execution_count": 124,
     "metadata": {},
     "output_type": "execute_result"
    }
   ],
   "source": [
    "clear_session_and_set_seeds()\n",
    "model = XGBoost_classifier()\n",
    "random_search_model = RandomizedSearchCV(estimator=model, param_distributions=params_xgb_phase, n_iter=40,\n",
    "                                         cv=3, verbose=1, random_state=42, scoring=\"accuracy\")\n",
    "\n",
    "random_search_model.fit(train_phase, train_y)"
   ]
  },
  {
   "cell_type": "code",
   "execution_count": 125,
   "metadata": {},
   "outputs": [
    {
     "data": {
      "text/html": [
       "<div>\n",
       "<style scoped>\n",
       "    .dataframe tbody tr th:only-of-type {\n",
       "        vertical-align: middle;\n",
       "    }\n",
       "\n",
       "    .dataframe tbody tr th {\n",
       "        vertical-align: top;\n",
       "    }\n",
       "\n",
       "    .dataframe thead th {\n",
       "        text-align: right;\n",
       "    }\n",
       "</style>\n",
       "<table border=\"1\" class=\"dataframe\">\n",
       "  <thead>\n",
       "    <tr style=\"text-align: right;\">\n",
       "      <th></th>\n",
       "      <th>param_n_estimators</th>\n",
       "      <th>param_max_depth</th>\n",
       "      <th>param_booster</th>\n",
       "      <th>mean_test_score</th>\n",
       "      <th>rank_test_score</th>\n",
       "    </tr>\n",
       "  </thead>\n",
       "  <tbody>\n",
       "    <tr>\n",
       "      <th>0</th>\n",
       "      <td>50</td>\n",
       "      <td>50</td>\n",
       "      <td>gbtree</td>\n",
       "      <td>0.628036</td>\n",
       "      <td>1</td>\n",
       "    </tr>\n",
       "    <tr>\n",
       "      <th>15</th>\n",
       "      <td>50</td>\n",
       "      <td>200</td>\n",
       "      <td>dart</td>\n",
       "      <td>0.628036</td>\n",
       "      <td>1</td>\n",
       "    </tr>\n",
       "    <tr>\n",
       "      <th>3</th>\n",
       "      <td>50</td>\n",
       "      <td>100</td>\n",
       "      <td>gbtree</td>\n",
       "      <td>0.628036</td>\n",
       "      <td>1</td>\n",
       "    </tr>\n",
       "    <tr>\n",
       "      <th>6</th>\n",
       "      <td>50</td>\n",
       "      <td>200</td>\n",
       "      <td>gbtree</td>\n",
       "      <td>0.628036</td>\n",
       "      <td>1</td>\n",
       "    </tr>\n",
       "    <tr>\n",
       "      <th>9</th>\n",
       "      <td>50</td>\n",
       "      <td>50</td>\n",
       "      <td>dart</td>\n",
       "      <td>0.628036</td>\n",
       "      <td>1</td>\n",
       "    </tr>\n",
       "  </tbody>\n",
       "</table>\n",
       "</div>"
      ],
      "text/plain": [
       "   param_n_estimators param_max_depth param_booster  mean_test_score  \\\n",
       "0                  50              50        gbtree         0.628036   \n",
       "15                 50             200          dart         0.628036   \n",
       "3                  50             100        gbtree         0.628036   \n",
       "6                  50             200        gbtree         0.628036   \n",
       "9                  50              50          dart         0.628036   \n",
       "\n",
       "    rank_test_score  \n",
       "0                 1  \n",
       "15                1  \n",
       "3                 1  \n",
       "6                 1  \n",
       "9                 1  "
      ]
     },
     "execution_count": 125,
     "metadata": {},
     "output_type": "execute_result"
    }
   ],
   "source": [
    "df = pandas.DataFrame(random_search_model.cv_results_)\n",
    "dfd = df.drop(df.filter(regex=\"(time)|(split)|(std_test_score)|(params)\"), axis=1)\n",
    "dfd = dfd.sort_values('rank_test_score')\n",
    "dfd.head(5)"
   ]
  },
  {
   "cell_type": "code",
   "execution_count": 126,
   "metadata": {},
   "outputs": [
    {
     "data": {
      "text/html": [
       "<div>\n",
       "<style scoped>\n",
       "    .dataframe tbody tr th:only-of-type {\n",
       "        vertical-align: middle;\n",
       "    }\n",
       "\n",
       "    .dataframe tbody tr th {\n",
       "        vertical-align: top;\n",
       "    }\n",
       "\n",
       "    .dataframe thead th {\n",
       "        text-align: right;\n",
       "    }\n",
       "</style>\n",
       "<table border=\"1\" class=\"dataframe\">\n",
       "  <thead>\n",
       "    <tr style=\"text-align: right;\">\n",
       "      <th></th>\n",
       "      <th>param_n_estimators</th>\n",
       "      <th>param_max_depth</th>\n",
       "      <th>param_booster</th>\n",
       "      <th>mean_test_score</th>\n",
       "      <th>rank_test_score</th>\n",
       "    </tr>\n",
       "  </thead>\n",
       "  <tbody>\n",
       "    <tr>\n",
       "      <th>8</th>\n",
       "      <td>130</td>\n",
       "      <td>200</td>\n",
       "      <td>gbtree</td>\n",
       "      <td>0.614579</td>\n",
       "      <td>13</td>\n",
       "    </tr>\n",
       "    <tr>\n",
       "      <th>5</th>\n",
       "      <td>130</td>\n",
       "      <td>100</td>\n",
       "      <td>gbtree</td>\n",
       "      <td>0.614579</td>\n",
       "      <td>13</td>\n",
       "    </tr>\n",
       "    <tr>\n",
       "      <th>2</th>\n",
       "      <td>130</td>\n",
       "      <td>50</td>\n",
       "      <td>gbtree</td>\n",
       "      <td>0.614579</td>\n",
       "      <td>13</td>\n",
       "    </tr>\n",
       "    <tr>\n",
       "      <th>11</th>\n",
       "      <td>130</td>\n",
       "      <td>50</td>\n",
       "      <td>dart</td>\n",
       "      <td>0.614579</td>\n",
       "      <td>13</td>\n",
       "    </tr>\n",
       "    <tr>\n",
       "      <th>17</th>\n",
       "      <td>130</td>\n",
       "      <td>200</td>\n",
       "      <td>dart</td>\n",
       "      <td>0.614579</td>\n",
       "      <td>13</td>\n",
       "    </tr>\n",
       "  </tbody>\n",
       "</table>\n",
       "</div>"
      ],
      "text/plain": [
       "   param_n_estimators param_max_depth param_booster  mean_test_score  \\\n",
       "8                 130             200        gbtree         0.614579   \n",
       "5                 130             100        gbtree         0.614579   \n",
       "2                 130              50        gbtree         0.614579   \n",
       "11                130              50          dart         0.614579   \n",
       "17                130             200          dart         0.614579   \n",
       "\n",
       "    rank_test_score  \n",
       "8                13  \n",
       "5                13  \n",
       "2                13  \n",
       "11               13  \n",
       "17               13  "
      ]
     },
     "execution_count": 126,
     "metadata": {},
     "output_type": "execute_result"
    }
   ],
   "source": [
    "dfd.tail(5)"
   ]
  },
  {
   "cell_type": "code",
   "execution_count": 127,
   "metadata": {},
   "outputs": [
    {
     "name": "stdout",
     "output_type": "stream",
     "text": [
      "0.6280364372469636 \n",
      " {'n_estimators': 50, 'max_depth': 50, 'booster': 'gbtree'}\n"
     ]
    }
   ],
   "source": [
    "print(random_search_model.best_score_, \"\\n\", random_search_model.best_params_)"
   ]
  },
  {
   "cell_type": "markdown",
   "metadata": {},
   "source": [
    "### Breathing data:"
   ]
  },
  {
   "cell_type": "code",
   "execution_count": 153,
   "metadata": {},
   "outputs": [],
   "source": [
    "params_xgb_breathing = {\n",
    "    'n_estimators': [50,100,130],\n",
    "    'max_depth': [2,3,4,5,6,9],\n",
    "    'booster': ['gbtree', 'dart']\n",
    "}"
   ]
  },
  {
   "cell_type": "code",
   "execution_count": 154,
   "metadata": {},
   "outputs": [
    {
     "name": "stdout",
     "output_type": "stream",
     "text": [
      "Fitting 3 folds for each of 36 candidates, totalling 108 fits\n"
     ]
    },
    {
     "name": "stderr",
     "output_type": "stream",
     "text": [
      "[Parallel(n_jobs=1)]: Using backend SequentialBackend with 1 concurrent workers.\n",
      "[Parallel(n_jobs=1)]: Done 108 out of 108 | elapsed:    5.3s finished\n"
     ]
    },
    {
     "data": {
      "text/plain": [
       "RandomizedSearchCV(cv=3,\n",
       "                   estimator=XGBClassifier(base_score=None, booster=None,\n",
       "                                           colsample_bylevel=None,\n",
       "                                           colsample_bynode=None,\n",
       "                                           colsample_bytree=None, gamma=None,\n",
       "                                           gpu_id=None, importance_type='gain',\n",
       "                                           interaction_constraints=None,\n",
       "                                           learning_rate=None,\n",
       "                                           max_delta_step=None, max_depth=None,\n",
       "                                           min_child_weight=None, missing=nan,\n",
       "                                           monotone_constraints=None,\n",
       "                                           n_estimators=100, n_jobs=None,\n",
       "                                           num_parallel_tree=None,\n",
       "                                           random_state=42, reg_alpha=None,\n",
       "                                           reg_lambda=None,\n",
       "                                           scale_pos_weight=None,\n",
       "                                           subsample=None, tree_method=None,\n",
       "                                           validate_parameters=None,\n",
       "                                           verbosity=None),\n",
       "                   n_iter=40,\n",
       "                   param_distributions={'booster': ['gbtree', 'dart'],\n",
       "                                        'max_depth': [2, 3, 4, 5, 6, 9],\n",
       "                                        'n_estimators': [50, 100, 130]},\n",
       "                   random_state=42, scoring='accuracy', verbose=1)"
      ]
     },
     "execution_count": 154,
     "metadata": {},
     "output_type": "execute_result"
    }
   ],
   "source": [
    "clear_session_and_set_seeds()\n",
    "model = XGBoost_classifier()\n",
    "random_search_model = RandomizedSearchCV(estimator=model, param_distributions=params_xgb_breathing, n_iter=40,\n",
    "                                         cv=3, verbose=1, random_state=42, scoring=\"accuracy\")\n",
    "\n",
    "random_search_model.fit(train_breathing, train_y)"
   ]
  },
  {
   "cell_type": "code",
   "execution_count": 155,
   "metadata": {},
   "outputs": [
    {
     "data": {
      "text/html": [
       "<div>\n",
       "<style scoped>\n",
       "    .dataframe tbody tr th:only-of-type {\n",
       "        vertical-align: middle;\n",
       "    }\n",
       "\n",
       "    .dataframe tbody tr th {\n",
       "        vertical-align: top;\n",
       "    }\n",
       "\n",
       "    .dataframe thead th {\n",
       "        text-align: right;\n",
       "    }\n",
       "</style>\n",
       "<table border=\"1\" class=\"dataframe\">\n",
       "  <thead>\n",
       "    <tr style=\"text-align: right;\">\n",
       "      <th></th>\n",
       "      <th>param_n_estimators</th>\n",
       "      <th>param_max_depth</th>\n",
       "      <th>param_booster</th>\n",
       "      <th>mean_test_score</th>\n",
       "      <th>rank_test_score</th>\n",
       "    </tr>\n",
       "  </thead>\n",
       "  <tbody>\n",
       "    <tr>\n",
       "      <th>26</th>\n",
       "      <td>130</td>\n",
       "      <td>4</td>\n",
       "      <td>dart</td>\n",
       "      <td>0.691377</td>\n",
       "      <td>1</td>\n",
       "    </tr>\n",
       "    <tr>\n",
       "      <th>8</th>\n",
       "      <td>130</td>\n",
       "      <td>4</td>\n",
       "      <td>gbtree</td>\n",
       "      <td>0.691377</td>\n",
       "      <td>1</td>\n",
       "    </tr>\n",
       "    <tr>\n",
       "      <th>6</th>\n",
       "      <td>50</td>\n",
       "      <td>4</td>\n",
       "      <td>gbtree</td>\n",
       "      <td>0.690000</td>\n",
       "      <td>3</td>\n",
       "    </tr>\n",
       "    <tr>\n",
       "      <th>24</th>\n",
       "      <td>50</td>\n",
       "      <td>4</td>\n",
       "      <td>dart</td>\n",
       "      <td>0.690000</td>\n",
       "      <td>3</td>\n",
       "    </tr>\n",
       "    <tr>\n",
       "      <th>4</th>\n",
       "      <td>100</td>\n",
       "      <td>3</td>\n",
       "      <td>gbtree</td>\n",
       "      <td>0.685990</td>\n",
       "      <td>5</td>\n",
       "    </tr>\n",
       "  </tbody>\n",
       "</table>\n",
       "</div>"
      ],
      "text/plain": [
       "   param_n_estimators param_max_depth param_booster  mean_test_score  \\\n",
       "26                130               4          dart         0.691377   \n",
       "8                 130               4        gbtree         0.691377   \n",
       "6                  50               4        gbtree         0.690000   \n",
       "24                 50               4          dart         0.690000   \n",
       "4                 100               3        gbtree         0.685990   \n",
       "\n",
       "    rank_test_score  \n",
       "26                1  \n",
       "8                 1  \n",
       "6                 3  \n",
       "24                3  \n",
       "4                 5  "
      ]
     },
     "execution_count": 155,
     "metadata": {},
     "output_type": "execute_result"
    }
   ],
   "source": [
    "df = pandas.DataFrame(random_search_model.cv_results_)\n",
    "dfd = df.drop(df.filter(regex=\"(time)|(split)|(std_test_score)|(params)\"), axis=1)\n",
    "dfd = dfd.sort_values('rank_test_score')\n",
    "dfd.head(5)"
   ]
  },
  {
   "cell_type": "code",
   "execution_count": 156,
   "metadata": {},
   "outputs": [
    {
     "data": {
      "text/html": [
       "<div>\n",
       "<style scoped>\n",
       "    .dataframe tbody tr th:only-of-type {\n",
       "        vertical-align: middle;\n",
       "    }\n",
       "\n",
       "    .dataframe tbody tr th {\n",
       "        vertical-align: top;\n",
       "    }\n",
       "\n",
       "    .dataframe thead th {\n",
       "        text-align: right;\n",
       "    }\n",
       "</style>\n",
       "<table border=\"1\" class=\"dataframe\">\n",
       "  <thead>\n",
       "    <tr style=\"text-align: right;\">\n",
       "      <th></th>\n",
       "      <th>param_n_estimators</th>\n",
       "      <th>param_max_depth</th>\n",
       "      <th>param_booster</th>\n",
       "      <th>mean_test_score</th>\n",
       "      <th>rank_test_score</th>\n",
       "    </tr>\n",
       "  </thead>\n",
       "  <tbody>\n",
       "    <tr>\n",
       "      <th>5</th>\n",
       "      <td>130</td>\n",
       "      <td>3</td>\n",
       "      <td>gbtree</td>\n",
       "      <td>0.672500</td>\n",
       "      <td>31</td>\n",
       "    </tr>\n",
       "    <tr>\n",
       "      <th>11</th>\n",
       "      <td>130</td>\n",
       "      <td>5</td>\n",
       "      <td>gbtree</td>\n",
       "      <td>0.671172</td>\n",
       "      <td>33</td>\n",
       "    </tr>\n",
       "    <tr>\n",
       "      <th>29</th>\n",
       "      <td>130</td>\n",
       "      <td>5</td>\n",
       "      <td>dart</td>\n",
       "      <td>0.671172</td>\n",
       "      <td>33</td>\n",
       "    </tr>\n",
       "    <tr>\n",
       "      <th>31</th>\n",
       "      <td>100</td>\n",
       "      <td>6</td>\n",
       "      <td>dart</td>\n",
       "      <td>0.665791</td>\n",
       "      <td>35</td>\n",
       "    </tr>\n",
       "    <tr>\n",
       "      <th>13</th>\n",
       "      <td>100</td>\n",
       "      <td>6</td>\n",
       "      <td>gbtree</td>\n",
       "      <td>0.665791</td>\n",
       "      <td>35</td>\n",
       "    </tr>\n",
       "  </tbody>\n",
       "</table>\n",
       "</div>"
      ],
      "text/plain": [
       "   param_n_estimators param_max_depth param_booster  mean_test_score  \\\n",
       "5                 130               3        gbtree         0.672500   \n",
       "11                130               5        gbtree         0.671172   \n",
       "29                130               5          dart         0.671172   \n",
       "31                100               6          dart         0.665791   \n",
       "13                100               6        gbtree         0.665791   \n",
       "\n",
       "    rank_test_score  \n",
       "5                31  \n",
       "11               33  \n",
       "29               33  \n",
       "31               35  \n",
       "13               35  "
      ]
     },
     "execution_count": 156,
     "metadata": {},
     "output_type": "execute_result"
    }
   ],
   "source": [
    "dfd.tail(5)"
   ]
  },
  {
   "cell_type": "code",
   "execution_count": 157,
   "metadata": {},
   "outputs": [
    {
     "name": "stdout",
     "output_type": "stream",
     "text": [
      "0.6913771712158808 \n",
      " {'n_estimators': 130, 'max_depth': 4, 'booster': 'gbtree'}\n"
     ]
    }
   ],
   "source": [
    "print(random_search_model.best_score_, \"\\n\", random_search_model.best_params_)"
   ]
  },
  {
   "cell_type": "markdown",
   "metadata": {},
   "source": [
    "### Undercomplete encoded data:"
   ]
  },
  {
   "cell_type": "code",
   "execution_count": 160,
   "metadata": {},
   "outputs": [],
   "source": [
    "params_xgb_ae_enc = {\n",
    "    'n_estimators': [50,100,130],\n",
    "    'max_depth': [2,3,4,5,6,9],\n",
    "    'booster': ['gbtree', 'dart']\n",
    "}"
   ]
  },
  {
   "cell_type": "code",
   "execution_count": 161,
   "metadata": {},
   "outputs": [
    {
     "name": "stdout",
     "output_type": "stream",
     "text": [
      "Fitting 3 folds for each of 36 candidates, totalling 108 fits\n"
     ]
    },
    {
     "name": "stderr",
     "output_type": "stream",
     "text": [
      "[Parallel(n_jobs=1)]: Using backend SequentialBackend with 1 concurrent workers.\n",
      "[Parallel(n_jobs=1)]: Done 108 out of 108 | elapsed:    7.0s finished\n"
     ]
    },
    {
     "data": {
      "text/plain": [
       "RandomizedSearchCV(cv=3,\n",
       "                   estimator=XGBClassifier(base_score=None, booster=None,\n",
       "                                           colsample_bylevel=None,\n",
       "                                           colsample_bynode=None,\n",
       "                                           colsample_bytree=None, gamma=None,\n",
       "                                           gpu_id=None, importance_type='gain',\n",
       "                                           interaction_constraints=None,\n",
       "                                           learning_rate=None,\n",
       "                                           max_delta_step=None, max_depth=None,\n",
       "                                           min_child_weight=None, missing=nan,\n",
       "                                           monotone_constraints=None,\n",
       "                                           n_estimators=100, n_jobs=None,\n",
       "                                           num_parallel_tree=None,\n",
       "                                           random_state=42, reg_alpha=None,\n",
       "                                           reg_lambda=None,\n",
       "                                           scale_pos_weight=None,\n",
       "                                           subsample=None, tree_method=None,\n",
       "                                           validate_parameters=None,\n",
       "                                           verbosity=None),\n",
       "                   n_iter=40,\n",
       "                   param_distributions={'booster': ['gbtree', 'dart'],\n",
       "                                        'max_depth': [2, 3, 4, 5, 6, 9],\n",
       "                                        'n_estimators': [50, 100, 130]},\n",
       "                   random_state=42, scoring='accuracy', verbose=1)"
      ]
     },
     "execution_count": 161,
     "metadata": {},
     "output_type": "execute_result"
    }
   ],
   "source": [
    "clear_session_and_set_seeds()\n",
    "model = XGBoost_classifier()\n",
    "random_search_model = RandomizedSearchCV(estimator=model, param_distributions=params_xgb_ae_enc, n_iter=40,\n",
    "                                         cv=3, verbose=1, random_state=42, scoring=\"accuracy\")\n",
    "\n",
    "random_search_model.fit(train_undercomplete_encoded, train_y)"
   ]
  },
  {
   "cell_type": "code",
   "execution_count": 162,
   "metadata": {},
   "outputs": [
    {
     "data": {
      "text/html": [
       "<div>\n",
       "<style scoped>\n",
       "    .dataframe tbody tr th:only-of-type {\n",
       "        vertical-align: middle;\n",
       "    }\n",
       "\n",
       "    .dataframe tbody tr th {\n",
       "        vertical-align: top;\n",
       "    }\n",
       "\n",
       "    .dataframe thead th {\n",
       "        text-align: right;\n",
       "    }\n",
       "</style>\n",
       "<table border=\"1\" class=\"dataframe\">\n",
       "  <thead>\n",
       "    <tr style=\"text-align: right;\">\n",
       "      <th></th>\n",
       "      <th>param_n_estimators</th>\n",
       "      <th>param_max_depth</th>\n",
       "      <th>param_booster</th>\n",
       "      <th>mean_test_score</th>\n",
       "      <th>rank_test_score</th>\n",
       "    </tr>\n",
       "  </thead>\n",
       "  <tbody>\n",
       "    <tr>\n",
       "      <th>28</th>\n",
       "      <td>100</td>\n",
       "      <td>5</td>\n",
       "      <td>dart</td>\n",
       "      <td>0.590293</td>\n",
       "      <td>1</td>\n",
       "    </tr>\n",
       "    <tr>\n",
       "      <th>10</th>\n",
       "      <td>100</td>\n",
       "      <td>5</td>\n",
       "      <td>gbtree</td>\n",
       "      <td>0.590293</td>\n",
       "      <td>1</td>\n",
       "    </tr>\n",
       "    <tr>\n",
       "      <th>29</th>\n",
       "      <td>130</td>\n",
       "      <td>5</td>\n",
       "      <td>dart</td>\n",
       "      <td>0.588955</td>\n",
       "      <td>3</td>\n",
       "    </tr>\n",
       "    <tr>\n",
       "      <th>11</th>\n",
       "      <td>130</td>\n",
       "      <td>5</td>\n",
       "      <td>gbtree</td>\n",
       "      <td>0.588955</td>\n",
       "      <td>3</td>\n",
       "    </tr>\n",
       "    <tr>\n",
       "      <th>27</th>\n",
       "      <td>50</td>\n",
       "      <td>5</td>\n",
       "      <td>dart</td>\n",
       "      <td>0.588949</td>\n",
       "      <td>5</td>\n",
       "    </tr>\n",
       "  </tbody>\n",
       "</table>\n",
       "</div>"
      ],
      "text/plain": [
       "   param_n_estimators param_max_depth param_booster  mean_test_score  \\\n",
       "28                100               5          dart         0.590293   \n",
       "10                100               5        gbtree         0.590293   \n",
       "29                130               5          dart         0.588955   \n",
       "11                130               5        gbtree         0.588955   \n",
       "27                 50               5          dart         0.588949   \n",
       "\n",
       "    rank_test_score  \n",
       "28                1  \n",
       "10                1  \n",
       "29                3  \n",
       "11                3  \n",
       "27                5  "
      ]
     },
     "execution_count": 162,
     "metadata": {},
     "output_type": "execute_result"
    }
   ],
   "source": [
    "df = pandas.DataFrame(random_search_model.cv_results_)\n",
    "dfd = df.drop(df.filter(regex=\"(time)|(split)|(std_test_score)|(params)\"), axis=1)\n",
    "dfd = dfd.sort_values('rank_test_score')\n",
    "dfd.head(5)"
   ]
  },
  {
   "cell_type": "code",
   "execution_count": 163,
   "metadata": {},
   "outputs": [
    {
     "data": {
      "text/html": [
       "<div>\n",
       "<style scoped>\n",
       "    .dataframe tbody tr th:only-of-type {\n",
       "        vertical-align: middle;\n",
       "    }\n",
       "\n",
       "    .dataframe tbody tr th {\n",
       "        vertical-align: top;\n",
       "    }\n",
       "\n",
       "    .dataframe thead th {\n",
       "        text-align: right;\n",
       "    }\n",
       "</style>\n",
       "<table border=\"1\" class=\"dataframe\">\n",
       "  <thead>\n",
       "    <tr style=\"text-align: right;\">\n",
       "      <th></th>\n",
       "      <th>param_n_estimators</th>\n",
       "      <th>param_max_depth</th>\n",
       "      <th>param_booster</th>\n",
       "      <th>mean_test_score</th>\n",
       "      <th>rank_test_score</th>\n",
       "    </tr>\n",
       "  </thead>\n",
       "  <tbody>\n",
       "    <tr>\n",
       "      <th>19</th>\n",
       "      <td>100</td>\n",
       "      <td>2</td>\n",
       "      <td>dart</td>\n",
       "      <td>0.568771</td>\n",
       "      <td>31</td>\n",
       "    </tr>\n",
       "    <tr>\n",
       "      <th>24</th>\n",
       "      <td>50</td>\n",
       "      <td>4</td>\n",
       "      <td>dart</td>\n",
       "      <td>0.564701</td>\n",
       "      <td>33</td>\n",
       "    </tr>\n",
       "    <tr>\n",
       "      <th>6</th>\n",
       "      <td>50</td>\n",
       "      <td>4</td>\n",
       "      <td>gbtree</td>\n",
       "      <td>0.564701</td>\n",
       "      <td>33</td>\n",
       "    </tr>\n",
       "    <tr>\n",
       "      <th>12</th>\n",
       "      <td>50</td>\n",
       "      <td>6</td>\n",
       "      <td>gbtree</td>\n",
       "      <td>0.559298</td>\n",
       "      <td>35</td>\n",
       "    </tr>\n",
       "    <tr>\n",
       "      <th>30</th>\n",
       "      <td>50</td>\n",
       "      <td>6</td>\n",
       "      <td>dart</td>\n",
       "      <td>0.559298</td>\n",
       "      <td>35</td>\n",
       "    </tr>\n",
       "  </tbody>\n",
       "</table>\n",
       "</div>"
      ],
      "text/plain": [
       "   param_n_estimators param_max_depth param_booster  mean_test_score  \\\n",
       "19                100               2          dart         0.568771   \n",
       "24                 50               4          dart         0.564701   \n",
       "6                  50               4        gbtree         0.564701   \n",
       "12                 50               6        gbtree         0.559298   \n",
       "30                 50               6          dart         0.559298   \n",
       "\n",
       "    rank_test_score  \n",
       "19               31  \n",
       "24               33  \n",
       "6                33  \n",
       "12               35  \n",
       "30               35  "
      ]
     },
     "execution_count": 163,
     "metadata": {},
     "output_type": "execute_result"
    }
   ],
   "source": [
    "dfd.tail(5)"
   ]
  },
  {
   "cell_type": "code",
   "execution_count": 164,
   "metadata": {},
   "outputs": [
    {
     "name": "stdout",
     "output_type": "stream",
     "text": [
      "0.5902931957685777 \n",
      " {'n_estimators': 100, 'max_depth': 5, 'booster': 'gbtree'}\n"
     ]
    }
   ],
   "source": [
    "print(random_search_model.best_score_, \"\\n\", random_search_model.best_params_)"
   ]
  },
  {
   "cell_type": "code",
   "execution_count": null,
   "metadata": {},
   "outputs": [],
   "source": []
  }
 ],
 "metadata": {
  "kernelspec": {
   "display_name": "py37talos",
   "language": "python",
   "name": "py37talos"
  },
  "language_info": {
   "codemirror_mode": {
    "name": "ipython",
    "version": 3
   },
   "file_extension": ".py",
   "mimetype": "text/x-python",
   "name": "python",
   "nbconvert_exporter": "python",
   "pygments_lexer": "ipython3",
   "version": "3.7.7"
  }
 },
 "nbformat": 4,
 "nbformat_minor": 4
}
