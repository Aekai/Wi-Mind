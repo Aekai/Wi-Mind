{
 "cells": [
  {
   "cell_type": "code",
   "execution_count": 2,
   "metadata": {},
   "outputs": [],
   "source": [
    "import datareader # made by the previous author for reading the collected data\n",
    "import dataextractor # same as above\n",
    "import pandas\n",
    "import numpy as np\n",
    "\n",
    "import tensorflow as tf\n",
    "from tensorflow import keras\n",
    "from tensorflow.keras import layers, regularizers\n",
    "from tensorflow.keras.preprocessing import sequence\n",
    "from tensorflow.keras.models import Sequential, Model\n",
    "from tensorflow.keras.layers import Dense, Dropout, Activation, Input\n",
    "from tensorflow.keras.layers import LSTM\n",
    "from tensorflow.keras.layers import Conv1D, MaxPooling1D\n",
    "from tensorflow.keras.optimizers import Adam, Nadam\n",
    "import tensorflow.keras.backend as K\n",
    "tf.keras.backend.set_floatx('float32') # call this, to set keras to use float32 to avoid a warning message\n",
    "metrics = ['accuracy']\n",
    "\n",
    "from sklearn.preprocessing import StandardScaler, MinMaxScaler\n",
    "\n",
    "import json\n",
    "from datetime import datetime\n",
    "import warnings\n",
    "import matplotlib.pyplot as plt"
   ]
  },
  {
   "cell_type": "code",
   "execution_count": 3,
   "metadata": {},
   "outputs": [],
   "source": [
    "import random\n",
    "\n",
    "random.seed(1)\n",
    "np.random.seed(4)\n",
    "tf.random.set_seed(2)"
   ]
  },
  {
   "cell_type": "code",
   "execution_count": 4,
   "metadata": {},
   "outputs": [],
   "source": [
    "# Start the notebook in the terminal with \"PYTHONHASHSEED=0 jupyter notebook\" \n",
    "# or in anaconda \"set PYTHONHASHSEED=0\" then start jupyter notebook\n",
    "import os\n",
    "if os.environ.get(\"PYTHONHASHSEED\") != \"0\":\n",
    "    raise Exception(\"You must set PYTHONHASHSEED=0 before starting the Jupyter server to get reproducible results.\")"
   ]
  },
  {
   "cell_type": "markdown",
   "metadata": {},
   "source": [
    "This is modfied original author's code for reading data:"
   ]
  },
  {
   "cell_type": "code",
   "execution_count": 5,
   "metadata": {},
   "outputs": [],
   "source": [
    "def model_train(model, x_train, y_train, batch_size, epochs, x_valid, y_valid, x_test, y_test):\n",
    "    \"\"\"Train model with the given training, validation, and test set, with appropriate batch size and # epochs.\"\"\"\n",
    "    epoch_data = model.fit(x_train, y_train, batch_size=batch_size, epochs=epochs, validation_data=(x_valid, y_valid), verbose=0)\n",
    "    score = model.evaluate(x_test, y_test, batch_size=batch_size, verbose=0)\n",
    "    acc = score[1]\n",
    "    score = score[0]\n",
    "    return score, acc, epoch_data\n"
   ]
  },
  {
   "cell_type": "code",
   "execution_count": 15,
   "metadata": {},
   "outputs": [],
   "source": [
    "def get_busy_vs_relax_timeframes_br_hb(path, ident, seconds):\n",
    "    \"\"\"Returns raw data from either 'on task' or 'relax' time frames and their class (0 or 1).\"\"\"\n",
    "    \n",
    "    dataread = datareader.DataReader(path, ident)  # initialize path to data\n",
    "    data = dataread.read_grc_data()  # read from files\n",
    "    samp_rate = int(round(len(data[1]) / max(data[0])))\n",
    "    cog_res = dataread.read_cognitive_load_study(str(ident) + '-primary-extract.txt')\n",
    "\n",
    "    tasks_data = np.empty((0, seconds*samp_rate))\n",
    "    tasks_y = np.empty((0, 1))\n",
    "    breathing = np.empty((0,12))\n",
    "    heartbeat = np.empty((0,10))\n",
    "\n",
    "    busy_n = dataread.get_data_task_timestamps(return_indexes=True)\n",
    "    relax_n = dataread.get_relax_timestamps(return_indexes=True)\n",
    "\n",
    "    for i in cog_res['task_number']:\n",
    "        task_num_table = i - 225  # 0 - 17\n",
    "        tmp_tasks_data = np.empty((0, seconds*samp_rate))\n",
    "        tmp_tasks_y = np.empty((0, 1))\n",
    "        tmp_breathing = np.empty((0,12))\n",
    "        tmp_heartbeat = np.empty((0,10))\n",
    "\n",
    "        if cog_res['task_label'][task_num_table] != 'NC':\n",
    "            continue\n",
    "        \n",
    "        ### task versus relax (1 sample each)\n",
    "        dataextract = dataextractor.DataExtractor(data[0][busy_n[task_num_table][0]:busy_n[task_num_table][1]],\n",
    "                                                  data[1][busy_n[task_num_table][0]:busy_n[task_num_table][1]],\n",
    "                                                  samp_rate)\n",
    "\n",
    "        dataextract_relax = dataextractor.DataExtractor(data[0][relax_n[task_num_table][0]:relax_n[task_num_table][1]],\n",
    "                                                        data[1][relax_n[task_num_table][0]:relax_n[task_num_table][1]],\n",
    "                                                        samp_rate)\n",
    "\n",
    "        try:\n",
    "\n",
    "            # get extracted features for breathing\n",
    "            tmpBR_busy = dataextract.extract_from_breathing_time(dataextract.t[-samp_rate*seconds:],\n",
    "                                                                 dataextract.y[-samp_rate*seconds:])\n",
    "            tmpBR_relax = dataextract_relax.extract_from_breathing_time(dataextract_relax.t[-samp_rate*seconds:],\n",
    "                                                                 dataextract_relax.y[-samp_rate*seconds:])\n",
    "            #get extracted features for heartbeat\n",
    "            tmpHB_busy = dataextract.extract_from_heartbeat_time(dataextract.t[-samp_rate*seconds:],\n",
    "                                                                 dataextract.y[-samp_rate*seconds:])\n",
    "            tmpHB_relax = dataextract.extract_from_heartbeat_time(dataextract_relax.t[-samp_rate*seconds:],\n",
    "                                                                 dataextract_relax.y[-samp_rate*seconds:])\n",
    "\n",
    "            tmp_tasks_data = np.vstack((tmp_tasks_data, dataextract.y[-samp_rate * seconds:]))\n",
    "            tmp_tasks_y = np.vstack((tasks_y, 1))\n",
    "            tmp_tasks_data = np.vstack((tmp_tasks_data, dataextract_relax.y[-samp_rate * seconds:]))\n",
    "            tmp_tasks_y = np.vstack((tmp_tasks_y, 0))\n",
    "\n",
    "            # put busy frames then relaxed frames under the previous frames\n",
    "            tmp_breathing = np.vstack((tmp_breathing, tmpBR_busy.to_numpy(dtype='float64', na_value=0)[0][:-1]))\n",
    "            tmp_breathing = np.vstack((tmp_breathing, tmpBR_relax.to_numpy(dtype='float64', na_value=0)[0][:-1]))\n",
    "\n",
    "            tmp_heartbeat = np.vstack((tmp_heartbeat, tmpHB_busy.to_numpy(dtype='float64', na_value=0)[0][:-1]))\n",
    "            tmp_heartbeat = np.vstack((tmp_heartbeat, tmpHB_relax.to_numpy(dtype='float64', na_value=0)[0][:-1]))\n",
    "\n",
    "        except ValueError:\n",
    "#             print(ident)  # ignore short windows\n",
    "            continue\n",
    "\n",
    "        # put busy frames then relaxed frames under the previous frames\n",
    "        tasks_data = np.vstack((tasks_data, dataextract.y[-samp_rate * seconds:]))\n",
    "        tasks_y = np.vstack((tasks_y, 1))\n",
    "        tasks_data = np.vstack((tasks_data, dataextract_relax.y[-samp_rate * seconds:]))\n",
    "        tasks_y = np.vstack((tasks_y, 0))\n",
    "\n",
    "        breathing = np.vstack((breathing, tmpBR_busy.to_numpy(dtype='float64', na_value=0)[0][:-1]))\n",
    "        breathing = np.vstack((breathing, tmpBR_relax.to_numpy(dtype='float64', na_value=0)[0][:-1]))\n",
    "\n",
    "        heartbeat = np.vstack((heartbeat, tmpHB_busy.to_numpy(dtype='float64', na_value=0)[0][:-1]))\n",
    "        heartbeat = np.vstack((heartbeat, tmpHB_relax.to_numpy(dtype='float64', na_value=0)[0][:-1]))\n",
    "\n",
    "    return tasks_data, tasks_y, breathing, heartbeat"
   ]
  },
  {
   "cell_type": "code",
   "execution_count": 7,
   "metadata": {},
   "outputs": [],
   "source": [
    "def get_data_from_idents_br_hb(path, idents, seconds):\n",
    "    \"\"\"Go through all user data and take out windows of only <seconds> long time frames,\n",
    "    along with the given class (from 'divide_each_task' function).\n",
    "    \"\"\"\n",
    "    samp_rate = 43  # hard-coded sample rate\n",
    "    data, ys = np.empty((0, samp_rate*seconds)), np.empty((0, 1))\n",
    "    brs = np.empty((0,12))\n",
    "    hbs = np.empty((0,10))\n",
    "    combined = np.empty((0,22))\n",
    "    \n",
    "    # was gettign some weird warnings; stack overflow said to ignore them\n",
    "    with warnings.catch_warnings():\n",
    "        warnings.simplefilter(\"ignore\", category=RuntimeWarning)\n",
    "        for i in idents:\n",
    "            x, y, br, hb = get_busy_vs_relax_timeframes_br_hb(path, i, seconds) # either 'get_busy_vs_relax_timeframes',\n",
    "            # get_engagement_increase_vs_decrease_timeframes, get_task_complexities_timeframes or get_TLX_timeframes\n",
    "\n",
    "            data = np.vstack((data, x))\n",
    "            ys = np.vstack((ys, y))\n",
    "            brs = np.vstack((brs, br))\n",
    "            hbs = np.vstack((hbs, hb))\n",
    "        combined = np.hstack((brs,hbs))\n",
    "    \n",
    "    return data, ys, brs, hbs, combined"
   ]
  },
  {
   "cell_type": "markdown",
   "metadata": {},
   "source": [
    "## Prepare data"
   ]
  },
  {
   "cell_type": "markdown",
   "metadata": {},
   "source": [
    "Initialize variables:"
   ]
  },
  {
   "cell_type": "code",
   "execution_count": 8,
   "metadata": {},
   "outputs": [],
   "source": [
    "# initialize a dictionary to store accuracies for comparison\n",
    "accuracies = {}\n",
    "\n",
    "# used for reading the data into an array\n",
    "seconds = 30  # time window length\n",
    "samp_rate = 43  # hard-coded sample rate\n",
    "phase_shape = np.empty((0, samp_rate*seconds))\n",
    "y_shape = np.empty((0, 1))\n",
    "breathing_shape = np.empty((0,12))\n",
    "heartbeat_shape = np.empty((0,10))\n",
    "combined_shape = np.empty((0,22))\n",
    "idents = ['2gu87', 'iz2ps', '1mpau', '7dwjy', '7swyk', '94mnx', 'bd47a', 'c24ur', 'ctsax', 'dkhty', 'e4gay',\n",
    "              'ef5rq', 'f1gjp', 'hpbxa', 'pmyfl', 'r89k1', 'tn4vl', 'td5pr', 'gyqu9', 'fzchw', 'l53hg', '3n2f9',\n",
    "              '62i9y']\n",
    "path = '../../../../../StudyData/'\n",
    "\n",
    "\n",
    "# change to len(idents) at the end to use all the data\n",
    "n = len(idents)"
   ]
  },
  {
   "cell_type": "markdown",
   "metadata": {},
   "source": [
    "# testing busy vs relax"
   ]
  },
  {
   "cell_type": "code",
   "execution_count": 22,
   "metadata": {},
   "outputs": [
    {
     "data": {
      "text/plain": [
       "(6, 1290)"
      ]
     },
     "execution_count": 22,
     "metadata": {},
     "output_type": "execute_result"
    }
   ],
   "source": [
    "phase, y, breathing, heartbeat, combined = get_data_from_idents_br_hb(path, ['7swyk'], seconds)\n",
    "phase = StandardScaler().fit_transform(phase)\n",
    "phase.shape"
   ]
  },
  {
   "cell_type": "code",
   "execution_count": 23,
   "metadata": {},
   "outputs": [],
   "source": [
    "phase1 = phase[0::2]\n",
    "phase0 = phase[1::2]"
   ]
  },
  {
   "cell_type": "code",
   "execution_count": 24,
   "metadata": {},
   "outputs": [
    {
     "data": {
      "text/plain": [
       "<Figure size 432x288 with 0 Axes>"
      ]
     },
     "metadata": {},
     "output_type": "display_data"
    },
    {
     "data": {
      "image/png": "[encoded data removed]",
      "text/plain": [
       "<Figure size 1440x432 with 3 Axes>"
      ]
     },
     "metadata": {
      "needs_background": "light"
     },
     "output_type": "display_data"
    },
    {
     "data": {
      "image/png": "[encoded data removed]",
      "text/plain": [
       "<Figure size 1440x288 with 3 Axes>"
      ]
     },
     "metadata": {
      "needs_background": "light"
     },
     "output_type": "display_data"
    }
   ],
   "source": [
    "plot_n = 3\n",
    "plt.figure(0)\n",
    "plt.figure(figsize=(20, 6))\n",
    "for i in range(plot_n):\n",
    "    plt.subplot(10,10, i+1)\n",
    "    plt.plot(phase0[i])\n",
    "    \n",
    "plt.figure(1)\n",
    "plt.figure(figsize=(20, 4))\n",
    "for i in range(plot_n):\n",
    "    plt.subplot(10, 10, i+1)\n",
    "    plt.plot(phase1[i])"
   ]
  },
  {
   "cell_type": "code",
   "execution_count": 34,
   "metadata": {},
   "outputs": [],
   "source": [
    "train_idents = ['2gu87', 'iz2ps', '1mpau', '7dwjy', '94mnx', 'bd47a', 'c24ur', 'ctsax', 'dkhty', 'e4gay',\n",
    "              'ef5rq', 'f1gjp', 'hpbxa', 'pmyfl', 'r89k1', 'tn4vl', 'td5pr', 'gyqu9', 'fzchw', 'l53hg', '3n2f9',\n",
    "              '62i9y']\n",
    "test_ident = ['7swyk']\n",
    "\n",
    "phase_tr, y_tr, breathing_tr, heartbeat_tr, combined_tr = get_data_from_idents_br_hb(path, train_idents, seconds)\n",
    "phase_tr = StandardScaler().fit_transform(phase_tr)\n",
    "\n",
    "phase_te, y_te, breathing_te, heartbeat_te, combined_te = get_data_from_idents_br_hb(path, test_ident, seconds)\n",
    "phase_te = StandardScaler().fit_transform(phase_te)"
   ]
  },
  {
   "cell_type": "code",
   "execution_count": 36,
   "metadata": {},
   "outputs": [
    {
     "data": {
      "text/plain": [
       "0.5"
      ]
     },
     "execution_count": 36,
     "metadata": {},
     "output_type": "execute_result"
    }
   ],
   "source": [
    "from sklearn.neighbors import KNeighborsClassifier\n",
    "model = KNeighborsClassifier()\n",
    "model.fit(phase_tr, y_tr.ravel())\n",
    "curr_acc = np.sum(model.predict(phase_te) == y_te.ravel()) / len(y_te.ravel())\n",
    "curr_acc"
   ]
  },
  {
   "cell_type": "code",
   "execution_count": 37,
   "metadata": {},
   "outputs": [
    {
     "data": {
      "text/plain": [
       "array([1., 1., 1., 1., 1., 1.])"
      ]
     },
     "execution_count": 37,
     "metadata": {},
     "output_type": "execute_result"
    }
   ],
   "source": [
    "model.predict(phase_te)"
   ]
  },
  {
   "cell_type": "code",
   "execution_count": 38,
   "metadata": {},
   "outputs": [
    {
     "data": {
      "text/plain": [
       "array([[1.],\n",
       "       [0.],\n",
       "       [1.],\n",
       "       [0.],\n",
       "       [1.],\n",
       "       [0.]])"
      ]
     },
     "execution_count": 38,
     "metadata": {},
     "output_type": "execute_result"
    }
   ],
   "source": [
    "y_te"
   ]
  },
  {
   "cell_type": "code",
   "execution_count": 42,
   "metadata": {},
   "outputs": [
    {
     "data": {
      "text/plain": [
       "0.8333333333333334"
      ]
     },
     "execution_count": 42,
     "metadata": {},
     "output_type": "execute_result"
    }
   ],
   "source": [
    "from sklearn.neighbors import KNeighborsClassifier\n",
    "model = KNeighborsClassifier()\n",
    "model.fit(breathing_tr, y_tr.ravel())\n",
    "curr_acc = np.sum(model.predict(breathing_te) == y_te.ravel()) / len(y_te.ravel())\n",
    "curr_acc"
   ]
  },
  {
   "cell_type": "code",
   "execution_count": 43,
   "metadata": {},
   "outputs": [
    {
     "data": {
      "text/plain": [
       "array([1., 0., 1., 1., 1., 0.])"
      ]
     },
     "execution_count": 43,
     "metadata": {},
     "output_type": "execute_result"
    }
   ],
   "source": [
    "model.predict(breathing_te)"
   ]
  },
  {
   "cell_type": "code",
   "execution_count": 44,
   "metadata": {},
   "outputs": [
    {
     "data": {
      "text/plain": [
       "array([[1.],\n",
       "       [0.],\n",
       "       [1.],\n",
       "       [0.],\n",
       "       [1.],\n",
       "       [0.]])"
      ]
     },
     "execution_count": 44,
     "metadata": {},
     "output_type": "execute_result"
    }
   ],
   "source": [
    "y_te"
   ]
  },
  {
   "cell_type": "markdown",
   "metadata": {},
   "source": [
    "#  testing low vs high"
   ]
  },
  {
   "cell_type": "code",
   "execution_count": 53,
   "metadata": {},
   "outputs": [],
   "source": [
    "def get_task_complexities_timeframes_br_hb(path, ident, seconds):\n",
    "    \"\"\"Returns raw data along with task complexity class.\n",
    "    TODO: join functions. Add parameter to choose different task types and complexities\"\"\"\n",
    "\n",
    "    dataread = datareader.DataReader(path, ident)  # initialize path to data\n",
    "    data = dataread.read_grc_data()  # read from files\n",
    "    samp_rate = int(round(len(data[1]) / max(data[0])))\n",
    "    cog_res = dataread.read_cognitive_load_study(str(ident) + '-primary-extract.txt')\n",
    "\n",
    "    tasks_data = np.empty((0, seconds*samp_rate))\n",
    "    tasks_y = np.empty((0, 1))\n",
    "    breathing = np.empty((0,12))\n",
    "    heartbeat = np.empty((0,10))\n",
    "\n",
    "    busy_n = dataread.get_data_task_timestamps(return_indexes=True)\n",
    "    \n",
    "    for i in cog_res['task_number']:\n",
    "        task_num_table = i - 225  # 0 - 17\n",
    "        tmp_tasks_data = np.empty((0, seconds*samp_rate))\n",
    "        tmp_tasks_y = np.empty((0, 1))\n",
    "        tmp_breathing = np.empty((0,12))\n",
    "        tmp_heartbeat = np.empty((0,10))\n",
    "        \n",
    "        ### task complexity classification\n",
    "        if cog_res['task_complexity'][task_num_table] == 'medium':\n",
    "            continue\n",
    "\n",
    "        \n",
    "        if cog_res['task_label'][task_num_table] != 'FA':\n",
    "            continue\n",
    "            \n",
    "        map_compl = {\n",
    "            'low': 0,\n",
    "            'medium': 2,\n",
    "            'high': 1\n",
    "        }\n",
    "        for j in range(10):\n",
    "            new_end = int(busy_n[task_num_table][1] - j * samp_rate)\n",
    "            new_start = int(new_end - samp_rate*30)\n",
    "            dataextract = dataextractor.DataExtractor(data[0][new_start:new_end],\n",
    "                                                      data[1][new_start:new_end], samp_rate)\n",
    "            # get extracted features for breathing\n",
    "            tmpBR = dataextract.extract_from_breathing_time(data[0][new_start:new_end],\n",
    "                                                                 data[1][new_start:new_end])\n",
    "            #get extracted features for heartbeat\n",
    "            tmpHB = dataextract.extract_from_heartbeat_time(data[0][new_start:new_end],\n",
    "                                                                 data[1][new_start:new_end])\n",
    "            \n",
    "            try:\n",
    "                \n",
    "                tmp_tasks_data = np.vstack((tmp_tasks_data, dataextract.y[-samp_rate * seconds:]))\n",
    "                tmp_tasks_y = np.vstack((tmp_tasks_y, map_compl.get(cog_res['task_complexity'][task_num_table])))\n",
    "\n",
    "                tmp_breathing = np.vstack((tmp_breathing, tmpBR.to_numpy(dtype='float64', na_value=0)[0][:-1]))\n",
    "                tmp_heartbeat = np.vstack((tmp_heartbeat, tmpHB.to_numpy(dtype='float64', na_value=0)[0][:-1]))\n",
    "                \n",
    "            except ValueError:\n",
    "#                 print(ident)\n",
    "                continue\n",
    "\n",
    "            tasks_data = np.vstack((tasks_data, dataextract.y))\n",
    "            tasks_y = np.vstack((tasks_y, map_compl.get(cog_res['task_complexity'][task_num_table])))\n",
    "            breathing = np.vstack((breathing, tmpBR.to_numpy(dtype='float64', na_value=0)[0][:-1]))\n",
    "            heartbeat = np.vstack((heartbeat, tmpHB.to_numpy(dtype='float64', na_value=0)[0][:-1]))\n",
    "            \n",
    "    return tasks_data, tasks_y, breathing, heartbeat"
   ]
  },
  {
   "cell_type": "code",
   "execution_count": 54,
   "metadata": {},
   "outputs": [],
   "source": [
    "def get_data_from_idents_br_hb(path, idents, seconds):\n",
    "    \"\"\"Go through all user data and take out windows of only <seconds> long time frames,\n",
    "    along with the given class (from 'divide_each_task' function).\n",
    "    \"\"\"\n",
    "    samp_rate = 43  # hard-coded sample rate\n",
    "    data, ys = np.empty((0, samp_rate*seconds)), np.empty((0, 1))\n",
    "    brs = np.empty((0,12))\n",
    "    hbs = np.empty((0,10))\n",
    "    combined = np.empty((0,22))\n",
    "    \n",
    "    # was gettign some weird warnings; stack overflow said to ignore them\n",
    "    with warnings.catch_warnings():\n",
    "        warnings.simplefilter(\"ignore\", category=RuntimeWarning)\n",
    "        for i in idents:\n",
    "            #x, y, br, hb = get_busy_vs_relax_timeframes_br_hb(path, i, seconds) # either 'get_busy_vs_relax_timeframes',\n",
    "            # get_engagement_increase_vs_decrease_timeframes, get_task_complexities_timeframes or get_TLX_timeframes\n",
    "            x, y, br, hb = get_task_complexities_timeframes_br_hb(path, i, seconds)\n",
    "            \n",
    "            data = np.vstack((data, x))\n",
    "            ys = np.vstack((ys, y))\n",
    "            brs = np.vstack((brs, br))\n",
    "            hbs = np.vstack((hbs, hb))\n",
    "        combined = np.hstack((brs,hbs))\n",
    "    \n",
    "    return data, ys, brs, hbs, combined"
   ]
  },
  {
   "cell_type": "code",
   "execution_count": 55,
   "metadata": {},
   "outputs": [],
   "source": [
    "# initialize a dictionary to store accuracies for comparison\n",
    "accuracies = {}\n",
    "\n",
    "# used for reading the data into an array\n",
    "seconds = 30  # time window length\n",
    "samp_rate = 43  # hard-coded sample rate\n",
    "phase_shape = np.empty((0, samp_rate*seconds))\n",
    "y_shape = np.empty((0, 1))\n",
    "breathing_shape = np.empty((0,12))\n",
    "heartbeat_shape = np.empty((0,10))\n",
    "combined_shape = np.empty((0,22))\n",
    "idents = ['2gu87', 'iz2ps', '1mpau', '7dwjy', '7swyk', '94mnx', 'bd47a', 'c24ur', 'ctsax', 'dkhty', 'e4gay',\n",
    "              'ef5rq', 'f1gjp', 'hpbxa', 'pmyfl', 'r89k1', 'tn4vl', 'td5pr', 'gyqu9', 'fzchw', 'l53hg', '3n2f9',\n",
    "              '62i9y']\n",
    "path = '../../../../../StudyData/'\n",
    "\n",
    "\n",
    "# change to len(idents) at the end to use all the data\n",
    "n = len(idents)"
   ]
  },
  {
   "cell_type": "code",
   "execution_count": 61,
   "metadata": {},
   "outputs": [
    {
     "data": {
      "text/plain": [
       "(20, 1290)"
      ]
     },
     "execution_count": 61,
     "metadata": {},
     "output_type": "execute_result"
    }
   ],
   "source": [
    "phase, y, breathing, heartbeat, combined = get_data_from_idents_br_hb(path, [idents[1]], seconds)\n",
    "phase = StandardScaler().fit_transform(phase)\n",
    "phase.shape"
   ]
  },
  {
   "cell_type": "code",
   "execution_count": 62,
   "metadata": {},
   "outputs": [
    {
     "data": {
      "text/plain": [
       "<Figure size 432x288 with 0 Axes>"
      ]
     },
     "metadata": {},
     "output_type": "display_data"
    },
    {
     "data": {
      "image/png": "[encoded data removed]",
      "text/plain": [
       "<Figure size 1440x432 with 20 Axes>"
      ]
     },
     "metadata": {
      "needs_background": "light"
     },
     "output_type": "display_data"
    }
   ],
   "source": [
    "plot_n = 20\n",
    "plt.figure(0)\n",
    "plt.figure(figsize=(20, 6))\n",
    "for i in range(plot_n):\n",
    "    plt.subplot(10,10, i+1)\n",
    "    plt.plot(phase[i])"
   ]
  },
  {
   "cell_type": "code",
   "execution_count": 63,
   "metadata": {},
   "outputs": [
    {
     "data": {
      "text/plain": [
       "array([[1.],\n",
       "       [1.],\n",
       "       [1.],\n",
       "       [1.],\n",
       "       [1.],\n",
       "       [1.],\n",
       "       [1.],\n",
       "       [1.],\n",
       "       [1.],\n",
       "       [1.],\n",
       "       [0.],\n",
       "       [0.],\n",
       "       [0.],\n",
       "       [0.],\n",
       "       [0.],\n",
       "       [0.],\n",
       "       [0.],\n",
       "       [0.],\n",
       "       [0.],\n",
       "       [0.]])"
      ]
     },
     "execution_count": 63,
     "metadata": {},
     "output_type": "execute_result"
    }
   ],
   "source": [
    "y"
   ]
  },
  {
   "cell_type": "code",
   "execution_count": null,
   "metadata": {},
   "outputs": [],
   "source": []
  }
 ],
 "metadata": {
  "kernelspec": {
   "display_name": "py37talos",
   "language": "python",
   "name": "py37talos"
  },
  "language_info": {
   "codemirror_mode": {
    "name": "ipython",
    "version": 3
   },
   "file_extension": ".py",
   "mimetype": "text/x-python",
   "name": "python",
   "nbconvert_exporter": "python",
   "pygments_lexer": "ipython3",
   "version": "3.7.7"
  }
 },
 "nbformat": 4,
 "nbformat_minor": 4
}
