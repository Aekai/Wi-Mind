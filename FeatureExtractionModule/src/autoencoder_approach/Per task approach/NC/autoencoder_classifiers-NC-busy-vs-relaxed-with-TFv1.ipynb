{
 "cells": [
  {
   "cell_type": "markdown",
   "metadata": {},
   "source": [
    "# Classifiers - NC - busy vs relaxed - with TFv1\n",
    "Exploring different classifiers with with the contractive autoencoder for the NC task. It needs the TFv1 compatibility."
   ]
  },
  {
   "cell_type": "markdown",
   "metadata": {},
   "source": [
    "#### Table of contents:  "
   ]
  },
  {
   "cell_type": "markdown",
   "metadata": {},
   "source": [
    "autoencoders:  \n",
    "[Contractive Autoencoder](#Contractive-Autoencoder)  \n",
    "\n",
    "classifiers:  \n",
    "[Simple dense classifier](#Simple-dense-classifier)  \n",
    "[LSTM-based classifier](#LSTM-based-classifier)  \n",
    "[kNN](#kNN)  \n",
    "[SVC](#SVC)  \n",
    "[Random Forest](#Random-Forest)  \n",
    "[XGBoost](#XGBoost)  "
   ]
  },
  {
   "cell_type": "code",
   "execution_count": 1,
   "metadata": {},
   "outputs": [],
   "source": [
    "import datareader # made by the previous author for reading the collected data\n",
    "import dataextractor # same as above\n",
    "import pandas\n",
    "import numpy as np\n",
    "\n",
    "import tensorflow as tf\n",
    "from tensorflow import keras\n",
    "from tensorflow.keras import layers, regularizers\n",
    "from tensorflow.keras.preprocessing import sequence\n",
    "from tensorflow.keras.models import Sequential, Model\n",
    "from tensorflow.keras.layers import Dense, Dropout, Activation, Input\n",
    "from tensorflow.keras.layers import LSTM\n",
    "from tensorflow.keras.layers import Conv1D, MaxPooling1D\n",
    "from tensorflow.keras.optimizers import Adam, Nadam\n",
    "# need to disable eager execution for .get_weights() in contractive autoencoder loss to work\n",
    "tf.compat.v1.disable_eager_execution() # required for the contractive autoencoder\n",
    "import tensorflow.keras.backend as K\n",
    "tf.keras.backend.set_floatx('float32') # call this, to set keras to use float32 to avoid a warning message\n",
    "metrics = ['accuracy']\n",
    "\n",
    "from sklearn.preprocessing import StandardScaler, MinMaxScaler\n",
    "\n",
    "import json\n",
    "from datetime import datetime\n",
    "import warnings\n",
    "import matplotlib.pyplot as plt"
   ]
  },
  {
   "cell_type": "code",
   "execution_count": 2,
   "metadata": {},
   "outputs": [],
   "source": [
    "# from https://github.com/ageron/handson-ml/blob/master/extra_tensorflow_reproducibility.ipynb\n",
    "config = tf.compat.v1.ConfigProto(intra_op_parallelism_threads=1,\n",
    "                        inter_op_parallelism_threads=1)\n",
    "\n",
    "with tf.compat.v1.Session(config=config) as sess:\n",
    "    #... this will run single threaded\n",
    "    pass"
   ]
  },
  {
   "cell_type": "code",
   "execution_count": 3,
   "metadata": {},
   "outputs": [],
   "source": [
    "import random\n",
    "\n",
    "random.seed(1)\n",
    "np.random.seed(4)\n",
    "tf.random.set_seed(2)"
   ]
  },
  {
   "cell_type": "code",
   "execution_count": 4,
   "metadata": {},
   "outputs": [],
   "source": [
    "# Start the notebook in the terminal with \"PYTHONHASHSEED=0 jupyter notebook\" \n",
    "# or in anaconda \"set PYTHONHASHSEED=0\" then start jupyter notebook\n",
    "import os\n",
    "if os.environ.get(\"PYTHONHASHSEED\") != \"0\":\n",
    "    raise Exception(\"You must set PYTHONHASHSEED=0 when starting the Jupyter server to get reproducible results.\")"
   ]
  },
  {
   "cell_type": "markdown",
   "metadata": {},
   "source": [
    "This is modfied original author's code for reading data:"
   ]
  },
  {
   "cell_type": "code",
   "execution_count": 5,
   "metadata": {},
   "outputs": [],
   "source": [
    "def model_train(model, x_train, y_train, batch_size, epochs, x_valid, y_valid, x_test, y_test):\n",
    "    \"\"\"Train model with the given training, validation, and test set, with appropriate batch size and # epochs.\"\"\"\n",
    "    epoch_data = model.fit(x_train, y_train, batch_size=batch_size, epochs=epochs, validation_data=(x_valid, y_valid), verbose=0)\n",
    "    score = model.evaluate(x_test, y_test, batch_size=batch_size, verbose=0)\n",
    "    acc = score[1]\n",
    "    score = score[0]\n",
    "    return score, acc, epoch_data\n"
   ]
  },
  {
   "cell_type": "code",
   "execution_count": 6,
   "metadata": {},
   "outputs": [],
   "source": [
    "def get_busy_vs_relax_timeframes_br_hb(path, ident, seconds):\n",
    "    \"\"\"Returns raw data from either 'on task' or 'relax' time frames and their class (0 or 1).\"\"\"\n",
    "    \n",
    "    dataread = datareader.DataReader(path, ident)  # initialize path to data\n",
    "    data = dataread.read_grc_data()  # read from files\n",
    "    samp_rate = int(round(len(data[1]) / max(data[0])))\n",
    "    cog_res = dataread.read_cognitive_load_study(str(ident) + '-primary-extract.txt')\n",
    "\n",
    "    tasks_data = np.empty((0, seconds*samp_rate))\n",
    "    tasks_y = np.empty((0, 1))\n",
    "    breathing = np.empty((0,12))\n",
    "    heartbeat = np.empty((0,10))\n",
    "\n",
    "    busy_n = dataread.get_data_task_timestamps(return_indexes=True)\n",
    "    relax_n = dataread.get_relax_timestamps(return_indexes=True)\n",
    "\n",
    "    for i in cog_res['task_number']:\n",
    "        task_num_table = i - 225  # 0 - 17\n",
    "        tmp_tasks_data = np.empty((0, seconds*samp_rate))\n",
    "        tmp_tasks_y = np.empty((0, 1))\n",
    "        tmp_breathing = np.empty((0,12))\n",
    "        tmp_heartbeat = np.empty((0,10))\n",
    "\n",
    "        if cog_res['task_label'][task_num_table] != 'NC':\n",
    "            continue\n",
    "        \n",
    "        ### task versus relax (1 sample each)\n",
    "        dataextract = dataextractor.DataExtractor(data[0][busy_n[task_num_table][0]:busy_n[task_num_table][1]],\n",
    "                                                  data[1][busy_n[task_num_table][0]:busy_n[task_num_table][1]],\n",
    "                                                  samp_rate)\n",
    "\n",
    "        dataextract_relax = dataextractor.DataExtractor(data[0][relax_n[task_num_table][0]:relax_n[task_num_table][1]],\n",
    "                                                        data[1][relax_n[task_num_table][0]:relax_n[task_num_table][1]],\n",
    "                                                        samp_rate)\n",
    "\n",
    "        try:\n",
    "\n",
    "            # get extracted features for breathing\n",
    "            tmpBR_busy = dataextract.extract_from_breathing_time(dataextract.t[-samp_rate*seconds:],\n",
    "                                                                 dataextract.y[-samp_rate*seconds:])\n",
    "            tmpBR_relax = dataextract_relax.extract_from_breathing_time(dataextract_relax.t[-samp_rate*seconds:],\n",
    "                                                                 dataextract_relax.y[-samp_rate*seconds:])\n",
    "            #get extracted features for heartbeat\n",
    "            tmpHB_busy = dataextract.extract_from_heartbeat_time(dataextract.t[-samp_rate*seconds:],\n",
    "                                                                 dataextract.y[-samp_rate*seconds:])\n",
    "            tmpHB_relax = dataextract.extract_from_heartbeat_time(dataextract_relax.t[-samp_rate*seconds:],\n",
    "                                                                 dataextract_relax.y[-samp_rate*seconds:])\n",
    "            \n",
    "            if not (tmpBR_busy['br_ok'][0] and tmpBR_relax['br_ok'][0]):# and tmpHB_busy['hr_ok'] and tmpHB_relax['hr_ok']):\n",
    "                continue\n",
    "\n",
    "            tmp_tasks_data = np.vstack((tmp_tasks_data, dataextract.y[-samp_rate * seconds:]))\n",
    "            tmp_tasks_y = np.vstack((tasks_y, 1))\n",
    "            tmp_tasks_data = np.vstack((tmp_tasks_data, dataextract_relax.y[-samp_rate * seconds:]))\n",
    "            tmp_tasks_y = np.vstack((tmp_tasks_y, 0))\n",
    "\n",
    "            # put busy frames then relaxed frames under the previous frames\n",
    "            tmp_breathing = np.vstack((tmp_breathing, tmpBR_busy.to_numpy(dtype='float64', na_value=0)[0][:-1]))\n",
    "            tmp_breathing = np.vstack((tmp_breathing, tmpBR_relax.to_numpy(dtype='float64', na_value=0)[0][:-1]))\n",
    "\n",
    "            tmp_heartbeat = np.vstack((tmp_heartbeat, tmpHB_busy.to_numpy(dtype='float64', na_value=0)[0][:-1]))\n",
    "            tmp_heartbeat = np.vstack((tmp_heartbeat, tmpHB_relax.to_numpy(dtype='float64', na_value=0)[0][:-1]))\n",
    "\n",
    "        except ValueError:\n",
    "#             print(ident)  # ignore short windows\n",
    "            continue\n",
    "\n",
    "        # put busy frames then relaxed frames under the previous frames\n",
    "        tasks_data = np.vstack((tasks_data, dataextract.y[-samp_rate * seconds:]))\n",
    "        tasks_y = np.vstack((tasks_y, 1))\n",
    "        tasks_data = np.vstack((tasks_data, dataextract_relax.y[-samp_rate * seconds:]))\n",
    "        tasks_y = np.vstack((tasks_y, 0))\n",
    "\n",
    "        breathing = np.vstack((breathing, tmp_breathing))\n",
    "\n",
    "        heartbeat = np.vstack((heartbeat, tmp_heartbeat))\n",
    "\n",
    "        tasks_data = np.unwrap(tasks_data)\n",
    "        \n",
    "    return tasks_data, tasks_y, breathing, heartbeat"
   ]
  },
  {
   "cell_type": "code",
   "execution_count": 7,
   "metadata": {},
   "outputs": [],
   "source": [
    "def get_data_from_idents_br_hb(path, idents, seconds):\n",
    "    \"\"\"Go through all user data and take out windows of only <seconds> long time frames,\n",
    "    along with the given class (from 'divide_each_task' function).\n",
    "    \"\"\"\n",
    "    samp_rate = 43  # hard-coded sample rate\n",
    "    data, ys = np.empty((0, samp_rate*seconds)), np.empty((0, 1))\n",
    "    brs = np.empty((0,12))\n",
    "    hbs = np.empty((0,10))\n",
    "    combined = np.empty((0,22))\n",
    "    \n",
    "    # was gettign some weird warnings; stack overflow said to ignore them\n",
    "    with warnings.catch_warnings():\n",
    "        warnings.simplefilter(\"ignore\", category=RuntimeWarning)\n",
    "        for i in idents:\n",
    "            x, y, br, hb = get_busy_vs_relax_timeframes_br_hb(path, i, seconds) # either 'get_busy_vs_relax_timeframes',\n",
    "            # get_engagement_increase_vs_decrease_timeframes, get_task_complexities_timeframes or get_TLX_timeframes\n",
    "\n",
    "            data = np.vstack((data, x))\n",
    "            ys = np.vstack((ys, y))\n",
    "            brs = np.vstack((brs, br))\n",
    "            hbs = np.vstack((hbs, hb))\n",
    "        combined = np.hstack((brs,hbs))\n",
    "    \n",
    "    return data, ys, brs, hbs, combined"
   ]
  },
  {
   "cell_type": "code",
   "execution_count": 8,
   "metadata": {},
   "outputs": [],
   "source": [
    "# Accs is a dictionary which holds 1d arrays of accuracies in each key\n",
    "# except the key 'test id' which holds strings of the id which yielded the coresponding accuracies\n",
    "def print_accs_stats(accs):\n",
    "    \n",
    "    printDict = {}\n",
    "    # loop over each key\n",
    "    for key in accs:\n",
    "    \n",
    "        if (key == 'test id'):\n",
    "            # skip calculating ids\n",
    "            continue\n",
    "        printDict[key] = {}\n",
    "        tmpDict = printDict[key]\n",
    "        # calculate and print some statistics\n",
    "        tmpDict['min'] = np.min(accs[key])\n",
    "        tmpDict['max'] = np.max(accs[key])\n",
    "        tmpDict['mean'] = np.mean(accs[key])\n",
    "        tmpDict['median'] = np.median(accs[key])\n",
    "    \n",
    "    print(pandas.DataFrame.from_dict(printDict).to_string())"
   ]
  },
  {
   "cell_type": "code",
   "execution_count": 9,
   "metadata": {},
   "outputs": [],
   "source": [
    "def set_random_seeds():\n",
    "    # clear session and set seeds again\n",
    "    # cannot clear session due to tf.compat.v1 graphs, but add tf.compat.v1.set_random_seed\n",
    "#     K.clear_session()\n",
    "    tf.compat.v1.set_random_seed(2)\n",
    "    random.seed(1)\n",
    "    np.random.seed(4)\n",
    "    tf.random.set_seed(2)"
   ]
  },
  {
   "cell_type": "markdown",
   "metadata": {},
   "source": [
    "## Prepare data"
   ]
  },
  {
   "cell_type": "markdown",
   "metadata": {},
   "source": [
    "Initialize variables:"
   ]
  },
  {
   "cell_type": "code",
   "execution_count": 10,
   "metadata": {},
   "outputs": [],
   "source": [
    "# initialize a dictionary to store accuracies for comparison\n",
    "accuracies = {}\n",
    "\n",
    "# used for reading the data into an array\n",
    "seconds = 30  # time window length\n",
    "samp_rate = 43  # hard-coded sample rate\n",
    "phase_shape = np.empty((0, samp_rate*seconds))\n",
    "y_shape = np.empty((0, 1))\n",
    "breathing_shape = np.empty((0,12))\n",
    "heartbeat_shape = np.empty((0,10))\n",
    "combined_shape = np.empty((0,22))\n",
    "idents = ['2gu87', 'iz2ps', '1mpau', '7dwjy', '7swyk', '94mnx', 'bd47a', 'c24ur', 'ctsax', 'dkhty', 'e4gay',\n",
    "              'ef5rq', 'f1gjp', 'hpbxa', 'pmyfl', 'r89k1', 'tn4vl', 'td5pr', 'gyqu9', 'fzchw', 'l53hg', '3n2f9',\n",
    "              '62i9y']\n",
    "path = '../../../../../StudyData/'\n",
    "\n",
    "\n",
    "# change to len(idents) at the end to use all the data\n",
    "n = len(idents)"
   ]
  },
  {
   "cell_type": "code",
   "execution_count": 11,
   "metadata": {},
   "outputs": [],
   "source": [
    "# load all phase data to use for training autoencoders\n",
    "phase_all_train = get_data_from_idents_br_hb(path, idents[:-2], seconds)[0]\n",
    "# Scale each row with MinMax to range [0,1]\n",
    "phase_all_train = MinMaxScaler().fit_transform(phase_all_train.T).T\n",
    "\n",
    "# load all validation phase data to use for training autoencoders\n",
    "phase_all_valid = get_data_from_idents_br_hb(path, idents[-2:], seconds)[0]\n",
    "# Scale each row with MinMax to range [0,1]\n",
    "phase_all_valid = MinMaxScaler().fit_transform(phase_all_valid.T).T"
   ]
  },
  {
   "cell_type": "code",
   "execution_count": 12,
   "metadata": {},
   "outputs": [],
   "source": [
    "# Holds all the data so it doesnt have to be read from file each time\n",
    "data_dict = {}"
   ]
  },
  {
   "cell_type": "markdown",
   "metadata": {},
   "source": [
    "Fill the data dictionary:"
   ]
  },
  {
   "cell_type": "code",
   "execution_count": 13,
   "metadata": {},
   "outputs": [],
   "source": [
    "for ident in idents:\n",
    "    \n",
    "    # initialize ident in \n",
    "    data_dict[ident] = {}\n",
    "    tmpDataDict = data_dict[ident]\n",
    "    \n",
    "    # read data\n",
    "    phase, y, breathing, heartbeat, combined = get_data_from_idents_br_hb(path, [ident], seconds)\n",
    "    \n",
    "    # load data into dictionary\n",
    "    tmpDataDict['phase'] = phase\n",
    "    tmpDataDict['y'] = y\n",
    "    tmpDataDict['breathing'] = breathing\n",
    "    tmpDataDict['heartbeat'] = heartbeat\n",
    "    tmpDataDict['combined'] = combined"
   ]
  },
  {
   "cell_type": "markdown",
   "metadata": {},
   "source": [
    "## Autoencoders  \n",
    "Train autoencoders to save their encoded representations in the data dictionary:"
   ]
  },
  {
   "cell_type": "code",
   "execution_count": 14,
   "metadata": {},
   "outputs": [],
   "source": [
    "# AE Training params\n",
    "batch_size = 128\n",
    "epochs = 1000\n",
    "encoding_dim = 30\n",
    "ae_encoded_shape = np.empty((0,encoding_dim))"
   ]
  },
  {
   "cell_type": "code",
   "execution_count": 15,
   "metadata": {},
   "outputs": [],
   "source": [
    "def compare_plot_n(data1, data2, plot_n=3):\n",
    "    \n",
    "    #plot data1 values\n",
    "    plt.figure()\n",
    "    plt.figure(figsize=(20, 4))\n",
    "    for i in range(plot_n):\n",
    "        plt.subplot(1, 6, i+1)\n",
    "        plt.plot(data1[i])\n",
    "\n",
    "    #plot data2 values\n",
    "    plt.figure()\n",
    "    plt.figure(figsize=(20, 4))\n",
    "    for i in range(plot_n):\n",
    "        plt.subplot(1, 6, i+1)\n",
    "        plt.plot(data2[i])"
   ]
  },
  {
   "cell_type": "markdown",
   "metadata": {},
   "source": [
    "#### Contractive Autoencoder\n",
    "From: https://wiseodd.github.io/techblog/2016/12/05/contractive-autoencoder/"
   ]
  },
  {
   "cell_type": "code",
   "execution_count": 16,
   "metadata": {},
   "outputs": [],
   "source": [
    "# define a function to be able to access the autoencoder in the loss funciton\n",
    "def loss_with_params(autoencoder):\n",
    "    # loss function from https://wiseodd.github.io/techblog/2016/12/05/contractive-autoencoder/\n",
    "    def contractive_loss(y_pred, y_true):\n",
    "\n",
    "        lam = 1e-4\n",
    "        mse = K.mean(K.square(y_true - y_pred), axis=1)\n",
    "\n",
    "        W = K.variable(value=autoencoder.get_layer('encoded').get_weights()[0])  # N x N_hidden\n",
    "        W = K.transpose(W)  # N_hidden x N\n",
    "        h = autoencoder.get_layer('encoded').output\n",
    "        dh = h * (1 - h)  # N_batch x N_hidden\n",
    "\n",
    "        # N_batch x N_hidden * N_hidden x 1 = N_batch x 1\n",
    "        contractive = lam * K.sum(dh**2 * K.sum(W**2, axis=1), axis=1)\n",
    "\n",
    "        return mse + contractive\n",
    "    return contractive_loss"
   ]
  },
  {
   "cell_type": "code",
   "execution_count": 17,
   "metadata": {},
   "outputs": [],
   "source": [
    "def contractive_ae(x, encoding_dim=64, encoded_as_model=False):\n",
    "    # From https://wiseodd.github.io/techblog/2016/12/05/contractive-autoencoder/\n",
    "\n",
    "    input_data = Input(shape=x[0].shape, name=\"input\")\n",
    "    encoded = Dense(encoding_dim, activation='relu', name='encoded')(input_data)\n",
    "    outputs = Dense(x[0].shape[0], activation='sigmoid', name=\"output\")(encoded)\n",
    "\n",
    "    autoencoder = Model(input_data, outputs, name=\"autoencoder\")\n",
    "    \n",
    "    # compile the model\n",
    "    autoencoder.compile(optimizer='adam', loss=loss_with_params(autoencoder), metrics=metrics)\n",
    "    \n",
    "    # if return encoder in the encoded variable\n",
    "    if encoded_as_model:\n",
    "        encoded = Model(input_data, encoded)\n",
    "    \n",
    "    return autoencoder, encoded"
   ]
  },
  {
   "cell_type": "markdown",
   "metadata": {},
   "source": [
    "Train autoencoder on data:"
   ]
  },
  {
   "cell_type": "code",
   "execution_count": 18,
   "metadata": {},
   "outputs": [
    {
     "name": "stdout",
     "output_type": "stream",
     "text": [
      "WARNING:tensorflow:From D:\\Miscellanious\\Anaconda\\envs\\py37talos\\lib\\site-packages\\tensorflow\\python\\keras\\engine\\training_v1.py:2048: Model.state_updates (from tensorflow.python.keras.engine.training) is deprecated and will be removed in a future version.\n",
      "Instructions for updating:\n",
      "This property should not be used in TensorFlow 2.0, as updates are applied automatically.\n"
     ]
    },
    {
     "data": {
      "text/plain": [
       "<tensorflow.python.keras.callbacks.History at 0x26c5d0c8f88>"
      ]
     },
     "execution_count": 18,
     "metadata": {},
     "output_type": "execute_result"
    }
   ],
   "source": [
    "set_random_seeds()\n",
    "ct_ae, ct_enc = contractive_ae(phase_all_train, encoding_dim=encoding_dim, encoded_as_model=True)\n",
    "ct_ae.fit(phase_all_train, phase_all_train,\n",
    "          validation_data=(phase_all_valid, phase_all_valid),\n",
    "          batch_size=batch_size,\n",
    "          shuffle=True,\n",
    "          epochs=epochs,\n",
    "          verbose=0)"
   ]
  },
  {
   "cell_type": "markdown",
   "metadata": {},
   "source": [
    "Plot some reconstructions to compare:"
   ]
  },
  {
   "cell_type": "code",
   "execution_count": 19,
   "metadata": {
    "scrolled": false
   },
   "outputs": [
    {
     "data": {
      "text/plain": [
       "<Figure size 432x288 with 0 Axes>"
      ]
     },
     "metadata": {},
     "output_type": "display_data"
    },
    {
     "data": {
      "image/png": "[encoded data removed]",
      "text/plain": [
       "<Figure size 1440x288 with 3 Axes>"
      ]
     },
     "metadata": {
      "needs_background": "light"
     },
     "output_type": "display_data"
    },
    {
     "data": {
      "text/plain": [
       "<Figure size 432x288 with 0 Axes>"
      ]
     },
     "metadata": {},
     "output_type": "display_data"
    },
    {
     "data": {
      "image/png": "[encoded data removed]",
      "text/plain": [
       "<Figure size 1440x288 with 3 Axes>"
      ]
     },
     "metadata": {
      "needs_background": "light"
     },
     "output_type": "display_data"
    }
   ],
   "source": [
    "data2 = ct_ae.predict(phase_all_valid)\n",
    "compare_plot_n(phase_all_valid, data2)"
   ]
  },
  {
   "cell_type": "markdown",
   "metadata": {},
   "source": [
    "Plot signal and its encoded representation:"
   ]
  },
  {
   "cell_type": "code",
   "execution_count": 20,
   "metadata": {
    "scrolled": false
   },
   "outputs": [
    {
     "data": {
      "text/plain": [
       "<Figure size 432x288 with 0 Axes>"
      ]
     },
     "metadata": {},
     "output_type": "display_data"
    },
    {
     "data": {
      "image/png": "[encoded data removed]",
      "text/plain": [
       "<Figure size 1440x288 with 3 Axes>"
      ]
     },
     "metadata": {
      "needs_background": "light"
     },
     "output_type": "display_data"
    },
    {
     "data": {
      "text/plain": [
       "<Figure size 432x288 with 0 Axes>"
      ]
     },
     "metadata": {},
     "output_type": "display_data"
    },
    {
     "data": {
      "image/png": "[encoded data removed]",
      "text/plain": [
       "<Figure size 1440x288 with 3 Axes>"
      ]
     },
     "metadata": {
      "needs_background": "light"
     },
     "output_type": "display_data"
    }
   ],
   "source": [
    "data2 = ct_enc.predict(phase_all_valid)\n",
    "compare_plot_n(phase_all_valid, data2)"
   ]
  },
  {
   "cell_type": "markdown",
   "metadata": {},
   "source": [
    "Store the encoded representations in the data dictionary:"
   ]
  },
  {
   "cell_type": "code",
   "execution_count": 21,
   "metadata": {},
   "outputs": [],
   "source": [
    "for ident in data_dict:\n",
    "    \n",
    "    tmpDataDict = data_dict[ident]\n",
    "    \n",
    "    # read data\n",
    "    phase = tmpDataDict['phase']\n",
    "    \n",
    "    # Skip idents that don't have any data\n",
    "    if (phase.shape[0] <= 0):\n",
    "        ct_data = np.empty((0, encoding_dim))\n",
    "    else:\n",
    "        ct_data = ct_enc.predict(phase)\n",
    "    \n",
    "    # load data into dictionary\n",
    "    tmpDataDict['contractive_encoded'] = ct_data"
   ]
  },
  {
   "cell_type": "markdown",
   "metadata": {},
   "source": [
    "Helper function to get data from the dictionary:"
   ]
  },
  {
   "cell_type": "code",
   "execution_count": 22,
   "metadata": {},
   "outputs": [],
   "source": [
    "def get_ident_data_from_dict(idents, data_dict):\n",
    "    \n",
    "    # Initialize data variables\n",
    "    y = y_shape.copy()\n",
    "    phase = phase_shape.copy()\n",
    "    contractive_encoded = ae_encoded_shape.copy()\n",
    "    \n",
    "    # Stack data form each ident into the variables\n",
    "    for tmp_id in idents:\n",
    "        phase = np.vstack((phase, data_dict[tmp_id]['phase']))\n",
    "        y = np.vstack((y, data_dict[tmp_id]['y']))\n",
    "        contractive_encoded = np.vstack((contractive_encoded, data_dict[tmp_id]['contractive_encoded']))\n",
    "    \n",
    "    return y, phase, contractive_encoded"
   ]
  },
  {
   "cell_type": "markdown",
   "metadata": {},
   "source": [
    "## Classifiers"
   ]
  },
  {
   "cell_type": "markdown",
   "metadata": {},
   "source": [
    "#### Helper loop function definition  \n",
    "A function that loops over all the data and calls the classifiers with it then stores the returned accuracies."
   ]
  },
  {
   "cell_type": "code",
   "execution_count": 23,
   "metadata": {},
   "outputs": [],
   "source": [
    "def helper_loop(classifier_function_train, idents, n=5, num_loops_to_average_over=1, should_scale_data=True):\n",
    "    #returns a dictionary with accuracies\n",
    "\n",
    "    # set the variables in the dictionary\n",
    "    accs = {}\n",
    "    accs['phase'] = []\n",
    "    accs['contractive'] = []\n",
    "    accs['test id'] = []\n",
    "    start_time = datetime.now()\n",
    "\n",
    "    with tf.compat.v1.Session(config=config) as sess:\n",
    "        # leave out person out validation\n",
    "        for i in range(n):\n",
    "\n",
    "            # print current iteration and time elapsed from start\n",
    "            print(\"iteration:\", i+1, \"of\", n, \"; time elapsed:\", datetime.now()-start_time)\n",
    "\n",
    "            ## ----- Data preparation:\n",
    "            validation_idents = [idents[i]]\n",
    "            test_idents = [idents[i-1]]\n",
    "\n",
    "            train_idents = []\n",
    "            for ident in idents:\n",
    "                if (ident not in test_idents) and (ident not in validation_idents):\n",
    "                    train_idents.append(ident)\n",
    "\n",
    "            # save test id to see which id yielded which accuracies\n",
    "            accs['test id'].append(test_idents[0])\n",
    "\n",
    "            # Load train data\n",
    "            train_data = get_ident_data_from_dict(train_idents, data_dict)\n",
    "            y_train = train_data[0]\n",
    "\n",
    "            # Load validation data\n",
    "            valid_data = get_ident_data_from_dict(validation_idents, data_dict)\n",
    "            y_valid = valid_data[0]\n",
    "            \n",
    "            # Load test data\n",
    "            test_data = get_ident_data_from_dict(test_idents, data_dict)\n",
    "            y_test = test_data[0]\n",
    "\n",
    "            # Skip idents that don't have any data\n",
    "            if (y_test.shape[0] <= 0 or y_valid.shape[0] <= 0):\n",
    "                continue\n",
    "            \n",
    "            data_names_by_index = ['y', 'phase', 'contractive']\n",
    "\n",
    "            # Loop over all data that will be used for classification and send it to the classifier\n",
    "            # index 0 is y so we skip it\n",
    "            for index in range(1, len(test_data)):\n",
    "                set_random_seeds()\n",
    "                train_x = train_data[index]\n",
    "                valid_x = valid_data[index]\n",
    "                test_x = test_data[index]\n",
    "\n",
    "                # Scale data\n",
    "                if should_scale_data:\n",
    "                    # Scale with standard scaler\n",
    "                    sscaler = StandardScaler()\n",
    "                    sscaler.fit(train_x)\n",
    "                    train_x = sscaler.transform(train_x)\n",
    "\n",
    "                    # Scale valid and test with train's scaler\n",
    "                    valid_x = sscaler.transform(valid_x)\n",
    "                    test_x = sscaler.transform(test_x)\n",
    "                \n",
    "                # Initialize variables\n",
    "                tmp_acc = []\n",
    "                data_name = data_names_by_index[index]\n",
    "\n",
    "                for index in range(num_loops_to_average_over):\n",
    "                    curr_acc = classifier_function_train(train_x, y_train, valid_x, y_valid, test_x, y_test, data_name)\n",
    "                    tmp_acc.append(curr_acc)\n",
    "\n",
    "                # Store accuracy\n",
    "                curr_acc = np.mean(tmp_acc)\n",
    "                accs[data_name].append(curr_acc)\n",
    "\n",
    "\n",
    "        # Print total time required to run this\n",
    "        end_time = datetime.now()\n",
    "        elapsed_time = end_time - start_time\n",
    "        print(\"Completed!\", \"Time elapsed:\", elapsed_time)\n",
    "    \n",
    "    return accs"
   ]
  },
  {
   "cell_type": "markdown",
   "metadata": {},
   "source": [
    "#### Simple dense classifier"
   ]
  },
  {
   "cell_type": "markdown",
   "metadata": {},
   "source": [
    "Define the classifier:"
   ]
  },
  {
   "cell_type": "code",
   "execution_count": 24,
   "metadata": {},
   "outputs": [],
   "source": [
    "params_dense_phase = {\n",
    "    'dropout': 0.4,\n",
    "    'hidden_size': 26,\n",
    "    'activation': 'sigmoid',\n",
    "    'loss': 'binary_crossentropy',\n",
    "    'optimizer': Adam,\n",
    "    'batch_size': 128,\n",
    "    'learning_rate': 0.001,\n",
    "    'epochs': 300\n",
    "}"
   ]
  },
  {
   "cell_type": "code",
   "execution_count": 25,
   "metadata": {},
   "outputs": [],
   "source": [
    "params_dense_ae_enc = {\n",
    "    'dropout': 0.05,\n",
    "    'hidden_size': 34,\n",
    "    'activation': 'relu',\n",
    "    'loss': 'binary_crossentropy',\n",
    "    'optimizer': Adam,\n",
    "    'learning_rate': 0.005,\n",
    "    'batch_size': 106,\n",
    "    'epochs': 200\n",
    "}"
   ]
  },
  {
   "cell_type": "code",
   "execution_count": 26,
   "metadata": {},
   "outputs": [],
   "source": [
    "def dense_train(x_train, y_train, x_valid, y_valid, x_test, y_test, data_name):\n",
    "    \n",
    "    params = params_dense_ae_enc\n",
    "    if (data_name == 'phase'):\n",
    "        params = params_dense_phase\n",
    "    \n",
    "    # Define the model\n",
    "    model = Sequential()\n",
    "    model.add(Dropout(params['dropout']))\n",
    "    model.add(Dense(params['hidden_size']))\n",
    "    model.add(Activation(params['activation']))\n",
    "    model.add(Dense(1))\n",
    "    model.add(Activation('sigmoid'))\n",
    "\n",
    "    # Compile the model\n",
    "    model.compile(loss=params['loss'],\n",
    "                  optimizer=params['optimizer'](learning_rate=params['learning_rate']),\n",
    "                  metrics=metrics)\n",
    "    \n",
    "    # Train the model and return the accuracy\n",
    "    sc, curr_acc, epoch_data = model_train(model, x_train, y_train, params['batch_size'], params['epochs'],\n",
    "                                           x_valid, y_valid, x_test, y_test)\n",
    "    \n",
    "    return curr_acc"
   ]
  },
  {
   "cell_type": "markdown",
   "metadata": {},
   "source": [
    "Combine the autoencoders with the classifier: "
   ]
  },
  {
   "cell_type": "code",
   "execution_count": 27,
   "metadata": {},
   "outputs": [
    {
     "name": "stdout",
     "output_type": "stream",
     "text": [
      "iteration: 1 of 23 ; time elapsed: 0:00:00.004986\n",
      "iteration: 2 of 23 ; time elapsed: 0:00:00.006980\n",
      "iteration: 3 of 23 ; time elapsed: 0:00:02.893584\n",
      "iteration: 4 of 23 ; time elapsed: 0:00:05.927226\n",
      "iteration: 5 of 23 ; time elapsed: 0:00:09.112336\n",
      "iteration: 6 of 23 ; time elapsed: 0:00:12.553068\n",
      "iteration: 7 of 23 ; time elapsed: 0:00:16.102790\n",
      "iteration: 8 of 23 ; time elapsed: 0:00:20.247638\n",
      "iteration: 9 of 23 ; time elapsed: 0:00:24.199588\n",
      "iteration: 10 of 23 ; time elapsed: 0:00:24.202583\n",
      "iteration: 11 of 23 ; time elapsed: 0:00:24.204607\n",
      "iteration: 12 of 23 ; time elapsed: 0:00:28.180110\n",
      "iteration: 13 of 23 ; time elapsed: 0:00:32.503887\n",
      "iteration: 14 of 23 ; time elapsed: 0:00:36.908836\n",
      "iteration: 15 of 23 ; time elapsed: 0:00:41.281790\n",
      "iteration: 16 of 23 ; time elapsed: 0:00:45.792657\n",
      "iteration: 17 of 23 ; time elapsed: 0:00:50.415965\n",
      "iteration: 18 of 23 ; time elapsed: 0:00:55.333821\n",
      "iteration: 19 of 23 ; time elapsed: 0:01:00.202934\n",
      "iteration: 20 of 23 ; time elapsed: 0:01:05.476269\n",
      "iteration: 21 of 23 ; time elapsed: 0:01:10.902104\n",
      "iteration: 22 of 23 ; time elapsed: 0:01:10.906094\n",
      "iteration: 23 of 23 ; time elapsed: 0:01:10.910084\n",
      "Completed! Time elapsed: 0:01:10.912108\n"
     ]
    }
   ],
   "source": [
    "accs = helper_loop(dense_train, idents, n=n, should_scale_data=True)"
   ]
  },
  {
   "cell_type": "code",
   "execution_count": 28,
   "metadata": {},
   "outputs": [],
   "source": [
    "accuracies['simple_dense'] = accs"
   ]
  },
  {
   "cell_type": "code",
   "execution_count": 29,
   "metadata": {},
   "outputs": [],
   "source": [
    "# print accuracies of each method and corresponding id which yielded that accuracy (same row)\n",
    "#pandas.DataFrame.from_dict(accs)"
   ]
  },
  {
   "cell_type": "code",
   "execution_count": 30,
   "metadata": {},
   "outputs": [
    {
     "name": "stdout",
     "output_type": "stream",
     "text": [
      "           phase  contractive\n",
      "min     0.000000     0.166667\n",
      "max     1.000000     1.000000\n",
      "mean    0.656863     0.661765\n",
      "median  0.666667     0.666667\n"
     ]
    }
   ],
   "source": [
    "# print some statistics for each method\n",
    "print_accs_stats(accs)"
   ]
  },
  {
   "cell_type": "markdown",
   "metadata": {},
   "source": [
    "#### LSTM-based classifier  \n",
    "based on the original author's code"
   ]
  },
  {
   "cell_type": "code",
   "execution_count": 31,
   "metadata": {},
   "outputs": [],
   "source": [
    "params_lstm_phase = {\n",
    "    'kernel_size': 4,\n",
    "    'filters': 32,\n",
    "    'strides': 2,\n",
    "    'pool_size': 4,\n",
    "    'dropout': 0.1,\n",
    "    'lstm_output_size': 22,\n",
    "    'activation': 'relu',\n",
    "    'last_activation': 'sigmoid',\n",
    "    'loss': 'binary_crossentropy',\n",
    "    'optimizer': Nadam,\n",
    "    'learning_rate': 0.005,\n",
    "    'batch_size': 168,\n",
    "    'epochs': 200\n",
    "}"
   ]
  },
  {
   "cell_type": "code",
   "execution_count": 32,
   "metadata": {},
   "outputs": [],
   "source": [
    "params_lstm_ae_enc = {\n",
    "    'kernel_size': 2,\n",
    "    'filters': 6,\n",
    "    'strides': 2,\n",
    "    'pool_size': 2,\n",
    "    'dropout': 0.01,\n",
    "    'lstm_output_size': 32,\n",
    "    'activation': 'relu',\n",
    "    'last_activation': 'sigmoid',\n",
    "    'loss': 'poisson',\n",
    "    'optimizer': Nadam,\n",
    "    'learning_rate': 0.001,\n",
    "    'batch_size': 64,\n",
    "    'epochs': 100\n",
    "}"
   ]
  },
  {
   "cell_type": "code",
   "execution_count": 33,
   "metadata": {},
   "outputs": [],
   "source": [
    "def LSTM_train(x_train, y_train, x_valid, y_valid, x_test, y_test, data_name):\n",
    "    \n",
    "    params = params_lstm_ae_enc\n",
    "    if (data_name == 'phase'):\n",
    "        params = params_lstm_phase\n",
    "    \n",
    "    # Reshape data to fit some layers\n",
    "    xt_train = x_train.reshape(-1, x_train[0].shape[0], 1)\n",
    "    xt_valid = x_valid.reshape(-1, x_valid[0].shape[0], 1)\n",
    "    xt_test = x_test.reshape(-1, x_test[0].shape[0], 1)\n",
    "    \n",
    "    # Define the model\n",
    "    model = Sequential()\n",
    "    model.add(Dropout(params['dropout']))\n",
    "    model.add(Conv1D(params['filters'],\n",
    "                     params['kernel_size'],\n",
    "                     padding='valid',\n",
    "                     activation=params['activation'],\n",
    "                     strides=params['strides']))\n",
    "\n",
    "    model.add(MaxPooling1D(pool_size=params['pool_size']))\n",
    "    \n",
    "    if (data_name == 'phase'):\n",
    "        model.add(Conv1D(params['filters'],\n",
    "                         params['kernel_size'],\n",
    "                         padding='valid',\n",
    "                         activation=params['activation'],\n",
    "                         strides=params['strides']))\n",
    "        model.add(MaxPooling1D(pool_size=params['pool_size']))\n",
    "\n",
    "    model.add(Dropout(params['dropout']))\n",
    "    model.add(LSTM(params['lstm_output_size']))\n",
    "    model.add(Dense(1))\n",
    "    model.add(Activation(params['last_activation']))\n",
    "\n",
    "    # Compile the model\n",
    "    model.compile(loss=params['loss'],\n",
    "                  optimizer=params['optimizer'](learning_rate=params['learning_rate']),\n",
    "                  metrics=['acc'])\n",
    "    \n",
    "    # Train the model and return the accuracy\n",
    "    sc, curr_acc, epoch_data = model_train(model, xt_train, y_train, params['batch_size'], params['epochs'],\n",
    "                                           xt_valid, y_valid, xt_test, y_test)\n",
    "    \n",
    "    return curr_acc"
   ]
  },
  {
   "cell_type": "markdown",
   "metadata": {},
   "source": [
    "Combine the autoencoders with the classifier: "
   ]
  },
  {
   "cell_type": "code",
   "execution_count": 34,
   "metadata": {},
   "outputs": [
    {
     "name": "stdout",
     "output_type": "stream",
     "text": [
      "iteration: 1 of 23 ; time elapsed: 0:00:00.004984\n",
      "iteration: 2 of 23 ; time elapsed: 0:00:00.010970\n",
      "iteration: 3 of 23 ; time elapsed: 0:00:14.075128\n",
      "iteration: 4 of 23 ; time elapsed: 0:00:29.564718\n",
      "iteration: 5 of 23 ; time elapsed: 0:00:45.699782\n",
      "iteration: 6 of 23 ; time elapsed: 0:01:02.389094\n",
      "iteration: 7 of 23 ; time elapsed: 0:01:20.251673\n",
      "iteration: 8 of 23 ; time elapsed: 0:01:39.066706\n",
      "iteration: 9 of 23 ; time elapsed: 0:01:58.875573\n",
      "iteration: 10 of 23 ; time elapsed: 0:01:58.879593\n",
      "iteration: 11 of 23 ; time elapsed: 0:01:58.881586\n",
      "iteration: 12 of 23 ; time elapsed: 0:02:19.755222\n",
      "iteration: 13 of 23 ; time elapsed: 0:02:41.069081\n",
      "iteration: 14 of 23 ; time elapsed: 0:03:02.334516\n",
      "iteration: 15 of 23 ; time elapsed: 0:03:25.068402\n",
      "iteration: 16 of 23 ; time elapsed: 0:03:49.328373\n",
      "iteration: 17 of 23 ; time elapsed: 0:04:14.391267\n",
      "iteration: 18 of 23 ; time elapsed: 0:04:42.051353\n",
      "iteration: 19 of 23 ; time elapsed: 0:05:11.024768\n",
      "iteration: 20 of 23 ; time elapsed: 0:05:40.355993\n",
      "iteration: 21 of 23 ; time elapsed: 0:06:11.680796\n",
      "iteration: 22 of 23 ; time elapsed: 0:06:11.684783\n",
      "iteration: 23 of 23 ; time elapsed: 0:06:11.687803\n",
      "Completed! Time elapsed: 0:06:11.690799\n"
     ]
    }
   ],
   "source": [
    "accs = helper_loop(LSTM_train, idents, n=n)"
   ]
  },
  {
   "cell_type": "code",
   "execution_count": 35,
   "metadata": {},
   "outputs": [],
   "source": [
    "accuracies['LSTM'] = accs"
   ]
  },
  {
   "cell_type": "code",
   "execution_count": 36,
   "metadata": {},
   "outputs": [],
   "source": [
    "# print accuracies of each method and corresponding id which yielded that accuracy (same row)\n",
    "#pandas.DataFrame.from_dict(accs)"
   ]
  },
  {
   "cell_type": "code",
   "execution_count": 37,
   "metadata": {
    "scrolled": false
   },
   "outputs": [
    {
     "name": "stdout",
     "output_type": "stream",
     "text": [
      "           phase  contractive\n",
      "min     0.333333     0.166667\n",
      "max     1.000000     1.000000\n",
      "mean    0.686275     0.534314\n",
      "median  0.666667     0.500000\n"
     ]
    }
   ],
   "source": [
    "# print some statistics for each method\n",
    "print_accs_stats(accs)"
   ]
  },
  {
   "cell_type": "markdown",
   "metadata": {},
   "source": [
    "#### kNN"
   ]
  },
  {
   "cell_type": "code",
   "execution_count": 38,
   "metadata": {},
   "outputs": [],
   "source": [
    "params_knn_phase = {\n",
    "    'n_neighbors': 5,\n",
    "    'metric': 'cosine'\n",
    "}"
   ]
  },
  {
   "cell_type": "code",
   "execution_count": 39,
   "metadata": {},
   "outputs": [],
   "source": [
    "params_knn_ae_enc = {\n",
    "    'n_neighbors': 15,\n",
    "    'metric': 'cosine'\n",
    "}"
   ]
  },
  {
   "cell_type": "code",
   "execution_count": 40,
   "metadata": {},
   "outputs": [],
   "source": [
    "from sklearn.neighbors import KNeighborsClassifier\n",
    "\n",
    "def KNN_classifier(params):\n",
    "    model = KNeighborsClassifier(n_neighbors=params['n_neighbors'], metric=params['metric'])\n",
    "    return model"
   ]
  },
  {
   "cell_type": "code",
   "execution_count": 41,
   "metadata": {},
   "outputs": [],
   "source": [
    "def KNN_train(x_train, y_train, x_valid, y_valid, x_test, y_test, data_name):\n",
    "    \n",
    "    params = params_knn_ae_enc\n",
    "    if (data_name == 'phase'):\n",
    "        params = params_knn_phase\n",
    "    \n",
    "    model = KNN_classifier(params)\n",
    "    model.fit(x_train, y_train.ravel())\n",
    "    curr_acc = np.sum(model.predict(x_test) == y_test.ravel()) / len(y_test.ravel())\n",
    "    return curr_acc"
   ]
  },
  {
   "cell_type": "markdown",
   "metadata": {},
   "source": [
    "Combine the autoencoders with the classifier: "
   ]
  },
  {
   "cell_type": "code",
   "execution_count": 42,
   "metadata": {
    "scrolled": false
   },
   "outputs": [
    {
     "name": "stdout",
     "output_type": "stream",
     "text": [
      "iteration: 1 of 23 ; time elapsed: 0:00:00.004987\n",
      "iteration: 2 of 23 ; time elapsed: 0:00:00.018950\n",
      "iteration: 3 of 23 ; time elapsed: 0:00:00.036901\n",
      "iteration: 4 of 23 ; time elapsed: 0:00:00.055850\n",
      "iteration: 5 of 23 ; time elapsed: 0:00:00.073803\n",
      "iteration: 6 of 23 ; time elapsed: 0:00:00.089760\n",
      "iteration: 7 of 23 ; time elapsed: 0:00:00.106716\n",
      "iteration: 8 of 23 ; time elapsed: 0:00:00.123669\n",
      "iteration: 9 of 23 ; time elapsed: 0:00:00.140624\n",
      "iteration: 10 of 23 ; time elapsed: 0:00:00.150597\n",
      "iteration: 11 of 23 ; time elapsed: 0:00:00.160570\n",
      "iteration: 12 of 23 ; time elapsed: 0:00:00.180518\n",
      "iteration: 13 of 23 ; time elapsed: 0:00:00.198470\n",
      "iteration: 14 of 23 ; time elapsed: 0:00:00.215424\n",
      "iteration: 15 of 23 ; time elapsed: 0:00:00.234397\n",
      "iteration: 16 of 23 ; time elapsed: 0:00:00.252353\n",
      "iteration: 17 of 23 ; time elapsed: 0:00:00.269280\n",
      "iteration: 18 of 23 ; time elapsed: 0:00:00.286235\n",
      "iteration: 19 of 23 ; time elapsed: 0:00:00.304187\n",
      "iteration: 20 of 23 ; time elapsed: 0:00:00.325130\n",
      "iteration: 21 of 23 ; time elapsed: 0:00:00.346076\n",
      "iteration: 22 of 23 ; time elapsed: 0:00:00.354081\n",
      "iteration: 23 of 23 ; time elapsed: 0:00:00.364026\n",
      "Completed! Time elapsed: 0:00:00.372006\n"
     ]
    }
   ],
   "source": [
    "accs = helper_loop(KNN_train, idents, n)"
   ]
  },
  {
   "cell_type": "code",
   "execution_count": 43,
   "metadata": {},
   "outputs": [],
   "source": [
    "accuracies['kNN'] = accs"
   ]
  },
  {
   "cell_type": "code",
   "execution_count": 44,
   "metadata": {},
   "outputs": [],
   "source": [
    "# print accuracies of each method and corresponding id which yielded that accuracy (same row)\n",
    "#pandas.DataFrame.from_dict(accs)"
   ]
  },
  {
   "cell_type": "code",
   "execution_count": 45,
   "metadata": {},
   "outputs": [
    {
     "name": "stdout",
     "output_type": "stream",
     "text": [
      "           phase  contractive\n",
      "min     0.000000     0.000000\n",
      "max     1.000000     1.000000\n",
      "mean    0.617647     0.514706\n",
      "median  0.500000     0.500000\n"
     ]
    }
   ],
   "source": [
    "# print some statistics for each method\n",
    "print_accs_stats(accs)"
   ]
  },
  {
   "cell_type": "markdown",
   "metadata": {},
   "source": [
    "####  SVC"
   ]
  },
  {
   "cell_type": "code",
   "execution_count": 46,
   "metadata": {},
   "outputs": [],
   "source": [
    "params_svc_phase = {\n",
    "    'C': 10,\n",
    "    'kernel': 'rbf',\n",
    "    'gamma': 'scale'\n",
    "}"
   ]
  },
  {
   "cell_type": "code",
   "execution_count": 47,
   "metadata": {},
   "outputs": [],
   "source": [
    "params_svc_ae_enc = {\n",
    "    'C': 3,\n",
    "    'kernel': 'rbf',\n",
    "    'gamma': 'auto'\n",
    "}"
   ]
  },
  {
   "cell_type": "code",
   "execution_count": 48,
   "metadata": {},
   "outputs": [],
   "source": [
    "from sklearn.svm import SVC\n",
    "\n",
    "def SVC_classifier(params):\n",
    "    model = SVC(random_state=42, C=params['C'], kernel=params['kernel'], gamma=params['gamma'])\n",
    "    return model"
   ]
  },
  {
   "cell_type": "code",
   "execution_count": 49,
   "metadata": {},
   "outputs": [],
   "source": [
    "def SVC_train(x_train, y_train, x_valid, y_valid, x_test, y_test, data_name):\n",
    "    \n",
    "    params = params_svc_ae_enc\n",
    "    if (data_name == 'phase'):\n",
    "        params = params_svc_phase\n",
    "    \n",
    "    model = SVC_classifier(params)\n",
    "    model.fit(x_train, y_train.ravel())\n",
    "    curr_acc = np.sum(model.predict(x_test) == y_test.ravel()) / len(y_test.ravel())\n",
    "    return curr_acc"
   ]
  },
  {
   "cell_type": "markdown",
   "metadata": {},
   "source": [
    "Combine the autoencoders with the classifier: "
   ]
  },
  {
   "cell_type": "code",
   "execution_count": 50,
   "metadata": {},
   "outputs": [
    {
     "name": "stdout",
     "output_type": "stream",
     "text": [
      "iteration: 1 of 23 ; time elapsed: 0:00:00.005985\n",
      "iteration: 2 of 23 ; time elapsed: 0:00:00.013962\n",
      "iteration: 3 of 23 ; time elapsed: 0:00:00.080784\n",
      "iteration: 4 of 23 ; time elapsed: 0:00:00.143615\n",
      "iteration: 5 of 23 ; time elapsed: 0:00:00.211462\n",
      "iteration: 6 of 23 ; time elapsed: 0:00:00.274294\n",
      "iteration: 7 of 23 ; time elapsed: 0:00:00.337604\n",
      "iteration: 8 of 23 ; time elapsed: 0:00:00.402431\n",
      "iteration: 9 of 23 ; time elapsed: 0:00:00.464265\n",
      "iteration: 10 of 23 ; time elapsed: 0:00:00.473241\n",
      "iteration: 11 of 23 ; time elapsed: 0:00:00.481220\n",
      "iteration: 12 of 23 ; time elapsed: 0:00:00.542615\n",
      "iteration: 13 of 23 ; time elapsed: 0:00:00.599494\n",
      "iteration: 14 of 23 ; time elapsed: 0:00:00.659334\n",
      "iteration: 15 of 23 ; time elapsed: 0:00:00.718176\n",
      "iteration: 16 of 23 ; time elapsed: 0:00:00.776046\n",
      "iteration: 17 of 23 ; time elapsed: 0:00:00.836208\n",
      "iteration: 18 of 23 ; time elapsed: 0:00:00.895313\n",
      "iteration: 19 of 23 ; time elapsed: 0:00:00.950170\n",
      "iteration: 20 of 23 ; time elapsed: 0:00:01.004502\n",
      "iteration: 21 of 23 ; time elapsed: 0:00:01.058385\n",
      "iteration: 22 of 23 ; time elapsed: 0:00:01.066359\n",
      "iteration: 23 of 23 ; time elapsed: 0:00:01.074314\n",
      "Completed! Time elapsed: 0:00:01.083317\n"
     ]
    }
   ],
   "source": [
    "accs = helper_loop(SVC_train, idents, n=n, num_loops_to_average_over=5)"
   ]
  },
  {
   "cell_type": "code",
   "execution_count": 51,
   "metadata": {},
   "outputs": [],
   "source": [
    "accuracies['SVC'] = accs"
   ]
  },
  {
   "cell_type": "code",
   "execution_count": 52,
   "metadata": {},
   "outputs": [],
   "source": [
    "# print accuracies of each method and corresponding id which yielded that accuracy (same row)\n",
    "#pandas.DataFrame.from_dict(accs)"
   ]
  },
  {
   "cell_type": "code",
   "execution_count": 53,
   "metadata": {},
   "outputs": [
    {
     "name": "stdout",
     "output_type": "stream",
     "text": [
      "           phase  contractive\n",
      "min     0.500000     0.166667\n",
      "max     1.000000     1.000000\n",
      "mean    0.661765     0.549020\n",
      "median  0.666667     0.500000\n"
     ]
    }
   ],
   "source": [
    "# print some statistics for each method\n",
    "print_accs_stats(accs)"
   ]
  },
  {
   "cell_type": "markdown",
   "metadata": {},
   "source": [
    "#### Random Forest"
   ]
  },
  {
   "cell_type": "code",
   "execution_count": 54,
   "metadata": {},
   "outputs": [],
   "source": [
    "params_rf_phase = {\n",
    "    'n_estimators': 180,\n",
    "    'max_depth': 50,\n",
    "    'min_samples_split': 4,\n",
    "    'min_samples_leaf': 1,\n",
    "    'oob_score': False,\n",
    "    'ccp_alpha': 0.001\n",
    "}"
   ]
  },
  {
   "cell_type": "code",
   "execution_count": 55,
   "metadata": {},
   "outputs": [],
   "source": [
    "params_rf_ae_enc = {\n",
    "    'n_estimators': 130,\n",
    "    'max_depth': 100,\n",
    "    'min_samples_split': 5,\n",
    "    'min_samples_leaf': 5,\n",
    "    'oob_score': True,\n",
    "    'ccp_alpha': 0.005\n",
    "}"
   ]
  },
  {
   "cell_type": "code",
   "execution_count": 56,
   "metadata": {},
   "outputs": [],
   "source": [
    "from sklearn.ensemble import RandomForestClassifier\n",
    "def random_forest_classifier(params):\n",
    "    model = RandomForestClassifier(random_state=42,\n",
    "                                   n_estimators = params['n_estimators'],\n",
    "                                   criterion = 'entropy',\n",
    "                                   max_depth = params['max_depth'],\n",
    "                                   min_samples_split = params['min_samples_split'],\n",
    "                                   min_samples_leaf = params['min_samples_leaf'],\n",
    "                                   oob_score = params['oob_score'],\n",
    "                                   ccp_alpha = params['ccp_alpha'],\n",
    "                                   max_features = 'log2',\n",
    "                                   bootstrap = True)\n",
    "    return model"
   ]
  },
  {
   "cell_type": "code",
   "execution_count": 57,
   "metadata": {},
   "outputs": [],
   "source": [
    "def random_forest_train(x_train, y_train, x_valid, y_valid, x_test, y_test, data_name):\n",
    "    \n",
    "    params = params_rf_ae_enc\n",
    "    if (data_name == 'phase'):\n",
    "        params = params_rf_phase\n",
    "    \n",
    "    model = random_forest_classifier(params)\n",
    "    model.fit(x_train, y_train.ravel())\n",
    "    curr_acc = np.sum(model.predict(x_test) == y_test.ravel()) / len(y_test.ravel())\n",
    "    return curr_acc"
   ]
  },
  {
   "cell_type": "markdown",
   "metadata": {},
   "source": [
    "Combine the autoencoders with the classifier: "
   ]
  },
  {
   "cell_type": "code",
   "execution_count": 58,
   "metadata": {},
   "outputs": [
    {
     "name": "stdout",
     "output_type": "stream",
     "text": [
      "iteration: 1 of 23 ; time elapsed: 0:00:00.005982\n",
      "iteration: 2 of 23 ; time elapsed: 0:00:00.013963\n",
      "iteration: 3 of 23 ; time elapsed: 0:00:02.167181\n",
      "iteration: 4 of 23 ; time elapsed: 0:00:04.731534\n",
      "iteration: 5 of 23 ; time elapsed: 0:00:06.888554\n",
      "iteration: 6 of 23 ; time elapsed: 0:00:09.856648\n",
      "iteration: 7 of 23 ; time elapsed: 0:00:13.003248\n",
      "iteration: 8 of 23 ; time elapsed: 0:00:15.372713\n",
      "iteration: 9 of 23 ; time elapsed: 0:00:17.752053\n",
      "iteration: 10 of 23 ; time elapsed: 0:00:17.760032\n",
      "iteration: 11 of 23 ; time elapsed: 0:00:17.769006\n",
      "iteration: 12 of 23 ; time elapsed: 0:00:20.068739\n",
      "iteration: 13 of 23 ; time elapsed: 0:00:22.355630\n",
      "iteration: 14 of 23 ; time elapsed: 0:00:24.607789\n",
      "iteration: 15 of 23 ; time elapsed: 0:00:26.792637\n",
      "iteration: 16 of 23 ; time elapsed: 0:00:29.287237\n",
      "iteration: 17 of 23 ; time elapsed: 0:00:31.439330\n",
      "iteration: 18 of 23 ; time elapsed: 0:00:33.949823\n",
      "iteration: 19 of 23 ; time elapsed: 0:00:36.012613\n",
      "iteration: 20 of 23 ; time elapsed: 0:00:38.506447\n",
      "iteration: 21 of 23 ; time elapsed: 0:00:40.695198\n",
      "iteration: 22 of 23 ; time elapsed: 0:00:40.703177\n",
      "iteration: 23 of 23 ; time elapsed: 0:00:40.711154\n",
      "Completed! Time elapsed: 0:00:40.719133\n"
     ]
    }
   ],
   "source": [
    "accs = helper_loop(random_forest_train, idents, n=n, num_loops_to_average_over=5, should_scale_data=False)"
   ]
  },
  {
   "cell_type": "code",
   "execution_count": 59,
   "metadata": {},
   "outputs": [],
   "source": [
    "accuracies['random_forest'] = accs"
   ]
  },
  {
   "cell_type": "code",
   "execution_count": 60,
   "metadata": {},
   "outputs": [],
   "source": [
    "# print accuracies of each method and corresponding id which yielded that accuracy (same row)\n",
    "#pandas.DataFrame.from_dict(accs)"
   ]
  },
  {
   "cell_type": "code",
   "execution_count": 61,
   "metadata": {},
   "outputs": [
    {
     "name": "stdout",
     "output_type": "stream",
     "text": [
      "           phase  contractive\n",
      "min     0.166667     0.000000\n",
      "max     1.000000     1.000000\n",
      "mean    0.544118     0.593137\n",
      "median  0.500000     0.500000\n"
     ]
    }
   ],
   "source": [
    "# print some statistics for each method\n",
    "print_accs_stats(accs)"
   ]
  },
  {
   "cell_type": "markdown",
   "metadata": {},
   "source": [
    "#### Naive Bayesian"
   ]
  },
  {
   "cell_type": "code",
   "execution_count": 62,
   "metadata": {},
   "outputs": [],
   "source": [
    "from sklearn.naive_bayes import GaussianNB\n",
    "\n",
    "def naive_bayesian_classifier():\n",
    "    model = GaussianNB()\n",
    "    return model"
   ]
  },
  {
   "cell_type": "code",
   "execution_count": 63,
   "metadata": {},
   "outputs": [],
   "source": [
    "def naive_bayesian_train(x_train, y_train, x_valid, y_valid, x_test, y_test, data_name):\n",
    "    model = naive_bayesian_classifier()\n",
    "    model.fit(x_train, y_train.ravel())\n",
    "    curr_acc = np.sum(model.predict(x_test) == y_test.ravel()) / len(y_test.ravel())\n",
    "    return curr_acc"
   ]
  },
  {
   "cell_type": "markdown",
   "metadata": {},
   "source": [
    "Combine the autoencoders with the classifier: "
   ]
  },
  {
   "cell_type": "code",
   "execution_count": 64,
   "metadata": {},
   "outputs": [
    {
     "name": "stdout",
     "output_type": "stream",
     "text": [
      "iteration: 1 of 23 ; time elapsed: 0:00:00.004986\n",
      "iteration: 2 of 23 ; time elapsed: 0:00:00.013963\n",
      "iteration: 3 of 23 ; time elapsed: 0:00:00.028924\n",
      "iteration: 4 of 23 ; time elapsed: 0:00:00.046875\n",
      "iteration: 5 of 23 ; time elapsed: 0:00:00.062834\n",
      "iteration: 6 of 23 ; time elapsed: 0:00:00.079787\n",
      "iteration: 7 of 23 ; time elapsed: 0:00:00.094789\n",
      "iteration: 8 of 23 ; time elapsed: 0:00:00.109735\n",
      "iteration: 9 of 23 ; time elapsed: 0:00:00.125173\n",
      "iteration: 10 of 23 ; time elapsed: 0:00:00.133151\n",
      "iteration: 11 of 23 ; time elapsed: 0:00:00.141159\n",
      "iteration: 12 of 23 ; time elapsed: 0:00:00.158086\n",
      "iteration: 13 of 23 ; time elapsed: 0:00:00.173046\n",
      "iteration: 14 of 23 ; time elapsed: 0:00:00.188006\n",
      "iteration: 15 of 23 ; time elapsed: 0:00:00.202966\n",
      "iteration: 16 of 23 ; time elapsed: 0:00:00.218924\n",
      "iteration: 17 of 23 ; time elapsed: 0:00:00.234881\n",
      "iteration: 18 of 23 ; time elapsed: 0:00:00.250838\n",
      "iteration: 19 of 23 ; time elapsed: 0:00:00.266822\n",
      "iteration: 20 of 23 ; time elapsed: 0:00:00.282753\n",
      "iteration: 21 of 23 ; time elapsed: 0:00:00.296714\n",
      "iteration: 22 of 23 ; time elapsed: 0:00:00.303720\n",
      "iteration: 23 of 23 ; time elapsed: 0:00:00.310677\n",
      "Completed! Time elapsed: 0:00:00.318656\n"
     ]
    }
   ],
   "source": [
    "accs = helper_loop(naive_bayesian_train, idents, n=n, should_scale_data=True)"
   ]
  },
  {
   "cell_type": "code",
   "execution_count": 65,
   "metadata": {},
   "outputs": [],
   "source": [
    "accuracies['naive_bayesian'] = accs"
   ]
  },
  {
   "cell_type": "code",
   "execution_count": 66,
   "metadata": {},
   "outputs": [],
   "source": [
    "# print accuracies of each method and corresponding id which yielded that accuracy (same row)\n",
    "#pandas.DataFrame.from_dict(accs)"
   ]
  },
  {
   "cell_type": "code",
   "execution_count": 67,
   "metadata": {},
   "outputs": [
    {
     "name": "stdout",
     "output_type": "stream",
     "text": [
      "           phase  contractive\n",
      "min     0.000000     0.000000\n",
      "max     0.750000     1.000000\n",
      "mean    0.465686     0.519608\n",
      "median  0.500000     0.500000\n"
     ]
    }
   ],
   "source": [
    "# print some statistics for each method\n",
    "print_accs_stats(accs)"
   ]
  },
  {
   "cell_type": "markdown",
   "metadata": {},
   "source": [
    "#### XGBoost"
   ]
  },
  {
   "cell_type": "code",
   "execution_count": 68,
   "metadata": {},
   "outputs": [],
   "source": [
    "params_xgb_phase = {\n",
    "    'n_estimators': 50,\n",
    "    'max_depth': 50,\n",
    "    'booster': 'gbtree'\n",
    "}"
   ]
  },
  {
   "cell_type": "code",
   "execution_count": 69,
   "metadata": {},
   "outputs": [],
   "source": [
    "params_xgb_ae_enc = {\n",
    "    'n_estimators': 50,\n",
    "    'max_depth': 5,\n",
    "    'booster': 'gbtree'\n",
    "}"
   ]
  },
  {
   "cell_type": "code",
   "execution_count": 70,
   "metadata": {},
   "outputs": [],
   "source": [
    "from xgboost import XGBClassifier\n",
    "\n",
    "def XGBoost_classifier(params):\n",
    "    model = XGBClassifier(random_state=42,\n",
    "                         n_estimators=params['n_estimators'],\n",
    "                         max_depth=params['max_depth'])\n",
    "    return model"
   ]
  },
  {
   "cell_type": "code",
   "execution_count": 71,
   "metadata": {},
   "outputs": [],
   "source": [
    "def XGBoost_train(x_train, y_train, x_valid, y_valid, x_test, y_test, data_name):\n",
    "    \n",
    "    params = params_xgb_ae_enc\n",
    "    if (data_name == 'phase'):\n",
    "        params = params_xgb_phase\n",
    "    \n",
    "    model = XGBoost_classifier(params)\n",
    "    model.fit(x_train, y_train.ravel())\n",
    "    curr_acc = np.sum(model.predict(x_test) == y_test.ravel()) / len(y_test.ravel())\n",
    "    return curr_acc"
   ]
  },
  {
   "cell_type": "markdown",
   "metadata": {},
   "source": [
    "Combine the autoencoders with the classifier: "
   ]
  },
  {
   "cell_type": "code",
   "execution_count": 72,
   "metadata": {},
   "outputs": [
    {
     "name": "stdout",
     "output_type": "stream",
     "text": [
      "iteration: 1 of 23 ; time elapsed: 0:00:00.005993\n",
      "iteration: 2 of 23 ; time elapsed: 0:00:00.014959\n",
      "iteration: 3 of 23 ; time elapsed: 0:00:00.879819\n",
      "iteration: 4 of 23 ; time elapsed: 0:00:01.595875\n",
      "iteration: 5 of 23 ; time elapsed: 0:00:02.309405\n",
      "iteration: 6 of 23 ; time elapsed: 0:00:02.964032\n",
      "iteration: 7 of 23 ; time elapsed: 0:00:03.621617\n",
      "iteration: 8 of 23 ; time elapsed: 0:00:04.298316\n",
      "iteration: 9 of 23 ; time elapsed: 0:00:04.960633\n",
      "iteration: 10 of 23 ; time elapsed: 0:00:04.971604\n",
      "iteration: 11 of 23 ; time elapsed: 0:00:04.981577\n",
      "iteration: 12 of 23 ; time elapsed: 0:00:05.751127\n",
      "iteration: 13 of 23 ; time elapsed: 0:00:06.426582\n",
      "iteration: 14 of 23 ; time elapsed: 0:00:07.104993\n",
      "iteration: 15 of 23 ; time elapsed: 0:00:08.008504\n",
      "iteration: 16 of 23 ; time elapsed: 0:00:09.153441\n",
      "iteration: 17 of 23 ; time elapsed: 0:00:10.195519\n",
      "iteration: 18 of 23 ; time elapsed: 0:00:11.380426\n",
      "iteration: 19 of 23 ; time elapsed: 0:00:12.549723\n",
      "iteration: 20 of 23 ; time elapsed: 0:00:13.701336\n",
      "iteration: 21 of 23 ; time elapsed: 0:00:14.845876\n",
      "iteration: 22 of 23 ; time elapsed: 0:00:14.856877\n",
      "iteration: 23 of 23 ; time elapsed: 0:00:14.866876\n",
      "Completed! Time elapsed: 0:00:14.876872\n"
     ]
    }
   ],
   "source": [
    "accs = helper_loop(XGBoost_train, idents, n=n, num_loops_to_average_over=5, should_scale_data=False)"
   ]
  },
  {
   "cell_type": "code",
   "execution_count": 73,
   "metadata": {},
   "outputs": [],
   "source": [
    "accuracies['XGBoost'] = accs"
   ]
  },
  {
   "cell_type": "code",
   "execution_count": 74,
   "metadata": {},
   "outputs": [],
   "source": [
    "# print accuracies of each method and corresponding id which yielded that accuracy (same row)\n",
    "#pandas.DataFrame.from_dict(accs)"
   ]
  },
  {
   "cell_type": "code",
   "execution_count": 75,
   "metadata": {},
   "outputs": [
    {
     "name": "stdout",
     "output_type": "stream",
     "text": [
      "           phase  contractive\n",
      "min     0.250000     0.333333\n",
      "max     1.000000     1.000000\n",
      "mean    0.593137     0.632353\n",
      "median  0.500000     0.500000\n"
     ]
    }
   ],
   "source": [
    "# print some statistics for each method\n",
    "print_accs_stats(accs)"
   ]
  },
  {
   "cell_type": "markdown",
   "metadata": {},
   "source": [
    "###  Compare Accuracies"
   ]
  },
  {
   "cell_type": "markdown",
   "metadata": {},
   "source": [
    "Save all accuracies to results csv file:"
   ]
  },
  {
   "cell_type": "code",
   "execution_count": 76,
   "metadata": {},
   "outputs": [],
   "source": [
    "results_path = \"../../results/BvR/BvR-NC-tfv1.csv\"\n",
    "\n",
    "# Make a dataframe from the accuracies\n",
    "accs_dataframe = pandas.DataFrame(accuracies).T\n",
    "# Save dataframe to file\n",
    "accs_dataframe.to_csv(results_path, mode='w')"
   ]
  },
  {
   "cell_type": "markdown",
   "metadata": {},
   "source": [
    "Print min, max, mean, median for each clasifier/autoencoder combination:"
   ]
  },
  {
   "cell_type": "code",
   "execution_count": 77,
   "metadata": {},
   "outputs": [
    {
     "name": "stdout",
     "output_type": "stream",
     "text": [
      "----------- simple_dense: -----------\n",
      "           phase  contractive\n",
      "min     0.000000     0.166667\n",
      "max     1.000000     1.000000\n",
      "mean    0.656863     0.661765\n",
      "median  0.666667     0.666667\n",
      "\n",
      "\n",
      "----------- LSTM: -----------\n",
      "           phase  contractive\n",
      "min     0.333333     0.166667\n",
      "max     1.000000     1.000000\n",
      "mean    0.686275     0.534314\n",
      "median  0.666667     0.500000\n",
      "\n",
      "\n",
      "----------- kNN: -----------\n",
      "           phase  contractive\n",
      "min     0.000000     0.000000\n",
      "max     1.000000     1.000000\n",
      "mean    0.617647     0.514706\n",
      "median  0.500000     0.500000\n",
      "\n",
      "\n",
      "----------- SVC: -----------\n",
      "           phase  contractive\n",
      "min     0.500000     0.166667\n",
      "max     1.000000     1.000000\n",
      "mean    0.661765     0.549020\n",
      "median  0.666667     0.500000\n",
      "\n",
      "\n",
      "----------- random_forest: -----------\n",
      "           phase  contractive\n",
      "min     0.166667     0.000000\n",
      "max     1.000000     1.000000\n",
      "mean    0.544118     0.593137\n",
      "median  0.500000     0.500000\n",
      "\n",
      "\n",
      "----------- naive_bayesian: -----------\n",
      "           phase  contractive\n",
      "min     0.000000     0.000000\n",
      "max     0.750000     1.000000\n",
      "mean    0.465686     0.519608\n",
      "median  0.500000     0.500000\n",
      "\n",
      "\n",
      "----------- XGBoost: -----------\n",
      "           phase  contractive\n",
      "min     0.250000     0.333333\n",
      "max     1.000000     1.000000\n",
      "mean    0.593137     0.632353\n",
      "median  0.500000     0.500000\n",
      "\n",
      "\n"
     ]
    }
   ],
   "source": [
    "for classifier in accuracies:\n",
    "    print(\"-----------\", classifier + \":\", \"-----------\")\n",
    "    accs = accuracies[classifier]\n",
    "    print_accs_stats(accs)    \n",
    "    print(\"\\n\")"
   ]
  },
  {
   "cell_type": "markdown",
   "metadata": {},
   "source": [
    "Print all accuracies in table form:"
   ]
  },
  {
   "cell_type": "code",
   "execution_count": 78,
   "metadata": {},
   "outputs": [
    {
     "name": "stdout",
     "output_type": "stream",
     "text": [
      "simple_dense:\n"
     ]
    },
    {
     "ename": "ValueError",
     "evalue": "arrays must all be same length",
     "output_type": "error",
     "traceback": [
      "\u001b[1;31m---------------------------------------------------------------------------\u001b[0m",
      "\u001b[1;31mValueError\u001b[0m                                Traceback (most recent call last)",
      "\u001b[1;32m<ipython-input-78-b9f26129e3c9>\u001b[0m in \u001b[0;36m<module>\u001b[1;34m\u001b[0m\n\u001b[0;32m      3\u001b[0m \u001b[1;31m#     print(pandas.DataFrame.from_dict(accuracies[classifier]))\u001b[0m\u001b[1;33m\u001b[0m\u001b[1;33m\u001b[0m\u001b[1;33m\u001b[0m\u001b[0m\n\u001b[0;32m      4\u001b[0m     \u001b[1;31m# Using .to_string() gives nicer loooking results (doesn't split into new line)\u001b[0m\u001b[1;33m\u001b[0m\u001b[1;33m\u001b[0m\u001b[1;33m\u001b[0m\u001b[0m\n\u001b[1;32m----> 5\u001b[1;33m     \u001b[0mprint\u001b[0m\u001b[1;33m(\u001b[0m\u001b[0mpandas\u001b[0m\u001b[1;33m.\u001b[0m\u001b[0mDataFrame\u001b[0m\u001b[1;33m.\u001b[0m\u001b[0mfrom_dict\u001b[0m\u001b[1;33m(\u001b[0m\u001b[0maccuracies\u001b[0m\u001b[1;33m[\u001b[0m\u001b[0mclassifier\u001b[0m\u001b[1;33m]\u001b[0m\u001b[1;33m)\u001b[0m\u001b[1;33m.\u001b[0m\u001b[0mto_string\u001b[0m\u001b[1;33m(\u001b[0m\u001b[1;33m)\u001b[0m\u001b[1;33m)\u001b[0m\u001b[1;33m\u001b[0m\u001b[1;33m\u001b[0m\u001b[0m\n\u001b[0m\u001b[0;32m      6\u001b[0m     \u001b[0mprint\u001b[0m\u001b[1;33m(\u001b[0m\u001b[1;34m\"\\n\"\u001b[0m\u001b[1;33m)\u001b[0m\u001b[1;33m\u001b[0m\u001b[1;33m\u001b[0m\u001b[0m\n",
      "\u001b[1;32mD:\\Miscellanious\\Anaconda\\envs\\py37talos\\lib\\site-packages\\pandas\\core\\frame.py\u001b[0m in \u001b[0;36mfrom_dict\u001b[1;34m(cls, data, orient, dtype, columns)\u001b[0m\n\u001b[0;32m   1306\u001b[0m             \u001b[1;32mraise\u001b[0m \u001b[0mValueError\u001b[0m\u001b[1;33m(\u001b[0m\u001b[1;34m\"only recognize index or columns for orient\"\u001b[0m\u001b[1;33m)\u001b[0m\u001b[1;33m\u001b[0m\u001b[1;33m\u001b[0m\u001b[0m\n\u001b[0;32m   1307\u001b[0m \u001b[1;33m\u001b[0m\u001b[0m\n\u001b[1;32m-> 1308\u001b[1;33m         \u001b[1;32mreturn\u001b[0m \u001b[0mcls\u001b[0m\u001b[1;33m(\u001b[0m\u001b[0mdata\u001b[0m\u001b[1;33m,\u001b[0m \u001b[0mindex\u001b[0m\u001b[1;33m=\u001b[0m\u001b[0mindex\u001b[0m\u001b[1;33m,\u001b[0m \u001b[0mcolumns\u001b[0m\u001b[1;33m=\u001b[0m\u001b[0mcolumns\u001b[0m\u001b[1;33m,\u001b[0m \u001b[0mdtype\u001b[0m\u001b[1;33m=\u001b[0m\u001b[0mdtype\u001b[0m\u001b[1;33m)\u001b[0m\u001b[1;33m\u001b[0m\u001b[1;33m\u001b[0m\u001b[0m\n\u001b[0m\u001b[0;32m   1309\u001b[0m \u001b[1;33m\u001b[0m\u001b[0m\n\u001b[0;32m   1310\u001b[0m     def to_numpy(\n",
      "\u001b[1;32mD:\\Miscellanious\\Anaconda\\envs\\py37talos\\lib\\site-packages\\pandas\\core\\frame.py\u001b[0m in \u001b[0;36m__init__\u001b[1;34m(self, data, index, columns, dtype, copy)\u001b[0m\n\u001b[0;32m    465\u001b[0m \u001b[1;33m\u001b[0m\u001b[0m\n\u001b[0;32m    466\u001b[0m         \u001b[1;32melif\u001b[0m \u001b[0misinstance\u001b[0m\u001b[1;33m(\u001b[0m\u001b[0mdata\u001b[0m\u001b[1;33m,\u001b[0m \u001b[0mdict\u001b[0m\u001b[1;33m)\u001b[0m\u001b[1;33m:\u001b[0m\u001b[1;33m\u001b[0m\u001b[1;33m\u001b[0m\u001b[0m\n\u001b[1;32m--> 467\u001b[1;33m             \u001b[0mmgr\u001b[0m \u001b[1;33m=\u001b[0m \u001b[0minit_dict\u001b[0m\u001b[1;33m(\u001b[0m\u001b[0mdata\u001b[0m\u001b[1;33m,\u001b[0m \u001b[0mindex\u001b[0m\u001b[1;33m,\u001b[0m \u001b[0mcolumns\u001b[0m\u001b[1;33m,\u001b[0m \u001b[0mdtype\u001b[0m\u001b[1;33m=\u001b[0m\u001b[0mdtype\u001b[0m\u001b[1;33m)\u001b[0m\u001b[1;33m\u001b[0m\u001b[1;33m\u001b[0m\u001b[0m\n\u001b[0m\u001b[0;32m    468\u001b[0m         \u001b[1;32melif\u001b[0m \u001b[0misinstance\u001b[0m\u001b[1;33m(\u001b[0m\u001b[0mdata\u001b[0m\u001b[1;33m,\u001b[0m \u001b[0mma\u001b[0m\u001b[1;33m.\u001b[0m\u001b[0mMaskedArray\u001b[0m\u001b[1;33m)\u001b[0m\u001b[1;33m:\u001b[0m\u001b[1;33m\u001b[0m\u001b[1;33m\u001b[0m\u001b[0m\n\u001b[0;32m    469\u001b[0m             \u001b[1;32mimport\u001b[0m \u001b[0mnumpy\u001b[0m\u001b[1;33m.\u001b[0m\u001b[0mma\u001b[0m\u001b[1;33m.\u001b[0m\u001b[0mmrecords\u001b[0m \u001b[1;32mas\u001b[0m \u001b[0mmrecords\u001b[0m\u001b[1;33m\u001b[0m\u001b[1;33m\u001b[0m\u001b[0m\n",
      "\u001b[1;32mD:\\Miscellanious\\Anaconda\\envs\\py37talos\\lib\\site-packages\\pandas\\core\\internals\\construction.py\u001b[0m in \u001b[0;36minit_dict\u001b[1;34m(data, index, columns, dtype)\u001b[0m\n\u001b[0;32m    281\u001b[0m             \u001b[0marr\u001b[0m \u001b[1;32mif\u001b[0m \u001b[1;32mnot\u001b[0m \u001b[0mis_datetime64tz_dtype\u001b[0m\u001b[1;33m(\u001b[0m\u001b[0marr\u001b[0m\u001b[1;33m)\u001b[0m \u001b[1;32melse\u001b[0m \u001b[0marr\u001b[0m\u001b[1;33m.\u001b[0m\u001b[0mcopy\u001b[0m\u001b[1;33m(\u001b[0m\u001b[1;33m)\u001b[0m \u001b[1;32mfor\u001b[0m \u001b[0marr\u001b[0m \u001b[1;32min\u001b[0m \u001b[0marrays\u001b[0m\u001b[1;33m\u001b[0m\u001b[1;33m\u001b[0m\u001b[0m\n\u001b[0;32m    282\u001b[0m         ]\n\u001b[1;32m--> 283\u001b[1;33m     \u001b[1;32mreturn\u001b[0m \u001b[0marrays_to_mgr\u001b[0m\u001b[1;33m(\u001b[0m\u001b[0marrays\u001b[0m\u001b[1;33m,\u001b[0m \u001b[0mdata_names\u001b[0m\u001b[1;33m,\u001b[0m \u001b[0mindex\u001b[0m\u001b[1;33m,\u001b[0m \u001b[0mcolumns\u001b[0m\u001b[1;33m,\u001b[0m \u001b[0mdtype\u001b[0m\u001b[1;33m=\u001b[0m\u001b[0mdtype\u001b[0m\u001b[1;33m)\u001b[0m\u001b[1;33m\u001b[0m\u001b[1;33m\u001b[0m\u001b[0m\n\u001b[0m\u001b[0;32m    284\u001b[0m \u001b[1;33m\u001b[0m\u001b[0m\n\u001b[0;32m    285\u001b[0m \u001b[1;33m\u001b[0m\u001b[0m\n",
      "\u001b[1;32mD:\\Miscellanious\\Anaconda\\envs\\py37talos\\lib\\site-packages\\pandas\\core\\internals\\construction.py\u001b[0m in \u001b[0;36marrays_to_mgr\u001b[1;34m(arrays, arr_names, index, columns, dtype, verify_integrity)\u001b[0m\n\u001b[0;32m     76\u001b[0m         \u001b[1;31m# figure out the index, if necessary\u001b[0m\u001b[1;33m\u001b[0m\u001b[1;33m\u001b[0m\u001b[1;33m\u001b[0m\u001b[0m\n\u001b[0;32m     77\u001b[0m         \u001b[1;32mif\u001b[0m \u001b[0mindex\u001b[0m \u001b[1;32mis\u001b[0m \u001b[1;32mNone\u001b[0m\u001b[1;33m:\u001b[0m\u001b[1;33m\u001b[0m\u001b[1;33m\u001b[0m\u001b[0m\n\u001b[1;32m---> 78\u001b[1;33m             \u001b[0mindex\u001b[0m \u001b[1;33m=\u001b[0m \u001b[0mextract_index\u001b[0m\u001b[1;33m(\u001b[0m\u001b[0marrays\u001b[0m\u001b[1;33m)\u001b[0m\u001b[1;33m\u001b[0m\u001b[1;33m\u001b[0m\u001b[0m\n\u001b[0m\u001b[0;32m     79\u001b[0m         \u001b[1;32melse\u001b[0m\u001b[1;33m:\u001b[0m\u001b[1;33m\u001b[0m\u001b[1;33m\u001b[0m\u001b[0m\n\u001b[0;32m     80\u001b[0m             \u001b[0mindex\u001b[0m \u001b[1;33m=\u001b[0m \u001b[0mensure_index\u001b[0m\u001b[1;33m(\u001b[0m\u001b[0mindex\u001b[0m\u001b[1;33m)\u001b[0m\u001b[1;33m\u001b[0m\u001b[1;33m\u001b[0m\u001b[0m\n",
      "\u001b[1;32mD:\\Miscellanious\\Anaconda\\envs\\py37talos\\lib\\site-packages\\pandas\\core\\internals\\construction.py\u001b[0m in \u001b[0;36mextract_index\u001b[1;34m(data)\u001b[0m\n\u001b[0;32m    395\u001b[0m             \u001b[0mlengths\u001b[0m \u001b[1;33m=\u001b[0m \u001b[0mlist\u001b[0m\u001b[1;33m(\u001b[0m\u001b[0mset\u001b[0m\u001b[1;33m(\u001b[0m\u001b[0mraw_lengths\u001b[0m\u001b[1;33m)\u001b[0m\u001b[1;33m)\u001b[0m\u001b[1;33m\u001b[0m\u001b[1;33m\u001b[0m\u001b[0m\n\u001b[0;32m    396\u001b[0m             \u001b[1;32mif\u001b[0m \u001b[0mlen\u001b[0m\u001b[1;33m(\u001b[0m\u001b[0mlengths\u001b[0m\u001b[1;33m)\u001b[0m \u001b[1;33m>\u001b[0m \u001b[1;36m1\u001b[0m\u001b[1;33m:\u001b[0m\u001b[1;33m\u001b[0m\u001b[1;33m\u001b[0m\u001b[0m\n\u001b[1;32m--> 397\u001b[1;33m                 \u001b[1;32mraise\u001b[0m \u001b[0mValueError\u001b[0m\u001b[1;33m(\u001b[0m\u001b[1;34m\"arrays must all be same length\"\u001b[0m\u001b[1;33m)\u001b[0m\u001b[1;33m\u001b[0m\u001b[1;33m\u001b[0m\u001b[0m\n\u001b[0m\u001b[0;32m    398\u001b[0m \u001b[1;33m\u001b[0m\u001b[0m\n\u001b[0;32m    399\u001b[0m             \u001b[1;32mif\u001b[0m \u001b[0mhave_dicts\u001b[0m\u001b[1;33m:\u001b[0m\u001b[1;33m\u001b[0m\u001b[1;33m\u001b[0m\u001b[0m\n",
      "\u001b[1;31mValueError\u001b[0m: arrays must all be same length"
     ]
    }
   ],
   "source": [
    "for classifier in accuracies:\n",
    "    print(classifier + \":\")\n",
    "#     print(pandas.DataFrame.from_dict(accuracies[classifier]))\n",
    "    # Using .to_string() gives nicer loooking results (doesn't split into new line)\n",
    "    print(pandas.DataFrame.from_dict(accuracies[classifier]).to_string())\n",
    "    print(\"\\n\")"
   ]
  },
  {
   "cell_type": "code",
   "execution_count": null,
   "metadata": {},
   "outputs": [],
   "source": []
  }
 ],
 "metadata": {
  "kernelspec": {
   "display_name": "py37talos",
   "language": "python",
   "name": "py37talos"
  },
  "language_info": {
   "codemirror_mode": {
    "name": "ipython",
    "version": 3
   },
   "file_extension": ".py",
   "mimetype": "text/x-python",
   "name": "python",
   "nbconvert_exporter": "python",
   "pygments_lexer": "ipython3",
   "version": "3.7.7"
  }
 },
 "nbformat": 4,
 "nbformat_minor": 4
}
