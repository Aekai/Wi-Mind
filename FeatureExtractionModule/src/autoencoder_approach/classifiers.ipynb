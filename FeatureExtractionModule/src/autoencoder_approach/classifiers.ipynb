{
 "cells": [
  {
   "cell_type": "markdown",
   "metadata": {},
   "source": [
    "# Classifiers\n",
    "Exploring different classifiers."
   ]
  },
  {
   "cell_type": "markdown",
   "metadata": {},
   "source": [
    "classifiers:  \n",
    "[Simple dense layer](#Simple-dense-layer)  \n",
    "[LSTM-based classifier](#LSTM-based-classifier)  \n",
    "[kNN](#kNN)  \n",
    "[SVC](#SVC)  \n",
    "[Random Forest](#Random-Forest)  \n",
    "[XGBoost](#XGBoost)  "
   ]
  },
  {
   "cell_type": "code",
   "execution_count": 1,
   "metadata": {},
   "outputs": [],
   "source": [
    "import datareader # made by the previous author for reading the collected data\n",
    "import dataextractor # same as above\n",
    "import numpy as np\n",
    "import tensorflow as tf\n",
    "# need to disable eager execution for .get_weights() in contractive autoencoder loss to work\n",
    "tf.compat.v1.disable_eager_execution()\n",
    "from tensorflow.keras.preprocessing import sequence\n",
    "from tensorflow.keras.models import Sequential, Model\n",
    "from tensorflow.keras.layers import Dense, Dropout, Activation, Input\n",
    "from tensorflow.keras.layers import LSTM\n",
    "from tensorflow.keras.layers import Conv1D, MaxPooling1D\n",
    "import json\n",
    "\n",
    "from sklearn.preprocessing import StandardScaler, MinMaxScaler\n",
    "from sklearn.model_selection import RandomizedSearchCV\n",
    "\n",
    "import talos\n",
    "from talos.utils import lr_normalizer\n",
    "\n",
    "from tensorflow import keras\n",
    "from tensorflow.keras import layers, regularizers\n",
    "import matplotlib.pyplot as plt\n",
    "\n",
    "tf.keras.backend.set_floatx('float32') # call this, to set keras to use float32 to avoid a warning message\n",
    "metrics = ['accuracy',\n",
    "           keras.metrics.TruePositives(),\n",
    "           keras.metrics.FalsePositives(),\n",
    "           keras.metrics.TrueNegatives(),\n",
    "           keras.metrics.FalseNegatives()]"
   ]
  },
  {
   "cell_type": "code",
   "execution_count": 2,
   "metadata": {},
   "outputs": [],
   "source": [
    "np.random.seed(4)\n",
    "tf.random.set_seed(2)"
   ]
  },
  {
   "cell_type": "markdown",
   "metadata": {},
   "source": [
    "This is the original author's code, just copied into separate cells of this jupyter notebook:"
   ]
  },
  {
   "cell_type": "code",
   "execution_count": 3,
   "metadata": {},
   "outputs": [],
   "source": [
    "def get_busy_vs_relax_timeframes(path, ident, seconds):\n",
    "    \"\"\"Returns raw data from either 'on task' or 'relax' time frames and their class (0 or 1).\n",
    "    TODO: join functions\"\"\"\n",
    "\n",
    "    dataread = datareader.DataReader(path, ident)  # initialize path to data\n",
    "    data = dataread.read_grc_data()  # read from files\n",
    "    samp_rate = int(round(len(data[1]) / max(data[0])))\n",
    "    cog_res = dataread.read_cognitive_load_study(str(ident) + '-primary-extract.txt')\n",
    "\n",
    "    tasks_data = np.empty((0, seconds*samp_rate))\n",
    "    tasks_y = np.empty((0, 1))\n",
    "\n",
    "    busy_n = dataread.get_data_task_timestamps(return_indexes=True)\n",
    "    relax_n = dataread.get_relax_timestamps(return_indexes=True)\n",
    "\n",
    "    for i in cog_res['task_number']:\n",
    "        task_num_table = i - 225  # 0 - 17\n",
    "\n",
    "        ### task versus relax (1 sample each)\n",
    "        dataextract = dataextractor.DataExtractor(data[0][busy_n[task_num_table][0]:busy_n[task_num_table][1]],\n",
    "                                                  data[1][busy_n[task_num_table][0]:busy_n[task_num_table][1]],\n",
    "                                                  samp_rate)\n",
    "\n",
    "        dataextract_relax = dataextractor.DataExtractor(data[0][relax_n[task_num_table][0]:relax_n[task_num_table][1]],\n",
    "                                                        data[1][relax_n[task_num_table][0]:relax_n[task_num_table][1]],\n",
    "                                                        samp_rate)\n",
    "        try:\n",
    "            tasks_data = np.vstack((tasks_data, dataextract.y[-samp_rate * seconds:]))\n",
    "            tasks_y = np.vstack((tasks_y, 1))\n",
    "            tasks_data = np.vstack((tasks_data, dataextract_relax.y[-samp_rate * seconds:]))\n",
    "            tasks_y = np.vstack((tasks_y, 0))\n",
    "        except ValueError:\n",
    "            continue\n",
    "#             print(ident)  # ignore short windows\n",
    "\n",
    "    return tasks_data, tasks_y\n"
   ]
  },
  {
   "cell_type": "code",
   "execution_count": 4,
   "metadata": {},
   "outputs": [],
   "source": [
    "def get_engagement_increase_vs_decrease_timeframes(path, ident, seconds):\n",
    "    \"\"\"Returns raw data from either engagement 'increase' or 'decrease' time frames and their class (0 or 1).\n",
    "    TODO: join functions\"\"\"\n",
    "\n",
    "    dataread = datareader.DataReader(path, ident)  # initialize path to data\n",
    "    data = dataread.read_grc_data()  # read from files\n",
    "    samp_rate = int(round(len(data[1]) / max(data[0])))\n",
    "    cog_res = dataread.read_cognitive_load_study(str(ident) + '-primary-extract.txt')\n",
    "\n",
    "    tasks_data = np.empty((0, seconds * samp_rate))\n",
    "    tasks_y = np.empty((0, 1))\n",
    "\n",
    "    busy_n = dataread.get_data_task_timestamps(return_indexes=True)\n",
    "    relax_n = dataread.get_relax_timestamps(return_indexes=True)\n",
    "\n",
    "    for i in cog_res['task_number']:\n",
    "        task_num_table = i - 225  # 0 - 17\n",
    "\n",
    "        ### engagement increase / decrease\n",
    "        if task_num_table == 0:\n",
    "            continue\n",
    "        mid = int((relax_n[task_num_table][0] + relax_n[task_num_table][1])/2)\n",
    "        length = int(samp_rate*30)\n",
    "        for j in range(10):\n",
    "            new_end = int(mid-j*samp_rate)\n",
    "\n",
    "            new_start2 = int(mid+j*samp_rate)\n",
    "\n",
    "            dataextract_decrease = dataextractor.DataExtractor(data[0][new_end - length:new_end],\n",
    "                                                               data[1][new_end-length:new_end],\n",
    "                                                               samp_rate)\n",
    "\n",
    "            dataextract_increase = dataextractor.DataExtractor(data[0][new_start2: new_start2 + length],\n",
    "                                                               data[1][new_start2: new_start2 + length], samp_rate)\n",
    "\n",
    "            try:\n",
    "                tasks_data = np.vstack((tasks_data, dataextract_increase.y))\n",
    "                tasks_y = np.vstack((tasks_y, 1))\n",
    "                tasks_data = np.vstack((tasks_data, dataextract_decrease.y))\n",
    "                tasks_y = np.vstack((tasks_y, 0))\n",
    "            except ValueError:\n",
    "                print(ident)  # ignore short windows\n",
    "\n",
    "    return tasks_data, tasks_y\n"
   ]
  },
  {
   "cell_type": "code",
   "execution_count": 5,
   "metadata": {},
   "outputs": [],
   "source": [
    "def get_task_complexities_timeframes(path, ident, seconds):\n",
    "    \"\"\"Returns raw data along with task complexity class.\n",
    "    TODO: join functions. Add parameter to choose different task types and complexities\"\"\"\n",
    "\n",
    "    dataread = datareader.DataReader(path, ident)  # initialize path to data\n",
    "    data = dataread.read_grc_data()  # read from files\n",
    "    samp_rate = int(round(len(data[1]) / max(data[0])))\n",
    "    cog_res = dataread.read_cognitive_load_study(str(ident) + '-primary-extract.txt')\n",
    "\n",
    "    tasks_data = np.empty((0, seconds*samp_rate))\n",
    "    tasks_y = np.empty((0, 1))\n",
    "\n",
    "    busy_n = dataread.get_data_task_timestamps(return_indexes=True)\n",
    "    relax_n = dataread.get_relax_timestamps(return_indexes=True)\n",
    "\n",
    "    for i in cog_res['task_number']:\n",
    "        task_num_table = i - 225  # 0 - 17\n",
    "\n",
    "        ### task complexity classification\n",
    "        if cog_res['task_complexity'][task_num_table] == 'medium':\n",
    "            continue\n",
    "        # if cog_res['task_label'][task_num_table] == 'FA' or cog_res['task_label'][task_num_table] == 'HP':\n",
    "        #     continue\n",
    "        if cog_res['task_label'][task_num_table] != 'NC':\n",
    "            continue\n",
    "        map_compl = {\n",
    "            'low': 0,\n",
    "            'medium': 2,\n",
    "            'high': 1\n",
    "        }\n",
    "        for j in range(10):\n",
    "            new_end = int(busy_n[task_num_table][1] - j * samp_rate)\n",
    "            new_start = int(new_end - samp_rate*30)\n",
    "            dataextract = dataextractor.DataExtractor(data[0][new_start:new_end],\n",
    "                                                      data[1][new_start:new_end], samp_rate)\n",
    "            try:\n",
    "                tasks_data = np.vstack((tasks_data, dataextract.y))\n",
    "                tasks_y = np.vstack((tasks_y, map_compl.get(cog_res['task_complexity'][task_num_table])))\n",
    "            except ValueError:\n",
    "                print(ident)\n",
    "\n",
    "    return tasks_data, tasks_y\n"
   ]
  },
  {
   "cell_type": "code",
   "execution_count": 6,
   "metadata": {},
   "outputs": [],
   "source": [
    "def get_TLX_timeframes(path, ident, seconds):\n",
    "    \"\"\"Returns raw data along with task load index class.\n",
    "    TODO: join functions. Add parameter to choose different task types and complexities\"\"\"\n",
    "\n",
    "    dataread = datareader.DataReader(path, ident)  # initialize path to data\n",
    "    data = dataread.read_grc_data()  # read from files\n",
    "    samp_rate = int(round(len(data[1]) / max(data[0])))\n",
    "    cog_res = dataread.read_cognitive_load_study(str(ident) + '-primary-extract.txt')\n",
    "\n",
    "    tasks_data = np.empty((0, seconds*samp_rate))\n",
    "    tasks_y = np.empty((0, 1))\n",
    "\n",
    "    busy_n = dataread.get_data_task_timestamps(return_indexes=True)\n",
    "    relax_n = dataread.get_relax_timestamps(return_indexes=True)\n",
    "\n",
    "    for i in cog_res['task_number']:\n",
    "        task_num_table = i - 225  # 0 - 17\n",
    "\n",
    "        ### task load index\n",
    "        if cog_res['task_complexity'][task_num_table] == 'medium' or cog_res['task_label'][task_num_table] != 'PT':\n",
    "            continue\n",
    "        for j in range(10):\n",
    "            new_end = int(busy_n[task_num_table][1] - j * samp_rate)\n",
    "            new_start = int(new_end - samp_rate*30)\n",
    "            dataextract = dataextractor.DataExtractor(data[0][new_start:new_end],\n",
    "                                                      data[1][new_start:new_end], samp_rate)\n",
    "            try:\n",
    "                tasks_data = np.vstack((tasks_data, dataextract.y))\n",
    "                tasks_y = np.vstack((tasks_y, cog_res['task_load_index'][task_num_table]))\n",
    "            except ValueError:\n",
    "                print(ident)\n",
    "\n",
    "    return tasks_data, tasks_y\n"
   ]
  },
  {
   "cell_type": "code",
   "execution_count": 7,
   "metadata": {},
   "outputs": [],
   "source": [
    "def get_data_from_idents(path, idents, seconds):\n",
    "    \"\"\"Go through all user data and take out windows of only <seconds> long time frames,\n",
    "    along with the given class (from 'divide_each_task' function).\n",
    "    \"\"\"\n",
    "    samp_rate = 43  # hard-coded sample rate\n",
    "    data, ys = np.empty((0, samp_rate*seconds)), np.empty((0, 1))\n",
    "    for i in idents:\n",
    "        x, y = get_busy_vs_relax_timeframes(path, i, seconds) # either 'get_busy_vs_relax_timeframes',\n",
    "        # get_engagement_increase_vs_decrease_timeframes, get_task_complexities_timeframes or get_TLX_timeframes\n",
    "        # TODO: ^ modify, so that different functions can be accessible by parameter\n",
    "        data = np.vstack((data, x))\n",
    "        ys = np.vstack((ys, y))\n",
    "    return data, ys\n"
   ]
  },
  {
   "cell_type": "code",
   "execution_count": 8,
   "metadata": {},
   "outputs": [],
   "source": [
    "def model_train(model, x_train, y_train, batch_size, epochs, x_valid, y_valid, x_test, y_test):\n",
    "    \"\"\"Train model with the given training, validation, and test set, with appropriate batch size and # epochs.\"\"\"\n",
    "    print('Train...')\n",
    "    epoch_data = model.fit(x_train, y_train, batch_size=batch_size, epochs=epochs, validation_data=(x_valid, y_valid), verbose=0)\n",
    "    print('Evaluate...')\n",
    "    score = model.evaluate(x_test, y_test, batch_size=batch_size)\n",
    "    acc = score[1]\n",
    "    score = score[0]\n",
    "    return score, acc, epoch_data\n"
   ]
  },
  {
   "cell_type": "code",
   "execution_count": 9,
   "metadata": {},
   "outputs": [],
   "source": [
    "def sequence_padding(x, maxlen):\n",
    "    \"\"\"Pad sequences (all have to be same length).\"\"\"\n",
    "    print('Pad sequences (samples x time)')\n",
    "    return sequence.pad_sequences(x, maxlen=maxlen, dtype=np.float)\n"
   ]
  },
  {
   "cell_type": "markdown",
   "metadata": {},
   "source": [
    "# Preparing the Data and Autoencoders"
   ]
  },
  {
   "cell_type": "markdown",
   "metadata": {},
   "source": [
    "### Prepare the Data\n",
    "Read the data from files and store it into arrays."
   ]
  },
  {
   "cell_type": "code",
   "execution_count": 10,
   "metadata": {},
   "outputs": [
    {
     "name": "stdout",
     "output_type": "stream",
     "text": [
      "x_train shape: (486, 1290)   x_test shape: (36, 1290)\n"
     ]
    }
   ],
   "source": [
    "# Mostly a copy of the code in __main__(), used for reading the data into an array\n",
    "seconds = 30  # time window length\n",
    "idents = ['2gu87', 'iz2ps', '1mpau', '7dwjy', '7swyk', '94mnx', 'bd47a', 'c24ur', 'ctsax', 'dkhty', 'e4gay',\n",
    "              'ef5rq', 'f1gjp', 'hpbxa', 'pmyfl', 'r89k1', 'tn4vl', 'td5pr', 'gyqu9', 'fzchw', 'l53hg', '3n2f9',\n",
    "              '62i9y']\n",
    "path = '../../../StudyData/'\n",
    "\n",
    "# change to len(idents) at the end to use all the data\n",
    "n = 3 #len(idents)\n",
    "\n",
    "train_idents = idents[:-8]\n",
    "validation_idents = [idents[-1]]\n",
    "test_idents = [idents[-8]]\n",
    "\n",
    "x_train, y_train = get_data_from_idents(path, train_idents, seconds)\n",
    "x_valid, y_valid = get_data_from_idents(path, validation_idents, seconds)\n",
    "x_test, y_test = get_data_from_idents(path, test_idents, seconds)\n",
    "\n",
    "# x_train = x_train.reshape(-1, x_train[0].shape[0], 1)\n",
    "# x_valid = x_valid.reshape(-1, x_valid[0].shape[0], 1)\n",
    "# x_test = x_test.reshape(-1, x_test[0].shape[0], 1)\n",
    "\n",
    "print(\"x_train shape:\", x_train.shape, \"  x_test shape:\", x_test.shape)"
   ]
  },
  {
   "cell_type": "markdown",
   "metadata": {},
   "source": [
    "### Preprocess the Data\n",
    "Prepare two versions of the data:\n",
    "- Normalize original data (**x_\\***): reffered to as **normalized data** from now on,\n",
    "- subsampled, filtered, then normalized data (**x2_\\***): reffered to as **shortened data** form now on."
   ]
  },
  {
   "cell_type": "code",
   "execution_count": 11,
   "metadata": {},
   "outputs": [
    {
     "name": "stdout",
     "output_type": "stream",
     "text": [
      "Normalized data: (36, 1290)   Shortened data: (36, 323)\n"
     ]
    }
   ],
   "source": [
    "from scipy.ndimage.filters import gaussian_filter1d\n",
    "\n",
    "step = 4 # take each step-th element of the array\n",
    "sigma = 2 # sigma for gaussian filter\n",
    "\n",
    "def convolve(x): # helper function for applying along axis\n",
    "    tmp = gaussian_filter1d(x, sigma=sigma, mode=\"mirror\")\n",
    "    tmp = normalize(tmp)\n",
    "    return tmp\n",
    "\n",
    "def normalize(x): # helper function for applying along axis\n",
    "    #normalize the data\n",
    "    tmp = x\n",
    "    tmp_min = np.min(tmp)\n",
    "    tmp_max = np.max(tmp)\n",
    "    top_norm = tmp-tmp_min\n",
    "    bot_norm = tmp_max-tmp_min\n",
    "    if (bot_norm == 0): # avoid division by 0\n",
    "        bot_norm = 1\n",
    "    tmp = top_norm/bot_norm\n",
    "    return tmp\n",
    "\n",
    "# Prepare another set of data that is subsampled, filtered and normalized\n",
    "# Use np.apply_along_axis to apply the above function to each row of the array separately\n",
    "x2_train = np.apply_along_axis(convolve, 1, x_train)\n",
    "x2_train = x2_train[:,1::step]\n",
    "\n",
    "x2_valid = np.apply_along_axis(convolve, 1, x_valid)\n",
    "x2_valid = x2_valid[:,1::step]\n",
    "\n",
    "x2_test = np.apply_along_axis(convolve, 1, x_test)\n",
    "x2_test = x2_test[:,1::step]\n",
    "\n",
    "sscaler = StandardScaler()\n",
    "sscaler.fit(np.vstack((x2_train, x2_test, x2_valid)))\n",
    "x2_train = sscaler.transform(x2_train)\n",
    "x2_valid = sscaler.transform(x2_valid)\n",
    "x2_test = sscaler.transform(x2_test)\n",
    "\n",
    "mmscaler = MinMaxScaler()\n",
    "mmscaler.fit(np.vstack((x2_train, x2_test, x2_valid)))\n",
    "x2_train = mmscaler.transform(x2_train)\n",
    "x2_valid = mmscaler.transform(x2_valid)\n",
    "x2_test = mmscaler.transform(x2_test)\n",
    "\n",
    "# Normalize original (normalized) data\n",
    "# Use np.apply_along_axis to apply the above function to each row of the array separately\n",
    "# x_train = np.apply_along_axis(normalize, 1, x_train)\n",
    "# x_valid = np.apply_along_axis(normalize, 1, x_valid)\n",
    "# x_test = np.apply_along_axis(normalize, 1, x_test)\n",
    "\n",
    "sscaler = StandardScaler()\n",
    "sscaler.fit(np.vstack((x_train, x_test, x_valid)))\n",
    "x_train = sscaler.transform(x_train)\n",
    "x_valid = sscaler.transform(x_valid)\n",
    "x_test = sscaler.transform(x_test)\n",
    "\n",
    "mmscaler = MinMaxScaler()\n",
    "mmscaler.fit(np.vstack((x_train, x_test, x_valid)))\n",
    "x_train = mmscaler.transform(x_train)\n",
    "x_valid = mmscaler.transform(x_valid)\n",
    "x_test = mmscaler.transform(x_test)\n",
    "\n",
    "print(\"Normalized data:\", x_test.shape, \"  Shortened data:\", x2_test.shape)"
   ]
  },
  {
   "cell_type": "code",
   "execution_count": 12,
   "metadata": {},
   "outputs": [
    {
     "data": {
      "text/plain": [
       "<Figure size 432x288 with 0 Axes>"
      ]
     },
     "metadata": {},
     "output_type": "display_data"
    },
    {
     "data": {
      "image/png": "[encoded data removed]",
      "text/plain": [
       "<Figure size 1440x288 with 33 Axes>"
      ]
     },
     "metadata": {
      "needs_background": "light"
     },
     "output_type": "display_data"
    },
    {
     "data": {
      "text/plain": [
       "<Figure size 432x288 with 0 Axes>"
      ]
     },
     "metadata": {},
     "output_type": "display_data"
    },
    {
     "data": {
      "image/png": "[encoded data removed]",
      "text/plain": [
       "<Figure size 1440x288 with 33 Axes>"
      ]
     },
     "metadata": {
      "needs_background": "light"
     },
     "output_type": "display_data"
    }
   ],
   "source": [
    "#plot n samples to compare the normalized data to the shortened data\n",
    "n = 33\n",
    "\n",
    "#plot some normalized data values\n",
    "plt.figure()\n",
    "plt.figure(figsize=(20, 4))\n",
    "for i in range(n):\n",
    "    plt.subplot(n/5, 6, i+1)\n",
    "    plt.plot(x_train[i])\n",
    "\n",
    "#plot some shortened data values\n",
    "plt.figure()\n",
    "plt.figure(figsize=(20, 4))\n",
    "for i in range(n):\n",
    "    plt.subplot(n/5, 6, i+1)\n",
    "    plt.plot(x2_train[i])"
   ]
  },
  {
   "cell_type": "markdown",
   "metadata": {},
   "source": [
    "## Classifiers"
   ]
  },
  {
   "cell_type": "markdown",
   "metadata": {},
   "source": [
    "#### Simple dense layer"
   ]
  },
  {
   "cell_type": "markdown",
   "metadata": {},
   "source": [
    "Optimize hyperparameters with talos:"
   ]
  },
  {
   "cell_type": "code",
   "execution_count": 13,
   "metadata": {},
   "outputs": [],
   "source": [
    "def Dense_classifier_optimization(x_train, y_train, x_val, y_val, params):\n",
    "    \n",
    "    model = Sequential()\n",
    "    model.add(Dropout(params['dropout']))\n",
    "    model.add(Dense(params['hidden_size']))\n",
    "    model.add(Activation(params['activation']))\n",
    "    model.add(Dense(1))\n",
    "    model.add(Activation(params['last_activation']))\n",
    "\n",
    "    model.compile(loss=params['loss'],\n",
    "                  optimizer=params['optimizer'](lr=lr_normalizer(params['lr'], params['optimizer'])),\n",
    "                  metrics=['acc'])\n",
    "    \n",
    "    out = model.fit(x_train, y_train,\n",
    "            batch_size=params['batch_size'],\n",
    "            epochs=params['epochs'],\n",
    "            verbose=0,\n",
    "            validation_data=[x_val, y_val])\n",
    "\n",
    "    return out, model"
   ]
  },
  {
   "cell_type": "code",
   "execution_count": 14,
   "metadata": {},
   "outputs": [],
   "source": [
    "from keras.optimizers import Adam, Nadam\n",
    "from keras.activations import softmax\n",
    "from keras.losses import categorical_crossentropy, logcosh, binary_crossentropy\n",
    "\n",
    "params = {\n",
    "    'lr': (0.1, 10, 10),\n",
    "    'dropout': (0, 0.40, 10),\n",
    "    'optimizer': [Adam, Nadam],\n",
    "    'hidden_size': [16,32,64,128,256],\n",
    "    'loss': ['binary_crossentropy'],\n",
    "    'last_activation': ['relu', 'sigmoid', 'softmax'],\n",
    "    'activation': ['relu', 'sigmoid', 'softmax'],\n",
    "    'batch_size': [64,128,256],\n",
    "    'epochs': [100]\n",
    "}"
   ]
  },
  {
   "cell_type": "code",
   "execution_count": 15,
   "metadata": {},
   "outputs": [
    {
     "name": "stderr",
     "output_type": "stream",
     "text": [
      "\r",
      "  0%|                                                                                           | 0/27 [00:00<?, ?it/s]"
     ]
    },
    {
     "name": "stdout",
     "output_type": "stream",
     "text": [
      "WARNING:tensorflow:From D:\\Miscellanious\\Anaconda\\envs\\py37talos\\lib\\site-packages\\tensorflow\\python\\keras\\engine\\training_v1.py:2048: Model.state_updates (from tensorflow.python.keras.engine.training) is deprecated and will be removed in a future version.\n",
      "Instructions for updating:\n",
      "This property should not be used in TensorFlow 2.0, as updates are applied automatically.\n"
     ]
    },
    {
     "name": "stderr",
     "output_type": "stream",
     "text": [
      " 48%|███████████████████████████████████████▍                                          | 13/27 [00:23<00:24,  1.77s/it]"
     ]
    },
    {
     "name": "stdout",
     "output_type": "stream",
     "text": [
      "WARNING:tensorflow:Callbacks method `on_test_batch_begin` is slow compared to the batch time (batch time: 0.0000s vs `on_test_batch_begin` time: 0.0010s). Check your callbacks.\n"
     ]
    },
    {
     "name": "stderr",
     "output_type": "stream",
     "text": [
      "100%|██████████████████████████████████████████████████████████████████████████████████| 27/27 [00:48<00:00,  1.80s/it]\n"
     ]
    }
   ],
   "source": [
    "scan_object = talos.Scan(x_train,\n",
    "                         y_train, \n",
    "                         params=params,\n",
    "                         model=Dense_classifier_optimization,\n",
    "                         experiment_name='contractive_ae_normalized_classif',\n",
    "                         random_method='uniform_mersenne',\n",
    "                         fraction_limit=.001)"
   ]
  },
  {
   "cell_type": "code",
   "execution_count": 16,
   "metadata": {},
   "outputs": [],
   "source": [
    "# use Scan object as input\n",
    "analyze_object = talos.Analyze(scan_object)\n",
    "# access the dataframe with the results\n",
    "# analyze_object.data"
   ]
  },
  {
   "cell_type": "code",
   "execution_count": 17,
   "metadata": {},
   "outputs": [
    {
     "data": {
      "text/html": [
       "<div>\n",
       "<style scoped>\n",
       "    .dataframe tbody tr th:only-of-type {\n",
       "        vertical-align: middle;\n",
       "    }\n",
       "\n",
       "    .dataframe tbody tr th {\n",
       "        vertical-align: top;\n",
       "    }\n",
       "\n",
       "    .dataframe thead th {\n",
       "        text-align: right;\n",
       "    }\n",
       "</style>\n",
       "<table border=\"1\" class=\"dataframe\">\n",
       "  <thead>\n",
       "    <tr style=\"text-align: right;\">\n",
       "      <th></th>\n",
       "      <th>lr</th>\n",
       "      <th>val_loss</th>\n",
       "      <th>dropout</th>\n",
       "      <th>start</th>\n",
       "      <th>batch_size</th>\n",
       "      <th>val_acc</th>\n",
       "      <th>epochs</th>\n",
       "      <th>round_epochs</th>\n",
       "      <th>duration</th>\n",
       "      <th>activation</th>\n",
       "      <th>loss</th>\n",
       "      <th>loss</th>\n",
       "      <th>hidden_size</th>\n",
       "      <th>last_activation</th>\n",
       "      <th>end</th>\n",
       "      <th>acc</th>\n",
       "      <th>optimizer</th>\n",
       "    </tr>\n",
       "  </thead>\n",
       "  <tbody>\n",
       "    <tr>\n",
       "      <th>0</th>\n",
       "      <td>9.01</td>\n",
       "      <td>0.725632</td>\n",
       "      <td>0.00</td>\n",
       "      <td>11/03/20-175749</td>\n",
       "      <td>64</td>\n",
       "      <td>0.595890</td>\n",
       "      <td>100</td>\n",
       "      <td>100</td>\n",
       "      <td>1.604036</td>\n",
       "      <td>sigmoid</td>\n",
       "      <td>0.497603</td>\n",
       "      <td>binary_crossentropy</td>\n",
       "      <td>32</td>\n",
       "      <td>sigmoid</td>\n",
       "      <td>11/03/20-175751</td>\n",
       "      <td>0.770588</td>\n",
       "      <td>&lt;class 'tensorflow.python.keras.optimizer_v2.a...</td>\n",
       "    </tr>\n",
       "    <tr>\n",
       "      <th>17</th>\n",
       "      <td>5.05</td>\n",
       "      <td>0.687987</td>\n",
       "      <td>0.08</td>\n",
       "      <td>11/03/20-175822</td>\n",
       "      <td>128</td>\n",
       "      <td>0.589041</td>\n",
       "      <td>100</td>\n",
       "      <td>100</td>\n",
       "      <td>1.403417</td>\n",
       "      <td>softmax</td>\n",
       "      <td>0.565419</td>\n",
       "      <td>binary_crossentropy</td>\n",
       "      <td>64</td>\n",
       "      <td>sigmoid</td>\n",
       "      <td>11/03/20-175823</td>\n",
       "      <td>0.729412</td>\n",
       "      <td>&lt;class 'tensorflow.python.keras.optimizer_v2.a...</td>\n",
       "    </tr>\n",
       "    <tr>\n",
       "      <th>16</th>\n",
       "      <td>4.06</td>\n",
       "      <td>0.759014</td>\n",
       "      <td>0.20</td>\n",
       "      <td>11/03/20-175820</td>\n",
       "      <td>128</td>\n",
       "      <td>0.561644</td>\n",
       "      <td>100</td>\n",
       "      <td>100</td>\n",
       "      <td>1.708913</td>\n",
       "      <td>sigmoid</td>\n",
       "      <td>0.512473</td>\n",
       "      <td>binary_crossentropy</td>\n",
       "      <td>256</td>\n",
       "      <td>sigmoid</td>\n",
       "      <td>11/03/20-175822</td>\n",
       "      <td>0.776471</td>\n",
       "      <td>&lt;class 'tensorflow.python.keras.optimizer_v2.a...</td>\n",
       "    </tr>\n",
       "    <tr>\n",
       "      <th>10</th>\n",
       "      <td>1.09</td>\n",
       "      <td>0.722174</td>\n",
       "      <td>0.36</td>\n",
       "      <td>11/03/20-175808</td>\n",
       "      <td>64</td>\n",
       "      <td>0.554795</td>\n",
       "      <td>100</td>\n",
       "      <td>100</td>\n",
       "      <td>2.137170</td>\n",
       "      <td>relu</td>\n",
       "      <td>0.521870</td>\n",
       "      <td>binary_crossentropy</td>\n",
       "      <td>256</td>\n",
       "      <td>sigmoid</td>\n",
       "      <td>11/03/20-175810</td>\n",
       "      <td>0.729412</td>\n",
       "      <td>&lt;class 'tensorflow.python.keras.optimizer_v2.a...</td>\n",
       "    </tr>\n",
       "  </tbody>\n",
       "</table>\n",
       "</div>"
      ],
      "text/plain": [
       "      lr  val_loss  dropout            start  batch_size   val_acc  epochs  \\\n",
       "0   9.01  0.725632     0.00  11/03/20-175749          64  0.595890     100   \n",
       "17  5.05  0.687987     0.08  11/03/20-175822         128  0.589041     100   \n",
       "16  4.06  0.759014     0.20  11/03/20-175820         128  0.561644     100   \n",
       "10  1.09  0.722174     0.36  11/03/20-175808          64  0.554795     100   \n",
       "\n",
       "    round_epochs  duration activation      loss                 loss  \\\n",
       "0            100  1.604036    sigmoid  0.497603  binary_crossentropy   \n",
       "17           100  1.403417    softmax  0.565419  binary_crossentropy   \n",
       "16           100  1.708913    sigmoid  0.512473  binary_crossentropy   \n",
       "10           100  2.137170       relu  0.521870  binary_crossentropy   \n",
       "\n",
       "    hidden_size last_activation              end       acc  \\\n",
       "0            32         sigmoid  11/03/20-175751  0.770588   \n",
       "17           64         sigmoid  11/03/20-175823  0.729412   \n",
       "16          256         sigmoid  11/03/20-175822  0.776471   \n",
       "10          256         sigmoid  11/03/20-175810  0.729412   \n",
       "\n",
       "                                            optimizer  \n",
       "0   <class 'tensorflow.python.keras.optimizer_v2.a...  \n",
       "17  <class 'tensorflow.python.keras.optimizer_v2.a...  \n",
       "16  <class 'tensorflow.python.keras.optimizer_v2.a...  \n",
       "10  <class 'tensorflow.python.keras.optimizer_v2.a...  "
      ]
     },
     "execution_count": 17,
     "metadata": {},
     "output_type": "execute_result"
    }
   ],
   "source": [
    "analyze_object.table(['val_acc', 'acc'])[0:4]"
   ]
  },
  {
   "cell_type": "code",
   "execution_count": 18,
   "metadata": {},
   "outputs": [
    {
     "data": {
      "text/plain": [
       "{'lr': [9.01],\n",
       " 'val_loss': [0.7256315995569098],\n",
       " 'dropout': [0.0],\n",
       " 'start': ['11/03/20-175749'],\n",
       " 'batch_size': [64],\n",
       " 'val_acc': [0.5958904027938843],\n",
       " 'epochs': [100],\n",
       " 'round_epochs': [100],\n",
       " 'duration': [1.6040360927581787],\n",
       " 'activation': ['sigmoid'],\n",
       " 'loss': ['binary_crossentropy'],\n",
       " 'hidden_size': [32],\n",
       " 'last_activation': ['sigmoid'],\n",
       " 'end': ['11/03/20-175751'],\n",
       " 'acc': [0.770588219165802],\n",
       " 'optimizer': [tensorflow.python.keras.optimizer_v2.adam.Adam]}"
      ]
     },
     "execution_count": 18,
     "metadata": {},
     "output_type": "execute_result"
    }
   ],
   "source": [
    "analyze_object.table(['val_acc', 'acc'])[0:1].to_dict('list')"
   ]
  },
  {
   "cell_type": "markdown",
   "metadata": {},
   "source": [
    "#### LSTM-based classifier  \n",
    "based on the original author's code"
   ]
  },
  {
   "cell_type": "markdown",
   "metadata": {},
   "source": [
    "Optimize hyperparameters with talos:"
   ]
  },
  {
   "cell_type": "code",
   "execution_count": 19,
   "metadata": {},
   "outputs": [],
   "source": [
    "def LSTM_classifier_optimization(x_train, y_train, x_val, y_val, params):\n",
    "    \n",
    "    model = Sequential()\n",
    "    model.add(Dropout(params['dropout']))\n",
    "    model.add(Conv1D(params['filters'],\n",
    "                     params['kernel_size'],\n",
    "                     padding='valid',\n",
    "                     activation=params['activation'],\n",
    "                     strides=params['strides']))\n",
    "\n",
    "    model.add(MaxPooling1D(pool_size=params['pool_size']))\n",
    "    model.add(Conv1D(params['filters'],\n",
    "                     params['kernel_size'],\n",
    "                     padding='valid',\n",
    "                     activation=params['activation'],\n",
    "                     strides=params['strides']))\n",
    "    model.add(MaxPooling1D(pool_size=params['pool_size']))\n",
    "\n",
    "    model.add(Dropout(params['dropout']))\n",
    "    model.add(LSTM(params['lstm_output_size']))\n",
    "    model.add(Dense(1))\n",
    "    model.add(Activation(params['last_activation']))\n",
    "\n",
    "    model.compile(loss=params['loss'],\n",
    "                  optimizer=params['optimizer'](lr=lr_normalizer(params['lr'], params['optimizer'])),\n",
    "                  metrics=['acc'])\n",
    "    \n",
    "    out = model.fit(x_train, y_train,\n",
    "            batch_size=params['batch_size'],\n",
    "            epochs=params['epochs'],\n",
    "            verbose=0,\n",
    "            validation_data=[x_val, y_val])\n",
    "\n",
    "    return out, model"
   ]
  },
  {
   "cell_type": "markdown",
   "metadata": {},
   "source": [
    "Run the base classifier:"
   ]
  },
  {
   "cell_type": "code",
   "execution_count": 20,
   "metadata": {},
   "outputs": [],
   "source": [
    "from keras.optimizers import Adam, Nadam\n",
    "from keras.activations import softmax\n",
    "from keras.losses import categorical_crossentropy, logcosh, binary_crossentropy\n",
    "\n",
    "params = {\n",
    "    'lr': (0.1, 10, 10),\n",
    "    'kernel_size': [8,16,24,32,36,42,48],\n",
    "    'filters': [4,8,16],\n",
    "    'strides': [3,4],\n",
    "    'pool_size': [2,3],\n",
    "    'dropout': (0, 0.30, 10),\n",
    "    'optimizer': [Adam, Nadam],\n",
    "    'loss': ['binary_crossentropy'],\n",
    "    'activation': ['relu'],\n",
    "    'last_activation': ['relu', 'sigmoid'],\n",
    "    'lstm_output_size': (96,256,8),\n",
    "    'batch_size': [32,64,128],\n",
    "    'epochs': [100]\n",
    "}"
   ]
  },
  {
   "cell_type": "code",
   "execution_count": 21,
   "metadata": {},
   "outputs": [
    {
     "name": "stderr",
     "output_type": "stream",
     "text": [
      "100%|██████████████████████████████████████████████████████████████████████████████████| 24/24 [05:05<00:00, 12.75s/it]\n"
     ]
    }
   ],
   "source": [
    "# Reshape the data to fit the classifier\n",
    "xt_train = x_train.reshape(-1, x_train[0].shape[0], 1)\n",
    "xt_valid = x_valid.reshape(-1, x_valid[0].shape[0], 1)\n",
    "xt_test = x_test.reshape(-1, x_test[0].shape[0], 1)\n",
    "\n",
    "scan_object = talos.Scan(xt_train,\n",
    "                         y_train, \n",
    "                         params=params,\n",
    "                         model=LSTM_classifier_optimization,\n",
    "                         experiment_name='contractive_ae_normalized_classif',\n",
    "                         random_method='uniform_mersenne',\n",
    "                         fraction_limit=.00003)"
   ]
  },
  {
   "cell_type": "code",
   "execution_count": 22,
   "metadata": {},
   "outputs": [],
   "source": [
    "# use Scan object as input\n",
    "analyze_object = talos.Analyze(scan_object)\n",
    "# access the dataframe with the results\n",
    "# analyze_object.data"
   ]
  },
  {
   "cell_type": "code",
   "execution_count": 23,
   "metadata": {},
   "outputs": [
    {
     "data": {
      "text/html": [
       "<div>\n",
       "<style scoped>\n",
       "    .dataframe tbody tr th:only-of-type {\n",
       "        vertical-align: middle;\n",
       "    }\n",
       "\n",
       "    .dataframe tbody tr th {\n",
       "        vertical-align: top;\n",
       "    }\n",
       "\n",
       "    .dataframe thead th {\n",
       "        text-align: right;\n",
       "    }\n",
       "</style>\n",
       "<table border=\"1\" class=\"dataframe\">\n",
       "  <thead>\n",
       "    <tr style=\"text-align: right;\">\n",
       "      <th></th>\n",
       "      <th>kernel_size</th>\n",
       "      <th>val_loss</th>\n",
       "      <th>strides</th>\n",
       "      <th>pool_size</th>\n",
       "      <th>filters</th>\n",
       "      <th>lstm_output_size</th>\n",
       "      <th>end</th>\n",
       "      <th>lr</th>\n",
       "      <th>acc</th>\n",
       "      <th>batch_size</th>\n",
       "      <th>...</th>\n",
       "      <th>loss</th>\n",
       "      <th>dropout</th>\n",
       "      <th>start</th>\n",
       "      <th>val_acc</th>\n",
       "      <th>duration</th>\n",
       "      <th>activation</th>\n",
       "      <th>optimizer</th>\n",
       "      <th>epochs</th>\n",
       "      <th>round_epochs</th>\n",
       "      <th>last_activation</th>\n",
       "    </tr>\n",
       "  </thead>\n",
       "  <tbody>\n",
       "    <tr>\n",
       "      <th>4</th>\n",
       "      <td>32</td>\n",
       "      <td>0.690298</td>\n",
       "      <td>4</td>\n",
       "      <td>2</td>\n",
       "      <td>8</td>\n",
       "      <td>236</td>\n",
       "      <td>11/03/20-175943</td>\n",
       "      <td>0.10</td>\n",
       "      <td>0.750000</td>\n",
       "      <td>32</td>\n",
       "      <td>...</td>\n",
       "      <td>binary_crossentropy</td>\n",
       "      <td>0.09</td>\n",
       "      <td>11/03/20-175923</td>\n",
       "      <td>0.643836</td>\n",
       "      <td>19.882560</td>\n",
       "      <td>relu</td>\n",
       "      <td>&lt;class 'tensorflow.python.keras.optimizer_v2.n...</td>\n",
       "      <td>100</td>\n",
       "      <td>100</td>\n",
       "      <td>sigmoid</td>\n",
       "    </tr>\n",
       "    <tr>\n",
       "      <th>21</th>\n",
       "      <td>36</td>\n",
       "      <td>0.763974</td>\n",
       "      <td>3</td>\n",
       "      <td>3</td>\n",
       "      <td>4</td>\n",
       "      <td>136</td>\n",
       "      <td>11/03/20-180312</td>\n",
       "      <td>5.05</td>\n",
       "      <td>0.641176</td>\n",
       "      <td>128</td>\n",
       "      <td>...</td>\n",
       "      <td>binary_crossentropy</td>\n",
       "      <td>0.09</td>\n",
       "      <td>11/03/20-180304</td>\n",
       "      <td>0.582192</td>\n",
       "      <td>7.882578</td>\n",
       "      <td>relu</td>\n",
       "      <td>&lt;class 'tensorflow.python.keras.optimizer_v2.a...</td>\n",
       "      <td>100</td>\n",
       "      <td>100</td>\n",
       "      <td>relu</td>\n",
       "    </tr>\n",
       "    <tr>\n",
       "      <th>19</th>\n",
       "      <td>16</td>\n",
       "      <td>0.646020</td>\n",
       "      <td>3</td>\n",
       "      <td>3</td>\n",
       "      <td>4</td>\n",
       "      <td>156</td>\n",
       "      <td>11/03/20-180248</td>\n",
       "      <td>0.10</td>\n",
       "      <td>0.644118</td>\n",
       "      <td>32</td>\n",
       "      <td>...</td>\n",
       "      <td>binary_crossentropy</td>\n",
       "      <td>0.00</td>\n",
       "      <td>11/03/20-180235</td>\n",
       "      <td>0.568493</td>\n",
       "      <td>13.463157</td>\n",
       "      <td>relu</td>\n",
       "      <td>&lt;class 'tensorflow.python.keras.optimizer_v2.n...</td>\n",
       "      <td>100</td>\n",
       "      <td>100</td>\n",
       "      <td>relu</td>\n",
       "    </tr>\n",
       "    <tr>\n",
       "      <th>0</th>\n",
       "      <td>48</td>\n",
       "      <td>0.699398</td>\n",
       "      <td>3</td>\n",
       "      <td>3</td>\n",
       "      <td>8</td>\n",
       "      <td>96</td>\n",
       "      <td>11/03/20-175847</td>\n",
       "      <td>1.09</td>\n",
       "      <td>0.473529</td>\n",
       "      <td>64</td>\n",
       "      <td>...</td>\n",
       "      <td>binary_crossentropy</td>\n",
       "      <td>0.24</td>\n",
       "      <td>11/03/20-175838</td>\n",
       "      <td>0.568493</td>\n",
       "      <td>9.333811</td>\n",
       "      <td>relu</td>\n",
       "      <td>&lt;class 'tensorflow.python.keras.optimizer_v2.n...</td>\n",
       "      <td>100</td>\n",
       "      <td>100</td>\n",
       "      <td>relu</td>\n",
       "    </tr>\n",
       "  </tbody>\n",
       "</table>\n",
       "<p>4 rows × 21 columns</p>\n",
       "</div>"
      ],
      "text/plain": [
       "    kernel_size  val_loss  strides  pool_size  filters  lstm_output_size  \\\n",
       "4            32  0.690298        4          2        8               236   \n",
       "21           36  0.763974        3          3        4               136   \n",
       "19           16  0.646020        3          3        4               156   \n",
       "0            48  0.699398        3          3        8                96   \n",
       "\n",
       "                end    lr       acc  batch_size  ...                 loss  \\\n",
       "4   11/03/20-175943  0.10  0.750000          32  ...  binary_crossentropy   \n",
       "21  11/03/20-180312  5.05  0.641176         128  ...  binary_crossentropy   \n",
       "19  11/03/20-180248  0.10  0.644118          32  ...  binary_crossentropy   \n",
       "0   11/03/20-175847  1.09  0.473529          64  ...  binary_crossentropy   \n",
       "\n",
       "   dropout            start   val_acc   duration  activation  \\\n",
       "4     0.09  11/03/20-175923  0.643836  19.882560        relu   \n",
       "21    0.09  11/03/20-180304  0.582192   7.882578        relu   \n",
       "19    0.00  11/03/20-180235  0.568493  13.463157        relu   \n",
       "0     0.24  11/03/20-175838  0.568493   9.333811        relu   \n",
       "\n",
       "                                            optimizer epochs  round_epochs  \\\n",
       "4   <class 'tensorflow.python.keras.optimizer_v2.n...    100           100   \n",
       "21  <class 'tensorflow.python.keras.optimizer_v2.a...    100           100   \n",
       "19  <class 'tensorflow.python.keras.optimizer_v2.n...    100           100   \n",
       "0   <class 'tensorflow.python.keras.optimizer_v2.n...    100           100   \n",
       "\n",
       "    last_activation  \n",
       "4           sigmoid  \n",
       "21             relu  \n",
       "19             relu  \n",
       "0              relu  \n",
       "\n",
       "[4 rows x 21 columns]"
      ]
     },
     "execution_count": 23,
     "metadata": {},
     "output_type": "execute_result"
    }
   ],
   "source": [
    "analyze_object.table(['val_acc', 'acc'])[0:4]"
   ]
  },
  {
   "cell_type": "code",
   "execution_count": 24,
   "metadata": {},
   "outputs": [
    {
     "data": {
      "text/plain": [
       "{'kernel_size': [32],\n",
       " 'val_loss': [0.6902977293484831],\n",
       " 'strides': [4],\n",
       " 'pool_size': [2],\n",
       " 'filters': [8],\n",
       " 'lstm_output_size': [236],\n",
       " 'end': ['11/03/20-175943'],\n",
       " 'lr': [0.1],\n",
       " 'acc': [0.75],\n",
       " 'batch_size': [32],\n",
       " 'loss': ['binary_crossentropy'],\n",
       " 'dropout': [0.09],\n",
       " 'start': ['11/03/20-175923'],\n",
       " 'val_acc': [0.6438356041908264],\n",
       " 'duration': [19.88256025314331],\n",
       " 'activation': ['relu'],\n",
       " 'optimizer': [tensorflow.python.keras.optimizer_v2.nadam.Nadam],\n",
       " 'epochs': [100],\n",
       " 'round_epochs': [100],\n",
       " 'last_activation': ['sigmoid']}"
      ]
     },
     "execution_count": 24,
     "metadata": {},
     "output_type": "execute_result"
    }
   ],
   "source": [
    "analyze_object.table(['val_acc', 'acc'])[0:1].to_dict('list')"
   ]
  },
  {
   "cell_type": "markdown",
   "metadata": {},
   "source": [
    "#### kNN"
   ]
  },
  {
   "cell_type": "code",
   "execution_count": 25,
   "metadata": {},
   "outputs": [],
   "source": [
    "# Create the random grid\n",
    "random_grid = {'n_neighbors': [3, 5, 7, 9, 11],\n",
    "               'metric': ['cosine', 'manhattan', 'Euclidean', 'l1', 'l2', 'Minkowski'],\n",
    "               'p': [3]}"
   ]
  },
  {
   "cell_type": "code",
   "execution_count": 26,
   "metadata": {},
   "outputs": [
    {
     "name": "stderr",
     "output_type": "stream",
     "text": [
      "[Parallel(n_jobs=-1)]: Using backend LokyBackend with 8 concurrent workers.\n"
     ]
    },
    {
     "name": "stdout",
     "output_type": "stream",
     "text": [
      "Fitting 3 folds for each of 30 candidates, totalling 90 fits\n"
     ]
    },
    {
     "name": "stderr",
     "output_type": "stream",
     "text": [
      "[Parallel(n_jobs=-1)]: Done  25 tasks      | elapsed:    1.5s\n",
      "[Parallel(n_jobs=-1)]: Done  75 out of  90 | elapsed:    2.4s remaining:    0.4s\n",
      "[Parallel(n_jobs=-1)]: Done  90 out of  90 | elapsed:    2.6s finished\n"
     ]
    },
    {
     "data": {
      "text/plain": [
       "RandomizedSearchCV(cv=3, estimator=KNeighborsClassifier(), n_iter=100,\n",
       "                   n_jobs=-1,\n",
       "                   param_distributions={'metric': ['cosine', 'manhattan',\n",
       "                                                   'Euclidean', 'l1', 'l2',\n",
       "                                                   'Minkowski'],\n",
       "                                        'n_neighbors': [3, 5, 7, 9, 11],\n",
       "                                        'p': [3]},\n",
       "                   random_state=42, scoring='accuracy', verbose=2)"
      ]
     },
     "execution_count": 26,
     "metadata": {},
     "output_type": "execute_result"
    }
   ],
   "source": [
    "from sklearn.neighbors import KNeighborsClassifier\n",
    "# Use the random grid to search for best hyperparameters\n",
    "# First create the base model to tune\n",
    "knc = KNeighborsClassifier()\n",
    "# Random search of parameters, using 3 fold cross validation, \n",
    "# search across 100 different combinations, and use all available cores\n",
    "knc_random = RandomizedSearchCV(estimator = knc, param_distributions = random_grid, n_iter = 100, cv = 3, verbose=2, random_state=42, n_jobs = -1, scoring='accuracy')\n",
    "# Fit the random search model\n",
    "knc_random.fit(x_train, y_train)"
   ]
  },
  {
   "cell_type": "code",
   "execution_count": 27,
   "metadata": {},
   "outputs": [
    {
     "data": {
      "text/plain": [
       "{'p': 3, 'n_neighbors': 7, 'metric': 'cosine'}"
      ]
     },
     "execution_count": 27,
     "metadata": {},
     "output_type": "execute_result"
    }
   ],
   "source": [
    "knc_random.best_params_"
   ]
  },
  {
   "cell_type": "code",
   "execution_count": 28,
   "metadata": {},
   "outputs": [
    {
     "name": "stdout",
     "output_type": "stream",
     "text": [
      "Accuracy = 0.47.\n",
      "Accuracy = 0.64.\n",
      "Improvement of 0.17.\n"
     ]
    }
   ],
   "source": [
    "base_model = KNeighborsClassifier()\n",
    "base_model.fit(x_train, y_train)\n",
    "base_accuracy = np.sum(base_model.predict(x_test) == y_test.T) / y_test.shape[0]\n",
    "print('Accuracy = {:0.2f}.'.format(base_accuracy))\n",
    "\n",
    "best_random = knc_random.best_estimator_\n",
    "random_accuracy = np.sum(best_random.predict(x_test) == y_test.T) / y_test.shape[0]\n",
    "print('Accuracy = {:0.2f}.'.format(random_accuracy))\n",
    "\n",
    "print('Improvement of {:0.2f}.'.format( (random_accuracy - base_accuracy)))"
   ]
  },
  {
   "cell_type": "markdown",
   "metadata": {},
   "source": [
    "####  SVC"
   ]
  },
  {
   "cell_type": "code",
   "execution_count": 29,
   "metadata": {},
   "outputs": [],
   "source": [
    "# Create the random grid\n",
    "random_grid = {'C': [1.0, 1.1, 1.5, 2.0],\n",
    "               'kernel': ['linear', 'poly', 'rbf', 'sigmoid']}"
   ]
  },
  {
   "cell_type": "code",
   "execution_count": 30,
   "metadata": {},
   "outputs": [
    {
     "name": "stdout",
     "output_type": "stream",
     "text": [
      "Fitting 3 folds for each of 16 candidates, totalling 48 fits\n"
     ]
    },
    {
     "name": "stderr",
     "output_type": "stream",
     "text": [
      "[Parallel(n_jobs=-1)]: Using backend LokyBackend with 8 concurrent workers.\n",
      "[Parallel(n_jobs=-1)]: Done  25 tasks      | elapsed:    1.3s\n",
      "[Parallel(n_jobs=-1)]: Done  48 out of  48 | elapsed:    2.1s finished\n"
     ]
    },
    {
     "data": {
      "text/plain": [
       "RandomizedSearchCV(cv=3, estimator=SVC(), n_iter=100, n_jobs=-1,\n",
       "                   param_distributions={'C': [1.0, 1.1, 1.5, 2.0],\n",
       "                                        'kernel': ['linear', 'poly', 'rbf',\n",
       "                                                   'sigmoid']},\n",
       "                   random_state=42, scoring='accuracy', verbose=2)"
      ]
     },
     "execution_count": 30,
     "metadata": {},
     "output_type": "execute_result"
    }
   ],
   "source": [
    "from sklearn.svm import SVC\n",
    "# Use the random grid to search for best hyperparameters\n",
    "# First create the base model to tune\n",
    "svc = SVC()\n",
    "# Random search of parameters, using 3 fold cross validation, \n",
    "# search across 100 different combinations, and use all available cores\n",
    "svc_random = RandomizedSearchCV(estimator = svc, param_distributions = random_grid, n_iter = 100, cv = 3, verbose=2, random_state=42, n_jobs = -1, scoring='accuracy')\n",
    "# Fit the random search model\n",
    "svc_random.fit(x_train, y_train)"
   ]
  },
  {
   "cell_type": "code",
   "execution_count": 31,
   "metadata": {},
   "outputs": [
    {
     "data": {
      "text/plain": [
       "{'kernel': 'rbf', 'C': 1.5}"
      ]
     },
     "execution_count": 31,
     "metadata": {},
     "output_type": "execute_result"
    }
   ],
   "source": [
    "svc_random.best_params_"
   ]
  },
  {
   "cell_type": "code",
   "execution_count": 32,
   "metadata": {},
   "outputs": [
    {
     "name": "stdout",
     "output_type": "stream",
     "text": [
      "Accuracy = 0.53.\n",
      "Accuracy = 0.58.\n",
      "Improvement of 0.06.\n"
     ]
    }
   ],
   "source": [
    "base_model = SVC(C=1, random_state = 42)\n",
    "base_model.fit(x_train, y_train)\n",
    "base_accuracy = np.sum(base_model.predict(x_test) == y_test.T) / y_test.shape[0]\n",
    "print('Accuracy = {:0.2f}.'.format(base_accuracy))\n",
    "\n",
    "best_random = svc_random.best_estimator_\n",
    "random_accuracy = np.sum(best_random.predict(x_test) == y_test.T) / y_test.shape[0]\n",
    "print('Accuracy = {:0.2f}.'.format(random_accuracy))\n",
    "\n",
    "print('Improvement of {:0.2f}.'.format( (random_accuracy - base_accuracy)))"
   ]
  },
  {
   "cell_type": "markdown",
   "metadata": {},
   "source": [
    "#### Random Forest"
   ]
  },
  {
   "cell_type": "code",
   "execution_count": 33,
   "metadata": {},
   "outputs": [],
   "source": [
    "# from https://towardsdatascience.com/hyperparameter-tuning-the-random-forest-in-python-using-scikit-learn-28d2aa77dd74\n",
    "\n",
    "# Number of trees in random forest\n",
    "n_estimators = [int(x) for x in np.linspace(start = 50, stop = 300, num = 6)]\n",
    "# Number of features to consider at every split\n",
    "max_features = ['auto', 'sqrt']\n",
    "# Maximum number of levels in tree\n",
    "max_depth = [int(x) for x in np.linspace(10, 110, num = 11)]\n",
    "max_depth.append(None)\n",
    "# Minimum number of samples required to split a node\n",
    "min_samples_split = [2, 5, 10]\n",
    "# Minimum number of samples required at each leaf node\n",
    "min_samples_leaf = [1, 2, 4]\n",
    "# Method of selecting samples for training each tree\n",
    "bootstrap = [True, False]\n",
    "# Create the random grid\n",
    "random_grid = {'n_estimators': n_estimators,\n",
    "               'max_features': max_features,\n",
    "               'max_depth': max_depth,\n",
    "               'min_samples_split': min_samples_split,\n",
    "               'min_samples_leaf': min_samples_leaf,\n",
    "               'bootstrap': bootstrap}\n"
   ]
  },
  {
   "cell_type": "code",
   "execution_count": 34,
   "metadata": {},
   "outputs": [
    {
     "name": "stdout",
     "output_type": "stream",
     "text": [
      "Fitting 3 folds for each of 100 candidates, totalling 300 fits\n"
     ]
    },
    {
     "name": "stderr",
     "output_type": "stream",
     "text": [
      "[Parallel(n_jobs=-1)]: Using backend LokyBackend with 8 concurrent workers.\n",
      "[Parallel(n_jobs=-1)]: Done  25 tasks      | elapsed:    6.0s\n",
      "[Parallel(n_jobs=-1)]: Done 146 tasks      | elapsed:   25.2s\n",
      "[Parallel(n_jobs=-1)]: Done 300 out of 300 | elapsed:   48.0s finished\n"
     ]
    },
    {
     "data": {
      "text/plain": [
       "RandomizedSearchCV(cv=3, estimator=RandomForestClassifier(), n_iter=100,\n",
       "                   n_jobs=-1,\n",
       "                   param_distributions={'bootstrap': [True, False],\n",
       "                                        'max_depth': [10, 20, 30, 40, 50, 60,\n",
       "                                                      70, 80, 90, 100, 110,\n",
       "                                                      None],\n",
       "                                        'max_features': ['auto', 'sqrt'],\n",
       "                                        'min_samples_leaf': [1, 2, 4],\n",
       "                                        'min_samples_split': [2, 5, 10],\n",
       "                                        'n_estimators': [50, 100, 150, 200, 250,\n",
       "                                                         300]},\n",
       "                   random_state=42, scoring='accuracy', verbose=2)"
      ]
     },
     "execution_count": 34,
     "metadata": {},
     "output_type": "execute_result"
    }
   ],
   "source": [
    "from sklearn.ensemble import RandomForestClassifier\n",
    "# Use the random grid to search for best hyperparameters\n",
    "# First create the base model to tune\n",
    "rf = RandomForestClassifier()\n",
    "# Random search of parameters, using 3 fold cross validation, \n",
    "# search across 100 different combinations, and use all available cores\n",
    "rf_random = RandomizedSearchCV(estimator = rf, param_distributions = random_grid, n_iter = 100, cv = 3, verbose=2, random_state=42, n_jobs = -1, scoring='accuracy')\n",
    "# Fit the random search model\n",
    "rf_random.fit(x_train, y_train)"
   ]
  },
  {
   "cell_type": "code",
   "execution_count": 35,
   "metadata": {},
   "outputs": [
    {
     "data": {
      "text/plain": [
       "{'n_estimators': 250,\n",
       " 'min_samples_split': 10,\n",
       " 'min_samples_leaf': 4,\n",
       " 'max_features': 'auto',\n",
       " 'max_depth': 90,\n",
       " 'bootstrap': True}"
      ]
     },
     "execution_count": 35,
     "metadata": {},
     "output_type": "execute_result"
    }
   ],
   "source": [
    "rf_random.best_params_"
   ]
  },
  {
   "cell_type": "code",
   "execution_count": 36,
   "metadata": {},
   "outputs": [
    {
     "name": "stdout",
     "output_type": "stream",
     "text": [
      "Accuracy = 0.61.\n",
      "Accuracy = 0.67.\n",
      "Improvement of 0.06.\n"
     ]
    }
   ],
   "source": [
    "base_model = RandomForestClassifier(n_estimators = 10, random_state = 42)\n",
    "base_model.fit(x_train, y_train)\n",
    "base_accuracy = np.sum(base_model.predict(x_test) == y_test.T) / y_test.shape[0]\n",
    "print('Accuracy = {:0.2f}.'.format(base_accuracy))\n",
    "\n",
    "best_random = rf_random.best_estimator_\n",
    "random_accuracy = np.sum(best_random.predict(x_test) == y_test.T) / y_test.shape[0]\n",
    "print('Accuracy = {:0.2f}.'.format(random_accuracy))\n",
    "\n",
    "print('Improvement of {:0.2f}.'.format( (random_accuracy - base_accuracy)))"
   ]
  },
  {
   "cell_type": "markdown",
   "metadata": {},
   "source": [
    "#### Naive Bayesian"
   ]
  },
  {
   "cell_type": "code",
   "execution_count": 37,
   "metadata": {},
   "outputs": [
    {
     "name": "stdout",
     "output_type": "stream",
     "text": [
      "Accuracy = 0.47.\n",
      "Accuracy = 0.50.\n",
      "Accuracy = 0.61.\n",
      "Accuracy = 0.61.\n"
     ]
    }
   ],
   "source": [
    "from sklearn.naive_bayes import GaussianNB, BernoulliNB, ComplementNB, MultinomialNB\n",
    "\n",
    "base_model = GaussianNB()\n",
    "base_model.fit(x_train, y_train)\n",
    "base_accuracy = np.sum(base_model.predict(x_test) == y_test.T) / y_test.shape[0]\n",
    "print('Accuracy = {:0.2f}.'.format(base_accuracy))\n",
    "\n",
    "base_model = BernoulliNB()\n",
    "base_model.fit(x_train, y_train)\n",
    "base_accuracy = np.sum(base_model.predict(x_test) == y_test.T) / y_test.shape[0]\n",
    "print('Accuracy = {:0.2f}.'.format(base_accuracy))\n",
    "\n",
    "base_model = ComplementNB()\n",
    "base_model.fit(x_train, y_train)\n",
    "base_accuracy = np.sum(base_model.predict(x_test) == y_test.T) / y_test.shape[0]\n",
    "print('Accuracy = {:0.2f}.'.format(base_accuracy))\n",
    "\n",
    "base_model = MultinomialNB()\n",
    "base_model.fit(x_train, y_train)\n",
    "base_accuracy = np.sum(base_model.predict(x_test) == y_test.T) / y_test.shape[0]\n",
    "print('Accuracy = {:0.2f}.'.format(base_accuracy))"
   ]
  },
  {
   "cell_type": "markdown",
   "metadata": {},
   "source": [
    "#### XGBoost"
   ]
  },
  {
   "cell_type": "code",
   "execution_count": 38,
   "metadata": {},
   "outputs": [],
   "source": [
    "# from https://medium.com/swlh/xgboost-hyperparameters-optimization-with-scikit-learn-to-rank-top-20-44ea528efa58\n",
    "random_grid = {\n",
    "    'n_estimators': np.array([80,83,85,90,100]),\n",
    "}"
   ]
  },
  {
   "cell_type": "code",
   "execution_count": 39,
   "metadata": {},
   "outputs": [
    {
     "name": "stdout",
     "output_type": "stream",
     "text": [
      "Fitting 3 folds for each of 5 candidates, totalling 15 fits\n"
     ]
    },
    {
     "name": "stderr",
     "output_type": "stream",
     "text": [
      "[Parallel(n_jobs=-1)]: Using backend LokyBackend with 8 concurrent workers.\n",
      "[Parallel(n_jobs=-1)]: Done   8 out of  15 | elapsed:    5.2s remaining:    4.6s\n",
      "[Parallel(n_jobs=-1)]: Done  15 out of  15 | elapsed:    9.4s finished\n"
     ]
    },
    {
     "data": {
      "text/plain": [
       "RandomizedSearchCV(cv=3,\n",
       "                   estimator=XGBClassifier(base_score=None, booster=None,\n",
       "                                           colsample_bylevel=None,\n",
       "                                           colsample_bynode=None,\n",
       "                                           colsample_bytree=None, gamma=None,\n",
       "                                           gpu_id=None, importance_type='gain',\n",
       "                                           interaction_constraints=None,\n",
       "                                           learning_rate=None,\n",
       "                                           max_delta_step=None, max_depth=None,\n",
       "                                           min_child_weight=None, missing=nan,\n",
       "                                           monotone_constraints=None,\n",
       "                                           n_estimators=100, n_jobs=None,\n",
       "                                           num_parallel_tree=None,\n",
       "                                           random_state=None, reg_alpha=None,\n",
       "                                           reg_lambda=None,\n",
       "                                           scale_pos_weight=None,\n",
       "                                           subsample=None, tree_method=None,\n",
       "                                           validate_parameters=None,\n",
       "                                           verbosity=None),\n",
       "                   n_iter=100, n_jobs=-1,\n",
       "                   param_distributions={'n_estimators': array([ 80,  83,  85,  90, 100])},\n",
       "                   random_state=42, scoring='accuracy', verbose=2)"
      ]
     },
     "execution_count": 39,
     "metadata": {},
     "output_type": "execute_result"
    }
   ],
   "source": [
    "from xgboost import XGBClassifier\n",
    "# Use the random grid to search for best hyperparameters\n",
    "# First create the base model to tune\n",
    "xgb = XGBClassifier()\n",
    "# Random search of parameters, using 3 fold cross validation, \n",
    "# search across 100 different combinations, and use all available cores\n",
    "xgb_random = RandomizedSearchCV(estimator = xgb, param_distributions = random_grid, n_iter = 100, cv = 3, verbose=2, random_state=42, n_jobs = -1, scoring='accuracy')\n",
    "# Fit the random search model\n",
    "xgb_random.fit(x_train, y_train)"
   ]
  },
  {
   "cell_type": "code",
   "execution_count": 40,
   "metadata": {},
   "outputs": [
    {
     "data": {
      "text/plain": [
       "{'n_estimators': 83}"
      ]
     },
     "execution_count": 40,
     "metadata": {},
     "output_type": "execute_result"
    }
   ],
   "source": [
    "xgb_random.best_params_"
   ]
  },
  {
   "cell_type": "code",
   "execution_count": 41,
   "metadata": {},
   "outputs": [
    {
     "name": "stdout",
     "output_type": "stream",
     "text": [
      "Accuracy = 0.75.\n",
      "Accuracy = 0.75.\n",
      "Improvement of 0.00.\n"
     ]
    }
   ],
   "source": [
    "base_model = XGBClassifier(random_state=42)\n",
    "base_model.fit(x_train, y_train)\n",
    "base_accuracy = np.sum(base_model.predict(x_test) == y_test.T) / y_test.shape[0]\n",
    "print('Accuracy = {:0.2f}.'.format(base_accuracy))\n",
    "\n",
    "best_random = xgb_random.best_estimator_\n",
    "random_accuracy = np.sum(best_random.predict(x_test) == y_test.T) / y_test.shape[0]\n",
    "print('Accuracy = {:0.2f}.'.format(random_accuracy))\n",
    "\n",
    "print('Improvement of {:0.2f}.'.format( (random_accuracy - base_accuracy)))"
   ]
  }
 ],
 "metadata": {
  "kernelspec": {
   "display_name": "py37talos",
   "language": "python",
   "name": "py37talos"
  },
  "language_info": {
   "codemirror_mode": {
    "name": "ipython",
    "version": 3
   },
   "file_extension": ".py",
   "mimetype": "text/x-python",
   "name": "python",
   "nbconvert_exporter": "python",
   "pygments_lexer": "ipython3",
   "version": "3.7.7"
  }
 },
 "nbformat": 4,
 "nbformat_minor": 4
}
