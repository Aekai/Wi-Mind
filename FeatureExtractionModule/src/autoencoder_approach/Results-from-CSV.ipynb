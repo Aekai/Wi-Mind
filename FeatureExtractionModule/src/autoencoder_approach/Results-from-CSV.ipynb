{
 "cells": [
  {
   "cell_type": "markdown",
   "metadata": {},
   "source": [
    "###  Imports"
   ]
  },
  {
   "cell_type": "code",
   "execution_count": 1,
   "metadata": {},
   "outputs": [],
   "source": [
    "import pandas as pd\n",
    "import numpy as np\n",
    "from ast import literal_eval\n",
    "from IPython.display import HTML, display\n",
    "\n",
    "pd.set_option('display.max_rows', 500)"
   ]
  },
  {
   "cell_type": "code",
   "execution_count": 2,
   "metadata": {},
   "outputs": [],
   "source": [
    "# Initialize some variables\n",
    "column_order = ['dataset used', 'classifier', 'feature used', 'min', 'max', 'median', 'mean']\n",
    "feature_list = ['phase', 'breathing', 'heartbeat', 'combined br hb', 'undercomplete', 'sparse', 'deep']\n",
    "results_path = \"results/\""
   ]
  },
  {
   "cell_type": "code",
   "execution_count": 3,
   "metadata": {},
   "outputs": [],
   "source": [
    "def make_an_aggregated_dataframe(dataset_used, feature_used, accs_dataframe):\n",
    "    \n",
    "    # Initialize a dataframe\n",
    "    return_df = pd.DataFrame()\n",
    "    \n",
    "    # Initialize a dictionary\n",
    "    stats_dict = {}\n",
    "    stats_dict['dataset used'] = dataset_used\n",
    "    stats_dict['feature used'] = feature_used\n",
    "    \n",
    "    # Loop over all classifiers and \n",
    "    for classifier in accs_dataframe.index:\n",
    "        \n",
    "        # Extract the accuracies array\n",
    "        accs_array = np.array(accs_dataframe.loc[classifier])\n",
    "        \n",
    "        # Calculate statistics\n",
    "        stats_dict['classifier'] = classifier\n",
    "        stats_dict['min'] = np.min(accs_array)\n",
    "        stats_dict['max'] = np.max(accs_array)\n",
    "        stats_dict['median'] = np.median(accs_array)\n",
    "        stats_dict['mean'] = np.mean(accs_array)\n",
    "#         stats_dict['data_len'] = len(accs_array)\n",
    "        \n",
    "        # Append to dataframe\n",
    "        return_df = return_df.append(stats_dict, ignore_index=True)\n",
    "    \n",
    "    return_df = return_df[column_order]\n",
    "    \n",
    "    return return_df"
   ]
  },
  {
   "cell_type": "code",
   "execution_count": 4,
   "metadata": {},
   "outputs": [],
   "source": [
    "def custom_print(sorted_df):\n",
    "    \n",
    "    # --- Open the table tag\n",
    "    table = '<table border=\"1\" class=\"dataframe\" style=\"border: 1px solid #ccc\">'\n",
    "    \n",
    "    # --- Add table headers\n",
    "    table += '<tr style=\"text-align: right; border-bottom: 1px solid black;\">'\n",
    "    columns = sorted_df.columns.to_list() # list of all column names\n",
    "    columns = np.concatenate([columns, ['Autoencoder','Best mean value']])\n",
    "    for col in columns:\n",
    "        table += '<th>' + col + '</th>'\n",
    "    table += '</tr>'\n",
    "    \n",
    "    # --- Copy data from dataframe into the table\n",
    "    counter = 0\n",
    "    row_counter = 0 # total row counter\n",
    "    # iterate over each row\n",
    "    for _, row in sorted_df.iterrows():\n",
    "        # open the row tag and add a border based on the counter\n",
    "        if (counter == 0):\n",
    "            table += '<tr style=\"border-top: 1px solid black;\">'\n",
    "        elif (counter == 4):\n",
    "            table += '<tr style=\"border-top: 1px solid #aaa;\">'\n",
    "        else:\n",
    "            table += '<tr>'\n",
    "        \n",
    "        # iterate over all data in that row and copy it over\n",
    "        for data in row:\n",
    "            if type(data) != str:\n",
    "                table += f'<td>{data:.4f}</td>'\n",
    "            else:\n",
    "                table += f'<td>{data}</td>'\n",
    "        \n",
    "        # every 0th row, add extra data for the last two columns\n",
    "        if (counter == 0):\n",
    "            \n",
    "            # find best mean value of these 4 rows\n",
    "            best_mean = row['mean']\n",
    "            for ix in range(3):\n",
    "                tmp_row = sorted_df.iloc[row_counter + ix + 1]\n",
    "                # save best mean value so far:\n",
    "                if (tmp_row['mean'] > best_mean):\n",
    "                    best_mean = tmp_row['mean']\n",
    "            \n",
    "            table += '<td rowspan=\"4\" style=\"text-align: center;\"> NO </td>'\n",
    "            table += f'<td rowspan=\"4\" style=\"text-align: center;\">{best_mean:.4f}</td>'\n",
    "            counter += 1\n",
    "        \n",
    "        # every 4th row change a value and reset the counter\n",
    "        elif (counter == 4):\n",
    "            \n",
    "            # find best mean value of these 4 rows\n",
    "            best_mean = row['mean']\n",
    "            for ix in range(3):\n",
    "                tmp_row = sorted_df.iloc[row_counter + ix + 1]\n",
    "                # save best mean value so far:\n",
    "                if (tmp_row['mean'] > best_mean):\n",
    "                    best_mean = tmp_row['mean']\n",
    "            \n",
    "            table += '<td rowspan=\"4\" style=\"text-align: center;\"> YES </td>'\n",
    "            table += f'<td rowspan=\"4\" style=\"text-align: center;\">{best_mean:.4f}</td>'\n",
    "            counter += 1\n",
    "        \n",
    "        # every 7th row reset counter to 0\n",
    "        elif (counter == 7):\n",
    "            counter = 0\n",
    "        \n",
    "        # increment the counter\n",
    "        else:\n",
    "            counter +=1\n",
    "        \n",
    "        # close the row tag\n",
    "        table += '</tr>'\n",
    "        \n",
    "        # always increment row_counter\n",
    "        row_counter += 1;\n",
    "    \n",
    "    # --- Close the table tag\n",
    "    table += '</table>'\n",
    "    \n",
    "    return table"
   ]
  },
  {
   "cell_type": "markdown",
   "metadata": {},
   "source": [
    "### Busy vs Relaxed"
   ]
  },
  {
   "cell_type": "markdown",
   "metadata": {},
   "source": [
    "Prepare for reading data from the all dataset:"
   ]
  },
  {
   "cell_type": "code",
   "execution_count": 5,
   "metadata": {},
   "outputs": [],
   "source": [
    "BvR_df = pd.DataFrame()\n",
    "BvR_prefix = \"BvR/BvR\"\n",
    "dataset_used_midpoint = \"-all\"\n",
    "tfv1_file_ending = \"-tfv1\"\n",
    "file_format_ending = \".csv\""
   ]
  },
  {
   "cell_type": "code",
   "execution_count": 6,
   "metadata": {},
   "outputs": [],
   "source": [
    "# read data\n",
    "df_all = pd.read_csv(results_path + BvR_prefix + dataset_used_midpoint + file_format_ending, index_col=[0])\n",
    "\n",
    "# the data is saved as string, so we need to extract the array from that string\n",
    "for feature_used in feature_list:\n",
    "    temp_df = df_all[feature_used].apply(literal_eval)\n",
    "    temp_df = make_an_aggregated_dataframe('all', feature_used, temp_df)\n",
    "    BvR_df = BvR_df.append(temp_df, ignore_index=True)"
   ]
  },
  {
   "cell_type": "code",
   "execution_count": 7,
   "metadata": {},
   "outputs": [],
   "source": [
    "# the same as above, but for the contractive data\n",
    "df_all_tfv1 = pd.read_csv(results_path + BvR_prefix + dataset_used_midpoint + tfv1_file_ending + file_format_ending, index_col=[0])\n",
    "\n",
    "temp_df = df_all_tfv1['contractive'].apply(literal_eval)\n",
    "temp_df = make_an_aggregated_dataframe('all', 'contractive', temp_df)\n",
    "BvR_df = BvR_df.append(temp_df, ignore_index=True)"
   ]
  },
  {
   "cell_type": "markdown",
   "metadata": {},
   "source": [
    "Do the same for the NC dataset:"
   ]
  },
  {
   "cell_type": "code",
   "execution_count": 8,
   "metadata": {},
   "outputs": [],
   "source": [
    "BvR_prefix = \"BvR/BvR\"\n",
    "dataset_used_midpoint = \"-NC\"\n",
    "tfv1_file_ending = \"-tfv1\"\n",
    "file_format_ending = \".csv\""
   ]
  },
  {
   "cell_type": "code",
   "execution_count": 9,
   "metadata": {},
   "outputs": [],
   "source": [
    "df_NC = pd.read_csv(results_path + BvR_prefix + dataset_used_midpoint + file_format_ending, index_col=[0])\n",
    "\n",
    "for feature_used in feature_list:\n",
    "    temp_df = df_NC[feature_used].apply(literal_eval)\n",
    "    temp_df = make_an_aggregated_dataframe('NC', feature_used, temp_df)\n",
    "    BvR_df = BvR_df.append(temp_df, ignore_index=True)"
   ]
  },
  {
   "cell_type": "code",
   "execution_count": 10,
   "metadata": {},
   "outputs": [],
   "source": [
    "df_NC_tfv1 = pd.read_csv(results_path + BvR_prefix + dataset_used_midpoint + tfv1_file_ending + file_format_ending, index_col=[0])\n",
    "temp_df = df_NC_tfv1['contractive'].apply(literal_eval)\n",
    "temp_df = make_an_aggregated_dataframe('NC', 'contractive', temp_df)\n",
    "BvR_df = BvR_df.append(temp_df, ignore_index=True)"
   ]
  },
  {
   "cell_type": "markdown",
   "metadata": {},
   "source": [
    "Display the data in a table:"
   ]
  },
  {
   "cell_type": "code",
   "execution_count": 11,
   "metadata": {
    "scrolled": false
   },
   "outputs": [
    {
     "data": {
      "text/html": [
       "<table border=\"1\" class=\"dataframe\" style=\"border: 1px solid #ccc\"><tr style=\"text-align: right; border-bottom: 1px solid black;\"><th>dataset used</th><th>classifier</th><th>feature used</th><th>min</th><th>max</th><th>median</th><th>mean</th><th>Autoencoder</th><th>Best mean value</th></tr><tr style=\"border-top: 1px solid black;\"><td>NC</td><td>LSTM</td><td>phase</td><td>0.2500</td><td>1.0000</td><td>0.5000</td><td>0.6422</td><td rowspan=\"4\" style=\"text-align: center;\"> NO </td><td rowspan=\"4\" style=\"text-align: center;\">0.7010</td></tr><tr><td>NC</td><td>LSTM</td><td>breathing</td><td>0.5000</td><td>1.0000</td><td>0.5000</td><td>0.6961</td></tr><tr><td>NC</td><td>LSTM</td><td>heartbeat</td><td>0.0000</td><td>1.0000</td><td>0.5000</td><td>0.4853</td></tr><tr><td>NC</td><td>LSTM</td><td>combined br hb</td><td>0.5000</td><td>1.0000</td><td>0.6667</td><td>0.7010</td></tr><tr style=\"border-top: 1px solid #aaa;\"><td>NC</td><td>LSTM</td><td>undercomplete</td><td>0.2500</td><td>1.0000</td><td>0.5000</td><td>0.5441</td><td rowspan=\"4\" style=\"text-align: center;\"> YES </td><td rowspan=\"4\" style=\"text-align: center;\">0.5441</td></tr><tr><td>NC</td><td>LSTM</td><td>sparse</td><td>0.0000</td><td>1.0000</td><td>0.5000</td><td>0.5441</td></tr><tr><td>NC</td><td>LSTM</td><td>deep</td><td>0.0000</td><td>1.0000</td><td>0.5000</td><td>0.5000</td></tr><tr><td>NC</td><td>LSTM</td><td>contractive</td><td>0.1667</td><td>1.0000</td><td>0.5000</td><td>0.5343</td></tr><tr style=\"border-top: 1px solid black;\"><td>NC</td><td>SVC</td><td>phase</td><td>0.5000</td><td>1.0000</td><td>0.6667</td><td>0.6618</td><td rowspan=\"4\" style=\"text-align: center;\"> NO </td><td rowspan=\"4\" style=\"text-align: center;\">0.7696</td></tr><tr><td>NC</td><td>SVC</td><td>breathing</td><td>0.5000</td><td>1.0000</td><td>0.8333</td><td>0.7696</td></tr><tr><td>NC</td><td>SVC</td><td>heartbeat</td><td>0.0000</td><td>1.0000</td><td>0.5000</td><td>0.4902</td></tr><tr><td>NC</td><td>SVC</td><td>combined br hb</td><td>0.5000</td><td>1.0000</td><td>0.6667</td><td>0.7255</td></tr><tr style=\"border-top: 1px solid #aaa;\"><td>NC</td><td>SVC</td><td>undercomplete</td><td>0.1667</td><td>1.0000</td><td>0.5000</td><td>0.5784</td><td rowspan=\"4\" style=\"text-align: center;\"> YES </td><td rowspan=\"4\" style=\"text-align: center;\">0.5931</td></tr><tr><td>NC</td><td>SVC</td><td>sparse</td><td>0.1667</td><td>1.0000</td><td>0.5000</td><td>0.5931</td></tr><tr><td>NC</td><td>SVC</td><td>deep</td><td>0.2500</td><td>1.0000</td><td>0.5000</td><td>0.5931</td></tr><tr><td>NC</td><td>SVC</td><td>contractive</td><td>0.1667</td><td>1.0000</td><td>0.5000</td><td>0.5490</td></tr><tr style=\"border-top: 1px solid black;\"><td>NC</td><td>XGBoost</td><td>phase</td><td>0.2500</td><td>1.0000</td><td>0.5000</td><td>0.5931</td><td rowspan=\"4\" style=\"text-align: center;\"> NO </td><td rowspan=\"4\" style=\"text-align: center;\">0.8137</td></tr><tr><td>NC</td><td>XGBoost</td><td>breathing</td><td>0.5000</td><td>1.0000</td><td>1.0000</td><td>0.8137</td></tr><tr><td>NC</td><td>XGBoost</td><td>heartbeat</td><td>0.0000</td><td>1.0000</td><td>0.5000</td><td>0.5392</td></tr><tr><td>NC</td><td>XGBoost</td><td>combined br hb</td><td>0.5000</td><td>1.0000</td><td>0.7500</td><td>0.7353</td></tr><tr style=\"border-top: 1px solid #aaa;\"><td>NC</td><td>XGBoost</td><td>undercomplete</td><td>0.0000</td><td>1.0000</td><td>0.5000</td><td>0.5686</td><td rowspan=\"4\" style=\"text-align: center;\"> YES </td><td rowspan=\"4\" style=\"text-align: center;\">0.6324</td></tr><tr><td>NC</td><td>XGBoost</td><td>sparse</td><td>0.0000</td><td>1.0000</td><td>0.6667</td><td>0.5931</td></tr><tr><td>NC</td><td>XGBoost</td><td>deep</td><td>0.0000</td><td>1.0000</td><td>0.5000</td><td>0.5784</td></tr><tr><td>NC</td><td>XGBoost</td><td>contractive</td><td>0.3333</td><td>1.0000</td><td>0.5000</td><td>0.6324</td></tr><tr style=\"border-top: 1px solid black;\"><td>NC</td><td>kNN</td><td>phase</td><td>0.0000</td><td>1.0000</td><td>0.5000</td><td>0.6176</td><td rowspan=\"4\" style=\"text-align: center;\"> NO </td><td rowspan=\"4\" style=\"text-align: center;\">0.7549</td></tr><tr><td>NC</td><td>kNN</td><td>breathing</td><td>0.5000</td><td>1.0000</td><td>0.7500</td><td>0.7549</td></tr><tr><td>NC</td><td>kNN</td><td>heartbeat</td><td>0.0000</td><td>1.0000</td><td>0.5000</td><td>0.5833</td></tr><tr><td>NC</td><td>kNN</td><td>combined br hb</td><td>0.0000</td><td>1.0000</td><td>0.7500</td><td>0.7402</td></tr><tr style=\"border-top: 1px solid #aaa;\"><td>NC</td><td>kNN</td><td>undercomplete</td><td>0.1667</td><td>1.0000</td><td>0.5000</td><td>0.5098</td><td rowspan=\"4\" style=\"text-align: center;\"> YES </td><td rowspan=\"4\" style=\"text-align: center;\">0.6127</td></tr><tr><td>NC</td><td>kNN</td><td>sparse</td><td>0.1667</td><td>1.0000</td><td>0.5000</td><td>0.6127</td></tr><tr><td>NC</td><td>kNN</td><td>deep</td><td>0.2500</td><td>1.0000</td><td>0.5000</td><td>0.5539</td></tr><tr><td>NC</td><td>kNN</td><td>contractive</td><td>0.0000</td><td>1.0000</td><td>0.5000</td><td>0.5147</td></tr><tr style=\"border-top: 1px solid black;\"><td>NC</td><td>naive_bayesian</td><td>phase</td><td>0.0000</td><td>0.7500</td><td>0.5000</td><td>0.4657</td><td rowspan=\"4\" style=\"text-align: center;\"> NO </td><td rowspan=\"4\" style=\"text-align: center;\">0.7794</td></tr><tr><td>NC</td><td>naive_bayesian</td><td>breathing</td><td>0.5000</td><td>1.0000</td><td>0.7500</td><td>0.7794</td></tr><tr><td>NC</td><td>naive_bayesian</td><td>heartbeat</td><td>0.0000</td><td>1.0000</td><td>0.5000</td><td>0.5000</td></tr><tr><td>NC</td><td>naive_bayesian</td><td>combined br hb</td><td>0.5000</td><td>1.0000</td><td>0.7500</td><td>0.7647</td></tr><tr style=\"border-top: 1px solid #aaa;\"><td>NC</td><td>naive_bayesian</td><td>undercomplete</td><td>0.0000</td><td>1.0000</td><td>0.5000</td><td>0.5294</td><td rowspan=\"4\" style=\"text-align: center;\"> YES </td><td rowspan=\"4\" style=\"text-align: center;\">0.5784</td></tr><tr><td>NC</td><td>naive_bayesian</td><td>sparse</td><td>0.0000</td><td>1.0000</td><td>0.5000</td><td>0.5196</td></tr><tr><td>NC</td><td>naive_bayesian</td><td>deep</td><td>0.2500</td><td>1.0000</td><td>0.5000</td><td>0.5784</td></tr><tr><td>NC</td><td>naive_bayesian</td><td>contractive</td><td>0.0000</td><td>1.0000</td><td>0.5000</td><td>0.5196</td></tr><tr style=\"border-top: 1px solid black;\"><td>NC</td><td>random_forest</td><td>phase</td><td>0.1667</td><td>1.0000</td><td>0.5000</td><td>0.5441</td><td rowspan=\"4\" style=\"text-align: center;\"> NO </td><td rowspan=\"4\" style=\"text-align: center;\">0.8186</td></tr><tr><td>NC</td><td>random_forest</td><td>breathing</td><td>0.5000</td><td>1.0000</td><td>1.0000</td><td>0.8186</td></tr><tr><td>NC</td><td>random_forest</td><td>heartbeat</td><td>0.0000</td><td>1.0000</td><td>0.5000</td><td>0.4951</td></tr><tr><td>NC</td><td>random_forest</td><td>combined br hb</td><td>0.5000</td><td>1.0000</td><td>1.0000</td><td>0.8186</td></tr><tr style=\"border-top: 1px solid #aaa;\"><td>NC</td><td>random_forest</td><td>undercomplete</td><td>0.0000</td><td>1.0000</td><td>0.5000</td><td>0.5343</td><td rowspan=\"4\" style=\"text-align: center;\"> YES </td><td rowspan=\"4\" style=\"text-align: center;\">0.6029</td></tr><tr><td>NC</td><td>random_forest</td><td>sparse</td><td>0.0000</td><td>1.0000</td><td>0.5000</td><td>0.5931</td></tr><tr><td>NC</td><td>random_forest</td><td>deep</td><td>0.0000</td><td>1.0000</td><td>0.5000</td><td>0.6029</td></tr><tr><td>NC</td><td>random_forest</td><td>contractive</td><td>0.0000</td><td>1.0000</td><td>0.5000</td><td>0.5931</td></tr><tr style=\"border-top: 1px solid black;\"><td>NC</td><td>simple_dense</td><td>phase</td><td>0.2500</td><td>1.0000</td><td>0.5000</td><td>0.6225</td><td rowspan=\"4\" style=\"text-align: center;\"> NO </td><td rowspan=\"4\" style=\"text-align: center;\">0.7647</td></tr><tr><td>NC</td><td>simple_dense</td><td>breathing</td><td>0.5000</td><td>1.0000</td><td>0.5000</td><td>0.6912</td></tr><tr><td>NC</td><td>simple_dense</td><td>heartbeat</td><td>0.0000</td><td>1.0000</td><td>0.5000</td><td>0.5784</td></tr><tr><td>NC</td><td>simple_dense</td><td>combined br hb</td><td>0.5000</td><td>1.0000</td><td>0.7500</td><td>0.7647</td></tr><tr style=\"border-top: 1px solid #aaa;\"><td>NC</td><td>simple_dense</td><td>undercomplete</td><td>0.1667</td><td>1.0000</td><td>0.5000</td><td>0.6127</td><td rowspan=\"4\" style=\"text-align: center;\"> YES </td><td rowspan=\"4\" style=\"text-align: center;\">0.6618</td></tr><tr><td>NC</td><td>simple_dense</td><td>sparse</td><td>0.1667</td><td>1.0000</td><td>0.5000</td><td>0.6176</td></tr><tr><td>NC</td><td>simple_dense</td><td>deep</td><td>0.0000</td><td>1.0000</td><td>0.6667</td><td>0.6569</td></tr><tr><td>NC</td><td>simple_dense</td><td>contractive</td><td>0.1667</td><td>1.0000</td><td>0.6667</td><td>0.6618</td></tr><tr style=\"border-top: 1px solid black;\"><td>all</td><td>LSTM</td><td>phase</td><td>0.5000</td><td>1.0000</td><td>0.7500</td><td>0.7185</td><td rowspan=\"4\" style=\"text-align: center;\"> NO </td><td rowspan=\"4\" style=\"text-align: center;\">0.7248</td></tr><tr><td>all</td><td>LSTM</td><td>breathing</td><td>0.4375</td><td>1.0000</td><td>0.7000</td><td>0.7248</td></tr><tr><td>all</td><td>LSTM</td><td>heartbeat</td><td>0.3333</td><td>0.7500</td><td>0.5000</td><td>0.5222</td></tr><tr><td>all</td><td>LSTM</td><td>combined br hb</td><td>0.3750</td><td>1.0000</td><td>0.6667</td><td>0.6977</td></tr><tr style=\"border-top: 1px solid #aaa;\"><td>all</td><td>LSTM</td><td>undercomplete</td><td>0.3333</td><td>0.8750</td><td>0.5385</td><td>0.5602</td><td rowspan=\"4\" style=\"text-align: center;\"> YES </td><td rowspan=\"4\" style=\"text-align: center;\">0.5651</td></tr><tr><td>all</td><td>LSTM</td><td>sparse</td><td>0.3333</td><td>0.7500</td><td>0.5333</td><td>0.5540</td></tr><tr><td>all</td><td>LSTM</td><td>deep</td><td>0.3333</td><td>0.7500</td><td>0.5833</td><td>0.5576</td></tr><tr><td>all</td><td>LSTM</td><td>contractive</td><td>0.4375</td><td>0.7500</td><td>0.5556</td><td>0.5651</td></tr><tr style=\"border-top: 1px solid black;\"><td>all</td><td>SVC</td><td>phase</td><td>0.4444</td><td>0.8889</td><td>0.6250</td><td>0.6662</td><td rowspan=\"4\" style=\"text-align: center;\"> NO </td><td rowspan=\"4\" style=\"text-align: center;\">0.6982</td></tr><tr><td>all</td><td>SVC</td><td>breathing</td><td>0.3750</td><td>1.0000</td><td>0.7143</td><td>0.6982</td></tr><tr><td>all</td><td>SVC</td><td>heartbeat</td><td>0.2500</td><td>1.0000</td><td>0.5000</td><td>0.5700</td></tr><tr><td>all</td><td>SVC</td><td>combined br hb</td><td>0.4167</td><td>0.9286</td><td>0.6667</td><td>0.6757</td></tr><tr style=\"border-top: 1px solid #aaa;\"><td>all</td><td>SVC</td><td>undercomplete</td><td>0.3750</td><td>0.8750</td><td>0.5714</td><td>0.5718</td><td rowspan=\"4\" style=\"text-align: center;\"> YES </td><td rowspan=\"4\" style=\"text-align: center;\">0.6025</td></tr><tr><td>all</td><td>SVC</td><td>sparse</td><td>0.4167</td><td>0.8750</td><td>0.5625</td><td>0.5777</td></tr><tr><td>all</td><td>SVC</td><td>deep</td><td>0.4444</td><td>0.7500</td><td>0.5833</td><td>0.6025</td></tr><tr><td>all</td><td>SVC</td><td>contractive</td><td>0.4375</td><td>0.8750</td><td>0.5769</td><td>0.5782</td></tr><tr style=\"border-top: 1px solid black;\"><td>all</td><td>XGBoost</td><td>phase</td><td>0.3750</td><td>0.8500</td><td>0.5909</td><td>0.6099</td><td rowspan=\"4\" style=\"text-align: center;\"> NO </td><td rowspan=\"4\" style=\"text-align: center;\">0.7111</td></tr><tr><td>all</td><td>XGBoost</td><td>breathing</td><td>0.3750</td><td>1.0000</td><td>0.7143</td><td>0.7111</td></tr><tr><td>all</td><td>XGBoost</td><td>heartbeat</td><td>0.3333</td><td>0.8750</td><td>0.5000</td><td>0.5336</td></tr><tr><td>all</td><td>XGBoost</td><td>combined br hb</td><td>0.3750</td><td>1.0000</td><td>0.6667</td><td>0.6925</td></tr><tr style=\"border-top: 1px solid #aaa;\"><td>all</td><td>XGBoost</td><td>undercomplete</td><td>0.2500</td><td>1.0000</td><td>0.5333</td><td>0.5501</td><td rowspan=\"4\" style=\"text-align: center;\"> YES </td><td rowspan=\"4\" style=\"text-align: center;\">0.6134</td></tr><tr><td>all</td><td>XGBoost</td><td>sparse</td><td>0.3500</td><td>1.0000</td><td>0.5833</td><td>0.6134</td></tr><tr><td>all</td><td>XGBoost</td><td>deep</td><td>0.2500</td><td>1.0000</td><td>0.6000</td><td>0.5943</td></tr><tr><td>all</td><td>XGBoost</td><td>contractive</td><td>0.3750</td><td>1.0000</td><td>0.5833</td><td>0.6063</td></tr><tr style=\"border-top: 1px solid black;\"><td>all</td><td>kNN</td><td>phase</td><td>0.5000</td><td>0.9231</td><td>0.6818</td><td>0.6732</td><td rowspan=\"4\" style=\"text-align: center;\"> NO </td><td rowspan=\"4\" style=\"text-align: center;\">0.7471</td></tr><tr><td>all</td><td>kNN</td><td>breathing</td><td>0.3750</td><td>1.0000</td><td>0.7500</td><td>0.7471</td></tr><tr><td>all</td><td>kNN</td><td>heartbeat</td><td>0.3000</td><td>1.0000</td><td>0.5833</td><td>0.5741</td></tr><tr><td>all</td><td>kNN</td><td>combined br hb</td><td>0.4375</td><td>1.0000</td><td>0.7500</td><td>0.7058</td></tr><tr style=\"border-top: 1px solid #aaa;\"><td>all</td><td>kNN</td><td>undercomplete</td><td>0.3500</td><td>1.0000</td><td>0.5833</td><td>0.5960</td><td rowspan=\"4\" style=\"text-align: center;\"> YES </td><td rowspan=\"4\" style=\"text-align: center;\">0.6031</td></tr><tr><td>all</td><td>kNN</td><td>sparse</td><td>0.4444</td><td>0.7500</td><td>0.5833</td><td>0.5750</td></tr><tr><td>all</td><td>kNN</td><td>deep</td><td>0.3500</td><td>1.0000</td><td>0.5833</td><td>0.6031</td></tr><tr><td>all</td><td>kNN</td><td>contractive</td><td>0.4167</td><td>1.0000</td><td>0.5455</td><td>0.5834</td></tr><tr style=\"border-top: 1px solid black;\"><td>all</td><td>naive_bayesian</td><td>phase</td><td>0.2778</td><td>0.7500</td><td>0.5625</td><td>0.5641</td><td rowspan=\"4\" style=\"text-align: center;\"> NO </td><td rowspan=\"4\" style=\"text-align: center;\">0.6876</td></tr><tr><td>all</td><td>naive_bayesian</td><td>breathing</td><td>0.3750</td><td>1.0000</td><td>0.6667</td><td>0.6876</td></tr><tr><td>all</td><td>naive_bayesian</td><td>heartbeat</td><td>0.1667</td><td>0.8750</td><td>0.5000</td><td>0.5236</td></tr><tr><td>all</td><td>naive_bayesian</td><td>combined br hb</td><td>0.3750</td><td>1.0000</td><td>0.6667</td><td>0.6807</td></tr><tr style=\"border-top: 1px solid #aaa;\"><td>all</td><td>naive_bayesian</td><td>undercomplete</td><td>0.2778</td><td>0.7500</td><td>0.5000</td><td>0.5068</td><td rowspan=\"4\" style=\"text-align: center;\"> YES </td><td rowspan=\"4\" style=\"text-align: center;\">0.5554</td></tr><tr><td>all</td><td>naive_bayesian</td><td>sparse</td><td>0.2500</td><td>0.7500</td><td>0.5000</td><td>0.5132</td></tr><tr><td>all</td><td>naive_bayesian</td><td>deep</td><td>0.3750</td><td>0.7500</td><td>0.5556</td><td>0.5554</td></tr><tr><td>all</td><td>naive_bayesian</td><td>contractive</td><td>0.3750</td><td>0.7500</td><td>0.5000</td><td>0.5173</td></tr><tr style=\"border-top: 1px solid black;\"><td>all</td><td>random_forest</td><td>phase</td><td>0.4375</td><td>1.0000</td><td>0.6667</td><td>0.6769</td><td rowspan=\"4\" style=\"text-align: center;\"> NO </td><td rowspan=\"4\" style=\"text-align: center;\">0.7603</td></tr><tr><td>all</td><td>random_forest</td><td>breathing</td><td>0.3750</td><td>1.0000</td><td>0.7500</td><td>0.7603</td></tr><tr><td>all</td><td>random_forest</td><td>heartbeat</td><td>0.2778</td><td>1.0000</td><td>0.5625</td><td>0.5759</td></tr><tr><td>all</td><td>random_forest</td><td>combined br hb</td><td>0.4375</td><td>1.0000</td><td>0.7500</td><td>0.7369</td></tr><tr style=\"border-top: 1px solid #aaa;\"><td>all</td><td>random_forest</td><td>undercomplete</td><td>0.4000</td><td>1.0000</td><td>0.6111</td><td>0.6247</td><td rowspan=\"4\" style=\"text-align: center;\"> YES </td><td rowspan=\"4\" style=\"text-align: center;\">0.6587</td></tr><tr><td>all</td><td>random_forest</td><td>sparse</td><td>0.4375</td><td>1.0000</td><td>0.6538</td><td>0.6562</td></tr><tr><td>all</td><td>random_forest</td><td>deep</td><td>0.4500</td><td>1.0000</td><td>0.6250</td><td>0.6587</td></tr><tr><td>all</td><td>random_forest</td><td>contractive</td><td>0.3750</td><td>1.0000</td><td>0.5833</td><td>0.6022</td></tr><tr style=\"border-top: 1px solid black;\"><td>all</td><td>simple_dense</td><td>phase</td><td>0.3750</td><td>1.0000</td><td>0.6250</td><td>0.6540</td><td rowspan=\"4\" style=\"text-align: center;\"> NO </td><td rowspan=\"4\" style=\"text-align: center;\">0.6913</td></tr><tr><td>all</td><td>simple_dense</td><td>breathing</td><td>0.3750</td><td>0.8750</td><td>0.7143</td><td>0.6913</td></tr><tr><td>all</td><td>simple_dense</td><td>heartbeat</td><td>0.3333</td><td>1.0000</td><td>0.5000</td><td>0.5398</td></tr><tr><td>all</td><td>simple_dense</td><td>combined br hb</td><td>0.3500</td><td>1.0000</td><td>0.6875</td><td>0.6841</td></tr><tr style=\"border-top: 1px solid #aaa;\"><td>all</td><td>simple_dense</td><td>undercomplete</td><td>0.4444</td><td>0.9000</td><td>0.6250</td><td>0.6258</td><td rowspan=\"4\" style=\"text-align: center;\"> YES </td><td rowspan=\"4\" style=\"text-align: center;\">0.6258</td></tr><tr><td>all</td><td>simple_dense</td><td>sparse</td><td>0.3750</td><td>0.8750</td><td>0.6250</td><td>0.6063</td></tr><tr><td>all</td><td>simple_dense</td><td>deep</td><td>0.3750</td><td>0.8333</td><td>0.6250</td><td>0.6169</td></tr><tr><td>all</td><td>simple_dense</td><td>contractive</td><td>0.3125</td><td>0.9000</td><td>0.5333</td><td>0.5788</td></tr></table>"
      ],
      "text/plain": [
       "<IPython.core.display.HTML object>"
      ]
     },
     "metadata": {},
     "output_type": "display_data"
    }
   ],
   "source": [
    "# Sort the dataframe\n",
    "BvR_df.sort_values(['dataset used', 'classifier'], ascending=[True,True], inplace=True)\n",
    "\n",
    "# Make an HTML table with the data and display it\n",
    "display(HTML(custom_print(BvR_df)))"
   ]
  },
  {
   "cell_type": "markdown",
   "metadata": {},
   "source": [
    "Save the whole busy vs relax dataframe to a file:"
   ]
  },
  {
   "cell_type": "code",
   "execution_count": 12,
   "metadata": {},
   "outputs": [],
   "source": [
    "# save dataframe to file\n",
    "BvR_df.to_csv(results_path + \"BvR.csv\", mode='w', index=False)"
   ]
  },
  {
   "cell_type": "code",
   "execution_count": null,
   "metadata": {},
   "outputs": [],
   "source": []
  },
  {
   "cell_type": "code",
   "execution_count": null,
   "metadata": {},
   "outputs": [],
   "source": []
  },
  {
   "cell_type": "code",
   "execution_count": null,
   "metadata": {},
   "outputs": [],
   "source": []
  }
 ],
 "metadata": {
  "kernelspec": {
   "display_name": "py37talos",
   "language": "python",
   "name": "py37talos"
  },
  "language_info": {
   "codemirror_mode": {
    "name": "ipython",
    "version": 3
   },
   "file_extension": ".py",
   "mimetype": "text/x-python",
   "name": "python",
   "nbconvert_exporter": "python",
   "pygments_lexer": "ipython3",
   "version": "3.7.7"
  }
 },
 "nbformat": 4,
 "nbformat_minor": 4
}
